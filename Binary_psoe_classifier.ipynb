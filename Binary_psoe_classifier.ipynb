{
 "cells": [
  {
   "cell_type": "markdown",
   "id": "a72bd8b6-aa6f-40ea-8590-fb7021ec0c52",
   "metadata": {},
   "source": [
    "## Imports"
   ]
  },
  {
   "cell_type": "code",
   "execution_count": 3,
   "id": "c7ab66e0-ea01-423c-ace2-22ea9b025f42",
   "metadata": {},
   "outputs": [],
   "source": [
    "import pandas as pd\n",
    "from transformers import AutoTokenizer, DataCollatorWithPadding, AutoModelForSequenceClassification, TrainingArguments, Trainer, EarlyStoppingCallback\n",
    "from datasets import load_dataset, load_metric\n",
    "import datetime\n",
    "import os\n",
    "import time\n",
    "import numpy as np\n",
    "import evaluate\n",
    "import accelerate\n",
    "import torch"
   ]
  },
  {
   "cell_type": "markdown",
   "id": "0fab9a52-51a3-44e7-9c92-dd5a6afe3844",
   "metadata": {},
   "source": [
    "## Load Data"
   ]
  },
  {
   "cell_type": "code",
   "execution_count": 2,
   "id": "6ae042c1-e49b-439a-977a-07a1b78b9e4d",
   "metadata": {},
   "outputs": [
    {
     "name": "stdout",
     "output_type": "stream",
     "text": [
      "/opt/jupyterlab/notebooks/DogBERT/Classifiers/Pseudomonas_Otitis/Binary_Classifier/Balanced_Binary_Classifier\n"
     ]
    }
   ],
   "source": [
    "print(os.getcwd())"
   ]
  },
  {
   "cell_type": "code",
   "execution_count": 4,
   "id": "0704346a-1147-4e1d-b996-7acad482eab5",
   "metadata": {},
   "outputs": [],
   "source": [
    "\"\"\"\n",
    "Load Narrative Data\n",
    "\"\"\"\n",
    "os.chdir('../../../../../savsnet_resources/pickles')"
   ]
  },
  {
   "cell_type": "code",
   "execution_count": 5,
   "id": "7916efb1-d63a-4a25-97d5-c2b9981e4f8f",
   "metadata": {},
   "outputs": [],
   "source": [
    "# Load Narratives Dataframe\n",
    "df_narratives = pd.read_pickle('narrative_pickle.pkl.gz', compression='gzip').drop_duplicates(subset='savsnet_consult_id', keep='first')"
   ]
  },
  {
   "cell_type": "code",
   "execution_count": 6,
   "id": "f199b74a-aa8d-47df-aa1f-abb5468e4cb0",
   "metadata": {},
   "outputs": [],
   "source": [
    "os.chdir('../../DogBERT/Classifiers/Pseudomonas_Otitis/Binary_Classifier/Balanced_Binary_Classifier')"
   ]
  },
  {
   "cell_type": "code",
   "execution_count": 7,
   "id": "5911f9d5-8096-463a-9d22-243a4a6f2acb",
   "metadata": {},
   "outputs": [],
   "source": [
    "\"\"\"\n",
    "Load Classification Training Data\n",
    "\"\"\"\n",
    "df_class = pd.read_csv(\"adamwilliams-OtitisStudyPseudomonas_with_non_pseudomonas_records_(n_1398).csv\")"
   ]
  },
  {
   "cell_type": "code",
   "execution_count": 8,
   "id": "4f06e12c-6784-42ae-84a8-3bbb52a338e2",
   "metadata": {},
   "outputs": [
    {
     "name": "stdout",
     "output_type": "stream",
     "text": [
      "   Unnamed: 0            searchterm__name  savsnet_consult_id  \\\n",
      "0         0.0  Pseudomonas and ear/otitis               95721   \n",
      "1         1.0  Pseudomonas and ear/otitis              129032   \n",
      "2         2.0  Pseudomonas and ear/otitis              169684   \n",
      "3         3.0  Pseudomonas and ear/otitis              117477   \n",
      "4         4.0  Pseudomonas and ear/otitis              115552   \n",
      "\n",
      "   narrative_item_id PseudomonasOtitis PseudomonasOtitis related_text species  \n",
      "0          2040703.0                 ?                            NaN     dog  \n",
      "1          2041630.0                 ✓                            NaN     dog  \n",
      "2          2042546.0                 ✓                            NaN     dog  \n",
      "3          2044364.0                 ✓                            NaN     dog  \n",
      "4          2049428.0                 !                            NaN     dog  \n"
     ]
    }
   ],
   "source": [
    "print(df_class.head())"
   ]
  },
  {
   "cell_type": "code",
   "execution_count": 9,
   "id": "84a5b738-ee67-4371-a72a-3f13f9fd935b",
   "metadata": {},
   "outputs": [],
   "source": [
    "# Filter for just dog records\n",
    "df_ps_oe = df_class[df_class.species == 'dog']"
   ]
  },
  {
   "cell_type": "code",
   "execution_count": 10,
   "id": "1d04d80c-2d07-463f-a5c5-776f7d8177bd",
   "metadata": {},
   "outputs": [
    {
     "name": "stdout",
     "output_type": "stream",
     "text": [
      "PseudomonasOtitis\n",
      "✓    638\n",
      "x    413\n",
      "?    143\n",
      "!     74\n",
      "⍉     39\n",
      "Name: count, dtype: int64\n"
     ]
    }
   ],
   "source": [
    "print(df_ps_oe['PseudomonasOtitis'].value_counts())"
   ]
  },
  {
   "cell_type": "code",
   "execution_count": 12,
   "id": "7e15cc3a-f8dd-424e-9816-1b1d71cc9e49",
   "metadata": {},
   "outputs": [
    {
     "name": "stdout",
     "output_type": "stream",
     "text": [
      "669\n"
     ]
    }
   ],
   "source": [
    "print(413+143+74+39)\n"
   ]
  },
  {
   "cell_type": "code",
   "execution_count": 13,
   "id": "92f464f4-90ce-41ea-8bd0-9cd3097d318b",
   "metadata": {},
   "outputs": [],
   "source": [
    "# Remove unclassified records\n",
    "df_ps_oe = df_ps_oe.dropna(subset=['PseudomonasOtitis'])\n",
    "\n",
    "\"\"\"\n",
    "Create Dataset\n",
    "\"\"\"\n",
    "# Join in tick labels\n",
    "df_dataset = pd.merge(df_narratives, df_ps_oe, on='savsnet_consult_id', how='inner')"
   ]
  },
  {
   "cell_type": "code",
   "execution_count": 14,
   "id": "2ba50995-c6df-4389-9f0d-942bc1e29b62",
   "metadata": {},
   "outputs": [
    {
     "name": "stdout",
     "output_type": "stream",
     "text": [
      "2024-01-23 09:05:39+00:00\n"
     ]
    }
   ],
   "source": [
    "print(max(df_dataset['consult_record_date']))"
   ]
  },
  {
   "cell_type": "code",
   "execution_count": 15,
   "id": "7218b36b-526d-4825-abb4-fd8410f4b2c3",
   "metadata": {},
   "outputs": [
    {
     "name": "stdout",
     "output_type": "stream",
     "text": [
      "PseudomonasOtitis\n",
      "✓    638\n",
      "x    413\n",
      "?    143\n",
      "!     74\n",
      "⍉     39\n",
      "Name: count, dtype: int64\n"
     ]
    }
   ],
   "source": [
    "print(df_dataset['PseudomonasOtitis'].value_counts())"
   ]
  },
  {
   "cell_type": "code",
   "execution_count": 16,
   "id": "dcdc0329-f484-4516-acdd-d43eb12bb7b4",
   "metadata": {},
   "outputs": [
    {
     "name": "stdout",
     "output_type": "stream",
     "text": [
      "1307\n"
     ]
    }
   ],
   "source": [
    "print(638+413+143+74+39)"
   ]
  },
  {
   "cell_type": "code",
   "execution_count": 17,
   "id": "4124a38a-8dfd-4a2a-ab38-4dd53cde0f21",
   "metadata": {},
   "outputs": [],
   "source": [
    "# Change labels to make it a binary classifier\n",
    "replacements = {'⍉':'x', '?':'x', '!':'x'}\n",
    "df_dataset['PseudomonasOtitis'] = df_dataset['PseudomonasOtitis'].replace(replacements)"
   ]
  },
  {
   "cell_type": "code",
   "execution_count": 18,
   "id": "64f4b743-eff2-4586-808f-f8f4c43bc270",
   "metadata": {},
   "outputs": [
    {
     "name": "stdout",
     "output_type": "stream",
     "text": [
      "PseudomonasOtitis\n",
      "x    669\n",
      "✓    638\n",
      "Name: count, dtype: int64\n"
     ]
    }
   ],
   "source": [
    "print(df_dataset['PseudomonasOtitis'].value_counts())"
   ]
  },
  {
   "cell_type": "code",
   "execution_count": 19,
   "id": "ab95ecb2-499c-46c6-ac0c-e727a26e7457",
   "metadata": {},
   "outputs": [],
   "source": [
    "# Create ids that can be fed into the model\n",
    "def tick_label_ids(symbol):\n",
    "    if symbol == '✓':\n",
    "        return 0\n",
    "    elif symbol == 'x':\n",
    "        return 1"
   ]
  },
  {
   "cell_type": "code",
   "execution_count": 20,
   "id": "04e2e771-decd-427c-af79-ab619204ee3c",
   "metadata": {},
   "outputs": [],
   "source": [
    "# Label dataset   \n",
    "df_dataset['PseudomonasOtitis_ID'] = df_dataset['PseudomonasOtitis'].apply(tick_label_ids)"
   ]
  },
  {
   "cell_type": "code",
   "execution_count": 21,
   "id": "77ff15b5-4a9a-4716-b648-b67d3df17fbc",
   "metadata": {},
   "outputs": [
    {
     "name": "stdout",
     "output_type": "stream",
     "text": [
      "                                           item_text  consult_record       pk  \\\n",
      "0  \"<<identifier>> otitis externa been really goo...          231003  2040703   \n",
      "1  \"HL issues and ears. been slowing up last few ...          231674  2041630   \n",
      "2  \"bilateral oe thickened ear canals cleaning is...          232326  2042546   \n",
      "3  \"left eear purulent otitis suspecrt pseudomona...          233568  2044364   \n",
      "4  \"Bilat OE again. Not purulent or ulcerated, so...          237069  2049428   \n",
      "\n",
      "        consult_record_date  savsnet_consult_id  Unnamed: 0  \\\n",
      "0 2014-06-30 17:09:38+00:00               95721         0.0   \n",
      "1 2014-07-26 11:24:00+00:00              129032         1.0   \n",
      "2 2014-08-29 16:22:44+00:00              169684         2.0   \n",
      "3 2014-07-16 19:29:10+00:00              117477         3.0   \n",
      "4 2014-07-15 17:17:57+00:00              115552         4.0   \n",
      "\n",
      "             searchterm__name  narrative_item_id PseudomonasOtitis  \\\n",
      "0  Pseudomonas and ear/otitis          2040703.0                 x   \n",
      "1  Pseudomonas and ear/otitis          2041630.0                 ✓   \n",
      "2  Pseudomonas and ear/otitis          2042546.0                 ✓   \n",
      "3  Pseudomonas and ear/otitis          2044364.0                 ✓   \n",
      "4  Pseudomonas and ear/otitis          2049428.0                 x   \n",
      "\n",
      "  PseudomonasOtitis related_text species  PseudomonasOtitis_ID  \n",
      "0                            NaN     dog                     1  \n",
      "1                            NaN     dog                     0  \n",
      "2                            NaN     dog                     0  \n",
      "3                            NaN     dog                     0  \n",
      "4                            NaN     dog                     1  \n"
     ]
    }
   ],
   "source": [
    "print(df_dataset.head())"
   ]
  },
  {
   "cell_type": "code",
   "execution_count": 22,
   "id": "fd1de591-7311-4e3d-ad34-a25d8f2d688f",
   "metadata": {},
   "outputs": [
    {
     "data": {
      "text/html": [
       "<div>\n",
       "<style scoped>\n",
       "    .dataframe tbody tr th:only-of-type {\n",
       "        vertical-align: middle;\n",
       "    }\n",
       "\n",
       "    .dataframe tbody tr th {\n",
       "        vertical-align: top;\n",
       "    }\n",
       "\n",
       "    .dataframe thead th {\n",
       "        text-align: right;\n",
       "    }\n",
       "</style>\n",
       "<table border=\"1\" class=\"dataframe\">\n",
       "  <thead>\n",
       "    <tr style=\"text-align: right;\">\n",
       "      <th></th>\n",
       "      <th>label</th>\n",
       "      <th>text</th>\n",
       "    </tr>\n",
       "  </thead>\n",
       "  <tbody>\n",
       "    <tr>\n",
       "      <th>0</th>\n",
       "      <td>1</td>\n",
       "      <td>\"&lt;&lt;identifier&gt;&gt; otitis externa been really goo...</td>\n",
       "    </tr>\n",
       "    <tr>\n",
       "      <th>1</th>\n",
       "      <td>0</td>\n",
       "      <td>\"HL issues and ears. been slowing up last few ...</td>\n",
       "    </tr>\n",
       "    <tr>\n",
       "      <th>2</th>\n",
       "      <td>0</td>\n",
       "      <td>\"bilateral oe thickened ear canals cleaning is...</td>\n",
       "    </tr>\n",
       "    <tr>\n",
       "      <th>3</th>\n",
       "      <td>0</td>\n",
       "      <td>\"left eear purulent otitis suspecrt pseudomona...</td>\n",
       "    </tr>\n",
       "    <tr>\n",
       "      <th>4</th>\n",
       "      <td>1</td>\n",
       "      <td>\"Bilat OE again. Not purulent or ulcerated, so...</td>\n",
       "    </tr>\n",
       "    <tr>\n",
       "      <th>...</th>\n",
       "      <td>...</td>\n",
       "      <td>...</td>\n",
       "    </tr>\n",
       "    <tr>\n",
       "      <th>1302</th>\n",
       "      <td>1</td>\n",
       "      <td>DUDE. No CSVD. O concerned about eating habits...</td>\n",
       "    </tr>\n",
       "    <tr>\n",
       "      <th>1303</th>\n",
       "      <td>1</td>\n",
       "      <td>Recheck lameness LF. Was fine on carprieve, si...</td>\n",
       "    </tr>\n",
       "    <tr>\n",
       "      <th>1304</th>\n",
       "      <td>1</td>\n",
       "      <td>CE all fine, owner reports no issues, uses yum...</td>\n",
       "    </tr>\n",
       "    <tr>\n",
       "      <th>1305</th>\n",
       "      <td>1</td>\n",
       "      <td>POC - 2 sutures removed. OR that &lt;&lt;brand name ...</td>\n",
       "    </tr>\n",
       "    <tr>\n",
       "      <th>1306</th>\n",
       "      <td>1</td>\n",
       "      <td>OR became lame on Saturday on LF. has given lo...</td>\n",
       "    </tr>\n",
       "  </tbody>\n",
       "</table>\n",
       "<p>1307 rows × 2 columns</p>\n",
       "</div>"
      ],
      "text/plain": [
       "      label                                               text\n",
       "0         1  \"<<identifier>> otitis externa been really goo...\n",
       "1         0  \"HL issues and ears. been slowing up last few ...\n",
       "2         0  \"bilateral oe thickened ear canals cleaning is...\n",
       "3         0  \"left eear purulent otitis suspecrt pseudomona...\n",
       "4         1  \"Bilat OE again. Not purulent or ulcerated, so...\n",
       "...     ...                                                ...\n",
       "1302      1  DUDE. No CSVD. O concerned about eating habits...\n",
       "1303      1  Recheck lameness LF. Was fine on carprieve, si...\n",
       "1304      1  CE all fine, owner reports no issues, uses yum...\n",
       "1305      1  POC - 2 sutures removed. OR that <<brand name ...\n",
       "1306      1  OR became lame on Saturday on LF. has given lo...\n",
       "\n",
       "[1307 rows x 2 columns]"
      ]
     },
     "execution_count": 22,
     "metadata": {},
     "output_type": "execute_result"
    }
   ],
   "source": [
    "# Select get text and labels\n",
    "df_dataset = df_dataset[['PseudomonasOtitis_ID', 'item_text']]\n",
    "\n",
    "# Rename columns\n",
    "df_dataset = df_dataset.rename(columns={'PseudomonasOtitis_ID':'label', 'item_text':'text'})\n",
    "df_dataset.reset_index(drop=True)"
   ]
  },
  {
   "cell_type": "code",
   "execution_count": 23,
   "id": "618c8fb7-af01-499f-8b08-a6a09724f4a1",
   "metadata": {},
   "outputs": [],
   "source": [
    "# Create train/validate/test split\n",
    "from sklearn.model_selection import train_test_split\n",
    "# Split into training and testing sets\n",
    "X_train, X_test, y_train, y_test = train_test_split(df_dataset['text'], df_dataset['label'], test_size=0.1, random_state=42)\n",
    "# Split training set into training and validation sets\n",
    "X_train, X_val, y_train, y_val = train_test_split(X_train, y_train, test_size=0.1, random_state=42) "
   ]
  },
  {
   "cell_type": "code",
   "execution_count": 24,
   "id": "e3faec38-9c3f-4854-b2e6-03c0f8e4344a",
   "metadata": {},
   "outputs": [
    {
     "name": "stdout",
     "output_type": "stream",
     "text": [
      "1058 131 118\n"
     ]
    }
   ],
   "source": [
    "print(len(X_train), len(X_test), len(X_val))"
   ]
  },
  {
   "cell_type": "code",
   "execution_count": 25,
   "id": "d368328f-8a7b-4728-b6b4-e6302ffaf104",
   "metadata": {},
   "outputs": [],
   "source": [
    "df_train = pd.DataFrame({'text':X_train, 'label':y_train})\n",
    "df_val = pd.DataFrame({'text':X_val, 'label':y_val})\n",
    "df_test = pd.DataFrame({'text':X_test, 'label':y_test})"
   ]
  },
  {
   "cell_type": "code",
   "execution_count": 26,
   "id": "c3fc285a-7483-4626-9b96-7c45cf961c70",
   "metadata": {},
   "outputs": [
    {
     "name": "stdout",
     "output_type": "stream",
     "text": [
      "/opt/jupyterlab/notebooks/DogBERT/Classifiers/Pseudomonas_Otitis/Binary_Classifier/Balanced_Binary_Classifier\n"
     ]
    }
   ],
   "source": [
    "print(os.getcwd())"
   ]
  },
  {
   "cell_type": "code",
   "execution_count": 28,
   "id": "6c41d4dc-e301-46a8-9aa0-66bd5c2c25f3",
   "metadata": {},
   "outputs": [],
   "source": [
    "df_train.to_csv('train.csv')\n",
    "df_val.to_csv('val.csv')\n",
    "df_test.to_csv('test.csv')"
   ]
  },
  {
   "cell_type": "code",
   "execution_count": 29,
   "id": "69e2ba5d-2cab-4a47-8734-b382ac8642fb",
   "metadata": {},
   "outputs": [
    {
     "data": {
      "application/vnd.jupyter.widget-view+json": {
       "model_id": "367b1f6c6579484491873f438d464b10",
       "version_major": 2,
       "version_minor": 0
      },
      "text/plain": [
       "Generating train split: 0 examples [00:00, ? examples/s]"
      ]
     },
     "metadata": {},
     "output_type": "display_data"
    },
    {
     "data": {
      "application/vnd.jupyter.widget-view+json": {
       "model_id": "3900c96484174771a9946df8301da1f9",
       "version_major": 2,
       "version_minor": 0
      },
      "text/plain": [
       "Generating eval split: 0 examples [00:00, ? examples/s]"
      ]
     },
     "metadata": {},
     "output_type": "display_data"
    },
    {
     "data": {
      "application/vnd.jupyter.widget-view+json": {
       "model_id": "973bbc13ba474c7086cc25353470b813",
       "version_major": 2,
       "version_minor": 0
      },
      "text/plain": [
       "Generating test split: 0 examples [00:00, ? examples/s]"
      ]
     },
     "metadata": {},
     "output_type": "display_data"
    }
   ],
   "source": [
    "datasets = load_dataset(\"csv\", data_files={'train': \"train.csv\",\n",
    "                                           'eval': \"val.csv\",\n",
    "                                           'test': \"test.csv\"})"
   ]
  },
  {
   "cell_type": "code",
   "execution_count": 30,
   "id": "cd816838-5d04-46b7-a444-e5dbaa394b17",
   "metadata": {},
   "outputs": [
    {
     "name": "stdout",
     "output_type": "stream",
     "text": [
      "DatasetDict({\n",
      "    train: Dataset({\n",
      "        features: ['Unnamed: 0', 'text', 'label'],\n",
      "        num_rows: 1058\n",
      "    })\n",
      "    eval: Dataset({\n",
      "        features: ['Unnamed: 0', 'text', 'label'],\n",
      "        num_rows: 118\n",
      "    })\n",
      "    test: Dataset({\n",
      "        features: ['Unnamed: 0', 'text', 'label'],\n",
      "        num_rows: 131\n",
      "    })\n",
      "})\n"
     ]
    }
   ],
   "source": [
    "print(datasets)"
   ]
  },
  {
   "cell_type": "markdown",
   "id": "032ebcf4-985d-4971-bebf-6e04cdef739f",
   "metadata": {},
   "source": [
    "## Tokenize Data"
   ]
  },
  {
   "cell_type": "code",
   "execution_count": 31,
   "id": "01759d19-d852-493b-bd09-ebb52684ca2c",
   "metadata": {},
   "outputs": [],
   "source": [
    "# Load BERT Tokenizer\n",
    "tokenizer = AutoTokenizer.from_pretrained('bert-base-uncased')"
   ]
  },
  {
   "cell_type": "code",
   "execution_count": 32,
   "id": "74291cb2-1098-49fb-b3d8-def165bb04d9",
   "metadata": {},
   "outputs": [
    {
     "data": {
      "application/vnd.jupyter.widget-view+json": {
       "model_id": "1b68799afb5c4b83ac29da4056dc74a9",
       "version_major": 2,
       "version_minor": 0
      },
      "text/plain": [
       "Map:   0%|          | 0/1058 [00:00<?, ? examples/s]"
      ]
     },
     "metadata": {},
     "output_type": "display_data"
    },
    {
     "data": {
      "application/vnd.jupyter.widget-view+json": {
       "model_id": "5acd2cb58d524debbdfa2d05dcae66a5",
       "version_major": 2,
       "version_minor": 0
      },
      "text/plain": [
       "Map:   0%|          | 0/118 [00:00<?, ? examples/s]"
      ]
     },
     "metadata": {},
     "output_type": "display_data"
    },
    {
     "data": {
      "application/vnd.jupyter.widget-view+json": {
       "model_id": "6f16b54496ca4337a39c41fb20d714dc",
       "version_major": 2,
       "version_minor": 0
      },
      "text/plain": [
       "Map:   0%|          | 0/131 [00:00<?, ? examples/s]"
      ]
     },
     "metadata": {},
     "output_type": "display_data"
    }
   ],
   "source": [
    "def preprocess_function(examples):\n",
    "  return tokenizer(examples[\"text\"], padding=\"max_length\", truncation=True)\n",
    "\n",
    "# Preprocess training and testing data\n",
    "tokenized_datasets = datasets.map(preprocess_function, batched=True)"
   ]
  },
  {
   "cell_type": "code",
   "execution_count": 33,
   "id": "b9f60b24-1b73-44b7-9672-51b8cf979da7",
   "metadata": {},
   "outputs": [],
   "source": [
    "# Label to Id and Id to labels\n",
    "id2label = {0: \"✓\", 1: \"x\"}\n",
    "label2id = {\"✓\": 0, \"x\": 1}"
   ]
  },
  {
   "cell_type": "markdown",
   "id": "99740383-031b-41bb-bafd-ebb76200b1c0",
   "metadata": {},
   "source": [
    "## Train Binary BERT Classifier"
   ]
  },
  {
   "cell_type": "code",
   "execution_count": 34,
   "id": "49be91a7-d220-4691-b65e-bca0f4233877",
   "metadata": {},
   "outputs": [
    {
     "name": "stderr",
     "output_type": "stream",
     "text": [
      "Some weights of BertForSequenceClassification were not initialized from the model checkpoint at bert-base-uncased and are newly initialized: ['classifier.bias', 'classifier.weight']\n",
      "You should probably TRAIN this model on a down-stream task to be able to use it for predictions and inference.\n"
     ]
    }
   ],
   "source": [
    "model = AutoModelForSequenceClassification.from_pretrained('bert-base-uncased', num_labels=2, id2label=id2label, label2id=label2id)"
   ]
  },
  {
   "cell_type": "code",
   "execution_count": 35,
   "id": "40c24773-71ab-4b95-acc5-f662c3974b61",
   "metadata": {},
   "outputs": [],
   "source": [
    "data_collator = DataCollatorWithPadding(tokenizer=tokenizer)\n",
    "\n",
    "early_stopping_callback = EarlyStoppingCallback(early_stopping_patience=3)"
   ]
  },
  {
   "cell_type": "code",
   "execution_count": 36,
   "id": "48d2871c-655f-4dd5-a04e-43a340ddfb61",
   "metadata": {},
   "outputs": [],
   "source": [
    "# Setup weights and biases stuff\n",
    "os.environ[\"WANDB_PROJECT\"]=\"Pseudomonas_Otitis_Classifier\"\n",
    "os.environ[\"WANDB_LOG_MODEL\"] = \"checkpoint\"  # log all model checkpoints"
   ]
  },
  {
   "cell_type": "code",
   "execution_count": 37,
   "id": "b9dd0f06-4a74-4217-892a-0e74058571ac",
   "metadata": {},
   "outputs": [],
   "source": [
    "import torch\n",
    "device = torch.device(\"cuda\") if torch.cuda.is_available() else torch.device(\"cpu\")\n",
    "model = model.to(device)"
   ]
  },
  {
   "cell_type": "code",
   "execution_count": 38,
   "id": "b42c8b80-199e-4d93-8950-654b11a1a217",
   "metadata": {},
   "outputs": [
    {
     "name": "stderr",
     "output_type": "stream",
     "text": [
      "huggingface/tokenizers: The current process just got forked, after parallelism has already been used. Disabling parallelism to avoid deadlocks...\n",
      "To disable this warning, you can either:\n",
      "\t- Avoid using `tokenizers` before the fork if possible\n",
      "\t- Explicitly set the environment variable TOKENIZERS_PARALLELISM=(true | false)\n"
     ]
    }
   ],
   "source": [
    "training_args = TrainingArguments(\n",
    "    output_dir= \"BERT_psoe_Classifier\",\n",
    "    learning_rate=2e-5,\n",
    "    per_device_train_batch_size=12,\n",
    "    per_device_eval_batch_size=12,\n",
    "    num_train_epochs=10,\n",
    "    weight_decay=0.01,\n",
    "    save_strategy = \"epoch\",\n",
    "    eval_strategy = \"epoch\",\n",
    "    load_best_model_at_end=True,\n",
    "    report_to=\"wandb\",\n",
    "    fp16 = True,\n",
    "    run_name=\"BERT-base-uncased\",\n",
    "    save_total_limit=3\n",
    ")"
   ]
  },
  {
   "cell_type": "code",
   "execution_count": 40,
   "id": "712908c0-1f40-4d16-bb36-152e8a4611e0",
   "metadata": {},
   "outputs": [
    {
     "name": "stderr",
     "output_type": "stream",
     "text": [
      "/tmp/ipykernel_6948/3684258981.py:1: FutureWarning: `tokenizer` is deprecated and will be removed in version 5.0.0 for `Trainer.__init__`. Use `processing_class` instead.\n",
      "  trainer = Trainer(\n",
      "/usr/local/lib/python3.9/site-packages/torch/nn/parallel/_functions.py:68: UserWarning: Was asked to gather along dimension 0, but all input tensors were scalars; will instead unsqueeze and return a vector.\n",
      "  warnings.warn('Was asked to gather along dimension 0, but all '\n"
     ]
    },
    {
     "data": {
      "text/html": [
       "\n",
       "    <div>\n",
       "      \n",
       "      <progress value='180' max='450' style='width:300px; height:20px; vertical-align: middle;'></progress>\n",
       "      [180/450 01:13 < 01:52, 2.41 it/s, Epoch 4/10]\n",
       "    </div>\n",
       "    <table border=\"1\" class=\"dataframe\">\n",
       "  <thead>\n",
       " <tr style=\"text-align: left;\">\n",
       "      <th>Epoch</th>\n",
       "      <th>Training Loss</th>\n",
       "      <th>Validation Loss</th>\n",
       "    </tr>\n",
       "  </thead>\n",
       "  <tbody>\n",
       "    <tr>\n",
       "      <td>1</td>\n",
       "      <td>No log</td>\n",
       "      <td>0.448744</td>\n",
       "    </tr>\n",
       "    <tr>\n",
       "      <td>2</td>\n",
       "      <td>No log</td>\n",
       "      <td>0.592032</td>\n",
       "    </tr>\n",
       "    <tr>\n",
       "      <td>3</td>\n",
       "      <td>No log</td>\n",
       "      <td>0.783858</td>\n",
       "    </tr>\n",
       "    <tr>\n",
       "      <td>4</td>\n",
       "      <td>No log</td>\n",
       "      <td>0.774829</td>\n",
       "    </tr>\n",
       "  </tbody>\n",
       "</table><p>"
      ],
      "text/plain": [
       "<IPython.core.display.HTML object>"
      ]
     },
     "metadata": {},
     "output_type": "display_data"
    },
    {
     "name": "stderr",
     "output_type": "stream",
     "text": [
      "\u001b[34m\u001b[1mwandb\u001b[0m: Adding directory to artifact (./BERT_psoe_Classifier/checkpoint-45)... Done. 2.2s\n",
      "/usr/local/lib/python3.9/site-packages/torch/nn/parallel/_functions.py:68: UserWarning: Was asked to gather along dimension 0, but all input tensors were scalars; will instead unsqueeze and return a vector.\n",
      "  warnings.warn('Was asked to gather along dimension 0, but all '\n",
      "\u001b[34m\u001b[1mwandb\u001b[0m: Adding directory to artifact (./BERT_psoe_Classifier/checkpoint-90)... Done. 2.3s\n",
      "/usr/local/lib/python3.9/site-packages/torch/nn/parallel/_functions.py:68: UserWarning: Was asked to gather along dimension 0, but all input tensors were scalars; will instead unsqueeze and return a vector.\n",
      "  warnings.warn('Was asked to gather along dimension 0, but all '\n",
      "\u001b[34m\u001b[1mwandb\u001b[0m: Adding directory to artifact (./BERT_psoe_Classifier/checkpoint-135)... Done. 2.0s\n",
      "/usr/local/lib/python3.9/site-packages/torch/nn/parallel/_functions.py:68: UserWarning: Was asked to gather along dimension 0, but all input tensors were scalars; will instead unsqueeze and return a vector.\n",
      "  warnings.warn('Was asked to gather along dimension 0, but all '\n",
      "\u001b[34m\u001b[1mwandb\u001b[0m: Adding directory to artifact (./BERT_psoe_Classifier/checkpoint-180)... Done. 1.8s\n"
     ]
    }
   ],
   "source": [
    "trainer = Trainer(\n",
    "     model=model,\n",
    "    args=training_args,\n",
    "    train_dataset=tokenized_datasets['train'],\n",
    "    eval_dataset=tokenized_datasets['eval'],\n",
    "    tokenizer=tokenizer,\n",
    "    data_collator=data_collator,\n",
    "    callbacks=[early_stopping_callback]\n",
    ")\n",
    "trainer.train()\n",
    "trainer.save_model()"
   ]
  },
  {
   "cell_type": "code",
   "execution_count": 41,
   "id": "27de84c6-cb46-4147-8985-088fbc2219f4",
   "metadata": {},
   "outputs": [
    {
     "data": {
      "text/plain": [
       "0"
      ]
     },
     "execution_count": 41,
     "metadata": {},
     "output_type": "execute_result"
    }
   ],
   "source": [
    "# Clear GPUs\n",
    "from numba import cuda\n",
    "import gc\n",
    "torch.cuda.empty_cache()\n",
    "gc.collect()"
   ]
  },
  {
   "cell_type": "markdown",
   "id": "3ac747f2-42cc-4f98-9c20-dc856fa89aac",
   "metadata": {},
   "source": [
    "## Create DogBERT Classifier"
   ]
  },
  {
   "cell_type": "code",
   "execution_count": 42,
   "id": "d1cd3753-f9ea-4abc-ba36-663b2463d022",
   "metadata": {},
   "outputs": [
    {
     "name": "stderr",
     "output_type": "stream",
     "text": [
      "Some weights of BertForSequenceClassification were not initialized from the model checkpoint at /opt/jupyterlab/notebooks/DogBERT/Domain Adaptation/DogBERT v0.0.2 and are newly initialized: ['bert.pooler.dense.bias', 'bert.pooler.dense.weight', 'classifier.bias', 'classifier.weight']\n",
      "You should probably TRAIN this model on a down-stream task to be able to use it for predictions and inference.\n"
     ]
    }
   ],
   "source": [
    "# Load DogBERT\n",
    "model_dir = \"/opt/jupyterlab/notebooks/DogBERT/Domain Adaptation/DogBERT v0.0.2\"\n",
    "model2 = AutoModelForSequenceClassification.from_pretrained(model_dir, num_labels=2, id2label=id2label, label2id=label2id)"
   ]
  },
  {
   "cell_type": "code",
   "execution_count": 43,
   "id": "9f66da90-e3ad-4be7-99bb-b19acf6b571e",
   "metadata": {},
   "outputs": [],
   "source": [
    "# Setup weights and biases stuff\n",
    "os.environ[\"WANDB_PROJECT\"]=\"Pseudomonas_Otitis_Classifier\"\n",
    "os.environ[\"WANDB_LOG_MODEL\"] = \"checkpoint\"  # log all model checkpoints"
   ]
  },
  {
   "cell_type": "code",
   "execution_count": 44,
   "id": "e15adea0-73a8-448f-91a1-bd0265cb9de6",
   "metadata": {},
   "outputs": [
    {
     "name": "stderr",
     "output_type": "stream",
     "text": [
      "huggingface/tokenizers: The current process just got forked, after parallelism has already been used. Disabling parallelism to avoid deadlocks...\n",
      "To disable this warning, you can either:\n",
      "\t- Avoid using `tokenizers` before the fork if possible\n",
      "\t- Explicitly set the environment variable TOKENIZERS_PARALLELISM=(true | false)\n"
     ]
    }
   ],
   "source": [
    "training_args = TrainingArguments(\n",
    "    output_dir= \"DogBERT_psoe_Classifier\",\n",
    "    learning_rate=2e-5,\n",
    "    per_device_train_batch_size=12,\n",
    "    per_device_eval_batch_size=12,\n",
    "    num_train_epochs=10,\n",
    "    weight_decay=0.01,\n",
    "    save_strategy = \"epoch\",\n",
    "    eval_strategy = \"epoch\",\n",
    "    load_best_model_at_end=True,\n",
    "    report_to=\"wandb\",\n",
    "    fp16 = True,\n",
    "    run_name=\"DogBERT\",\n",
    "    save_total_limit=3\n",
    ")"
   ]
  },
  {
   "cell_type": "code",
   "execution_count": 45,
   "id": "07f55a68-f906-4dd2-823c-35bb231c76eb",
   "metadata": {},
   "outputs": [
    {
     "name": "stderr",
     "output_type": "stream",
     "text": [
      "/tmp/ipykernel_6948/1818825560.py:1: FutureWarning: `tokenizer` is deprecated and will be removed in version 5.0.0 for `Trainer.__init__`. Use `processing_class` instead.\n",
      "  trainer = Trainer(\n",
      "/usr/local/lib/python3.9/site-packages/torch/nn/parallel/_functions.py:68: UserWarning: Was asked to gather along dimension 0, but all input tensors were scalars; will instead unsqueeze and return a vector.\n",
      "  warnings.warn('Was asked to gather along dimension 0, but all '\n"
     ]
    },
    {
     "data": {
      "text/html": [
       "\n",
       "    <div>\n",
       "      \n",
       "      <progress value='270' max='450' style='width:300px; height:20px; vertical-align: middle;'></progress>\n",
       "      [270/450 01:49 < 01:13, 2.46 it/s, Epoch 6/10]\n",
       "    </div>\n",
       "    <table border=\"1\" class=\"dataframe\">\n",
       "  <thead>\n",
       " <tr style=\"text-align: left;\">\n",
       "      <th>Epoch</th>\n",
       "      <th>Training Loss</th>\n",
       "      <th>Validation Loss</th>\n",
       "    </tr>\n",
       "  </thead>\n",
       "  <tbody>\n",
       "    <tr>\n",
       "      <td>1</td>\n",
       "      <td>No log</td>\n",
       "      <td>0.383349</td>\n",
       "    </tr>\n",
       "    <tr>\n",
       "      <td>2</td>\n",
       "      <td>No log</td>\n",
       "      <td>0.172935</td>\n",
       "    </tr>\n",
       "    <tr>\n",
       "      <td>3</td>\n",
       "      <td>No log</td>\n",
       "      <td>0.163628</td>\n",
       "    </tr>\n",
       "    <tr>\n",
       "      <td>4</td>\n",
       "      <td>No log</td>\n",
       "      <td>0.434397</td>\n",
       "    </tr>\n",
       "    <tr>\n",
       "      <td>5</td>\n",
       "      <td>No log</td>\n",
       "      <td>0.615487</td>\n",
       "    </tr>\n",
       "    <tr>\n",
       "      <td>6</td>\n",
       "      <td>No log</td>\n",
       "      <td>1.019014</td>\n",
       "    </tr>\n",
       "  </tbody>\n",
       "</table><p>"
      ],
      "text/plain": [
       "<IPython.core.display.HTML object>"
      ]
     },
     "metadata": {},
     "output_type": "display_data"
    },
    {
     "name": "stderr",
     "output_type": "stream",
     "text": [
      "\u001b[34m\u001b[1mwandb\u001b[0m: Adding directory to artifact (./DogBERT_psoe_Classifier/checkpoint-45)... Done. 2.0s\n",
      "/usr/local/lib/python3.9/site-packages/torch/nn/parallel/_functions.py:68: UserWarning: Was asked to gather along dimension 0, but all input tensors were scalars; will instead unsqueeze and return a vector.\n",
      "  warnings.warn('Was asked to gather along dimension 0, but all '\n",
      "\u001b[34m\u001b[1mwandb\u001b[0m: Adding directory to artifact (./DogBERT_psoe_Classifier/checkpoint-90)... Done. 2.2s\n",
      "/usr/local/lib/python3.9/site-packages/torch/nn/parallel/_functions.py:68: UserWarning: Was asked to gather along dimension 0, but all input tensors were scalars; will instead unsqueeze and return a vector.\n",
      "  warnings.warn('Was asked to gather along dimension 0, but all '\n",
      "\u001b[34m\u001b[1mwandb\u001b[0m: Adding directory to artifact (./DogBERT_psoe_Classifier/checkpoint-135)... Done. 2.3s\n",
      "/usr/local/lib/python3.9/site-packages/torch/nn/parallel/_functions.py:68: UserWarning: Was asked to gather along dimension 0, but all input tensors were scalars; will instead unsqueeze and return a vector.\n",
      "  warnings.warn('Was asked to gather along dimension 0, but all '\n",
      "\u001b[34m\u001b[1mwandb\u001b[0m: Adding directory to artifact (./DogBERT_psoe_Classifier/checkpoint-180)... Done. 2.3s\n",
      "/usr/local/lib/python3.9/site-packages/torch/nn/parallel/_functions.py:68: UserWarning: Was asked to gather along dimension 0, but all input tensors were scalars; will instead unsqueeze and return a vector.\n",
      "  warnings.warn('Was asked to gather along dimension 0, but all '\n",
      "\u001b[34m\u001b[1mwandb\u001b[0m: Adding directory to artifact (./DogBERT_psoe_Classifier/checkpoint-225)... Done. 1.8s\n",
      "/usr/local/lib/python3.9/site-packages/torch/nn/parallel/_functions.py:68: UserWarning: Was asked to gather along dimension 0, but all input tensors were scalars; will instead unsqueeze and return a vector.\n",
      "  warnings.warn('Was asked to gather along dimension 0, but all '\n",
      "\u001b[34m\u001b[1mwandb\u001b[0m: Adding directory to artifact (./DogBERT_psoe_Classifier/checkpoint-270)... Done. 2.3s\n"
     ]
    }
   ],
   "source": [
    "trainer = Trainer(\n",
    "     model=model2,\n",
    "    args=training_args,\n",
    "    train_dataset=tokenized_datasets['train'],\n",
    "    eval_dataset=tokenized_datasets['eval'],\n",
    "    tokenizer=tokenizer,\n",
    "    data_collator=data_collator,\n",
    "    callbacks=[early_stopping_callback]\n",
    ")\n",
    "trainer.train()\n",
    "trainer.save_model()"
   ]
  },
  {
   "cell_type": "code",
   "execution_count": 46,
   "id": "375a92d8-4f05-4629-9449-698ed59ab4a3",
   "metadata": {},
   "outputs": [
    {
     "data": {
      "text/plain": [
       "570"
      ]
     },
     "execution_count": 46,
     "metadata": {},
     "output_type": "execute_result"
    }
   ],
   "source": [
    "# Clear GPUs\n",
    "from numba import cuda\n",
    "import gc\n",
    "torch.cuda.empty_cache()\n",
    "gc.collect()"
   ]
  },
  {
   "cell_type": "markdown",
   "id": "65e2d5ea-bd80-45d6-9a2b-84c298dbca8f",
   "metadata": {},
   "source": [
    "## Create PetBERT Classifier"
   ]
  },
  {
   "cell_type": "code",
   "execution_count": 47,
   "id": "b5b96fb7-f272-4919-a4bd-dbc4b38e2c4d",
   "metadata": {},
   "outputs": [],
   "source": [
    "# Load PetBERT Tokenizer\n",
    "tokenizer = AutoTokenizer.from_pretrained('SAVSNET/PetBERT')"
   ]
  },
  {
   "cell_type": "code",
   "execution_count": 48,
   "id": "06a1d0bd-0916-42ac-b422-48d6eaa117d1",
   "metadata": {},
   "outputs": [
    {
     "data": {
      "application/vnd.jupyter.widget-view+json": {
       "model_id": "7c18b359e68e434e901b6bf455ce008f",
       "version_major": 2,
       "version_minor": 0
      },
      "text/plain": [
       "Map:   0%|          | 0/1058 [00:00<?, ? examples/s]"
      ]
     },
     "metadata": {},
     "output_type": "display_data"
    },
    {
     "data": {
      "application/vnd.jupyter.widget-view+json": {
       "model_id": "36cf42dfb5e5490880780ebf15ea57d4",
       "version_major": 2,
       "version_minor": 0
      },
      "text/plain": [
       "Map:   0%|          | 0/118 [00:00<?, ? examples/s]"
      ]
     },
     "metadata": {},
     "output_type": "display_data"
    },
    {
     "data": {
      "application/vnd.jupyter.widget-view+json": {
       "model_id": "f9a551f8ce024bc58530b4a36d746aaf",
       "version_major": 2,
       "version_minor": 0
      },
      "text/plain": [
       "Map:   0%|          | 0/131 [00:00<?, ? examples/s]"
      ]
     },
     "metadata": {},
     "output_type": "display_data"
    }
   ],
   "source": [
    "def preprocess_petbert_function(examples):\n",
    "  return tokenizer(examples[\"text\"], padding=\"max_length\", truncation=True)\n",
    "\n",
    "# Preprocess training and testing data\n",
    "tokenized_datasets = datasets.map(preprocess_petbert_function, batched=True)"
   ]
  },
  {
   "cell_type": "code",
   "execution_count": 49,
   "id": "57eb75c5-685f-490f-ac51-80c7664363fa",
   "metadata": {},
   "outputs": [
    {
     "name": "stderr",
     "output_type": "stream",
     "text": [
      "Some weights of BertForSequenceClassification were not initialized from the model checkpoint at SAVSNET/PetBERT and are newly initialized: ['bert.pooler.dense.bias', 'bert.pooler.dense.weight', 'classifier.bias', 'classifier.weight']\n",
      "You should probably TRAIN this model on a down-stream task to be able to use it for predictions and inference.\n"
     ]
    }
   ],
   "source": [
    "model3 = AutoModelForSequenceClassification.from_pretrained('SAVSNET/PetBERT', num_labels=2, id2label=id2label, label2id=label2id)"
   ]
  },
  {
   "cell_type": "code",
   "execution_count": 50,
   "id": "e545a534-6695-4c1e-9ab2-aeab83c965e2",
   "metadata": {},
   "outputs": [],
   "source": [
    "data_collator = DataCollatorWithPadding(tokenizer=tokenizer)\n",
    "\n",
    "early_stopping_callback = EarlyStoppingCallback(early_stopping_patience=3)"
   ]
  },
  {
   "cell_type": "code",
   "execution_count": 51,
   "id": "cbf61762-7314-4155-a417-ceb59eb02c4b",
   "metadata": {},
   "outputs": [],
   "source": [
    "# Setup weights and biases stuff\n",
    "os.environ[\"WANDB_PROJECT\"]=\"Pseudomonas_Otitis_Classifier\"\n",
    "os.environ[\"WANDB_LOG_MODEL\"] = \"checkpoint\"  # log all model checkpoints"
   ]
  },
  {
   "cell_type": "code",
   "execution_count": 52,
   "id": "3a6616b4-c6e8-4cd1-838a-e0114ca27ec1",
   "metadata": {},
   "outputs": [],
   "source": [
    "device = torch.device(\"cuda\") if torch.cuda.is_available() else torch.device(\"cpu\")\n",
    "model3 = model3.to(device)"
   ]
  },
  {
   "cell_type": "code",
   "execution_count": 53,
   "id": "34b36819-7093-4a52-843e-079640d83e57",
   "metadata": {},
   "outputs": [
    {
     "name": "stderr",
     "output_type": "stream",
     "text": [
      "huggingface/tokenizers: The current process just got forked, after parallelism has already been used. Disabling parallelism to avoid deadlocks...\n",
      "To disable this warning, you can either:\n",
      "\t- Avoid using `tokenizers` before the fork if possible\n",
      "\t- Explicitly set the environment variable TOKENIZERS_PARALLELISM=(true | false)\n"
     ]
    }
   ],
   "source": [
    "training_args = TrainingArguments(\n",
    "    output_dir= \"PetBERT_psoe_Classifier\",\n",
    "    learning_rate=2e-5,\n",
    "    per_device_train_batch_size=12,\n",
    "    per_device_eval_batch_size=12,\n",
    "    num_train_epochs=10,\n",
    "    weight_decay=0.01,\n",
    "    save_strategy = \"epoch\",\n",
    "    eval_strategy = \"epoch\",\n",
    "    load_best_model_at_end=True,\n",
    "    report_to=\"wandb\",\n",
    "    fp16 = True,\n",
    "    run_name=\"PetBERT\",\n",
    "    save_total_limit=3\n",
    ")"
   ]
  },
  {
   "cell_type": "code",
   "execution_count": 54,
   "id": "358e45cc-6a92-4768-a7a5-565b486630e7",
   "metadata": {},
   "outputs": [
    {
     "name": "stderr",
     "output_type": "stream",
     "text": [
      "/tmp/ipykernel_6948/4158194127.py:1: FutureWarning: `tokenizer` is deprecated and will be removed in version 5.0.0 for `Trainer.__init__`. Use `processing_class` instead.\n",
      "  trainer = Trainer(\n",
      "/usr/local/lib/python3.9/site-packages/torch/nn/parallel/_functions.py:68: UserWarning: Was asked to gather along dimension 0, but all input tensors were scalars; will instead unsqueeze and return a vector.\n",
      "  warnings.warn('Was asked to gather along dimension 0, but all '\n"
     ]
    },
    {
     "data": {
      "text/html": [
       "\n",
       "    <div>\n",
       "      \n",
       "      <progress value='225' max='450' style='width:300px; height:20px; vertical-align: middle;'></progress>\n",
       "      [225/450 01:30 < 01:31, 2.46 it/s, Epoch 5/10]\n",
       "    </div>\n",
       "    <table border=\"1\" class=\"dataframe\">\n",
       "  <thead>\n",
       " <tr style=\"text-align: left;\">\n",
       "      <th>Epoch</th>\n",
       "      <th>Training Loss</th>\n",
       "      <th>Validation Loss</th>\n",
       "    </tr>\n",
       "  </thead>\n",
       "  <tbody>\n",
       "    <tr>\n",
       "      <td>1</td>\n",
       "      <td>No log</td>\n",
       "      <td>0.357286</td>\n",
       "    </tr>\n",
       "    <tr>\n",
       "      <td>2</td>\n",
       "      <td>No log</td>\n",
       "      <td>0.220183</td>\n",
       "    </tr>\n",
       "    <tr>\n",
       "      <td>3</td>\n",
       "      <td>No log</td>\n",
       "      <td>0.233385</td>\n",
       "    </tr>\n",
       "    <tr>\n",
       "      <td>4</td>\n",
       "      <td>No log</td>\n",
       "      <td>0.348846</td>\n",
       "    </tr>\n",
       "    <tr>\n",
       "      <td>5</td>\n",
       "      <td>No log</td>\n",
       "      <td>0.426467</td>\n",
       "    </tr>\n",
       "  </tbody>\n",
       "</table><p>"
      ],
      "text/plain": [
       "<IPython.core.display.HTML object>"
      ]
     },
     "metadata": {},
     "output_type": "display_data"
    },
    {
     "name": "stderr",
     "output_type": "stream",
     "text": [
      "\u001b[34m\u001b[1mwandb\u001b[0m: Adding directory to artifact (./PetBERT_psoe_Classifier/checkpoint-45)... Done. 1.9s\n",
      "/usr/local/lib/python3.9/site-packages/torch/nn/parallel/_functions.py:68: UserWarning: Was asked to gather along dimension 0, but all input tensors were scalars; will instead unsqueeze and return a vector.\n",
      "  warnings.warn('Was asked to gather along dimension 0, but all '\n",
      "\u001b[34m\u001b[1mwandb\u001b[0m: Adding directory to artifact (./PetBERT_psoe_Classifier/checkpoint-90)... Done. 2.1s\n",
      "/usr/local/lib/python3.9/site-packages/torch/nn/parallel/_functions.py:68: UserWarning: Was asked to gather along dimension 0, but all input tensors were scalars; will instead unsqueeze and return a vector.\n",
      "  warnings.warn('Was asked to gather along dimension 0, but all '\n",
      "\u001b[34m\u001b[1mwandb\u001b[0m: Adding directory to artifact (./PetBERT_psoe_Classifier/checkpoint-135)... Done. 2.3s\n",
      "/usr/local/lib/python3.9/site-packages/torch/nn/parallel/_functions.py:68: UserWarning: Was asked to gather along dimension 0, but all input tensors were scalars; will instead unsqueeze and return a vector.\n",
      "  warnings.warn('Was asked to gather along dimension 0, but all '\n",
      "\u001b[34m\u001b[1mwandb\u001b[0m: Adding directory to artifact (./PetBERT_psoe_Classifier/checkpoint-180)... Done. 2.2s\n",
      "/usr/local/lib/python3.9/site-packages/torch/nn/parallel/_functions.py:68: UserWarning: Was asked to gather along dimension 0, but all input tensors were scalars; will instead unsqueeze and return a vector.\n",
      "  warnings.warn('Was asked to gather along dimension 0, but all '\n",
      "\u001b[34m\u001b[1mwandb\u001b[0m: Adding directory to artifact (./PetBERT_psoe_Classifier/checkpoint-225)... Done. 2.2s\n"
     ]
    }
   ],
   "source": [
    "trainer = Trainer(\n",
    "     model=model3,\n",
    "    args=training_args,\n",
    "    train_dataset=tokenized_datasets['train'],\n",
    "    eval_dataset=tokenized_datasets['eval'],\n",
    "    tokenizer=tokenizer,\n",
    "    data_collator=data_collator,\n",
    "    callbacks=[early_stopping_callback]\n",
    ")\n",
    "trainer.train()\n",
    "trainer.save_model()"
   ]
  },
  {
   "cell_type": "markdown",
   "id": "a9a334d1-744d-4344-b9f8-079b11a43b81",
   "metadata": {},
   "source": [
    "## BERT Inference"
   ]
  },
  {
   "cell_type": "code",
   "execution_count": 55,
   "id": "c9eb88b0-9eba-4bd2-9a43-a1e7ffc6c201",
   "metadata": {},
   "outputs": [],
   "source": [
    "tokenizer = AutoTokenizer.from_pretrained(\"BERT_psoe_Classifier\")\n",
    "model = AutoModelForSequenceClassification.from_pretrained(\"BERT_psoe_Classifier\")\n",
    "\n",
    "def predict_sentiment(text):\n",
    "  inputs = tokenizer(text, padding=\"max_length\", truncation=True, return_tensors=\"pt\")\n",
    "  outputs = model(**inputs)\n",
    "  predictions = torch.nn.functional.softmax(outputs.logits, dim=-1)\n",
    "  predicted_class = torch.argmax(predictions).item()\n",
    "  confidence_score = predictions.squeeze()[predicted_class].item()\n",
    "  return predicted_class, confidence_score"
   ]
  },
  {
   "cell_type": "code",
   "execution_count": 56,
   "id": "0f8f2564-cc9f-45ad-a76c-1356247b5b24",
   "metadata": {},
   "outputs": [],
   "source": [
    "# Assuming your dataframe is called 'df' and the text column is 'text'\n",
    "df_test[\"predicted_pseudomonas_otitis\"], df_test[\"confidence_score\"] = zip(*df_test[\"text\"].apply(predict_sentiment))"
   ]
  },
  {
   "cell_type": "code",
   "execution_count": 57,
   "id": "b6cdcb8a-f0c2-4e84-bb7e-b76203c21c42",
   "metadata": {},
   "outputs": [
    {
     "name": "stdout",
     "output_type": "stream",
     "text": [
      "                                                   text  label  \\\n",
      "1164  Skin generally fairly good. Some crusting in a...      1   \n",
      "1047                                                 \"\"      1   \n",
      "793   \"results show pseudomonas, ear still very pain...      0   \n",
      "1057  \"Booster. BAR, DUDE normal. Decllined KC, worm...      1   \n",
      "722   \"Consult - repeat pseudomonas swab. Owner been...      1   \n",
      "\n",
      "      predicted_pseudomonas_otitis  confidence_score  \n",
      "1164                             1          0.992300  \n",
      "1047                             1          0.989301  \n",
      "793                              0          0.932000  \n",
      "1057                             1          0.991960  \n",
      "722                              0          0.781996  \n"
     ]
    }
   ],
   "source": [
    "print(df_test.head())"
   ]
  },
  {
   "cell_type": "code",
   "execution_count": 58,
   "id": "12f514fa-b43d-499a-91ec-38b561a788df",
   "metadata": {},
   "outputs": [],
   "source": [
    "clf_metrics = evaluate.combine([\"accuracy\", \"f1\", \"precision\", \"recall\"])"
   ]
  },
  {
   "cell_type": "code",
   "execution_count": 59,
   "id": "2dfaa034-148b-4e9a-af39-ea39a6011f93",
   "metadata": {},
   "outputs": [],
   "source": [
    "bert_metrics = clf_metrics.compute(predictions=list(df_test['predicted_pseudomonas_otitis']), references=list(df_test['label']))"
   ]
  },
  {
   "cell_type": "code",
   "execution_count": 60,
   "id": "f2cc21f8-daeb-4878-b8af-e1267454e63e",
   "metadata": {},
   "outputs": [
    {
     "name": "stdout",
     "output_type": "stream",
     "text": [
      "{'accuracy': 0.8091603053435115, 'f1': 0.8466257668711656, 'precision': 0.8117647058823529, 'recall': 0.8846153846153846}\n"
     ]
    }
   ],
   "source": [
    "print(bert_metrics)"
   ]
  },
  {
   "cell_type": "code",
   "execution_count": 61,
   "id": "d44c4c6f-fbda-4c04-9058-6fb0418e2730",
   "metadata": {},
   "outputs": [
    {
     "name": "stdout",
     "output_type": "stream",
     "text": [
      "/opt/jupyterlab/notebooks/DogBERT/Classifiers/Pseudomonas_Otitis/Binary_Classifier/Balanced_Binary_Classifier\n"
     ]
    }
   ],
   "source": [
    "print(os.getcwd())"
   ]
  },
  {
   "cell_type": "code",
   "execution_count": 62,
   "id": "72c96e9b-b5ef-4e1a-8dd0-dea7ca607a1c",
   "metadata": {},
   "outputs": [
    {
     "data": {
      "text/plain": [
       "970"
      ]
     },
     "execution_count": 62,
     "metadata": {},
     "output_type": "execute_result"
    }
   ],
   "source": [
    "# Clear GPUs\n",
    "from numba import cuda\n",
    "import gc\n",
    "torch.cuda.empty_cache()\n",
    "gc.collect()"
   ]
  },
  {
   "cell_type": "markdown",
   "id": "a7159e42-6d25-4053-9b37-a4cf60aff4ef",
   "metadata": {},
   "source": [
    "## Do Inference With DogBERT Classifier"
   ]
  },
  {
   "cell_type": "code",
   "execution_count": 63,
   "id": "a7040d51-7a72-4fa3-b8a9-378e5bc0d56f",
   "metadata": {},
   "outputs": [],
   "source": [
    "tokenizer = AutoTokenizer.from_pretrained(\"DogBERT_psoe_Classifier\")\n",
    "model = AutoModelForSequenceClassification.from_pretrained(\"DogBERT_psoe_Classifier\")"
   ]
  },
  {
   "cell_type": "code",
   "execution_count": 64,
   "id": "b160a986-69e6-4777-a334-7db98e58d79e",
   "metadata": {},
   "outputs": [],
   "source": [
    "# Assuming your dataframe is called 'df' and the text column is 'text'\n",
    "df_test[\"predicted_pseudomonas_otitis_dogbert\"], df_test[\"confidence_score_dogbert\"] = zip(*df_test[\"text\"].apply(predict_sentiment))"
   ]
  },
  {
   "cell_type": "code",
   "execution_count": 65,
   "id": "753d669e-49e1-45f6-ad80-dde1eeded5e6",
   "metadata": {},
   "outputs": [],
   "source": [
    "dogbert_metrics = clf_metrics.compute(predictions=list(df_test['predicted_pseudomonas_otitis_dogbert']), references=list(df_test['label']))"
   ]
  },
  {
   "cell_type": "code",
   "execution_count": 66,
   "id": "291d0685-42df-460e-851a-63d01006baa2",
   "metadata": {},
   "outputs": [
    {
     "name": "stdout",
     "output_type": "stream",
     "text": [
      "{'accuracy': 0.8931297709923665, 'f1': 0.9078947368421053, 'precision': 0.9324324324324325, 'recall': 0.8846153846153846}\n"
     ]
    }
   ],
   "source": [
    "print(dogbert_metrics)"
   ]
  },
  {
   "cell_type": "code",
   "execution_count": 67,
   "id": "34583b69-d73a-4700-85d1-233e77801ef1",
   "metadata": {},
   "outputs": [
    {
     "data": {
      "text/plain": [
       "132"
      ]
     },
     "execution_count": 67,
     "metadata": {},
     "output_type": "execute_result"
    }
   ],
   "source": [
    "# Clear GPUs\n",
    "from numba import cuda\n",
    "import gc\n",
    "torch.cuda.empty_cache()\n",
    "gc.collect()"
   ]
  },
  {
   "cell_type": "markdown",
   "id": "8caadd87-985c-4566-a176-ca542afe88be",
   "metadata": {},
   "source": [
    "## Do Inference With PetBERT"
   ]
  },
  {
   "cell_type": "code",
   "execution_count": 68,
   "id": "52b66734-6dfe-47b5-820d-02db3c150749",
   "metadata": {},
   "outputs": [],
   "source": [
    "tokenizer = AutoTokenizer.from_pretrained(\"PetBERT_psoe_Classifier\")\n",
    "model = AutoModelForSequenceClassification.from_pretrained(\"PetBERT_psoe_Classifier\")"
   ]
  },
  {
   "cell_type": "code",
   "execution_count": 69,
   "id": "c12d26e2-1fbf-44dc-8082-536a698d10b6",
   "metadata": {},
   "outputs": [],
   "source": [
    "# Assuming your dataframe is called 'df' and the text column is 'text'\n",
    "df_test[\"predicted_pseudomonas_otitis_petbert\"], df_test[\"confidence_score_petbert\"] = zip(*df_test[\"text\"].apply(predict_sentiment))"
   ]
  },
  {
   "cell_type": "code",
   "execution_count": 70,
   "id": "8db84cde-9ea2-4b90-ba51-54726d1e36f9",
   "metadata": {},
   "outputs": [],
   "source": [
    "petbert_metrics = clf_metrics.compute(predictions=list(df_test['predicted_pseudomonas_otitis_petbert']), references=list(df_test['label']))"
   ]
  },
  {
   "cell_type": "code",
   "execution_count": 71,
   "id": "b49254ce-6e23-44f8-8f8e-044788c5d358",
   "metadata": {},
   "outputs": [
    {
     "name": "stdout",
     "output_type": "stream",
     "text": [
      "{'accuracy': 0.8625954198473282, 'f1': 0.8783783783783784, 'precision': 0.9285714285714286, 'recall': 0.8333333333333334}\n"
     ]
    }
   ],
   "source": [
    "print(petbert_metrics)"
   ]
  },
  {
   "cell_type": "code",
   "execution_count": 72,
   "id": "ad589758-b89b-431e-bfcb-73fca9a84e84",
   "metadata": {},
   "outputs": [
    {
     "data": {
      "text/plain": [
       "132"
      ]
     },
     "execution_count": 72,
     "metadata": {},
     "output_type": "execute_result"
    }
   ],
   "source": [
    "# Clear GPUs\n",
    "from numba import cuda\n",
    "import gc\n",
    "torch.cuda.empty_cache()\n",
    "gc.collect()"
   ]
  },
  {
   "cell_type": "markdown",
   "id": "33b8890f-8de0-43bd-9675-7dcaa049cef3",
   "metadata": {},
   "source": [
    "## Put Metrics in DataFrame"
   ]
  },
  {
   "cell_type": "code",
   "execution_count": 73,
   "id": "169d3c21-4216-4357-a178-5023e3fe5402",
   "metadata": {},
   "outputs": [
    {
     "name": "stdout",
     "output_type": "stream",
     "text": [
      "{'accuracy': 0.8091603053435115, 'f1': 0.8466257668711656, 'precision': 0.8117647058823529, 'recall': 0.8846153846153846}\n",
      "accuracy\n",
      "f1\n",
      "precision\n",
      "recall\n",
      "{'accuracy': 0.8931297709923665, 'f1': 0.9078947368421053, 'precision': 0.9324324324324325, 'recall': 0.8846153846153846}\n",
      "accuracy\n",
      "f1\n",
      "precision\n",
      "recall\n",
      "{'accuracy': 0.8625954198473282, 'f1': 0.8783783783783784, 'precision': 0.9285714285714286, 'recall': 0.8333333333333334}\n",
      "accuracy\n",
      "f1\n",
      "precision\n",
      "recall\n"
     ]
    }
   ],
   "source": [
    "dicts = [bert_metrics, dogbert_metrics, petbert_metrics]\n",
    "\n",
    "metrics_dict = {'model':['BERT', 'DogBERT', 'PetBERT'], 'accuracy': [],'precision':[], 'recall':[], 'f1': []}\n",
    "\n",
    "\n",
    "for model in dicts:\n",
    "    print(model)\n",
    "    for metric in model.keys():\n",
    "        print(metric)\n",
    "        metrics_dict[metric].append(model[metric])"
   ]
  },
  {
   "cell_type": "code",
   "execution_count": 74,
   "id": "423723ae-68a8-41ed-9b38-0841b65d3936",
   "metadata": {},
   "outputs": [
    {
     "name": "stdout",
     "output_type": "stream",
     "text": [
      "{'model': ['BERT', 'DogBERT', 'PetBERT'], 'accuracy': [0.8091603053435115, 0.8931297709923665, 0.8625954198473282], 'precision': [0.8117647058823529, 0.9324324324324325, 0.9285714285714286], 'recall': [0.8846153846153846, 0.8846153846153846, 0.8333333333333334], 'f1': [0.8466257668711656, 0.9078947368421053, 0.8783783783783784]}\n"
     ]
    }
   ],
   "source": [
    "print(metrics_dict)"
   ]
  },
  {
   "cell_type": "code",
   "execution_count": 75,
   "id": "3fa81408-5b4b-47f5-9fcf-7df0a61018eb",
   "metadata": {},
   "outputs": [],
   "source": [
    "metrics_df = pd.DataFrame(metrics_dict)"
   ]
  },
  {
   "cell_type": "code",
   "execution_count": 115,
   "id": "574883ee-77ec-47fd-9f76-574833e0a3f3",
   "metadata": {},
   "outputs": [
    {
     "name": "stdout",
     "output_type": "stream",
     "text": [
      "/opt/jupyterlab/notebooks/DogBERT/Classifiers/Pseudomonas_Otitis/All_Records\n"
     ]
    }
   ],
   "source": [
    "print(os.getcwd())"
   ]
  },
  {
   "cell_type": "code",
   "execution_count": 76,
   "id": "3e728bed-ff8e-48fa-9799-69f7d39b580f",
   "metadata": {},
   "outputs": [],
   "source": [
    ".to_csv('Pseudomonas_Otitis_Evaluation_Metrics.csv', index=False)"
   ]
  },
  {
   "cell_type": "code",
   "execution_count": 124,
   "id": "0f03afb8-5a01-4825-a1dd-2f26bf91300d",
   "metadata": {},
   "outputs": [
    {
     "name": "stdout",
     "output_type": "stream",
     "text": [
      "14.410967639088156\n"
     ]
    }
   ],
   "source": [
    "print((petbert_metrics['f1'] - bert_metrics['f1'])*100)"
   ]
  },
  {
   "cell_type": "code",
   "execution_count": 77,
   "id": "29838717-042e-4d48-914f-90db18ba07d6",
   "metadata": {},
   "outputs": [
    {
     "data": {
      "text/plain": [
       "0"
      ]
     },
     "execution_count": 77,
     "metadata": {},
     "output_type": "execute_result"
    }
   ],
   "source": [
    "# Clear GPUs\n",
    "from numba import cuda\n",
    "import gc\n",
    "torch.cuda.empty_cache()\n",
    "gc.collect()"
   ]
  },
  {
   "cell_type": "markdown",
   "id": "78670cb8-5428-4da3-9523-c4747bedd750",
   "metadata": {},
   "source": [
    "## Create Latex Table"
   ]
  },
  {
   "cell_type": "code",
   "execution_count": 4,
   "id": "ca3ac12b-38a2-43c6-8489-0c4d1dfb9c5e",
   "metadata": {},
   "outputs": [],
   "source": [
    "metrics_df = pd.read_csv('Pseudomonas_Otitis_Evaluation_Metrics.csv', index_col=False)"
   ]
  },
  {
   "cell_type": "code",
   "execution_count": 6,
   "id": "7f65a807-d9ff-479a-9bfd-356fc6f183ae",
   "metadata": {},
   "outputs": [
    {
     "name": "stdout",
     "output_type": "stream",
     "text": [
      "\\begin{tabular}{lrrrr}\n",
      "\\toprule\n",
      "model & accuracy & precision & recall & f1 \\\\\n",
      "\\midrule\n",
      "BERT & 0.81 & 0.81 & 0.88 & 0.85 \\\\\n",
      "DogBERT & 0.89 & 0.93 & 0.88 & 0.91 \\\\\n",
      "PetBERT & 0.86 & 0.93 & 0.83 & 0.88 \\\\\n",
      "\\bottomrule\n",
      "\\end{tabular}\n",
      "\n"
     ]
    }
   ],
   "source": [
    "print(metrics_df.to_latex(index=False,\n",
    "                  formatters={\"name\": str.upper},\n",
    "                  float_format=\"{:.2f}\".format,))"
   ]
  }
 ],
 "metadata": {
  "kernelspec": {
   "display_name": "Python 3 (ipykernel)",
   "language": "python",
   "name": "python3"
  },
  "language_info": {
   "codemirror_mode": {
    "name": "ipython",
    "version": 3
   },
   "file_extension": ".py",
   "mimetype": "text/x-python",
   "name": "python",
   "nbconvert_exporter": "python",
   "pygments_lexer": "ipython3",
   "version": "3.9.17"
  }
 },
 "nbformat": 4,
 "nbformat_minor": 5
}
