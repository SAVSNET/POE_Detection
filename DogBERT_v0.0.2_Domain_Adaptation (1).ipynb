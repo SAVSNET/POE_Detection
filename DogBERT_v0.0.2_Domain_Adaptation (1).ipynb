{
 "cells": [
  {
   "cell_type": "code",
   "execution_count": 1,
   "id": "5da50166-cc73-4514-a34e-224304e3a141",
   "metadata": {},
   "outputs": [],
   "source": [
    "import pandas as pd\n",
    "import os\n",
    "from datetime import datetime\n",
    "from transformers import (BertTokenizer, BertConfig, BertForMaskedLM, TrainingArguments, Trainer, DataCollatorForLanguageModeling,\n",
    "                          EarlyStoppingCallback)\n",
    "from datasets import load_dataset\n",
    "import random\n",
    "import wandb\n",
    "import torch"
   ]
  },
  {
   "cell_type": "code",
   "execution_count": 3,
   "id": "a7402f3a-7df2-4f71-b769-15999aa3efb7",
   "metadata": {},
   "outputs": [
    {
     "name": "stdout",
     "output_type": "stream",
     "text": [
      "Requirement already satisfied: wandb in /usr/local/lib/python3.9/site-packages (0.17.4)\n",
      "Requirement already satisfied: click!=8.0.0,>=7.1 in /usr/local/lib/python3.9/site-packages (from wandb) (8.1.7)\n",
      "Requirement already satisfied: docker-pycreds>=0.4.0 in /usr/local/lib/python3.9/site-packages (from wandb) (0.4.0)\n",
      "Requirement already satisfied: gitpython!=3.1.29,>=1.0.0 in /usr/local/lib/python3.9/site-packages (from wandb) (3.1.43)\n",
      "Requirement already satisfied: platformdirs in /usr/local/lib/python3.9/site-packages (from wandb) (4.2.2)\n",
      "Requirement already satisfied: protobuf!=4.21.0,<6,>=3.15.0 in /usr/local/lib/python3.9/site-packages (from wandb) (5.27.2)\n",
      "Requirement already satisfied: psutil>=5.0.0 in /usr/local/lib/python3.9/site-packages (from wandb) (6.0.0)\n",
      "Requirement already satisfied: pyyaml in /usr/local/lib/python3.9/site-packages (from wandb) (6.0.1)\n",
      "Requirement already satisfied: requests<3,>=2.0.0 in /usr/local/lib/python3.9/site-packages (from wandb) (2.32.3)\n",
      "Requirement already satisfied: sentry-sdk>=1.0.0 in /usr/local/lib/python3.9/site-packages (from wandb) (2.8.0)\n",
      "Requirement already satisfied: setproctitle in /usr/local/lib/python3.9/site-packages (from wandb) (1.3.3)\n",
      "Requirement already satisfied: setuptools in /usr/local/lib/python3.9/site-packages (from wandb) (58.1.0)\n",
      "Requirement already satisfied: typing-extensions in /usr/local/lib/python3.9/site-packages (from wandb) (4.12.2)\n",
      "Requirement already satisfied: six>=1.4.0 in /usr/local/lib/python3.9/site-packages (from docker-pycreds>=0.4.0->wandb) (1.16.0)\n",
      "Requirement already satisfied: gitdb<5,>=4.0.1 in /usr/local/lib/python3.9/site-packages (from gitpython!=3.1.29,>=1.0.0->wandb) (4.0.11)\n",
      "Requirement already satisfied: charset-normalizer<4,>=2 in /usr/local/lib/python3.9/site-packages (from requests<3,>=2.0.0->wandb) (3.3.2)\n",
      "Requirement already satisfied: idna<4,>=2.5 in /usr/local/lib/python3.9/site-packages (from requests<3,>=2.0.0->wandb) (3.7)\n",
      "Requirement already satisfied: urllib3<3,>=1.21.1 in /usr/local/lib/python3.9/site-packages (from requests<3,>=2.0.0->wandb) (1.26.19)\n",
      "Requirement already satisfied: certifi>=2017.4.17 in /usr/local/lib/python3.9/site-packages (from requests<3,>=2.0.0->wandb) (2024.7.4)\n",
      "Requirement already satisfied: smmap<6,>=3.0.1 in /usr/local/lib/python3.9/site-packages (from gitdb<5,>=4.0.1->gitpython!=3.1.29,>=1.0.0->wandb) (5.0.1)\n",
      "\u001b[33mWARNING: Running pip as the 'root' user can result in broken permissions and conflicting behaviour with the system package manager, possibly rendering your system unusable.It is recommended to use a virtual environment instead: https://pip.pypa.io/warnings/venv. Use the --root-user-action option if you know what you are doing and want to suppress this warning.\u001b[0m\u001b[33m\n",
      "\u001b[0mNote: you may need to restart the kernel to use updated packages.\n"
     ]
    }
   ],
   "source": [
    "pip install wandb"
   ]
  },
  {
   "cell_type": "code",
   "execution_count": 5,
   "id": "05ba4750-5da8-403d-9948-bb33d1ddb337",
   "metadata": {},
   "outputs": [
    {
     "name": "stdout",
     "output_type": "stream",
     "text": [
      "2.2.2\n"
     ]
    }
   ],
   "source": [
    "print(pd.__version__)"
   ]
  },
  {
   "cell_type": "markdown",
   "id": "e1233afb-2bf4-424e-afe5-16e5ac74a1ca",
   "metadata": {},
   "source": [
    "## Load Data"
   ]
  },
  {
   "cell_type": "code",
   "execution_count": 2,
   "id": "72bbdab6-4c70-447c-a9b1-99ea59bcc5ab",
   "metadata": {},
   "outputs": [
    {
     "name": "stdout",
     "output_type": "stream",
     "text": [
      "/opt/jupyterlab/notebooks/DogBERT/Domain Adaptation\n"
     ]
    }
   ],
   "source": [
    "print(os.getcwd())"
   ]
  },
  {
   "cell_type": "code",
   "execution_count": 3,
   "id": "07d7d35c-8923-4c3b-981b-d4c7fe7a8c0f",
   "metadata": {},
   "outputs": [
    {
     "name": "stdout",
     "output_type": "stream",
     "text": [
      "/opt/jupyterlab/notebooks/savsnet_resources/pickles\n"
     ]
    }
   ],
   "source": [
    "# Navigate to pickles directory\n",
    "os.chdir('../../savsnet_resources/pickles')\n",
    "print(os.getcwd())"
   ]
  },
  {
   "cell_type": "code",
   "execution_count": 4,
   "id": "55a20446-0bb7-41ac-982d-0326702f1f44",
   "metadata": {},
   "outputs": [
    {
     "data": {
      "text/html": [
       "<div>\n",
       "<style scoped>\n",
       "    .dataframe tbody tr th:only-of-type {\n",
       "        vertical-align: middle;\n",
       "    }\n",
       "\n",
       "    .dataframe tbody tr th {\n",
       "        vertical-align: top;\n",
       "    }\n",
       "\n",
       "    .dataframe thead th {\n",
       "        text-align: right;\n",
       "    }\n",
       "</style>\n",
       "<table border=\"1\" class=\"dataframe\">\n",
       "  <thead>\n",
       "    <tr style=\"text-align: right;\">\n",
       "      <th></th>\n",
       "      <th>savsnet_consult_id</th>\n",
       "      <th>item_text</th>\n",
       "      <th>consult_record</th>\n",
       "      <th>pk</th>\n",
       "      <th>consult_record_date</th>\n",
       "      <th>species</th>\n",
       "      <th>breed</th>\n",
       "      <th>age_at_consult</th>\n",
       "      <th>gender</th>\n",
       "      <th>neutered</th>\n",
       "      <th>mpc</th>\n",
       "    </tr>\n",
       "  </thead>\n",
       "  <tbody>\n",
       "    <tr>\n",
       "      <th>0</th>\n",
       "      <td>71631</td>\n",
       "      <td>\"O worried that she has been limping on RH for...</td>\n",
       "      <td>230515</td>\n",
       "      <td>2040019</td>\n",
       "      <td>2014-06-10 14:10:05+00:00</td>\n",
       "      <td>dog</td>\n",
       "      <td>Crossbreed</td>\n",
       "      <td>10.35</td>\n",
       "      <td>female</td>\n",
       "      <td>no</td>\n",
       "      <td>trauma</td>\n",
       "    </tr>\n",
       "    <tr>\n",
       "      <th>1</th>\n",
       "      <td>71644</td>\n",
       "      <td>\"booster and ears. v reactive for exam, snarli...</td>\n",
       "      <td>230516</td>\n",
       "      <td>2040021</td>\n",
       "      <td>2014-06-10 14:14:03+00:00</td>\n",
       "      <td>dog</td>\n",
       "      <td>Heeler (generic)</td>\n",
       "      <td>6.31</td>\n",
       "      <td>male</td>\n",
       "      <td>no</td>\n",
       "      <td>vaccination</td>\n",
       "    </tr>\n",
       "    <tr>\n",
       "      <th>2</th>\n",
       "      <td>71660</td>\n",
       "      <td>\"o was stroking chest last night and felt bump...</td>\n",
       "      <td>230517</td>\n",
       "      <td>2040023</td>\n",
       "      <td>2014-06-10 14:18:51+00:00</td>\n",
       "      <td>dog</td>\n",
       "      <td>Jack Russell Terrier</td>\n",
       "      <td>3.45</td>\n",
       "      <td>male</td>\n",
       "      <td>no</td>\n",
       "      <td>other_healthy</td>\n",
       "    </tr>\n",
       "    <tr>\n",
       "      <th>3</th>\n",
       "      <td>71675</td>\n",
       "      <td>\"1st vacc. bar, biop two weeks, was puppy from...</td>\n",
       "      <td>230518</td>\n",
       "      <td>2040024</td>\n",
       "      <td>2014-06-10 14:25:12+00:00</td>\n",
       "      <td>dog</td>\n",
       "      <td>Crossbreed</td>\n",
       "      <td>0.17</td>\n",
       "      <td>male</td>\n",
       "      <td>no</td>\n",
       "      <td>vaccination</td>\n",
       "    </tr>\n",
       "    <tr>\n",
       "      <th>4</th>\n",
       "      <td>88118</td>\n",
       "      <td>\"2nd vacc. bar, doing well at home, nothing ab...</td>\n",
       "      <td>230519</td>\n",
       "      <td>2040025</td>\n",
       "      <td>2014-06-24 14:05:25+00:00</td>\n",
       "      <td>dog</td>\n",
       "      <td>Crossbreed</td>\n",
       "      <td>0.21</td>\n",
       "      <td>male</td>\n",
       "      <td>no</td>\n",
       "      <td>vaccination</td>\n",
       "    </tr>\n",
       "    <tr>\n",
       "      <th>...</th>\n",
       "      <td>...</td>\n",
       "      <td>...</td>\n",
       "      <td>...</td>\n",
       "      <td>...</td>\n",
       "      <td>...</td>\n",
       "      <td>...</td>\n",
       "      <td>...</td>\n",
       "      <td>...</td>\n",
       "      <td>...</td>\n",
       "      <td>...</td>\n",
       "      <td>...</td>\n",
       "    </tr>\n",
       "    <tr>\n",
       "      <th>6081341</th>\n",
       "      <td>11517687</td>\n",
       "      <td>CONSULT: HPC 6 month check up. Any concerns fr...</td>\n",
       "      <td>10142293</td>\n",
       "      <td>16553510</td>\n",
       "      <td>2024-01-30 12:01:22+00:00</td>\n",
       "      <td>dog</td>\n",
       "      <td>Crossbreed</td>\n",
       "      <td>1.80</td>\n",
       "      <td>male</td>\n",
       "      <td>yes</td>\n",
       "      <td>other_healthy</td>\n",
       "    </tr>\n",
       "    <tr>\n",
       "      <th>6081342</th>\n",
       "      <td>11516812</td>\n",
       "      <td>Euthanasia. Booked in for PTS. As soon as went...</td>\n",
       "      <td>10142295</td>\n",
       "      <td>16553511</td>\n",
       "      <td>2024-01-30 10:00:29+00:00</td>\n",
       "      <td>dog</td>\n",
       "      <td>Crossbreed</td>\n",
       "      <td>10.33</td>\n",
       "      <td>male</td>\n",
       "      <td>no</td>\n",
       "      <td>tumour</td>\n",
       "    </tr>\n",
       "    <tr>\n",
       "      <th>6081343</th>\n",
       "      <td>11516407</td>\n",
       "      <td>NO MURMUR HEARD TODAY.</td>\n",
       "      <td>10142292</td>\n",
       "      <td>16553513</td>\n",
       "      <td>2024-01-30 09:16:27+00:00</td>\n",
       "      <td>dog</td>\n",
       "      <td>Dachshund</td>\n",
       "      <td>0.97</td>\n",
       "      <td>female</td>\n",
       "      <td>no</td>\n",
       "      <td>other_healthy</td>\n",
       "    </tr>\n",
       "    <tr>\n",
       "      <th>6081344</th>\n",
       "      <td>11512021</td>\n",
       "      <td>Following todays examination: Milbemycin Oxime...</td>\n",
       "      <td>10135039</td>\n",
       "      <td>16553515</td>\n",
       "      <td>2024-01-27 15:25:42+00:00</td>\n",
       "      <td>dog</td>\n",
       "      <td>Spaniel (Cocker)</td>\n",
       "      <td>8.71</td>\n",
       "      <td>male</td>\n",
       "      <td>no</td>\n",
       "      <td>post_op</td>\n",
       "    </tr>\n",
       "    <tr>\n",
       "      <th>6081345</th>\n",
       "      <td>11518641</td>\n",
       "      <td>YDV Prescription info flea and worm treatment....</td>\n",
       "      <td>10142289</td>\n",
       "      <td>16553517</td>\n",
       "      <td>2024-01-30 15:32:09+00:00</td>\n",
       "      <td>dog</td>\n",
       "      <td>Crossbreed</td>\n",
       "      <td>4.24</td>\n",
       "      <td>female</td>\n",
       "      <td>no</td>\n",
       "      <td>other_healthy</td>\n",
       "    </tr>\n",
       "  </tbody>\n",
       "</table>\n",
       "<p>6081346 rows × 11 columns</p>\n",
       "</div>"
      ],
      "text/plain": [
       "         savsnet_consult_id  \\\n",
       "0                     71631   \n",
       "1                     71644   \n",
       "2                     71660   \n",
       "3                     71675   \n",
       "4                     88118   \n",
       "...                     ...   \n",
       "6081341            11517687   \n",
       "6081342            11516812   \n",
       "6081343            11516407   \n",
       "6081344            11512021   \n",
       "6081345            11518641   \n",
       "\n",
       "                                                 item_text  consult_record  \\\n",
       "0        \"O worried that she has been limping on RH for...          230515   \n",
       "1        \"booster and ears. v reactive for exam, snarli...          230516   \n",
       "2        \"o was stroking chest last night and felt bump...          230517   \n",
       "3        \"1st vacc. bar, biop two weeks, was puppy from...          230518   \n",
       "4        \"2nd vacc. bar, doing well at home, nothing ab...          230519   \n",
       "...                                                    ...             ...   \n",
       "6081341  CONSULT: HPC 6 month check up. Any concerns fr...        10142293   \n",
       "6081342  Euthanasia. Booked in for PTS. As soon as went...        10142295   \n",
       "6081343                             NO MURMUR HEARD TODAY.        10142292   \n",
       "6081344  Following todays examination: Milbemycin Oxime...        10135039   \n",
       "6081345  YDV Prescription info flea and worm treatment....        10142289   \n",
       "\n",
       "               pk       consult_record_date species                 breed  \\\n",
       "0         2040019 2014-06-10 14:10:05+00:00     dog            Crossbreed   \n",
       "1         2040021 2014-06-10 14:14:03+00:00     dog      Heeler (generic)   \n",
       "2         2040023 2014-06-10 14:18:51+00:00     dog  Jack Russell Terrier   \n",
       "3         2040024 2014-06-10 14:25:12+00:00     dog            Crossbreed   \n",
       "4         2040025 2014-06-24 14:05:25+00:00     dog            Crossbreed   \n",
       "...           ...                       ...     ...                   ...   \n",
       "6081341  16553510 2024-01-30 12:01:22+00:00     dog            Crossbreed   \n",
       "6081342  16553511 2024-01-30 10:00:29+00:00     dog            Crossbreed   \n",
       "6081343  16553513 2024-01-30 09:16:27+00:00     dog             Dachshund   \n",
       "6081344  16553515 2024-01-27 15:25:42+00:00     dog      Spaniel (Cocker)   \n",
       "6081345  16553517 2024-01-30 15:32:09+00:00     dog            Crossbreed   \n",
       "\n",
       "         age_at_consult  gender neutered            mpc  \n",
       "0                 10.35  female       no         trauma  \n",
       "1                  6.31    male       no    vaccination  \n",
       "2                  3.45    male       no  other_healthy  \n",
       "3                  0.17    male       no    vaccination  \n",
       "4                  0.21    male       no    vaccination  \n",
       "...                 ...     ...      ...            ...  \n",
       "6081341            1.80    male      yes  other_healthy  \n",
       "6081342           10.33    male       no         tumour  \n",
       "6081343            0.97  female       no  other_healthy  \n",
       "6081344            8.71    male       no        post_op  \n",
       "6081345            4.24  female       no  other_healthy  \n",
       "\n",
       "[6081346 rows x 11 columns]"
      ]
     },
     "execution_count": 4,
     "metadata": {},
     "output_type": "execute_result"
    }
   ],
   "source": [
    "# Load Narratives Dataframe\n",
    "df_narratives = pd.read_pickle('narrative_pickle.pkl.gz', compression='gzip').drop_duplicates(subset='savsnet_consult_id', keep='first')\n",
    "\n",
    "# Load Extras Dataframe\n",
    "df_extras = pd.read_pickle('extras_df.pkl.gz', compression='gzip').drop_duplicates(subset='savsnet_consult_id')[['savsnet_consult_id','species','breed', 'age_at_consult', 'gender', 'neutered', 'mpc']]\n",
    "\n",
    "#Filter for just dog records\n",
    "df_extras = df_extras[df_extras.species == 'dog']\n",
    "\n",
    "#Join data\n",
    "df_dataset = df_narratives.set_index('savsnet_consult_id').join(df_extras.set_index('savsnet_consult_id'), how='inner')\n",
    "\n",
    "df_dataset.reset_index()"
   ]
  },
  {
   "cell_type": "code",
   "execution_count": 10,
   "id": "10d4a22b-ee9a-4b88-80fb-366d1d6c9507",
   "metadata": {},
   "outputs": [
    {
     "name": "stdout",
     "output_type": "stream",
     "text": [
      "6081346\n"
     ]
    }
   ],
   "source": [
    "print(len(df_dataset['consult_record_date']))"
   ]
  },
  {
   "cell_type": "code",
   "execution_count": 7,
   "id": "a21af89a-e436-46a2-ba91-fe9c1a488dcd",
   "metadata": {},
   "outputs": [
    {
     "data": {
      "text/html": [
       "<div>\n",
       "<style scoped>\n",
       "    .dataframe tbody tr th:only-of-type {\n",
       "        vertical-align: middle;\n",
       "    }\n",
       "\n",
       "    .dataframe tbody tr th {\n",
       "        vertical-align: top;\n",
       "    }\n",
       "\n",
       "    .dataframe thead th {\n",
       "        text-align: right;\n",
       "    }\n",
       "</style>\n",
       "<table border=\"1\" class=\"dataframe\">\n",
       "  <thead>\n",
       "    <tr style=\"text-align: right;\">\n",
       "      <th></th>\n",
       "      <th>text</th>\n",
       "    </tr>\n",
       "  </thead>\n",
       "  <tbody>\n",
       "    <tr>\n",
       "      <th>0</th>\n",
       "      <td>O worried that she has been limping on RH for ...</td>\n",
       "    </tr>\n",
       "    <tr>\n",
       "      <th>1</th>\n",
       "      <td>booster and ears. v reactive for exam, snarlin...</td>\n",
       "    </tr>\n",
       "    <tr>\n",
       "      <th>2</th>\n",
       "      <td>o was stroking chest last night and felt bumps...</td>\n",
       "    </tr>\n",
       "    <tr>\n",
       "      <th>3</th>\n",
       "      <td>1st vacc. bar, biop two weeks, was puppy from ...</td>\n",
       "    </tr>\n",
       "    <tr>\n",
       "      <th>4</th>\n",
       "      <td>2nd vacc. bar, doing well at home, nothing abn...</td>\n",
       "    </tr>\n",
       "    <tr>\n",
       "      <th>...</th>\n",
       "      <td>...</td>\n",
       "    </tr>\n",
       "    <tr>\n",
       "      <th>5947245</th>\n",
       "      <td>CONSULT: HPC 6 month check up. Any concerns fr...</td>\n",
       "    </tr>\n",
       "    <tr>\n",
       "      <th>5947246</th>\n",
       "      <td>Euthanasia. Booked in for PTS. As soon as went...</td>\n",
       "    </tr>\n",
       "    <tr>\n",
       "      <th>5947247</th>\n",
       "      <td>NO MURMUR HEARD TODAY.</td>\n",
       "    </tr>\n",
       "    <tr>\n",
       "      <th>5947248</th>\n",
       "      <td>Following todays examination: Milbemycin Oxime...</td>\n",
       "    </tr>\n",
       "    <tr>\n",
       "      <th>5947249</th>\n",
       "      <td>YDV Prescription info flea and worm treatment....</td>\n",
       "    </tr>\n",
       "  </tbody>\n",
       "</table>\n",
       "<p>5947250 rows × 1 columns</p>\n",
       "</div>"
      ],
      "text/plain": [
       "                                                      text\n",
       "0        O worried that she has been limping on RH for ...\n",
       "1        booster and ears. v reactive for exam, snarlin...\n",
       "2        o was stroking chest last night and felt bumps...\n",
       "3        1st vacc. bar, biop two weeks, was puppy from ...\n",
       "4        2nd vacc. bar, doing well at home, nothing abn...\n",
       "...                                                    ...\n",
       "5947245  CONSULT: HPC 6 month check up. Any concerns fr...\n",
       "5947246  Euthanasia. Booked in for PTS. As soon as went...\n",
       "5947247                             NO MURMUR HEARD TODAY.\n",
       "5947248  Following todays examination: Milbemycin Oxime...\n",
       "5947249  YDV Prescription info flea and worm treatment....\n",
       "\n",
       "[5947250 rows x 1 columns]"
      ]
     },
     "execution_count": 7,
     "metadata": {},
     "output_type": "execute_result"
    }
   ],
   "source": [
    "# Get a list of all narratives and rename column to text\n",
    "texts = df_dataset['item_text'].tolist()\n",
    "\n",
    "# remove leading and trailing \"\" characters\n",
    "texts = [text.strip('\"') for text in texts]\n",
    "\n",
    "df = pd.DataFrame(texts, columns=['text'])\n",
    "df = df.dropna()\n",
    "df = df[df['text'] != \"\"]\n",
    "df.reset_index(drop=True)"
   ]
  },
  {
   "cell_type": "markdown",
   "id": "8db07125-b324-49c2-b8bf-b4227b84061f",
   "metadata": {},
   "source": [
    "## Randomly Select 3 million records"
   ]
  },
  {
   "cell_type": "code",
   "execution_count": 8,
   "id": "a30c9461-009c-40b8-bf59-f2819e9c8bf9",
   "metadata": {},
   "outputs": [
    {
     "name": "stdout",
     "output_type": "stream",
     "text": [
      "5947250\n"
     ]
    }
   ],
   "source": [
    "print(len(df))"
   ]
  },
  {
   "cell_type": "code",
   "execution_count": 9,
   "id": "b75349e6-ecd4-45ab-a413-c61cb101224d",
   "metadata": {},
   "outputs": [],
   "source": [
    "def random_non_repeating_integers(num_values, min_value=0, max_value=1):\n",
    "  \"\"\"Generates a list of `num_values` random integers between min_value (inclusive) and max_value (exclusive) without repetitions.\n",
    "\n",
    "  Args:\n",
    "      num_values: The number of random integers to generate.\n",
    "      min_value: The minimum value (inclusive) for the random integers. Defaults to 0.\n",
    "      max_value: The maximum value (exclusive) for the random integers. Defaults to 1.\n",
    "\n",
    "  Returns:\n",
    "      A list of `num_values` unique random integers.\n",
    "  \"\"\"\n",
    "\n",
    "  if num_values > max_value - min_value:\n",
    "    raise ValueError(\"Cannot generate more unique numbers than the range allows.\")\n",
    "\n",
    "  # Use a set to ensure no duplicates are added\n",
    "  values = set()\n",
    "  while len(values) < num_values:\n",
    "    values.add(random.randint(min_value, max_value - 1))\n",
    "\n",
    "  return list(values)"
   ]
  },
  {
   "cell_type": "code",
   "execution_count": 10,
   "id": "a914852e-a8ad-453f-8989-37e327060b14",
   "metadata": {},
   "outputs": [],
   "source": [
    "unique_numbers = random_non_repeating_integers(3000000, max_value=len(df))"
   ]
  },
  {
   "cell_type": "code",
   "execution_count": 11,
   "id": "5f83d5a8-8a43-4bab-895f-6ff523788e8d",
   "metadata": {},
   "outputs": [
    {
     "name": "stdout",
     "output_type": "stream",
     "text": [
      "3000000\n"
     ]
    }
   ],
   "source": [
    "print(len(unique_numbers))"
   ]
  },
  {
   "cell_type": "code",
   "execution_count": 12,
   "id": "a2d370bd-35bc-4d27-8b50-b4f98239a1dc",
   "metadata": {},
   "outputs": [],
   "source": [
    "df = df.iloc[unique_numbers]"
   ]
  },
  {
   "cell_type": "code",
   "execution_count": 13,
   "id": "fa7cf037-2622-4f07-bce2-6b626ba78c0d",
   "metadata": {},
   "outputs": [
    {
     "name": "stdout",
     "output_type": "stream",
     "text": [
      "3000000\n"
     ]
    }
   ],
   "source": [
    "print(len(df))"
   ]
  },
  {
   "cell_type": "code",
   "execution_count": 14,
   "id": "94b6c225-37ae-4a58-8e70-3608754d7739",
   "metadata": {},
   "outputs": [
    {
     "data": {
      "text/html": [
       "<div>\n",
       "<style scoped>\n",
       "    .dataframe tbody tr th:only-of-type {\n",
       "        vertical-align: middle;\n",
       "    }\n",
       "\n",
       "    .dataframe tbody tr th {\n",
       "        vertical-align: top;\n",
       "    }\n",
       "\n",
       "    .dataframe thead th {\n",
       "        text-align: right;\n",
       "    }\n",
       "</style>\n",
       "<table border=\"1\" class=\"dataframe\">\n",
       "  <thead>\n",
       "    <tr style=\"text-align: right;\">\n",
       "      <th></th>\n",
       "      <th>text</th>\n",
       "    </tr>\n",
       "  </thead>\n",
       "  <tbody>\n",
       "    <tr>\n",
       "      <th>0</th>\n",
       "      <td>O worried that she has been limping on RH for ...</td>\n",
       "    </tr>\n",
       "    <tr>\n",
       "      <th>1</th>\n",
       "      <td>o was stroking chest last night and felt bumps...</td>\n",
       "    </tr>\n",
       "    <tr>\n",
       "      <th>2</th>\n",
       "      <td>doing well at the moment, on hypoallergenic di...</td>\n",
       "    </tr>\n",
       "    <tr>\n",
       "      <th>3</th>\n",
       "      <td>had parvo vacc but not any others so start cou...</td>\n",
       "    </tr>\n",
       "    <tr>\n",
       "      <th>4</th>\n",
       "      <td>2nd vacc. bar, doing well at home, grown alot....</td>\n",
       "    </tr>\n",
       "    <tr>\n",
       "      <th>...</th>\n",
       "      <td>...</td>\n",
       "    </tr>\n",
       "    <tr>\n",
       "      <th>2999995</th>\n",
       "      <td>has v+ at least once today, was undigested foo...</td>\n",
       "    </tr>\n",
       "    <tr>\n",
       "      <th>2999996</th>\n",
       "      <td>Licking at lump on tail. HX - has had lump on ...</td>\n",
       "    </tr>\n",
       "    <tr>\n",
       "      <th>2999997</th>\n",
       "      <td>Some self trauma over night. has serum dischar...</td>\n",
       "    </tr>\n",
       "    <tr>\n",
       "      <th>2999998</th>\n",
       "      <td>NO MURMUR HEARD TODAY.</td>\n",
       "    </tr>\n",
       "    <tr>\n",
       "      <th>2999999</th>\n",
       "      <td>YDV Prescription info flea and worm treatment....</td>\n",
       "    </tr>\n",
       "  </tbody>\n",
       "</table>\n",
       "<p>3000000 rows × 1 columns</p>\n",
       "</div>"
      ],
      "text/plain": [
       "                                                      text\n",
       "0        O worried that she has been limping on RH for ...\n",
       "1        o was stroking chest last night and felt bumps...\n",
       "2        doing well at the moment, on hypoallergenic di...\n",
       "3        had parvo vacc but not any others so start cou...\n",
       "4        2nd vacc. bar, doing well at home, grown alot....\n",
       "...                                                    ...\n",
       "2999995  has v+ at least once today, was undigested foo...\n",
       "2999996  Licking at lump on tail. HX - has had lump on ...\n",
       "2999997  Some self trauma over night. has serum dischar...\n",
       "2999998                             NO MURMUR HEARD TODAY.\n",
       "2999999  YDV Prescription info flea and worm treatment....\n",
       "\n",
       "[3000000 rows x 1 columns]"
      ]
     },
     "execution_count": 14,
     "metadata": {},
     "output_type": "execute_result"
    }
   ],
   "source": [
    "df.reset_index(drop=True)"
   ]
  },
  {
   "cell_type": "code",
   "execution_count": 15,
   "id": "f34522d3-7ad2-4a77-8b8a-8a684c9d1247",
   "metadata": {},
   "outputs": [],
   "source": [
    "df_train = df.sample(n=int(len(df)*0.8))"
   ]
  },
  {
   "cell_type": "code",
   "execution_count": 16,
   "id": "7a1f8718-46d9-4956-845a-1577b9300770",
   "metadata": {},
   "outputs": [],
   "source": [
    "# Get all indices but exclude those in the sample\n",
    "unsampled_indices = df.index.difference(df_train.index)\n",
    "\n",
    "# Create a DataFrame of unsampled rows\n",
    "df_test = df.loc[unsampled_indices]"
   ]
  },
  {
   "cell_type": "code",
   "execution_count": 17,
   "id": "35e959ec-73b3-489c-aff5-c3370b7b5bb2",
   "metadata": {},
   "outputs": [
    {
     "name": "stdout",
     "output_type": "stream",
     "text": [
      "2400000\n"
     ]
    }
   ],
   "source": [
    "print(len(df_train))"
   ]
  },
  {
   "cell_type": "code",
   "execution_count": 18,
   "id": "ef9a00e9-c115-48b8-8a2e-373c59bb5bb1",
   "metadata": {},
   "outputs": [
    {
     "name": "stdout",
     "output_type": "stream",
     "text": [
      "                                                 text\n",
      "9   2nd vacc. bar, doing well at home, grown alot....\n",
      "17  booster. nothing abnormal detected health chec...\n",
      "34  arched abdomen lots excess borgorygmi has gone...\n",
      "72  in for booster but O worried about eyes. L&gt;...\n",
      "83               <<identifier>> microchip dogs trust.\n"
     ]
    }
   ],
   "source": [
    "print(df_test.head())"
   ]
  },
  {
   "cell_type": "code",
   "execution_count": 19,
   "id": "01b62fff-388c-41bd-92b3-f77f108eb191",
   "metadata": {},
   "outputs": [
    {
     "name": "stdout",
     "output_type": "stream",
     "text": [
      "/opt/jupyterlab/notebooks/savsnet_resources/pickles\n"
     ]
    }
   ],
   "source": [
    "print(os.getcwd())"
   ]
  },
  {
   "cell_type": "code",
   "execution_count": 20,
   "id": "e62a4570-db7d-4ecf-ae24-1bcc3f0a2fb0",
   "metadata": {},
   "outputs": [],
   "source": [
    "os.chdir('../../DogBERT/Domain Adaptation')"
   ]
  },
  {
   "cell_type": "code",
   "execution_count": 21,
   "id": "cb1a3d44-9034-4592-aa42-6f7c6c97fe4e",
   "metadata": {},
   "outputs": [],
   "source": [
    "df_train.to_csv('train.csv', index=False)\n",
    "df_test.to_csv('test.csv', index=False)"
   ]
  },
  {
   "cell_type": "markdown",
   "id": "2a00bae8-db25-4d5c-8197-1d59919cae90",
   "metadata": {},
   "source": [
    "## Create Dataset"
   ]
  },
  {
   "cell_type": "code",
   "execution_count": 4,
   "id": "0cc818a0-eb6d-4bc3-8045-a11a6e053786",
   "metadata": {},
   "outputs": [],
   "source": [
    "datasets = load_dataset(\"csv\", data_files={'train': \"train.csv\",\n",
    "                                              'eval': \"test.csv\"})"
   ]
  },
  {
   "cell_type": "markdown",
   "id": "2839fce5-4b2c-43d6-bb09-aab395b07608",
   "metadata": {},
   "source": [
    "## Prepare for Training"
   ]
  },
  {
   "cell_type": "code",
   "execution_count": 9,
   "id": "3b3f175c-889b-4b22-9eb8-3e5a824b0ae6",
   "metadata": {},
   "outputs": [
    {
     "data": {
      "application/vnd.jupyter.widget-view+json": {
       "model_id": "3c17ea7822cf4c2692a60c07b5e4d604",
       "version_major": 2,
       "version_minor": 0
      },
      "text/plain": [
       "tokenizer_config.json:   0%|          | 0.00/48.0 [00:00<?, ?B/s]"
      ]
     },
     "metadata": {},
     "output_type": "display_data"
    },
    {
     "data": {
      "application/vnd.jupyter.widget-view+json": {
       "model_id": "a6e5539debf24d62a13ec07fd02bcdb4",
       "version_major": 2,
       "version_minor": 0
      },
      "text/plain": [
       "vocab.txt:   0%|          | 0.00/232k [00:00<?, ?B/s]"
      ]
     },
     "metadata": {},
     "output_type": "display_data"
    },
    {
     "data": {
      "application/vnd.jupyter.widget-view+json": {
       "model_id": "1b871ca967d543e5b612217f8d08fd94",
       "version_major": 2,
       "version_minor": 0
      },
      "text/plain": [
       "tokenizer.json:   0%|          | 0.00/466k [00:00<?, ?B/s]"
      ]
     },
     "metadata": {},
     "output_type": "display_data"
    },
    {
     "data": {
      "application/vnd.jupyter.widget-view+json": {
       "model_id": "3ffee91e411246dcbcdc6f8871cb64b5",
       "version_major": 2,
       "version_minor": 0
      },
      "text/plain": [
       "config.json:   0%|          | 0.00/570 [00:00<?, ?B/s]"
      ]
     },
     "metadata": {},
     "output_type": "display_data"
    },
    {
     "data": {
      "application/vnd.jupyter.widget-view+json": {
       "model_id": "6167ab5a634347b193d49af15a19419c",
       "version_major": 2,
       "version_minor": 0
      },
      "text/plain": [
       "model.safetensors:   0%|          | 0.00/440M [00:00<?, ?B/s]"
      ]
     },
     "metadata": {},
     "output_type": "display_data"
    },
    {
     "name": "stderr",
     "output_type": "stream",
     "text": [
      "Some weights of the model checkpoint at bert-base-uncased were not used when initializing BertForMaskedLM: ['bert.pooler.dense.bias', 'bert.pooler.dense.weight', 'cls.seq_relationship.bias', 'cls.seq_relationship.weight']\n",
      "- This IS expected if you are initializing BertForMaskedLM from the checkpoint of a model trained on another task or with another architecture (e.g. initializing a BertForSequenceClassification model from a BertForPreTraining model).\n",
      "- This IS NOT expected if you are initializing BertForMaskedLM from the checkpoint of a model that you expect to be exactly identical (initializing a BertForSequenceClassification model from a BertForSequenceClassification model).\n"
     ]
    },
    {
     "ename": "NameError",
     "evalue": "name 'datasets' is not defined",
     "output_type": "error",
     "traceback": [
      "\u001b[0;31m---------------------------------------------------------------------------\u001b[0m",
      "\u001b[0;31mNameError\u001b[0m                                 Traceback (most recent call last)",
      "Cell \u001b[0;32mIn[9], line 15\u001b[0m\n\u001b[1;32m     12\u001b[0m     tokenized_batch \u001b[38;5;241m=\u001b[39m tokenizer(batch[\u001b[38;5;124m\"\u001b[39m\u001b[38;5;124mtext\u001b[39m\u001b[38;5;124m\"\u001b[39m], truncation\u001b[38;5;241m=\u001b[39m\u001b[38;5;28;01mTrue\u001b[39;00m, max_length\u001b[38;5;241m=\u001b[39m\u001b[38;5;241m512\u001b[39m)\n\u001b[1;32m     13\u001b[0m     \u001b[38;5;28;01mreturn\u001b[39;00m tokenized_batch\n\u001b[0;32m---> 15\u001b[0m tokenized_datasets \u001b[38;5;241m=\u001b[39m \u001b[43mdatasets\u001b[49m\u001b[38;5;241m.\u001b[39mmap(tokenize_function, batched\u001b[38;5;241m=\u001b[39m\u001b[38;5;28;01mTrue\u001b[39;00m, remove_columns\u001b[38;5;241m=\u001b[39m[\u001b[38;5;124m\"\u001b[39m\u001b[38;5;124mtext\u001b[39m\u001b[38;5;124m\"\u001b[39m], num_proc\u001b[38;5;241m=\u001b[39m\u001b[38;5;241m16\u001b[39m)\n\u001b[1;32m     17\u001b[0m data_collator \u001b[38;5;241m=\u001b[39m DataCollatorForLanguageModeling(tokenizer, mlm_probability\u001b[38;5;241m=\u001b[39m\u001b[38;5;241m0.15\u001b[39m)\n",
      "\u001b[0;31mNameError\u001b[0m: name 'datasets' is not defined"
     ]
    }
   ],
   "source": [
    "#train test split\n",
    "tokenizer = BertTokenizer.from_pretrained('bert-base-uncased', use_fast=True)\n",
    "\n",
    "model = BertForMaskedLM.from_pretrained('bert-base-uncased')\n",
    "\n",
    "config = BertConfig.from_pretrained(\"bert-base-uncased\")\n",
    "\n",
    "early_stopping_callback = EarlyStoppingCallback(early_stopping_patience=3)\n",
    "\n",
    "# Create tokenizer\n",
    "def tokenize_function(batch):\n",
    "    tokenized_batch = tokenizer(batch[\"text\"], truncation=True, max_length=512)\n",
    "    return tokenized_batch\n",
    "\n",
    "tokenized_datasets = datasets.map(tokenize_function, batched=True, remove_columns=[\"text\"], num_proc=16)\n",
    "\n",
    "data_collator = DataCollatorForLanguageModeling(tokenizer, mlm_probability=0.15)"
   ]
  },
  {
   "cell_type": "code",
   "execution_count": 6,
   "id": "207f02f7-4a3c-44e9-acc6-9183a2283b18",
   "metadata": {},
   "outputs": [],
   "source": [
    "# Setup weights and biases stuff\n",
    "os.environ[\"WANDB_PROJECT\"]=\"DogBERT\"\n",
    "os.environ[\"WANDB_LOG_MODEL\"] = \"checkpoint\"  # log all model checkpoints"
   ]
  },
  {
   "cell_type": "code",
   "execution_count": 6,
   "id": "0407f014-91c1-4186-aedd-bd663f773487",
   "metadata": {},
   "outputs": [],
   "source": [
    "import accelerate"
   ]
  },
  {
   "cell_type": "code",
   "execution_count": 7,
   "id": "abe0db58-1722-4466-bcb1-23533d4560c7",
   "metadata": {},
   "outputs": [],
   "source": [
    "device = torch.device(\"cuda\") if torch.cuda.is_available() else torch.device(\"cpu\")\n",
    "model = model.to(device)"
   ]
  },
  {
   "cell_type": "code",
   "execution_count": 8,
   "id": "a4d96060-3b41-434f-af04-290a44c3ff02",
   "metadata": {},
   "outputs": [
    {
     "name": "stderr",
     "output_type": "stream",
     "text": [
      "/usr/local/lib/python3.9/site-packages/transformers/training_args.py:1494: FutureWarning: `evaluation_strategy` is deprecated and will be removed in version 4.46 of 🤗 Transformers. Use `eval_strategy` instead\n",
      "  warnings.warn(\n"
     ]
    }
   ],
   "source": [
    "# Do training\n",
    "train_args = TrainingArguments(\n",
    "    per_device_train_batch_size=16,\n",
    "    per_device_eval_batch_size=16,\n",
    "    fp16 = True,\n",
    "    num_train_epochs=100,\n",
    "    weight_decay=0.01,\n",
    "    learning_rate=2e-5,\n",
    "    save_strategy='epoch',\n",
    "    evaluation_strategy='epoch',\n",
    "    output_dir= \"DogBERT v0.0.2\",\n",
    "    load_best_model_at_end=True,\n",
    "    report_to=\"wandb\",\n",
    "    run_name=\"DogBERT_pretrain_3m\",\n",
    "    save_total_limit=3\n",
    ")"
   ]
  },
  {
   "cell_type": "code",
   "execution_count": 9,
   "id": "c9216bc4-a15b-411a-8c1a-4d65ec045c10",
   "metadata": {},
   "outputs": [],
   "source": [
    "trainer = Trainer(\n",
    "    model=model,\n",
    "    args=train_args,\n",
    "    train_dataset=tokenized_datasets[\"train\"],\n",
    "    eval_dataset=tokenized_datasets[\"eval\"],\n",
    "    data_collator=data_collator,\n",
    "    callbacks=[early_stopping_callback]\n",
    ")"
   ]
  },
  {
   "cell_type": "code",
   "execution_count": 14,
   "id": "b47a94cd-7c1d-4e0e-af1e-a8d534696b6c",
   "metadata": {},
   "outputs": [
    {
     "name": "stdout",
     "output_type": "stream",
     "text": [
      "Requirement already satisfied: wandb in /usr/local/lib/python3.9/site-packages (0.17.4)\n",
      "Requirement already satisfied: click!=8.0.0,>=7.1 in /usr/local/lib/python3.9/site-packages (from wandb) (8.1.7)\n",
      "Requirement already satisfied: docker-pycreds>=0.4.0 in /usr/local/lib/python3.9/site-packages (from wandb) (0.4.0)\n",
      "Requirement already satisfied: gitpython!=3.1.29,>=1.0.0 in /usr/local/lib/python3.9/site-packages (from wandb) (3.1.43)\n",
      "Requirement already satisfied: platformdirs in /usr/local/lib/python3.9/site-packages (from wandb) (4.2.2)\n",
      "Requirement already satisfied: protobuf!=4.21.0,<6,>=3.15.0 in /usr/local/lib/python3.9/site-packages (from wandb) (5.27.2)\n",
      "Requirement already satisfied: psutil>=5.0.0 in /usr/local/lib/python3.9/site-packages (from wandb) (6.0.0)\n",
      "Requirement already satisfied: pyyaml in /usr/local/lib/python3.9/site-packages (from wandb) (6.0.1)\n",
      "Requirement already satisfied: requests<3,>=2.0.0 in /usr/local/lib/python3.9/site-packages (from wandb) (2.32.3)\n",
      "Requirement already satisfied: sentry-sdk>=1.0.0 in /usr/local/lib/python3.9/site-packages (from wandb) (2.8.0)\n",
      "Requirement already satisfied: setproctitle in /usr/local/lib/python3.9/site-packages (from wandb) (1.3.3)\n",
      "Requirement already satisfied: setuptools in /usr/local/lib/python3.9/site-packages (from wandb) (58.1.0)\n",
      "Requirement already satisfied: typing-extensions in /usr/local/lib/python3.9/site-packages (from wandb) (4.12.2)\n",
      "Requirement already satisfied: six>=1.4.0 in /usr/local/lib/python3.9/site-packages (from docker-pycreds>=0.4.0->wandb) (1.16.0)\n",
      "Requirement already satisfied: gitdb<5,>=4.0.1 in /usr/local/lib/python3.9/site-packages (from gitpython!=3.1.29,>=1.0.0->wandb) (4.0.11)\n",
      "Requirement already satisfied: charset-normalizer<4,>=2 in /usr/local/lib/python3.9/site-packages (from requests<3,>=2.0.0->wandb) (3.3.2)\n",
      "Requirement already satisfied: idna<4,>=2.5 in /usr/local/lib/python3.9/site-packages (from requests<3,>=2.0.0->wandb) (3.7)\n",
      "Requirement already satisfied: urllib3<3,>=1.21.1 in /usr/local/lib/python3.9/site-packages (from requests<3,>=2.0.0->wandb) (1.26.19)\n",
      "Requirement already satisfied: certifi>=2017.4.17 in /usr/local/lib/python3.9/site-packages (from requests<3,>=2.0.0->wandb) (2024.7.4)\n",
      "Requirement already satisfied: smmap<6,>=3.0.1 in /usr/local/lib/python3.9/site-packages (from gitdb<5,>=4.0.1->gitpython!=3.1.29,>=1.0.0->wandb) (5.0.1)\n",
      "\u001b[33mWARNING: Running pip as the 'root' user can result in broken permissions and conflicting behaviour with the system package manager, possibly rendering your system unusable.It is recommended to use a virtual environment instead: https://pip.pypa.io/warnings/venv. Use the --root-user-action option if you know what you are doing and want to suppress this warning.\u001b[0m\u001b[33m\n",
      "\u001b[0mNote: you may need to restart the kernel to use updated packages.\n"
     ]
    }
   ],
   "source": [
    "pip install wandb"
   ]
  },
  {
   "cell_type": "code",
   "execution_count": null,
   "id": "a9ea83f4-865c-4e8c-8974-c6103275e466",
   "metadata": {},
   "outputs": [
    {
     "name": "stderr",
     "output_type": "stream",
     "text": [
      "Failed to detect the name of this notebook, you can set it manually with the WANDB_NOTEBOOK_NAME environment variable to enable code saving.\n",
      "\u001b[34m\u001b[1mwandb\u001b[0m: Logging into wandb.ai. (Learn how to deploy a W&B server locally: https://wandb.me/wandb-server)\n",
      "\u001b[34m\u001b[1mwandb\u001b[0m: You can find your API key in your browser here: https://wandb.ai/authorize\n",
      "\u001b[34m\u001b[1mwandb\u001b[0m: Paste an API key from your profile and hit enter, or press ctrl+c to quit:"
     ]
    },
    {
     "name": "stdin",
     "output_type": "stream",
     "text": [
      "  ········\n"
     ]
    },
    {
     "name": "stderr",
     "output_type": "stream",
     "text": [
      "\u001b[34m\u001b[1mwandb\u001b[0m: Appending key for api.wandb.ai to your netrc file: /root/.netrc\n"
     ]
    },
    {
     "data": {
      "text/html": [
       "Tracking run with wandb version 0.17.4"
      ],
      "text/plain": [
       "<IPython.core.display.HTML object>"
      ]
     },
     "metadata": {},
     "output_type": "display_data"
    },
    {
     "data": {
      "text/html": [
       "Run data is saved locally in <code>/opt/jupyterlab/notebooks/DogBERT/Domain Adaptation/wandb/run-20240709_193252-z1mhgjzp</code>"
      ],
      "text/plain": [
       "<IPython.core.display.HTML object>"
      ]
     },
     "metadata": {},
     "output_type": "display_data"
    },
    {
     "data": {
      "text/html": [
       "Syncing run <strong><a href='https://wandb.ai/aw-livuni/DogBERT/runs/z1mhgjzp' target=\"_blank\">DogBERT_pretrain_3m</a></strong> to <a href='https://wandb.ai/aw-livuni/DogBERT' target=\"_blank\">Weights & Biases</a> (<a href='https://wandb.me/run' target=\"_blank\">docs</a>)<br/>"
      ],
      "text/plain": [
       "<IPython.core.display.HTML object>"
      ]
     },
     "metadata": {},
     "output_type": "display_data"
    },
    {
     "data": {
      "text/html": [
       " View project at <a href='https://wandb.ai/aw-livuni/DogBERT' target=\"_blank\">https://wandb.ai/aw-livuni/DogBERT</a>"
      ],
      "text/plain": [
       "<IPython.core.display.HTML object>"
      ]
     },
     "metadata": {},
     "output_type": "display_data"
    },
    {
     "data": {
      "text/html": [
       " View run at <a href='https://wandb.ai/aw-livuni/DogBERT/runs/z1mhgjzp' target=\"_blank\">https://wandb.ai/aw-livuni/DogBERT/runs/z1mhgjzp</a>"
      ],
      "text/plain": [
       "<IPython.core.display.HTML object>"
      ]
     },
     "metadata": {},
     "output_type": "display_data"
    },
    {
     "name": "stderr",
     "output_type": "stream",
     "text": [
      "/usr/local/lib/python3.9/site-packages/torch/nn/parallel/_functions.py:68: UserWarning: Was asked to gather along dimension 0, but all input tensors were scalars; will instead unsqueeze and return a vector.\n",
      "  warnings.warn('Was asked to gather along dimension 0, but all '\n"
     ]
    },
    {
     "data": {
      "text/html": [
       "\n",
       "    <div>\n",
       "      \n",
       "      <progress value='6676' max='7500000' style='width:300px; height:20px; vertical-align: middle;'></progress>\n",
       "      [   6676/7500000 40:16 < 753:34:12, 2.76 it/s, Epoch 0.09/100]\n",
       "    </div>\n",
       "    <table border=\"1\" class=\"dataframe\">\n",
       "  <thead>\n",
       " <tr style=\"text-align: left;\">\n",
       "      <th>Epoch</th>\n",
       "      <th>Training Loss</th>\n",
       "      <th>Validation Loss</th>\n",
       "    </tr>\n",
       "  </thead>\n",
       "  <tbody>\n",
       "  </tbody>\n",
       "</table><p>"
      ],
      "text/plain": [
       "<IPython.core.display.HTML object>"
      ]
     },
     "metadata": {},
     "output_type": "display_data"
    }
   ],
   "source": [
    "trainer.train()\n",
    "trainer.save_model()"
   ]
  },
  {
   "cell_type": "code",
   "execution_count": null,
   "id": "521b35b4-c58b-443f-b1fd-410ee4888c7f",
   "metadata": {
    "scrolled": true
   },
   "outputs": [],
   "source": [
    "!nvidia-smi"
   ]
  },
  {
   "cell_type": "code",
   "execution_count": 3,
   "id": "3edc6de9-0aaa-429d-b03a-5a7eff36818b",
   "metadata": {},
   "outputs": [
    {
     "data": {
      "text/plain": [
       "'12.1'"
      ]
     },
     "execution_count": 3,
     "metadata": {},
     "output_type": "execute_result"
    }
   ],
   "source": [
    "torch.version.cuda"
   ]
  },
  {
   "cell_type": "code",
   "execution_count": 11,
   "id": "19ebd1db-b79b-4f64-95de-31f36ab9c3b5",
   "metadata": {},
   "outputs": [],
   "source": [
    "from numba import cuda"
   ]
  },
  {
   "cell_type": "code",
   "execution_count": 13,
   "id": "29975599-a8a0-45b5-9396-453f86e17e71",
   "metadata": {},
   "outputs": [
    {
     "data": {
      "text/plain": [
       "33"
      ]
     },
     "execution_count": 13,
     "metadata": {},
     "output_type": "execute_result"
    }
   ],
   "source": [
    "import gc\n",
    "torch.cuda.empty_cache()\n",
    "gc.collect()"
   ]
  },
  {
   "cell_type": "code",
   "execution_count": 16,
   "id": "f4c88d8f-58d5-4f69-8558-4eff7699fe09",
   "metadata": {},
   "outputs": [
    {
     "data": {
      "text/plain": [
       "0"
      ]
     },
     "execution_count": 16,
     "metadata": {},
     "output_type": "execute_result"
    }
   ],
   "source": [
    "torch.cuda.empty_cache()\n",
    "gc.collect()"
   ]
  },
  {
   "cell_type": "code",
   "execution_count": 17,
   "id": "532325a6-5f6c-4f35-a6c3-8b208afe0077",
   "metadata": {},
   "outputs": [
    {
     "data": {
      "text/plain": [
       "0"
      ]
     },
     "execution_count": 17,
     "metadata": {},
     "output_type": "execute_result"
    }
   ],
   "source": [
    "model = None\n",
    "gc.collect()"
   ]
  }
 ],
 "metadata": {
  "kernelspec": {
   "display_name": "Python 3 (ipykernel)",
   "language": "python",
   "name": "python3"
  },
  "language_info": {
   "codemirror_mode": {
    "name": "ipython",
    "version": 3
   },
   "file_extension": ".py",
   "mimetype": "text/x-python",
   "name": "python",
   "nbconvert_exporter": "python",
   "pygments_lexer": "ipython3",
   "version": "3.9.17"
  }
 },
 "nbformat": 4,
 "nbformat_minor": 5
}
