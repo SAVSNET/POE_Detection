{
 "cells": [
  {
   "cell_type": "markdown",
   "id": "46d3d56d-da46-4947-acc3-abb53fe9e7ee",
   "metadata": {},
   "source": [
    "## Imports"
   ]
  },
  {
   "cell_type": "code",
   "execution_count": 1,
   "id": "39411539-1516-4ebc-8824-c6fed233724d",
   "metadata": {},
   "outputs": [],
   "source": [
    "import pandas as pd\n",
    "from transformers import AutoTokenizer, DataCollatorWithPadding, AutoModelForSequenceClassification, TrainingArguments, Trainer, EarlyStoppingCallback\n",
    "from datasets import load_dataset, load_metric\n",
    "import datetime\n",
    "import os\n",
    "import time\n",
    "import numpy as np\n",
    "import evaluate\n",
    "import accelerate\n",
    "import torch"
   ]
  },
  {
   "cell_type": "markdown",
   "id": "c92864f7-43ba-417b-bad7-de59ea85883a",
   "metadata": {},
   "source": [
    "## Read In Records"
   ]
  },
  {
   "cell_type": "code",
   "execution_count": 2,
   "id": "cafa02f4-9434-48a0-85f1-106df73850d0",
   "metadata": {},
   "outputs": [],
   "source": [
    "df = pd.read_csv('best_models_test.csv', index_col=False)"
   ]
  },
  {
   "cell_type": "code",
   "execution_count": 3,
   "id": "ebad95dd-c789-415c-b38f-88c567f276f8",
   "metadata": {},
   "outputs": [
    {
     "name": "stdout",
     "output_type": "stream",
     "text": [
      "   savsnet_consult_id                                          item_text  \\\n",
      "0             7334512  Bilateral otitis - Ring 1st Mobile number with...   \n",
      "1             6105807  <<name>> has been shaking his head for the las...   \n",
      "2             4794769  \"Booster L4. Declined KC. Muzzled for exam. V ...   \n",
      "3             4808820  \"Treated for bilateral otitis externa- right e...   \n",
      "4             8437569  left ear severe otitis-yellow discharge, smell...   \n",
      "\n",
      "   Binary Class  Multi Class  \n",
      "0             1            0  \n",
      "1             0            1  \n",
      "2             0            1  \n",
      "3             0            1  \n",
      "4             0            1  \n"
     ]
    }
   ],
   "source": [
    "print(df.head())"
   ]
  },
  {
   "cell_type": "code",
   "execution_count": 5,
   "id": "eb1ce095-0df1-4ecc-ac99-57f49c0c94a9",
   "metadata": {},
   "outputs": [],
   "source": [
    "# Drop previous classifications\n",
    "df = df.drop(columns=df.iloc[:, 4:], axis=1)"
   ]
  },
  {
   "cell_type": "code",
   "execution_count": 4,
   "id": "1eeba737-6381-4036-ba65-fa602979ee34",
   "metadata": {},
   "outputs": [
    {
     "name": "stdout",
     "output_type": "stream",
     "text": [
      "   savsnet_consult_id                                          item_text  \\\n",
      "0             7334512  Bilateral otitis - Ring 1st Mobile number with...   \n",
      "1             6105807  <<name>> has been shaking his head for the las...   \n",
      "2             4794769  \"Booster L4. Declined KC. Muzzled for exam. V ...   \n",
      "3             4808820  \"Treated for bilateral otitis externa- right e...   \n",
      "4             8437569  left ear severe otitis-yellow discharge, smell...   \n",
      "\n",
      "   Binary Class  Multi Class  \n",
      "0             1            0  \n",
      "1             0            1  \n",
      "2             0            1  \n",
      "3             0            1  \n",
      "4             0            1  \n"
     ]
    }
   ],
   "source": [
    "print(df.head())"
   ]
  },
  {
   "cell_type": "code",
   "execution_count": 5,
   "id": "6aff78ac-ec32-4da9-8ccf-75aabb277865",
   "metadata": {},
   "outputs": [],
   "source": [
    "df.to_csv('best_models_test.csv', index=False)"
   ]
  },
  {
   "cell_type": "markdown",
   "id": "30674aed-6d0e-4f80-b369-3133e868eef6",
   "metadata": {},
   "source": [
    "## Perform Inference"
   ]
  },
  {
   "cell_type": "code",
   "execution_count": 6,
   "id": "46a06410-04c4-49cf-ab07-9adf606d6478",
   "metadata": {},
   "outputs": [],
   "source": [
    "binary_balanced_classifier_path = '/opt/jupyterlab/notebooks/DogBERT/Classifiers/Pseudomonas_Otitis/Binary_Classifier/Balanced_Binary_Classifier/DogBERT_psoe_Classifier'\n",
    "binary_unbalanced_classifier_path = '/opt/jupyterlab/notebooks/DogBERT/Classifiers/Pseudomonas_Otitis/Binary_Classifier/Binary_Weighted_Loss/DogBERT_PSOE_Binary_Classifier_Filtered_Unweighted'\n",
    "mc_unbalanced_classifier = '/opt/jupyterlab/notebooks/DogBERT/Classifiers/Pseudomonas_Otitis/Multi_Class Classifier/Weighted Loss/DogBERT_PSOE_Multi_Class_Classifier_Weighted'"
   ]
  },
  {
   "cell_type": "code",
   "execution_count": 7,
   "id": "6646ffb5-3a86-4808-8bfc-c5e4d51286f0",
   "metadata": {},
   "outputs": [],
   "source": [
    "def predict_sentiment(text):\n",
    "  inputs = tokenizer(text, padding=\"max_length\", truncation=True, return_tensors=\"pt\")\n",
    "  outputs = model(**inputs)\n",
    "  predictions = torch.nn.functional.softmax(outputs.logits, dim=-1)\n",
    "  predicted_class = torch.argmax(predictions).item()\n",
    "  confidence_score = predictions.squeeze()[predicted_class].item()\n",
    "  return predicted_class, confidence_score"
   ]
  },
  {
   "cell_type": "code",
   "execution_count": 8,
   "id": "b66e67bc-065f-4eab-a5f2-0e04bbda208a",
   "metadata": {},
   "outputs": [],
   "source": [
    "tokenizer = AutoTokenizer.from_pretrained(binary_balanced_classifier_path)\n",
    "model = AutoModelForSequenceClassification.from_pretrained(binary_balanced_classifier_path)\n",
    "\n",
    "# Assuming your dataframe is called 'df' and the text column is 'text'\n",
    "df[\"DogBERT_balanced_binary_predicted_pseudomonas_otitis\"], df[\"DogBERT_balanced_binary_confidence_score\"] = zip(*df[\"item_text\"].apply(predict_sentiment))"
   ]
  },
  {
   "cell_type": "code",
   "execution_count": 9,
   "id": "e703eaf7-ceb8-44a8-b8b7-2651e0850900",
   "metadata": {},
   "outputs": [],
   "source": [
    "tokenizer = AutoTokenizer.from_pretrained(binary_unbalanced_classifier_path)\n",
    "model = AutoModelForSequenceClassification.from_pretrained(binary_unbalanced_classifier_path)\n",
    "\n",
    "# Assuming your dataframe is called 'df' and the text column is 'text'\n",
    "df[\"DogBERT_unbalanced_binary_predicted_pseudomonas_otitis\"], df[\"DogBERT_unbalanced_binary_confidence_score\"] = zip(*df[\"item_text\"].apply(predict_sentiment))"
   ]
  },
  {
   "cell_type": "code",
   "execution_count": 10,
   "id": "f800ee2a-35f9-492e-8713-43fb6c9d0c0e",
   "metadata": {},
   "outputs": [],
   "source": [
    "tokenizer = AutoTokenizer.from_pretrained(mc_unbalanced_classifier)\n",
    "model = AutoModelForSequenceClassification.from_pretrained(mc_unbalanced_classifier)\n",
    "\n",
    "# Assuming your dataframe is called 'df' and the text column is 'text'\n",
    "df[\"DogBERT_unbalanced_multiclass_predicted_pseudomonas_otitis\"], df[\"DogBERT_unbalanced_multiclass_confidence_score\"] = zip(*df[\"item_text\"].apply(predict_sentiment))"
   ]
  },
  {
   "cell_type": "code",
   "execution_count": 11,
   "id": "60c81346-18b3-4046-af31-f88d3a7ef4cc",
   "metadata": {},
   "outputs": [
    {
     "name": "stdout",
     "output_type": "stream",
     "text": [
      "   savsnet_consult_id                                          item_text  \\\n",
      "0             7334512  Bilateral otitis - Ring 1st Mobile number with...   \n",
      "1             6105807  <<name>> has been shaking his head for the las...   \n",
      "2             4794769  \"Booster L4. Declined KC. Muzzled for exam. V ...   \n",
      "3             4808820  \"Treated for bilateral otitis externa- right e...   \n",
      "4             8437569  left ear severe otitis-yellow discharge, smell...   \n",
      "\n",
      "   Binary Class  Multi Class  \\\n",
      "0             1            0   \n",
      "1             0            1   \n",
      "2             0            1   \n",
      "3             0            1   \n",
      "4             0            1   \n",
      "\n",
      "   DogBERT_balanced_binary_predicted_pseudomonas_otitis  \\\n",
      "0                                                  1      \n",
      "1                                                  0      \n",
      "2                                                  0      \n",
      "3                                                  0      \n",
      "4                                                  0      \n",
      "\n",
      "   DogBERT_balanced_binary_confidence_score  \\\n",
      "0                                  0.954457   \n",
      "1                                  0.977987   \n",
      "2                                  0.986681   \n",
      "3                                  0.990942   \n",
      "4                                  0.991497   \n",
      "\n",
      "   DogBERT_unbalanced_binary_predicted_pseudomonas_otitis  \\\n",
      "0                                                  1        \n",
      "1                                                  0        \n",
      "2                                                  1        \n",
      "3                                                  0        \n",
      "4                                                  0        \n",
      "\n",
      "   DogBERT_unbalanced_binary_confidence_score  \\\n",
      "0                                    0.788223   \n",
      "1                                    0.954737   \n",
      "2                                    0.569116   \n",
      "3                                    0.988557   \n",
      "4                                    0.991253   \n",
      "\n",
      "   DogBERT_unbalanced_multiclass_predicted_pseudomonas_otitis  \\\n",
      "0                                                  0            \n",
      "1                                                  1            \n",
      "2                                                  1            \n",
      "3                                                  1            \n",
      "4                                                  1            \n",
      "\n",
      "   DogBERT_unbalanced_multiclass_confidence_score  \n",
      "0                                        0.650061  \n",
      "1                                        0.795391  \n",
      "2                                        0.960880  \n",
      "3                                        0.948039  \n",
      "4                                        0.970712  \n"
     ]
    }
   ],
   "source": [
    "print(df.head())"
   ]
  },
  {
   "cell_type": "code",
   "execution_count": 21,
   "id": "ebf0e430-4bcd-46be-827e-2e370d17538f",
   "metadata": {},
   "outputs": [
    {
     "data": {
      "text/plain": [
       "'\\nCheck records are labelled the same for each classifier\\n'"
      ]
     },
     "execution_count": 21,
     "metadata": {},
     "output_type": "execute_result"
    }
   ],
   "source": [
    "\"\"\"\n",
    "Check records are labelled the same for each classifier\n",
    "\"\"\""
   ]
  },
  {
   "cell_type": "markdown",
   "id": "3b124eb4-e60e-4f35-b7c2-1f6a2b091716",
   "metadata": {},
   "source": [
    "## Check Performance - Binary"
   ]
  },
  {
   "cell_type": "code",
   "execution_count": 36,
   "id": "79f5d73e-a987-4f28-ab6f-32b1205f93c1",
   "metadata": {},
   "outputs": [],
   "source": [
    "def CreateMetricDict(preds, labels):\n",
    "    \"\"\"\n",
    "    Function to create a dictionary of ML metrics from the output of a multilabel model\n",
    "\n",
    "    Args: list of predictions, list of ground truth labels\n",
    "    \"\"\"\n",
    "    metric_dict = {\"accuracy\": accuracy.compute(predictions=preds, references=labels)[\"accuracy\"], \n",
    "                   \"precision\":precision.compute(predictions=preds, references=labels)[\"precision\"], \n",
    "                   \"recall\":recall.compute(predictions=preds, references=labels)[\"recall\"], \n",
    "                   \"f1\":f1.compute(predictions=preds, references=labels)[\"f1\"]}\n",
    "\n",
    "\n",
    "    return metric_dict"
   ]
  },
  {
   "cell_type": "code",
   "execution_count": 13,
   "id": "96ce1f00-372f-4fff-8608-792df462112d",
   "metadata": {},
   "outputs": [],
   "source": [
    "accuracy = evaluate.load(\"accuracy\")\n",
    "precision = evaluate.load(\"precision\")\n",
    "recall = evaluate.load(\"recall\")\n",
    "f1 = evaluate.load(\"f1\")"
   ]
  },
  {
   "cell_type": "code",
   "execution_count": 14,
   "id": "e5cb4c4e-4e6d-446e-b653-76ad6accddda",
   "metadata": {},
   "outputs": [],
   "source": [
    "predictions_binary_balanced = list(df['DogBERT_balanced_binary_predicted_pseudomonas_otitis'])\n",
    "predictions_binary_unbalanced = list(df['DogBERT_unbalanced_binary_predicted_pseudomonas_otitis'])\n",
    "labels = list(df['Binary Class'])"
   ]
  },
  {
   "cell_type": "code",
   "execution_count": 34,
   "id": "aca97f8d-2053-4688-845e-7c95769fcecd",
   "metadata": {},
   "outputs": [
    {
     "name": "stdout",
     "output_type": "stream",
     "text": [
      "Binary Class\n",
      "0.0    122\n",
      "1.0     27\n",
      "Name: count, dtype: int64\n"
     ]
    }
   ],
   "source": [
    "print(df['Binary Class'].value_counts())"
   ]
  },
  {
   "cell_type": "code",
   "execution_count": 15,
   "id": "a3dedd71-7458-4193-a5d2-e38fce2fdf7b",
   "metadata": {},
   "outputs": [],
   "source": [
    "balanced_binary_metrics = CreateMetricDict(predictions_binary_balanced, labels)"
   ]
  },
  {
   "cell_type": "code",
   "execution_count": 16,
   "id": "f1d1e8b3-b294-4e5f-8438-02286bcc62b0",
   "metadata": {},
   "outputs": [],
   "source": [
    "unbalanced_binary_metrics = CreateMetricDict(predictions_binary_unbalanced, labels)"
   ]
  },
  {
   "cell_type": "code",
   "execution_count": 17,
   "id": "7ef9fd68-262a-4d5c-bf67-d7aa160a126e",
   "metadata": {},
   "outputs": [
    {
     "name": "stdout",
     "output_type": "stream",
     "text": [
      "{'accuracy': 0.84, 'precision': 0.5454545454545454, 'recall': 0.8571428571428571, 'f1': 0.6666666666666666}\n"
     ]
    }
   ],
   "source": [
    "print(balanced_binary_metrics)"
   ]
  },
  {
   "cell_type": "code",
   "execution_count": 18,
   "id": "1d7c2700-070a-46cd-b10c-13249ee0c5c6",
   "metadata": {},
   "outputs": [
    {
     "name": "stdout",
     "output_type": "stream",
     "text": [
      "{'accuracy': 0.8333333333333334, 'precision': 0.5348837209302325, 'recall': 0.8214285714285714, 'f1': 0.647887323943662}\n"
     ]
    }
   ],
   "source": [
    "print(unbalanced_binary_metrics)"
   ]
  },
  {
   "cell_type": "markdown",
   "id": "994890c9-522f-4018-bf80-c0c5d917ed00",
   "metadata": {},
   "source": [
    "## Check Performance - Multi Class"
   ]
  },
  {
   "cell_type": "code",
   "execution_count": 19,
   "id": "8dddfdab-195a-456c-bdcb-f3ef32dbba29",
   "metadata": {},
   "outputs": [],
   "source": [
    "def CreateMetricDict(preds, labels):\n",
    "    \"\"\"\n",
    "    Function to create a dictionary of ML metrics from the output of a multilabel model\n",
    "\n",
    "    Args: list of predictions, list of ground truth labels\n",
    "    \"\"\"\n",
    "    metric_dict = {\"accuracy\": accuracy.compute(predictions=preds, references=labels)[\"accuracy\"], \n",
    "                   \"precision_raw\":precision.compute(predictions=preds, references=labels, average=None)[\"precision\"], \n",
    "                   \"recall_raw\":recall.compute(predictions=preds, references=labels, average=None)[\"recall\"], \n",
    "                   \"f1_raw\":f1.compute(predictions=preds, references=labels, average=None)[\"f1\"], \n",
    "                   \"precision_macro\":precision.compute(predictions=preds, references=labels, average='macro')[\"precision\"], \n",
    "                   \"recall_macro\":recall.compute(predictions=preds, references=labels, average='macro')[\"recall\"], \n",
    "                   \"f1_macro\":f1.compute(predictions=preds, references=labels, average='macro')[\"f1\"], \n",
    "                   \"precision_weighted\":precision.compute(predictions=preds, references=labels, average='weighted')[\"precision\"],\n",
    "                   \"recall_weighted\":recall.compute(predictions=preds, references=labels, average='weighted')[\"recall\"],\n",
    "                   \"f1_weighted\":f1.compute(predictions=preds, references=labels, average='weighted')[\"f1\"]\n",
    "                  }\n",
    "\n",
    "\n",
    "    return metric_dict"
   ]
  },
  {
   "cell_type": "code",
   "execution_count": 20,
   "id": "6af51e4b-167a-4da4-84e3-deddc9eef6fa",
   "metadata": {},
   "outputs": [],
   "source": [
    "predictions = list(df['DogBERT_unbalanced_multiclass_predicted_pseudomonas_otitis'])\n",
    "labels = list(df['Multi Class'])\n",
    "\n",
    "unbalanced_mc_metrics = CreateMetricDict(predictions, labels)"
   ]
  },
  {
   "cell_type": "code",
   "execution_count": 21,
   "id": "e4f87547-6564-4012-8870-1b1ab32051a2",
   "metadata": {},
   "outputs": [
    {
     "name": "stdout",
     "output_type": "stream",
     "text": [
      "{'accuracy': 0.8066666666666666, 'precision_raw': array([0.66666667, 0.84615385, 1.        , 1.        ]), 'recall_raw': array([0.66666667, 0.93617021, 0.35714286, 0.66666667]), 'f1_raw': array([0.66666667, 0.88888889, 0.52631579, 0.8       ]), 'precision_macro': 0.8782051282051282, 'recall_macro': 0.6566616008105369, 'f1_macro': 0.7204678362573098, 'precision_weighted': 0.8169230769230769, 'recall_weighted': 0.8066666666666666, 'f1_weighted': 0.7954931773879143}\n"
     ]
    }
   ],
   "source": [
    "print(unbalanced_mc_metrics)"
   ]
  },
  {
   "cell_type": "markdown",
   "id": "38886c38-e656-49b2-b4b2-8df732d309a3",
   "metadata": {},
   "source": [
    "## Label Like Original Data"
   ]
  },
  {
   "cell_type": "code",
   "execution_count": 23,
   "id": "c182ffbf-24e3-4430-91ef-836653651d7a",
   "metadata": {},
   "outputs": [],
   "source": [
    "df_2 = pd.read_csv('best_models_test.csv', index_col=False)"
   ]
  },
  {
   "cell_type": "code",
   "execution_count": 24,
   "id": "6b62c0a2-2e67-4a0b-9fb2-20f86ea54265",
   "metadata": {},
   "outputs": [
    {
     "name": "stdout",
     "output_type": "stream",
     "text": [
      "     savsnet_consult_id                                          item_text  \\\n",
      "0               7334512  Bilateral otitis - Ring 1st Mobile number with...   \n",
      "1               6105807  <<name>> has been shaking his head for the las...   \n",
      "2               4794769  \"Booster L4. Declined KC. Muzzled for exam. V ...   \n",
      "3               4808820  \"Treated for bilateral otitis externa- right e...   \n",
      "4               8437569  left ear severe otitis-yellow discharge, smell...   \n",
      "..                  ...                                                ...   \n",
      "145            11185557  Presenting: otitis externa right ear (RODS). o...   \n",
      "146            11186959  Rechcek ears. OR doing same. Left ear dirty, r...   \n",
      "147             7280453  . Next appointment in 1 week. here for re-cehc...   \n",
      "148            10353911  . Rescue from RSPCA. Had slight growth of pseu...   \n",
      "149             6063132  In for chekc ears. Results confirm ear infecti...   \n",
      "\n",
      "     Binary Class  Multi Class  \n",
      "0               1            0  \n",
      "1               0            1  \n",
      "2               0            1  \n",
      "3               0            1  \n",
      "4               0            1  \n",
      "..            ...          ...  \n",
      "145             0            1  \n",
      "146             0            1  \n",
      "147             0            1  \n",
      "148             0            1  \n",
      "149             0            1  \n",
      "\n",
      "[150 rows x 4 columns]\n"
     ]
    }
   ],
   "source": [
    "print(df_2)"
   ]
  },
  {
   "cell_type": "code",
   "execution_count": 25,
   "id": "f300494d-77b3-4c00-a00a-e9d566152789",
   "metadata": {},
   "outputs": [],
   "source": [
    "replacements = {0: 1, 1:0, 2:1, 3:1}\n",
    "df_2['Binary Class (Original Labelling)'] = df_2['Multi Class'].replace(replacements)"
   ]
  },
  {
   "cell_type": "code",
   "execution_count": 26,
   "id": "68b5069f-0d87-44d3-b6d7-65811c11c691",
   "metadata": {},
   "outputs": [
    {
     "name": "stdout",
     "output_type": "stream",
     "text": [
      "     savsnet_consult_id                                          item_text  \\\n",
      "0               7334512  Bilateral otitis - Ring 1st Mobile number with...   \n",
      "1               6105807  <<name>> has been shaking his head for the las...   \n",
      "2               4794769  \"Booster L4. Declined KC. Muzzled for exam. V ...   \n",
      "3               4808820  \"Treated for bilateral otitis externa- right e...   \n",
      "4               8437569  left ear severe otitis-yellow discharge, smell...   \n",
      "..                  ...                                                ...   \n",
      "145            11185557  Presenting: otitis externa right ear (RODS). o...   \n",
      "146            11186959  Rechcek ears. OR doing same. Left ear dirty, r...   \n",
      "147             7280453  . Next appointment in 1 week. here for re-cehc...   \n",
      "148            10353911  . Rescue from RSPCA. Had slight growth of pseu...   \n",
      "149             6063132  In for chekc ears. Results confirm ear infecti...   \n",
      "\n",
      "     Binary Class  Multi Class  Binary Class (Original Labelling)  \n",
      "0               1            0                                  1  \n",
      "1               0            1                                  0  \n",
      "2               0            1                                  0  \n",
      "3               0            1                                  0  \n",
      "4               0            1                                  0  \n",
      "..            ...          ...                                ...  \n",
      "145             0            1                                  0  \n",
      "146             0            1                                  0  \n",
      "147             0            1                                  0  \n",
      "148             0            1                                  0  \n",
      "149             0            1                                  0  \n",
      "\n",
      "[150 rows x 5 columns]\n"
     ]
    }
   ],
   "source": [
    "print(df_2)"
   ]
  },
  {
   "cell_type": "markdown",
   "id": "6e70fee3-f572-4cbd-a98c-2edc5aebd2d2",
   "metadata": {},
   "source": [
    "## Classify Binary Class With Original Labelling"
   ]
  },
  {
   "cell_type": "code",
   "execution_count": 27,
   "id": "9b2150f3-a1fb-4e73-8af1-0ad76d1b31ed",
   "metadata": {},
   "outputs": [],
   "source": [
    "tokenizer = AutoTokenizer.from_pretrained(binary_balanced_classifier_path)\n",
    "model = AutoModelForSequenceClassification.from_pretrained(binary_balanced_classifier_path)\n",
    "\n",
    "# Assuming your dataframe is called 'df' and the text column is 'text'\n",
    "df_2[\"DogBERT_balanced_binary_predicted_pseudomonas_otitis\"], df_2[\"DogBERT_balanced_binary_confidence_score\"] = zip(*df_2[\"item_text\"].apply(predict_sentiment))"
   ]
  },
  {
   "cell_type": "code",
   "execution_count": 28,
   "id": "922dc717-391e-4558-9b39-61dfb1289ac1",
   "metadata": {},
   "outputs": [],
   "source": [
    "tokenizer = AutoTokenizer.from_pretrained(binary_unbalanced_classifier_path)\n",
    "model = AutoModelForSequenceClassification.from_pretrained(binary_unbalanced_classifier_path)\n",
    "\n",
    "# Assuming your dataframe is called 'df' and the text column is 'text'\n",
    "df_2[\"DogBERT_unbalanced_binary_predicted_pseudomonas_otitis\"], df_2[\"DogBERT_unbalanced_binary_confidence_score\"] = zip(*df_2[\"item_text\"].apply(predict_sentiment))"
   ]
  },
  {
   "cell_type": "code",
   "execution_count": 29,
   "id": "a6cd57c3-8b51-4fd6-81b7-72eb73cdaf28",
   "metadata": {},
   "outputs": [],
   "source": [
    "tokenizer = AutoTokenizer.from_pretrained(mc_unbalanced_classifier)\n",
    "model = AutoModelForSequenceClassification.from_pretrained(mc_unbalanced_classifier)\n",
    "\n",
    "# Assuming your dataframe is called 'df' and the text column is 'text'\n",
    "df_2[\"DogBERT_unbalanced_multiclass_predicted_pseudomonas_otitis\"], df_2[\"DogBERT_unbalanced_multiclass_confidence_score\"] = zip(*df_2[\"item_text\"].apply(predict_sentiment))"
   ]
  },
  {
   "cell_type": "code",
   "execution_count": 30,
   "id": "8b3318e8-f064-4d8a-a94e-49ed9e423561",
   "metadata": {},
   "outputs": [
    {
     "name": "stdout",
     "output_type": "stream",
     "text": [
      "     savsnet_consult_id                                          item_text  \\\n",
      "0               7334512  Bilateral otitis - Ring 1st Mobile number with...   \n",
      "1               6105807  <<name>> has been shaking his head for the las...   \n",
      "2               4794769  \"Booster L4. Declined KC. Muzzled for exam. V ...   \n",
      "3               4808820  \"Treated for bilateral otitis externa- right e...   \n",
      "4               8437569  left ear severe otitis-yellow discharge, smell...   \n",
      "..                  ...                                                ...   \n",
      "145            11185557  Presenting: otitis externa right ear (RODS). o...   \n",
      "146            11186959  Rechcek ears. OR doing same. Left ear dirty, r...   \n",
      "147             7280453  . Next appointment in 1 week. here for re-cehc...   \n",
      "148            10353911  . Rescue from RSPCA. Had slight growth of pseu...   \n",
      "149             6063132  In for chekc ears. Results confirm ear infecti...   \n",
      "\n",
      "     Binary Class  Multi Class  Binary Class (Original Labelling)  \\\n",
      "0               1            0                                  1   \n",
      "1               0            1                                  0   \n",
      "2               0            1                                  0   \n",
      "3               0            1                                  0   \n",
      "4               0            1                                  0   \n",
      "..            ...          ...                                ...   \n",
      "145             0            1                                  0   \n",
      "146             0            1                                  0   \n",
      "147             0            1                                  0   \n",
      "148             0            1                                  0   \n",
      "149             0            1                                  0   \n",
      "\n",
      "     DogBERT_balanced_binary_predicted_pseudomonas_otitis  \\\n",
      "0                                                    1      \n",
      "1                                                    0      \n",
      "2                                                    0      \n",
      "3                                                    0      \n",
      "4                                                    0      \n",
      "..                                                 ...      \n",
      "145                                                  0      \n",
      "146                                                  0      \n",
      "147                                                  0      \n",
      "148                                                  1      \n",
      "149                                                  0      \n",
      "\n",
      "     DogBERT_balanced_binary_confidence_score  \\\n",
      "0                                    0.954457   \n",
      "1                                    0.977987   \n",
      "2                                    0.986681   \n",
      "3                                    0.990942   \n",
      "4                                    0.991497   \n",
      "..                                        ...   \n",
      "145                                  0.888329   \n",
      "146                                  0.979737   \n",
      "147                                  0.981497   \n",
      "148                                  0.987145   \n",
      "149                                  0.984147   \n",
      "\n",
      "     DogBERT_unbalanced_binary_predicted_pseudomonas_otitis  \\\n",
      "0                                                    1        \n",
      "1                                                    0        \n",
      "2                                                    1        \n",
      "3                                                    0        \n",
      "4                                                    0        \n",
      "..                                                 ...        \n",
      "145                                                  0        \n",
      "146                                                  0        \n",
      "147                                                  0        \n",
      "148                                                  1        \n",
      "149                                                  0        \n",
      "\n",
      "     DogBERT_unbalanced_binary_confidence_score  \\\n",
      "0                                      0.788223   \n",
      "1                                      0.954737   \n",
      "2                                      0.569116   \n",
      "3                                      0.988557   \n",
      "4                                      0.991253   \n",
      "..                                          ...   \n",
      "145                                    0.901652   \n",
      "146                                    0.962382   \n",
      "147                                    0.963658   \n",
      "148                                    0.629942   \n",
      "149                                    0.980386   \n",
      "\n",
      "     DogBERT_unbalanced_multiclass_predicted_pseudomonas_otitis  \\\n",
      "0                                                    0            \n",
      "1                                                    1            \n",
      "2                                                    1            \n",
      "3                                                    1            \n",
      "4                                                    1            \n",
      "..                                                 ...            \n",
      "145                                                  1            \n",
      "146                                                  1            \n",
      "147                                                  1            \n",
      "148                                                  0            \n",
      "149                                                  1            \n",
      "\n",
      "     DogBERT_unbalanced_multiclass_confidence_score  \n",
      "0                                          0.650061  \n",
      "1                                          0.795391  \n",
      "2                                          0.960880  \n",
      "3                                          0.948039  \n",
      "4                                          0.970712  \n",
      "..                                              ...  \n",
      "145                                        0.550683  \n",
      "146                                        0.799018  \n",
      "147                                        0.858777  \n",
      "148                                        0.615632  \n",
      "149                                        0.917683  \n",
      "\n",
      "[150 rows x 11 columns]\n"
     ]
    }
   ],
   "source": [
    "print(df_2)"
   ]
  },
  {
   "cell_type": "code",
   "execution_count": 32,
   "id": "82d45f70-7b21-40c4-ada8-ca52233ab754",
   "metadata": {},
   "outputs": [],
   "source": [
    "predictions_binary_balanced_ol = list(df_2['DogBERT_balanced_binary_predicted_pseudomonas_otitis'])\n",
    "predictions_binary_unbalanced_ol = list(df_2['DogBERT_unbalanced_binary_predicted_pseudomonas_otitis'])\n",
    "labels = list(df_2['Binary Class (Original Labelling)'])"
   ]
  },
  {
   "cell_type": "code",
   "execution_count": 37,
   "id": "93801661-928b-4ab1-bf99-d2c3f6ff642b",
   "metadata": {},
   "outputs": [],
   "source": [
    "balanced_binary_metrics_ol = CreateMetricDict(predictions_binary_balanced_ol, labels)\n",
    "unbalanced_binary_metrics_ol = CreateMetricDict(predictions_binary_unbalanced_ol, labels)"
   ]
  },
  {
   "cell_type": "code",
   "execution_count": 38,
   "id": "d13dc3c0-8b9a-4cf3-a636-d0f471da315f",
   "metadata": {},
   "outputs": [
    {
     "name": "stdout",
     "output_type": "stream",
     "text": [
      "{'accuracy': 0.8533333333333334, 'precision': 0.8863636363636364, 'recall': 0.6964285714285714, 'f1': 0.78}\n"
     ]
    }
   ],
   "source": [
    "print(balanced_binary_metrics_ol)"
   ]
  },
  {
   "cell_type": "code",
   "execution_count": 39,
   "id": "6cc8a7e8-3b72-4f21-9d96-4a31894a54cc",
   "metadata": {},
   "outputs": [
    {
     "name": "stdout",
     "output_type": "stream",
     "text": [
      "{'accuracy': 0.82, 'precision': 0.8372093023255814, 'recall': 0.6428571428571429, 'f1': 0.7272727272727273}\n"
     ]
    }
   ],
   "source": [
    "print(unbalanced_binary_metrics_ol)"
   ]
  },
  {
   "cell_type": "code",
   "execution_count": 40,
   "id": "7412d870-4eec-4ca7-acf7-9cb9e4ef1422",
   "metadata": {},
   "outputs": [
    {
     "name": "stdout",
     "output_type": "stream",
     "text": [
      "{'accuracy': 0.8066666666666666, 'precision_raw': array([0.66666667, 0.84615385, 1.        , 1.        ]), 'recall_raw': array([0.66666667, 0.93617021, 0.35714286, 0.66666667]), 'f1_raw': array([0.66666667, 0.88888889, 0.52631579, 0.8       ]), 'precision_macro': 0.8782051282051282, 'recall_macro': 0.6566616008105369, 'f1_macro': 0.7204678362573098, 'precision_weighted': 0.8169230769230769, 'recall_weighted': 0.8066666666666666, 'f1_weighted': 0.7954931773879143}\n"
     ]
    }
   ],
   "source": [
    "print(unbalanced_mc_metrics)"
   ]
  },
  {
   "cell_type": "code",
   "execution_count": 45,
   "id": "28d0f197-3793-403e-a73b-e36073b58d3d",
   "metadata": {},
   "outputs": [
    {
     "name": "stdout",
     "output_type": "stream",
     "text": [
      "{'accuracy': 0.8066666666666666, 'precision_weighted': 0.8169230769230769, 'recall_weighted': 0.8066666666666666, 'f1_weighted': 0.7954931773879143}\n"
     ]
    }
   ],
   "source": [
    "# Create a new dictionary without the specified keys\n",
    "keys_to_keep = ['accuracy', 'precision_weighted', 'recall_weighted', 'f1_weighted']\n",
    "unbalanced_mc_metrics_weighted = {key: value for key, value in unbalanced_mc_metrics.items() if key in keys_to_keep}\n",
    "print(unbalanced_mc_metrics_weighted)  # Output: {'orange': 3}"
   ]
  },
  {
   "cell_type": "code",
   "execution_count": 46,
   "id": "b0d62c90-8039-4169-bb92-7d09d1e86158",
   "metadata": {},
   "outputs": [],
   "source": [
    "# Rename values, make note that all values for this are weighted in final report\n",
    "unbalanced_mc_metrics_weighted['precision'] = unbalanced_mc_metrics_weighted.pop('precision_weighted')\n",
    "unbalanced_mc_metrics_weighted['recall'] = unbalanced_mc_metrics_weighted.pop('recall_weighted')\n",
    "unbalanced_mc_metrics_weighted['f1'] = unbalanced_mc_metrics_weighted.pop('f1_weighted')"
   ]
  },
  {
   "cell_type": "code",
   "execution_count": 47,
   "id": "19f95fbf-9622-45bf-8a12-d05582ca95aa",
   "metadata": {},
   "outputs": [
    {
     "name": "stdout",
     "output_type": "stream",
     "text": [
      "{'accuracy': 0.8066666666666666, 'precision': 0.8169230769230769, 'recall': 0.8066666666666666, 'f1': 0.7954931773879143}\n"
     ]
    }
   ],
   "source": [
    "print(unbalanced_mc_metrics_weighted)"
   ]
  },
  {
   "cell_type": "code",
   "execution_count": 50,
   "id": "084fdad8-b05a-4934-a28c-eeb7f390d16c",
   "metadata": {},
   "outputs": [
    {
     "name": "stdout",
     "output_type": "stream",
     "text": [
      "0.8461538461538461\n"
     ]
    }
   ],
   "source": [
    "print(unbalanced_mc_metrics['precision_raw'][1])"
   ]
  },
  {
   "cell_type": "code",
   "execution_count": 51,
   "id": "44c4a6bb-6f2b-4829-b5ba-b8504b30c238",
   "metadata": {},
   "outputs": [],
   "source": [
    "unbalanced_mc_metrics_positive_psoe_only = {'accuracy': unbalanced_mc_metrics['accuracy'], 'precision': unbalanced_mc_metrics['precision_raw'][1], 'recall': unbalanced_mc_metrics['recall_raw'][1], 'f1':unbalanced_mc_metrics['f1_raw'][1]}"
   ]
  },
  {
   "cell_type": "code",
   "execution_count": 52,
   "id": "0fa5e0f6-d145-44ae-9216-2553e6b98ec5",
   "metadata": {},
   "outputs": [
    {
     "name": "stdout",
     "output_type": "stream",
     "text": [
      "{'accuracy': 0.8066666666666666, 'precision': 0.8461538461538461, 'recall': 0.9361702127659575, 'f1': 0.8888888888888888}\n"
     ]
    }
   ],
   "source": [
    "print(unbalanced_mc_metrics_positive_psoe_only)"
   ]
  },
  {
   "cell_type": "code",
   "execution_count": 55,
   "id": "3edc477b-6a58-43b0-8ab1-24af288184a5",
   "metadata": {},
   "outputs": [
    {
     "name": "stdout",
     "output_type": "stream",
     "text": [
      "                                               model  accuracy  precision  \\\n",
      "0                            DogBERT Balanced Binary  0.853333   0.886364   \n",
      "1                          DogBERT Unbalanced Binary  0.820000   0.837209   \n",
      "2                                DogBERT Multi-Class  0.806667   0.816923   \n",
      "3  DogBERT Multi-Class - Positive Pseudomonas Cla...  0.806667   0.846154   \n",
      "\n",
      "     recall        f1  \n",
      "0  0.696429  0.780000  \n",
      "1  0.642857  0.727273  \n",
      "2  0.806667  0.795493  \n",
      "3  0.936170  0.888889  \n"
     ]
    }
   ],
   "source": [
    "dicts = [balanced_binary_metrics_ol, unbalanced_binary_metrics_ol, unbalanced_mc_metrics_weighted, unbalanced_mc_metrics_positive_psoe_only]\n",
    "\n",
    "metrics_dict = {'model':['DogBERT - Balanced Binary', 'DogBERT - Unbalanced Binary', 'DogBERT - Multi-Class', 'DogBERT Multi-Class - Positive Pseudomonas Classifications Only'], 'accuracy': [],'precision':[], 'recall':[], 'f1': []}\n",
    "\n",
    "\n",
    "for model in dicts:\n",
    "    for metric in model.keys():\n",
    "        metrics_dict[metric].append(model[metric])\n",
    "\n",
    "metrics_df = pd.DataFrame(metrics_dict)\n",
    "print(metrics_df)"
   ]
  },
  {
   "cell_type": "code",
   "execution_count": 57,
   "id": "57b599fc-d569-4f50-8f8e-b7d8709f3fbf",
   "metadata": {},
   "outputs": [
    {
     "name": "stdout",
     "output_type": "stream",
     "text": [
      "\\begin{tabular}{lrrrr}\n",
      "\\toprule\n",
      "model & accuracy & precision & recall & f1 \\\\\n",
      "\\midrule\n",
      "DogBERT Balanced Binary & 0.85 & 0.89 & 0.70 & 0.78 \\\\\n",
      "DogBERT Unbalanced Binary & 0.82 & 0.84 & 0.64 & 0.73 \\\\\n",
      "DogBERT Multi-Class & 0.81 & 0.82 & 0.81 & 0.80 \\\\\n",
      "DogBERT Multi-Class - Positive Pseudomonas Classifications Only & 0.81 & 0.85 & 0.94 & 0.89 \\\\\n",
      "\\bottomrule\n",
      "\\end{tabular}\n",
      "\n"
     ]
    }
   ],
   "source": [
    "print(metrics_df.to_latex(index=False,\n",
    "                  formatters={\"name\": str.upper},\n",
    "                  float_format=\"{:.2f}\".format,))"
   ]
  }
 ],
 "metadata": {
  "kernelspec": {
   "display_name": "Python 3 (ipykernel)",
   "language": "python",
   "name": "python3"
  },
  "language_info": {
   "codemirror_mode": {
    "name": "ipython",
    "version": 3
   },
   "file_extension": ".py",
   "mimetype": "text/x-python",
   "name": "python",
   "nbconvert_exporter": "python",
   "pygments_lexer": "ipython3",
   "version": "3.9.17"
  }
 },
 "nbformat": 4,
 "nbformat_minor": 5
}
