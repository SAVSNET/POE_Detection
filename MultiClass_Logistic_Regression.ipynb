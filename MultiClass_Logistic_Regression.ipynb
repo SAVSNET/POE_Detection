{
 "cells": [
  {
   "cell_type": "markdown",
   "id": "81915095-8c08-401c-83fa-cea642de6592",
   "metadata": {},
   "source": [
    "## Imports"
   ]
  },
  {
   "cell_type": "code",
   "execution_count": 2,
   "id": "459a2204-947f-4887-893f-6cb6cdcf5972",
   "metadata": {},
   "outputs": [],
   "source": [
    "import pandas as pd\n",
    "from transformers import AutoTokenizer, DataCollatorWithPadding, AutoModelForSequenceClassification, TrainingArguments, Trainer, EarlyStoppingCallback\n",
    "from datasets import load_dataset, load_metric\n",
    "import datetime\n",
    "import os\n",
    "import time\n",
    "import numpy as np\n",
    "import evaluate\n",
    "import accelerate\n",
    "import torch\n",
    "import re\n",
    "import plotly.graph_objects as go"
   ]
  },
  {
   "cell_type": "markdown",
   "id": "552dbdb5-6cbc-4039-865f-97f1af98837b",
   "metadata": {},
   "source": [
    "## Load Data"
   ]
  },
  {
   "cell_type": "code",
   "execution_count": 2,
   "id": "0cf4793a-0515-459e-a6cf-0b30b89e4c21",
   "metadata": {},
   "outputs": [
    {
     "name": "stdout",
     "output_type": "stream",
     "text": [
      "/opt/jupyterlab/notebooks/DogBERT/Classifiers/Pseudomonas_Otitis/Logisitic Regression\n"
     ]
    }
   ],
   "source": [
    "print(os.getcwd())"
   ]
  },
  {
   "cell_type": "code",
   "execution_count": 79,
   "id": "f8d1ee04-38ac-4612-a604-102a8d17eb17",
   "metadata": {},
   "outputs": [],
   "source": [
    "\"\"\"\n",
    "Load Narrative Data\n",
    "\"\"\"\n",
    "os.chdir('../../../../savsnet_resources/pickles')"
   ]
  },
  {
   "cell_type": "code",
   "execution_count": 80,
   "id": "8d20f966-4675-4d51-991f-4dc51c5b5ff1",
   "metadata": {},
   "outputs": [],
   "source": [
    "df_narratives = pd.read_pickle('narrative_pickle.pkl.gz', compression='gzip').drop_duplicates(subset='savsnet_consult_id', keep='first')\n",
    "df_extras = pd.read_pickle('extras_df.pkl.gz', compression='gzip').drop_duplicates(subset='savsnet_consult_id')[['savsnet_consult_id', 'savsnet_animal_id','species','breed', 'age_at_consult', 'gender', 'neutered', 'mpc', 'savsnet_consult_id_count']]\n",
    "#Filter for just dog records\n",
    "df_extras = df_extras[df_extras.species == 'dog']"
   ]
  },
  {
   "cell_type": "code",
   "execution_count": 81,
   "id": "2f19b452-59ac-431b-8bb9-894864047d25",
   "metadata": {},
   "outputs": [
    {
     "data": {
      "text/html": [
       "<div>\n",
       "<style scoped>\n",
       "    .dataframe tbody tr th:only-of-type {\n",
       "        vertical-align: middle;\n",
       "    }\n",
       "\n",
       "    .dataframe tbody tr th {\n",
       "        vertical-align: top;\n",
       "    }\n",
       "\n",
       "    .dataframe thead th {\n",
       "        text-align: right;\n",
       "    }\n",
       "</style>\n",
       "<table border=\"1\" class=\"dataframe\">\n",
       "  <thead>\n",
       "    <tr style=\"text-align: right;\">\n",
       "      <th></th>\n",
       "      <th>savsnet_consult_id</th>\n",
       "      <th>item_text</th>\n",
       "      <th>consult_record</th>\n",
       "      <th>pk</th>\n",
       "      <th>consult_record_date</th>\n",
       "      <th>savsnet_animal_id</th>\n",
       "      <th>species</th>\n",
       "      <th>breed</th>\n",
       "      <th>age_at_consult</th>\n",
       "      <th>gender</th>\n",
       "      <th>neutered</th>\n",
       "      <th>mpc</th>\n",
       "      <th>savsnet_consult_id_count</th>\n",
       "    </tr>\n",
       "  </thead>\n",
       "  <tbody>\n",
       "    <tr>\n",
       "      <th>0</th>\n",
       "      <td>71631</td>\n",
       "      <td>\"O worried that she has been limping on RH for...</td>\n",
       "      <td>230515</td>\n",
       "      <td>2040019</td>\n",
       "      <td>2014-06-10 14:10:05+00:00</td>\n",
       "      <td>49526</td>\n",
       "      <td>dog</td>\n",
       "      <td>Crossbreed</td>\n",
       "      <td>10.35</td>\n",
       "      <td>female</td>\n",
       "      <td>no</td>\n",
       "      <td>trauma</td>\n",
       "      <td>1</td>\n",
       "    </tr>\n",
       "    <tr>\n",
       "      <th>1</th>\n",
       "      <td>71644</td>\n",
       "      <td>\"booster and ears. v reactive for exam, snarli...</td>\n",
       "      <td>230516</td>\n",
       "      <td>2040021</td>\n",
       "      <td>2014-06-10 14:14:03+00:00</td>\n",
       "      <td>49533</td>\n",
       "      <td>dog</td>\n",
       "      <td>Heeler (generic)</td>\n",
       "      <td>6.31</td>\n",
       "      <td>male</td>\n",
       "      <td>no</td>\n",
       "      <td>vaccination</td>\n",
       "      <td>1</td>\n",
       "    </tr>\n",
       "    <tr>\n",
       "      <th>2</th>\n",
       "      <td>71660</td>\n",
       "      <td>\"o was stroking chest last night and felt bump...</td>\n",
       "      <td>230517</td>\n",
       "      <td>2040023</td>\n",
       "      <td>2014-06-10 14:18:51+00:00</td>\n",
       "      <td>49541</td>\n",
       "      <td>dog</td>\n",
       "      <td>Jack Russell Terrier</td>\n",
       "      <td>3.45</td>\n",
       "      <td>male</td>\n",
       "      <td>no</td>\n",
       "      <td>other_healthy</td>\n",
       "      <td>1</td>\n",
       "    </tr>\n",
       "    <tr>\n",
       "      <th>3</th>\n",
       "      <td>71675</td>\n",
       "      <td>\"1st vacc. bar, biop two weeks, was puppy from...</td>\n",
       "      <td>230518</td>\n",
       "      <td>2040024</td>\n",
       "      <td>2014-06-10 14:25:12+00:00</td>\n",
       "      <td>49550</td>\n",
       "      <td>dog</td>\n",
       "      <td>Crossbreed</td>\n",
       "      <td>0.17</td>\n",
       "      <td>male</td>\n",
       "      <td>no</td>\n",
       "      <td>vaccination</td>\n",
       "      <td>2</td>\n",
       "    </tr>\n",
       "    <tr>\n",
       "      <th>4</th>\n",
       "      <td>88118</td>\n",
       "      <td>\"2nd vacc. bar, doing well at home, nothing ab...</td>\n",
       "      <td>230519</td>\n",
       "      <td>2040025</td>\n",
       "      <td>2014-06-24 14:05:25+00:00</td>\n",
       "      <td>49550</td>\n",
       "      <td>dog</td>\n",
       "      <td>Crossbreed</td>\n",
       "      <td>0.21</td>\n",
       "      <td>male</td>\n",
       "      <td>no</td>\n",
       "      <td>vaccination</td>\n",
       "      <td>2</td>\n",
       "    </tr>\n",
       "    <tr>\n",
       "      <th>...</th>\n",
       "      <td>...</td>\n",
       "      <td>...</td>\n",
       "      <td>...</td>\n",
       "      <td>...</td>\n",
       "      <td>...</td>\n",
       "      <td>...</td>\n",
       "      <td>...</td>\n",
       "      <td>...</td>\n",
       "      <td>...</td>\n",
       "      <td>...</td>\n",
       "      <td>...</td>\n",
       "      <td>...</td>\n",
       "      <td>...</td>\n",
       "    </tr>\n",
       "    <tr>\n",
       "      <th>6081341</th>\n",
       "      <td>11517687</td>\n",
       "      <td>CONSULT: HPC 6 month check up. Any concerns fr...</td>\n",
       "      <td>10142293</td>\n",
       "      <td>16553510</td>\n",
       "      <td>2024-01-30 12:01:22+00:00</td>\n",
       "      <td>3064938</td>\n",
       "      <td>dog</td>\n",
       "      <td>Crossbreed</td>\n",
       "      <td>1.80</td>\n",
       "      <td>male</td>\n",
       "      <td>yes</td>\n",
       "      <td>other_healthy</td>\n",
       "      <td>2</td>\n",
       "    </tr>\n",
       "    <tr>\n",
       "      <th>6081342</th>\n",
       "      <td>11516812</td>\n",
       "      <td>Euthanasia. Booked in for PTS. As soon as went...</td>\n",
       "      <td>10142295</td>\n",
       "      <td>16553511</td>\n",
       "      <td>2024-01-30 10:00:29+00:00</td>\n",
       "      <td>3170851</td>\n",
       "      <td>dog</td>\n",
       "      <td>Crossbreed</td>\n",
       "      <td>10.33</td>\n",
       "      <td>male</td>\n",
       "      <td>no</td>\n",
       "      <td>tumour</td>\n",
       "      <td>3</td>\n",
       "    </tr>\n",
       "    <tr>\n",
       "      <th>6081343</th>\n",
       "      <td>11516407</td>\n",
       "      <td>NO MURMUR HEARD TODAY.</td>\n",
       "      <td>10142292</td>\n",
       "      <td>16553513</td>\n",
       "      <td>2024-01-30 09:16:27+00:00</td>\n",
       "      <td>2997060</td>\n",
       "      <td>dog</td>\n",
       "      <td>Dachshund</td>\n",
       "      <td>0.97</td>\n",
       "      <td>female</td>\n",
       "      <td>no</td>\n",
       "      <td>other_healthy</td>\n",
       "      <td>2</td>\n",
       "    </tr>\n",
       "    <tr>\n",
       "      <th>6081344</th>\n",
       "      <td>11512021</td>\n",
       "      <td>Following todays examination: Milbemycin Oxime...</td>\n",
       "      <td>10135039</td>\n",
       "      <td>16553515</td>\n",
       "      <td>2024-01-27 15:25:42+00:00</td>\n",
       "      <td>1590416</td>\n",
       "      <td>dog</td>\n",
       "      <td>Spaniel (Cocker)</td>\n",
       "      <td>8.71</td>\n",
       "      <td>male</td>\n",
       "      <td>no</td>\n",
       "      <td>post_op</td>\n",
       "      <td>2</td>\n",
       "    </tr>\n",
       "    <tr>\n",
       "      <th>6081345</th>\n",
       "      <td>11518641</td>\n",
       "      <td>YDV Prescription info flea and worm treatment....</td>\n",
       "      <td>10142289</td>\n",
       "      <td>16553517</td>\n",
       "      <td>2024-01-30 15:32:09+00:00</td>\n",
       "      <td>2193748</td>\n",
       "      <td>dog</td>\n",
       "      <td>Crossbreed</td>\n",
       "      <td>4.24</td>\n",
       "      <td>female</td>\n",
       "      <td>no</td>\n",
       "      <td>other_healthy</td>\n",
       "      <td>2</td>\n",
       "    </tr>\n",
       "  </tbody>\n",
       "</table>\n",
       "<p>6081346 rows × 13 columns</p>\n",
       "</div>"
      ],
      "text/plain": [
       "         savsnet_consult_id  \\\n",
       "0                     71631   \n",
       "1                     71644   \n",
       "2                     71660   \n",
       "3                     71675   \n",
       "4                     88118   \n",
       "...                     ...   \n",
       "6081341            11517687   \n",
       "6081342            11516812   \n",
       "6081343            11516407   \n",
       "6081344            11512021   \n",
       "6081345            11518641   \n",
       "\n",
       "                                                 item_text  consult_record  \\\n",
       "0        \"O worried that she has been limping on RH for...          230515   \n",
       "1        \"booster and ears. v reactive for exam, snarli...          230516   \n",
       "2        \"o was stroking chest last night and felt bump...          230517   \n",
       "3        \"1st vacc. bar, biop two weeks, was puppy from...          230518   \n",
       "4        \"2nd vacc. bar, doing well at home, nothing ab...          230519   \n",
       "...                                                    ...             ...   \n",
       "6081341  CONSULT: HPC 6 month check up. Any concerns fr...        10142293   \n",
       "6081342  Euthanasia. Booked in for PTS. As soon as went...        10142295   \n",
       "6081343                             NO MURMUR HEARD TODAY.        10142292   \n",
       "6081344  Following todays examination: Milbemycin Oxime...        10135039   \n",
       "6081345  YDV Prescription info flea and worm treatment....        10142289   \n",
       "\n",
       "               pk       consult_record_date  savsnet_animal_id species  \\\n",
       "0         2040019 2014-06-10 14:10:05+00:00              49526     dog   \n",
       "1         2040021 2014-06-10 14:14:03+00:00              49533     dog   \n",
       "2         2040023 2014-06-10 14:18:51+00:00              49541     dog   \n",
       "3         2040024 2014-06-10 14:25:12+00:00              49550     dog   \n",
       "4         2040025 2014-06-24 14:05:25+00:00              49550     dog   \n",
       "...           ...                       ...                ...     ...   \n",
       "6081341  16553510 2024-01-30 12:01:22+00:00            3064938     dog   \n",
       "6081342  16553511 2024-01-30 10:00:29+00:00            3170851     dog   \n",
       "6081343  16553513 2024-01-30 09:16:27+00:00            2997060     dog   \n",
       "6081344  16553515 2024-01-27 15:25:42+00:00            1590416     dog   \n",
       "6081345  16553517 2024-01-30 15:32:09+00:00            2193748     dog   \n",
       "\n",
       "                        breed  age_at_consult  gender neutered            mpc  \\\n",
       "0                  Crossbreed           10.35  female       no         trauma   \n",
       "1            Heeler (generic)            6.31    male       no    vaccination   \n",
       "2        Jack Russell Terrier            3.45    male       no  other_healthy   \n",
       "3                  Crossbreed            0.17    male       no    vaccination   \n",
       "4                  Crossbreed            0.21    male       no    vaccination   \n",
       "...                       ...             ...     ...      ...            ...   \n",
       "6081341            Crossbreed            1.80    male      yes  other_healthy   \n",
       "6081342            Crossbreed           10.33    male       no         tumour   \n",
       "6081343             Dachshund            0.97  female       no  other_healthy   \n",
       "6081344      Spaniel (Cocker)            8.71    male       no        post_op   \n",
       "6081345            Crossbreed            4.24  female       no  other_healthy   \n",
       "\n",
       "         savsnet_consult_id_count  \n",
       "0                               1  \n",
       "1                               1  \n",
       "2                               1  \n",
       "3                               2  \n",
       "4                               2  \n",
       "...                           ...  \n",
       "6081341                         2  \n",
       "6081342                         3  \n",
       "6081343                         2  \n",
       "6081344                         2  \n",
       "6081345                         2  \n",
       "\n",
       "[6081346 rows x 13 columns]"
      ]
     },
     "execution_count": 81,
     "metadata": {},
     "output_type": "execute_result"
    }
   ],
   "source": [
    "#Join data\n",
    "df_narratives_and_extras = df_narratives.set_index('savsnet_consult_id').join(df_extras.set_index('savsnet_consult_id'), how='inner')\n",
    "\n",
    "df_narratives_and_extras.reset_index()"
   ]
  },
  {
   "cell_type": "code",
   "execution_count": 82,
   "id": "5b414c90-13ea-447f-8ab1-58a6ef59f3ba",
   "metadata": {},
   "outputs": [],
   "source": [
    "# Navigate back to home directory\n",
    "os.chdir('../../DogBERT/Classifiers/Pseudomonas_Otitis/Logisitic Regression')"
   ]
  },
  {
   "cell_type": "code",
   "execution_count": 8,
   "id": "dfe67487-613d-4294-b5ef-dd0eaa9cedfa",
   "metadata": {},
   "outputs": [],
   "source": [
    "# Create data frame of just narrative free text\n",
    "df_text = df_narratives_and_extras[['item_text']]"
   ]
  },
  {
   "cell_type": "code",
   "execution_count": 9,
   "id": "92cfb40b-8c0f-4653-a044-134a2ba8e9d3",
   "metadata": {},
   "outputs": [
    {
     "name": "stdout",
     "output_type": "stream",
     "text": [
      "6081346\n"
     ]
    }
   ],
   "source": [
    "print(len(df_text))"
   ]
  },
  {
   "cell_type": "markdown",
   "id": "06ebb039-26f7-4838-99ed-dc25a3981e4a",
   "metadata": {},
   "source": [
    "## Search Dataset using Regex"
   ]
  },
  {
   "cell_type": "code",
   "execution_count": 10,
   "id": "095f6686-785f-4754-b2f0-2e7b56cf06ad",
   "metadata": {},
   "outputs": [],
   "source": [
    "# Load regex to filter free text\n",
    "pseudomonas_regex = '\\b[ps]{1,2}[eu]{1,2}domon.+\\b(?:ear|ot[io]t)|\\b(?:ear|ot[io]t).+\\b[ps]{1,2}[eu]{1,2}domon'\n",
    "pseudomonas_regex_2 = 'p?s[eu]{1,2}domon.*\\W(ear|otitis)|(ear|otitis).*\\Wp?s[eu]{1,2}domon'"
   ]
  },
  {
   "cell_type": "code",
   "execution_count": 11,
   "id": "e1df0666-b915-4ec7-bf16-43775d15f16e",
   "metadata": {},
   "outputs": [],
   "source": [
    "# Apply regex searches\n",
    "# df_narratives_and_extras['psoe_regex_found'] = df_narratives_and_extras['item_text'].apply(lambda x: bool(re.search(pseudomonas_regex, x)))\n",
    "df_narratives_and_extras['psoe_regex2_found'] = df_narratives_and_extras['item_text'].apply(lambda x: bool(re.search(pseudomonas_regex_2, x)))"
   ]
  },
  {
   "cell_type": "code",
   "execution_count": 14,
   "id": "33f2de78-961b-4010-ac68-d47c3e6f12b7",
   "metadata": {},
   "outputs": [],
   "source": [
    "# Filter to find records containing pseudomonas signals. Use pseudomonas_regex_2\n",
    "df_text_filt = df_narratives_and_extras[df_narratives_and_extras['psoe_regex2_found']==True]"
   ]
  },
  {
   "cell_type": "code",
   "execution_count": 15,
   "id": "722e9064-950f-4ab5-ae4f-a4cd03a6902e",
   "metadata": {},
   "outputs": [
    {
     "name": "stdout",
     "output_type": "stream",
     "text": [
      "Number of Pseudomonas Records: 4568\n"
     ]
    }
   ],
   "source": [
    "print(f'Number of Pseudomonas Records: {len(df_text_filt)}')"
   ]
  },
  {
   "cell_type": "code",
   "execution_count": 16,
   "id": "2c55d52a-9533-4865-bafd-8ecf1b371218",
   "metadata": {},
   "outputs": [
    {
     "name": "stdout",
     "output_type": "stream",
     "text": [
      "2024-01-30 15:25:54+00:00\n"
     ]
    }
   ],
   "source": [
    "print(max(df_narratives_and_extras['consult_record_date']))"
   ]
  },
  {
   "cell_type": "markdown",
   "id": "542e34ca-0d8d-4084-90a8-5bb80e4a76df",
   "metadata": {},
   "source": [
    "## Join in DataLab Labels"
   ]
  },
  {
   "cell_type": "code",
   "execution_count": 17,
   "id": "41f7b527-eb30-4ac1-b780-6d38ea979d87",
   "metadata": {},
   "outputs": [],
   "source": [
    "# Get just the text of the regex filtered records\n",
    "df_text_re2 = df_text_filt[['item_text']]"
   ]
  },
  {
   "cell_type": "code",
   "execution_count": 18,
   "id": "494857b4-7422-4f96-a21a-0ec480bcbc3c",
   "metadata": {},
   "outputs": [],
   "source": [
    "# Navigate to labeled records, load and return to home\n",
    "os.chdir('..')\n",
    "df_psoe = pd.read_excel('adamwilliams-OtitisStudyPseudomonas (1).xls', sheet_name='Case Data', index_col=False)\n",
    "os.chdir('Logisitic Regression')"
   ]
  },
  {
   "cell_type": "code",
   "execution_count": 19,
   "id": "59bed8bb-7608-4855-aeda-eb0b7fdeee0d",
   "metadata": {},
   "outputs": [
    {
     "name": "stdout",
     "output_type": "stream",
     "text": [
      "PseudomonasOtitis\n",
      "✓    699\n",
      "?    156\n",
      "!     78\n",
      "⍉     52\n",
      "Name: count, dtype: int64\n"
     ]
    }
   ],
   "source": [
    "print(df_psoe['PseudomonasOtitis'].value_counts())"
   ]
  },
  {
   "cell_type": "code",
   "execution_count": 20,
   "id": "de14a341-14d6-4214-a35d-c175857c44d8",
   "metadata": {},
   "outputs": [],
   "source": [
    "# Join in tick labels\n",
    "df_dataset = pd.merge(df_text_re2, df_psoe, on='savsnet_consult_id', how='left')[['savsnet_consult_id', 'item_text', 'PseudomonasOtitis']]"
   ]
  },
  {
   "cell_type": "code",
   "execution_count": 21,
   "id": "9a15caab-04ff-4dc6-b68d-756633101fcd",
   "metadata": {},
   "outputs": [
    {
     "name": "stdout",
     "output_type": "stream",
     "text": [
      "PseudomonasOtitis\n",
      "✓    566\n",
      "?    127\n",
      "!     71\n",
      "⍉     30\n",
      "Name: count, dtype: int64\n"
     ]
    }
   ],
   "source": [
    "print(df_dataset['PseudomonasOtitis'].value_counts())"
   ]
  },
  {
   "cell_type": "markdown",
   "id": "2021d7a9-52ed-48eb-8774-381fb83e64b5",
   "metadata": {},
   "source": [
    "## Load DogBERT Multi-Class Unweighted Classifier"
   ]
  },
  {
   "cell_type": "code",
   "execution_count": 24,
   "id": "95a3d5b5-b9fc-4740-b26c-2dc470b4446b",
   "metadata": {},
   "outputs": [],
   "source": [
    "# Get non-binary classifier directory\n",
    "model_dir = \"/opt/jupyterlab/notebooks/DogBERT/Classifiers/Pseudomonas_Otitis/Multi_Class Classifier/Weighted Loss/DogBERT_PSOE_Multi_Class_Classifier_Weighted\""
   ]
  },
  {
   "cell_type": "code",
   "execution_count": 25,
   "id": "6ea875cd-2490-4e42-9a82-47e9318e138b",
   "metadata": {},
   "outputs": [],
   "source": [
    "# Create label2id, id2label, tokenizer and model objects\n",
    "label2id = {'?': 0, '✓': 1, '!': 2, '⍉': 3}\n",
    "id2label = {0: '?', 1: '✓', 2: '!', 3:'⍉'}\n",
    "tokenizer = AutoTokenizer.from_pretrained(model_dir)\n",
    "model = AutoModelForSequenceClassification.from_pretrained(model_dir, num_labels=4, id2label=id2label, label2id=label2id)"
   ]
  },
  {
   "cell_type": "code",
   "execution_count": 26,
   "id": "80c7adad-ea30-4af0-96e6-d3d4d21708c2",
   "metadata": {},
   "outputs": [],
   "source": [
    "def predict_sentiment(text):\n",
    "  \"\"\"\n",
    "  Function to predidict class of a given piece of text\n",
    "  \"\"\"\n",
    "  inputs = tokenizer(text, padding=\"max_length\", truncation=True, return_tensors=\"pt\")\n",
    "  outputs = model(**inputs)\n",
    "  predictions = torch.nn.functional.softmax(outputs.logits, dim=-1)\n",
    "  predicted_class = torch.argmax(predictions).item()\n",
    "  confidence_score = predictions.squeeze()[predicted_class].item()\n",
    "  return predicted_class, confidence_score"
   ]
  },
  {
   "cell_type": "code",
   "execution_count": 27,
   "id": "5efbcb72-d623-41c7-9d54-434d305b831c",
   "metadata": {},
   "outputs": [],
   "source": [
    "# Classify records using multi-class classifier\n",
    "df_dataset[\"DogBERT_unweighted_predicted_pseudomonas_otitis_mc\"], df_dataset[\"DogBERT_unweighted_mc_confidence_score\"] = zip(*df_dataset[\"item_text\"].apply(predict_sentiment))"
   ]
  },
  {
   "cell_type": "code",
   "execution_count": 28,
   "id": "9d886ddb-83a7-48e7-a42a-772bcc7ac937",
   "metadata": {},
   "outputs": [],
   "source": [
    "df_dataset = df_dataset.rename(columns={'DogBERT_unweighted_predicted_pseudomonas_otitis_mc':'DogBERT_weighted_predicted_pseudomonas_otitis_mc', 'DogBERT_unweighted_mc_confidence_score':'DogBERT_weighted_mc_confidence_score'})"
   ]
  },
  {
   "cell_type": "code",
   "execution_count": 30,
   "id": "671ca92c-cd00-43f2-8dc8-273a84dc2d42",
   "metadata": {},
   "outputs": [
    {
     "data": {
      "text/plain": [
       "683"
      ]
     },
     "execution_count": 30,
     "metadata": {},
     "output_type": "execute_result"
    }
   ],
   "source": [
    "from numba import cuda\n",
    "import gc\n",
    "torch.cuda.empty_cache()\n",
    "gc.collect()"
   ]
  },
  {
   "cell_type": "code",
   "execution_count": 31,
   "id": "49f6deda-f6de-48bf-94de-95d5f10b433f",
   "metadata": {},
   "outputs": [
    {
     "name": "stdout",
     "output_type": "stream",
     "text": [
      "   savsnet_consult_id                                          item_text  \\\n",
      "0               95721  \"<<identifier>> otitis externa been really goo...   \n",
      "1              129032  \"HL issues and ears. been slowing up last few ...   \n",
      "2              169684  \"bilateral oe thickened ear canals cleaning is...   \n",
      "3              117477  \"left eear purulent otitis suspecrt pseudomona...   \n",
      "4              115552  \"Bilat OE again. Not purulent or ulcerated, so...   \n",
      "\n",
      "  PseudomonasOtitis  DogBERT_weighted_predicted_pseudomonas_otitis_mc  \\\n",
      "0                 ?                                                 1   \n",
      "1                 ✓                                                 1   \n",
      "2                 ✓                                                 1   \n",
      "3                 ✓                                                 1   \n",
      "4                 !                                                 2   \n",
      "\n",
      "   DogBERT_weighted_mc_confidence_score  \n",
      "0                              0.960905  \n",
      "1                              0.955908  \n",
      "2                              0.914241  \n",
      "3                              0.972031  \n",
      "4                              0.875985  \n"
     ]
    }
   ],
   "source": [
    "print(df_dataset.head())"
   ]
  },
  {
   "cell_type": "code",
   "execution_count": 32,
   "id": "d1c3cc5c-5963-4e50-ae4b-da78a33bec66",
   "metadata": {},
   "outputs": [],
   "source": [
    "df_dataset.to_csv('multi_class_classified.csv')"
   ]
  },
  {
   "cell_type": "code",
   "execution_count": 3,
   "id": "3e473e3b-b65b-4d5d-a3bf-03cab432beb3",
   "metadata": {},
   "outputs": [],
   "source": [
    "df_dataset = pd.read_csv('multi_class_classified.csv', index_col=False)"
   ]
  },
  {
   "cell_type": "markdown",
   "id": "14abd84b-0276-4115-b78f-7d5a2395d0e3",
   "metadata": {},
   "source": [
    "## Examine Repeat Consults"
   ]
  },
  {
   "cell_type": "code",
   "execution_count": 41,
   "id": "6e33eff6-4f6d-4c6e-a5a8-b8711a397d16",
   "metadata": {},
   "outputs": [],
   "source": [
    "# Get savsnet consult ids for pseudomonas positive records classified using the binary classifier\n",
    "pseudomaonas_otitis_positive_scids = df_dataset['savsnet_consult_id'][df_dataset['DogBERT_weighted_predicted_pseudomonas_otitis_mc'] == 1].to_list()"
   ]
  },
  {
   "cell_type": "code",
   "execution_count": 42,
   "id": "a6bd66c2-e019-4474-b512-211e7b33b015",
   "metadata": {},
   "outputs": [],
   "source": [
    "# get info about records of dogs with pseudomonas otitis\n",
    "psuedomonas_dogs = df_extras[df_extras['savsnet_consult_id'].isin(pseudomaonas_otitis_positive_scids)]"
   ]
  },
  {
   "cell_type": "code",
   "execution_count": 43,
   "id": "668acb2e-97f3-4481-a120-5862bfb7e3d9",
   "metadata": {},
   "outputs": [
    {
     "name": "stdout",
     "output_type": "stream",
     "text": [
      "3070\n",
      "2584\n"
     ]
    }
   ],
   "source": [
    "# examine how many unique dogs are treated in all pseudomonas records \n",
    "print(len(psuedomonas_dogs))\n",
    "print(len(psuedomonas_dogs['savsnet_animal_id'].unique()))"
   ]
  },
  {
   "cell_type": "code",
   "execution_count": 44,
   "id": "3c68aa53-3af5-4650-b243-8b872e62dac9",
   "metadata": {},
   "outputs": [],
   "source": [
    "# Remove the option if a missing breed\n",
    "psuedomonas_dogs = psuedomonas_dogs[psuedomonas_dogs.breed != 'missing']\n",
    "# psuedomonas_dogs_unique = psuedomonas_dogs_unique[psuedomonas_dogs_unique.breed != 'missing']"
   ]
  },
  {
   "cell_type": "code",
   "execution_count": 45,
   "id": "e517c5a0-4768-4ea6-8969-9fd5343a7f38",
   "metadata": {},
   "outputs": [
    {
     "name": "stdout",
     "output_type": "stream",
     "text": [
      "3028\n",
      "2549\n"
     ]
    }
   ],
   "source": [
    "# examine how many unique dogs are treated in all pseudomonas records \n",
    "print(len(psuedomonas_dogs))\n",
    "print(len(psuedomonas_dogs['savsnet_animal_id'].unique()))"
   ]
  },
  {
   "cell_type": "code",
   "execution_count": 50,
   "id": "eb5a8070-570a-4266-891c-935649a0566e",
   "metadata": {},
   "outputs": [],
   "source": [
    "# Find duplicated animal_ids\n",
    "duplicate_ids = psuedomonas_dogs[psuedomonas_dogs.duplicated(subset=['savsnet_animal_id'], keep=False)]"
   ]
  },
  {
   "cell_type": "code",
   "execution_count": 51,
   "id": "aa0c1880-b6b0-4b45-ab9d-2367b11e5d24",
   "metadata": {},
   "outputs": [
    {
     "name": "stdout",
     "output_type": "stream",
     "text": [
      "479\n",
      "818\n"
     ]
    }
   ],
   "source": [
    "print(len(psuedomonas_dogs)-len(psuedomonas_dogs['savsnet_animal_id'].unique()))\n",
    "print(len(duplicate_ids))"
   ]
  },
  {
   "cell_type": "code",
   "execution_count": 53,
   "id": "92045658-b391-40f1-8d76-884b9dc163a7",
   "metadata": {},
   "outputs": [
    {
     "name": "stdout",
     "output_type": "stream",
     "text": [
      "339\n"
     ]
    }
   ],
   "source": [
    "print(len(duplicate_ids['savsnet_animal_id'].unique()))"
   ]
  },
  {
   "cell_type": "code",
   "execution_count": 58,
   "id": "7495498f-e8ae-4e1d-8c2a-28d1ffcaf3a2",
   "metadata": {},
   "outputs": [
    {
     "name": "stdout",
     "output_type": "stream",
     "text": [
      "savsnet_animal_id\n",
      "1582304    8\n",
      "959727     7\n",
      "2501102    7\n",
      "196342     7\n",
      "1575303    6\n",
      "          ..\n",
      "949109     2\n",
      "400474     2\n",
      "596237     2\n",
      "1103626    2\n",
      "2927348    2\n",
      "Name: count, Length: 339, dtype: int64\n"
     ]
    }
   ],
   "source": [
    "print(duplicate_ids['savsnet_animal_id'].value_counts())"
   ]
  },
  {
   "cell_type": "code",
   "execution_count": 62,
   "id": "69195ffb-7b7d-443f-b194-19f0215b2bd8",
   "metadata": {},
   "outputs": [
    {
     "name": "stdout",
     "output_type": "stream",
     "text": [
      "6\n"
     ]
    }
   ],
   "source": [
    "print(len(psuedomonas_dogs[psuedomonas_dogs['savsnet_animal_id']==1575303]))"
   ]
  },
  {
   "cell_type": "code",
   "execution_count": 65,
   "id": "b6388e02-1938-40ca-bc99-a4ef7a942409",
   "metadata": {},
   "outputs": [],
   "source": [
    "# Randomly select one row per animal_id\n",
    "sampled_df = duplicate_ids.groupby('savsnet_animal_id').sample(n=1, random_state=42)"
   ]
  },
  {
   "cell_type": "code",
   "execution_count": 66,
   "id": "56d44074-51d1-4f7c-b820-4bdbe0b1fa49",
   "metadata": {},
   "outputs": [
    {
     "name": "stdout",
     "output_type": "stream",
     "text": [
      "339\n"
     ]
    }
   ],
   "source": [
    "print(len(sampled_df))"
   ]
  },
  {
   "cell_type": "code",
   "execution_count": 67,
   "id": "8881fbb2-35b3-4714-8b3b-7c053669abe2",
   "metadata": {},
   "outputs": [
    {
     "name": "stdout",
     "output_type": "stream",
     "text": [
      "         savsnet_consult_id  savsnet_animal_id species  \\\n",
      "106718               116647               2012     dog   \n",
      "353562               382442               6814     dog   \n",
      "2444326             8025639               9265     dog   \n",
      "4489367             4805200              10096     dog   \n",
      "3746016             4024413              11275     dog   \n",
      "\n",
      "                               breed  age_at_consult  gender neutered  \\\n",
      "106718   West Highland White Terrier           11.73    male      yes   \n",
      "353562                 Gordon Setter            6.57  female      yes   \n",
      "2444326                     Cavachon            9.56    male       no   \n",
      "4489367                      Bulldog            5.07    male       no   \n",
      "3746016             Spaniel (Cocker)           12.65  female       no   \n",
      "\n",
      "                   mpc  savsnet_consult_id_count  \n",
      "106718    other_unwell                        11  \n",
      "353562   other_healthy                        31  \n",
      "2444326   other_unwell                         8  \n",
      "4489367  other_healthy                        36  \n",
      "3746016    vaccination                        29  \n"
     ]
    }
   ],
   "source": [
    "print(sampled_df.head())"
   ]
  },
  {
   "cell_type": "code",
   "execution_count": 68,
   "id": "d9a6702a-e0e1-43eb-aa02-6e5459a3f67f",
   "metadata": {},
   "outputs": [],
   "source": [
    "# Remove all duplicate animal_ids from psuedomonas_dogs then combine with sampled_df\n",
    "psuedomonas_dogs_deduped = psuedomonas_dogs.drop_duplicates(subset='savsnet_animal_id', keep=False)"
   ]
  },
  {
   "cell_type": "code",
   "execution_count": 69,
   "id": "b05d3694-d40b-43c8-b8a0-f56fd4d1c82c",
   "metadata": {},
   "outputs": [],
   "source": [
    "psuedomonas_dogs_unique = pd.concat([psuedomonas_dogs_deduped, sampled_df])"
   ]
  },
  {
   "cell_type": "code",
   "execution_count": 71,
   "id": "6bb3e9ec-8e88-45d1-b5d3-9ca4e2f89108",
   "metadata": {},
   "outputs": [
    {
     "name": "stdout",
     "output_type": "stream",
     "text": [
      "       savsnet_consult_id  savsnet_animal_id species                 breed  \\\n",
      "3208                10766               8479     dog                   Pug   \n",
      "15334               23145              17954     dog  Retriever (Labrador)   \n",
      "17370               25253              19487     dog                 Cross   \n",
      "20070               28015              21352     dog      Spaniel (Cocker)   \n",
      "20954               28919              21993     dog  Retriever (Labrador)   \n",
      "\n",
      "       age_at_consult  gender neutered           mpc  savsnet_consult_id_count  \n",
      "3208            11.84  female      yes  other_unwell                         1  \n",
      "15334           10.21  female       no      pruritus                        12  \n",
      "17370           11.00  female       no      pruritus                         1  \n",
      "20070           14.31    male      yes  other_unwell                         1  \n",
      "20954           10.90  female      yes  other_unwell                         4  \n"
     ]
    }
   ],
   "source": [
    "print(psuedomonas_dogs_unique.head())"
   ]
  },
  {
   "cell_type": "code",
   "execution_count": 72,
   "id": "6f153668-fbbd-4fd3-bf95-e3c1514520b3",
   "metadata": {},
   "outputs": [],
   "source": [
    "# Get list of number of dogs with pseudomonas otitis recorded by breed\n",
    "psuedomonas_breeds_unique = psuedomonas_dogs_unique['breed'].value_counts()\n",
    "# Get list of number of records with pseudomonas otitis recorded by breed\n",
    "pseudomonas_breeds = psuedomonas_dogs['breed'].value_counts()"
   ]
  },
  {
   "cell_type": "code",
   "execution_count": 73,
   "id": "3d2726fe-a720-4ed6-8e2a-b10f579e22d3",
   "metadata": {},
   "outputs": [
    {
     "name": "stdout",
     "output_type": "stream",
     "text": [
      "breed\n",
      "Spaniel (Cocker)                       495\n",
      "Crossbreed                             291\n",
      "Retriever (Labrador)                   279\n",
      "West Highland White Terrier            140\n",
      "Spaniel (Springer)                     110\n",
      "Cockapoo                                84\n",
      "German Shepherd Dog (Alsatian)          69\n",
      "Labradoodle                             55\n",
      "Cavalier King Charles Spaniel           55\n",
      "Basset Hound                            55\n",
      "Retriever (Golden)                      54\n",
      "Shih Tzu                                54\n",
      "Newfoundland                            37\n",
      "Staffordshire Bull Terrier              37\n",
      "Border Terrier                          36\n",
      "Bulldog                                 34\n",
      "Pug                                     33\n",
      "French Bulldog                          30\n",
      "Jack Russell Terrier                    27\n",
      "Bichon Frise                            27\n",
      "Tibetan Terrier                         26\n",
      "Italian Spinone                         25\n",
      "Cross                                   24\n",
      "Beagle                                  23\n",
      "Lhasa Apso                              22\n",
      "Shar-Pei                                22\n",
      "Spaniel (American Cocker)               21\n",
      "Poodle (generic)                        20\n",
      "Spaniel (English Springer)              20\n",
      "Rottweiler                              19\n",
      "Yorkshire Terrier                       16\n",
      "Bedlington Terrier                      12\n",
      "Retriever (Generic)                     11\n",
      "Miniature Schnauzer                     11\n",
      "Terrier (Generic)                       11\n",
      "Dalmatian                               10\n",
      "Border Collie                           10\n",
      "Poodle (Miniature)                      10\n",
      "Spaniel (Generic)                       10\n",
      "English Setter                          10\n",
      "Hungarian Wire Haired Vizsla            10\n",
      "German Wirehaired Pointer                9\n",
      "Hungarian Vizsla                         9\n",
      "Bull Terrier                             8\n",
      "Spaniel (Welsh Springer)                 8\n",
      "Boxer                                    7\n",
      "Chow Chow                                7\n",
      "Rhodesian Ridgeback                      7\n",
      "Gordon Setter                            6\n",
      "Spaniel (Clumber)                        6\n",
      "Dachshund                                6\n",
      "Chihuahua                                6\n",
      "Bearded Collie                           5\n",
      "Welsh Terrier                            5\n",
      "St. Bernard                              5\n",
      "Spaniel (Field)                          5\n",
      "Lurcher                                  4\n",
      "German Shorthaired Pointer               4\n",
      "Patterdale Terrier                       4\n",
      "Collie (Generic)                         4\n",
      "Cairn Terrier                            4\n",
      "Poodle (Toy)                             4\n",
      "Husky (generic)                          3\n",
      "Scottish Terrier                         3\n",
      "Retriever (Flat Coated)                  3\n",
      "Pointer                                  3\n",
      "Irish Setter                             3\n",
      "Lakeland Terrier                         3\n",
      "Fox Terrier (Wire)                       3\n",
      "Dachshund (Standard)                     2\n",
      "Akita                                    2\n",
      "Mastiff                                  2\n",
      "Sprocker                                 2\n",
      "Weimaraner                               2\n",
      "Dachshund (Miniature)                    2\n",
      "Leonberger                               2\n",
      "Siberian Husky                           2\n",
      "King Charles Spaniel                     2\n",
      "Hungarian Puli                           2\n",
      "Great Dane                               2\n",
      "Saluki                                   2\n",
      "Dachshund (Miniature Smooth-Haired)      2\n",
      "Bernese Mountain Dog                     2\n",
      "Otterhound                               2\n",
      "Japanese Akita Inu                       2\n",
      "Parson Russell Terrier                   2\n",
      "Airedale Terrier                         2\n",
      "Papillon                                 1\n",
      "Large Munsterlander                      1\n",
      "Dogue De Bordeaux                        1\n",
      "Portuguese Water Dog                     1\n",
      "Dobermann                                1\n",
      "Norfolk Terrier                          1\n",
      "American Bulldog                         1\n",
      "Alaskan Malamute                         1\n",
      "Cavachon                                 1\n",
      "Spaniel (Irish Water)                    1\n",
      "Boston Terrier                           1\n",
      "Cesky Terrier                            1\n",
      "German Pointer                           1\n",
      "Bracco Italiano                          1\n",
      "Greyhound                                1\n",
      "Chinese Crested                          1\n",
      "Collie (Smooth)                          1\n",
      "Schnauzer                                1\n",
      "Pekingese                                1\n",
      "Bouvier Des Flandres                     1\n",
      "Bullmastiff                              1\n",
      "Old English Sheepdog                     1\n",
      "Glen Of Imaal Terrier                    1\n",
      "Brittany                                 1\n",
      "Name: count, dtype: int64\n"
     ]
    }
   ],
   "source": [
    "with pd.option_context('display.max_rows', None, 'display.max_columns', None):  # more options can be specified also\n",
    "    print(psuedomonas_breeds_unique)"
   ]
  },
  {
   "cell_type": "code",
   "execution_count": 74,
   "id": "94ffbedc-f6cd-4795-8c29-d338b4cebeb9",
   "metadata": {},
   "outputs": [
    {
     "name": "stdout",
     "output_type": "stream",
     "text": [
      "breed\n",
      "Spaniel (Cocker)                       650\n",
      "Retriever (Labrador)                   332\n",
      "Crossbreed                             331\n",
      "West Highland White Terrier            164\n",
      "Spaniel (Springer)                     140\n",
      "Cockapoo                               109\n",
      "German Shepherd Dog (Alsatian)          75\n",
      "Labradoodle                             65\n",
      "Basset Hound                            65\n",
      "Retriever (Golden)                      63\n",
      "Cavalier King Charles Spaniel           60\n",
      "Shih Tzu                                59\n",
      "Newfoundland                            45\n",
      "Border Terrier                          42\n",
      "Staffordshire Bull Terrier              38\n",
      "Bulldog                                 35\n",
      "Pug                                     34\n",
      "Bichon Frise                            33\n",
      "Poodle (generic)                        31\n",
      "French Bulldog                          30\n",
      "Tibetan Terrier                         30\n",
      "Italian Spinone                         29\n",
      "Spaniel (American Cocker)               28\n",
      "Jack Russell Terrier                    27\n",
      "Cross                                   27\n",
      "Beagle                                  26\n",
      "Spaniel (English Springer)              24\n",
      "Shar-Pei                                24\n",
      "Lhasa Apso                              23\n",
      "Rottweiler                              20\n",
      "Yorkshire Terrier                       17\n",
      "Miniature Schnauzer                     14\n",
      "Hungarian Vizsla                        13\n",
      "Bedlington Terrier                      13\n",
      "Terrier (Generic)                       12\n",
      "Spaniel (Generic)                       12\n",
      "Retriever (Generic)                     12\n",
      "Dalmatian                               12\n",
      "Gordon Setter                           11\n",
      "Border Collie                           11\n",
      "Poodle (Miniature)                      11\n",
      "Hungarian Wire Haired Vizsla            11\n",
      "Rhodesian Ridgeback                     10\n",
      "English Setter                          10\n",
      "Bull Terrier                             9\n",
      "German Wirehaired Pointer                9\n",
      "Spaniel (Welsh Springer)                 9\n",
      "Boxer                                    7\n",
      "Spaniel (Field)                          7\n",
      "Bearded Collie                           7\n",
      "Chow Chow                                7\n",
      "Dachshund                                7\n",
      "Chihuahua                                6\n",
      "Welsh Terrier                            6\n",
      "Spaniel (Clumber)                        6\n",
      "Collie (Generic)                         5\n",
      "German Shorthaired Pointer               5\n",
      "St. Bernard                              5\n",
      "Cairn Terrier                            5\n",
      "Patterdale Terrier                       4\n",
      "Lakeland Terrier                         4\n",
      "Lurcher                                  4\n",
      "Poodle (Toy)                             4\n",
      "Great Dane                               4\n",
      "Irish Setter                             3\n",
      "Fox Terrier (Wire)                       3\n",
      "Pointer                                  3\n",
      "Husky (generic)                          3\n",
      "Scottish Terrier                         3\n",
      "Retriever (Flat Coated)                  3\n",
      "Mastiff                                  3\n",
      "Hungarian Puli                           3\n",
      "Siberian Husky                           2\n",
      "Dachshund (Miniature)                    2\n",
      "Brittany                                 2\n",
      "Parson Russell Terrier                   2\n",
      "Leonberger                               2\n",
      "Weimaraner                               2\n",
      "King Charles Spaniel                     2\n",
      "Akita                                    2\n",
      "Japanese Akita Inu                       2\n",
      "Airedale Terrier                         2\n",
      "Dachshund (Standard)                     2\n",
      "Bernese Mountain Dog                     2\n",
      "Otterhound                               2\n",
      "Dachshund (Miniature Smooth-Haired)      2\n",
      "Cavachon                                 2\n",
      "Saluki                                   2\n",
      "Sprocker                                 2\n",
      "Alaskan Malamute                         1\n",
      "American Bulldog                         1\n",
      "Dogue De Bordeaux                        1\n",
      "Papillon                                 1\n",
      "Portuguese Water Dog                     1\n",
      "Large Munsterlander                      1\n",
      "Dobermann                                1\n",
      "Spaniel (Irish Water)                    1\n",
      "Glen Of Imaal Terrier                    1\n",
      "Boston Terrier                           1\n",
      "Cesky Terrier                            1\n",
      "German Pointer                           1\n",
      "Bracco Italiano                          1\n",
      "Greyhound                                1\n",
      "Chinese Crested                          1\n",
      "Collie (Smooth)                          1\n",
      "Pekingese                                1\n",
      "Schnauzer                                1\n",
      "Bouvier Des Flandres                     1\n",
      "Old English Sheepdog                     1\n",
      "Bullmastiff                              1\n",
      "Norfolk Terrier                          1\n",
      "Name: count, dtype: int64\n"
     ]
    }
   ],
   "source": [
    "with pd.option_context('display.max_rows', None, 'display.max_columns', None):  # more options can be specified also\n",
    "    print(pseudomonas_breeds)"
   ]
  },
  {
   "cell_type": "code",
   "execution_count": 75,
   "id": "b53b33d7-c23c-448c-974f-989e847967aa",
   "metadata": {},
   "outputs": [
    {
     "name": "stdout",
     "output_type": "stream",
     "text": [
      "111\n",
      "111\n"
     ]
    }
   ],
   "source": [
    "# Compare number of breeds in each list (should match)\n",
    "print(len(pseudomonas_breeds))\n",
    "print(len(psuedomonas_breeds_unique))"
   ]
  },
  {
   "cell_type": "code",
   "execution_count": 76,
   "id": "5c5fb5d0-439d-4898-af65-856cee634439",
   "metadata": {},
   "outputs": [],
   "source": [
    "# Create a dataframe of all pseudomonas positive naratives\n",
    "psuedomonas_narratives = df_narratives[df_narratives['savsnet_consult_id'].isin(pseudomaonas_otitis_positive_scids)]"
   ]
  },
  {
   "cell_type": "markdown",
   "id": "1d2b6d51-2589-4031-aed2-83b3f22df1bb",
   "metadata": {},
   "source": [
    "## Create Control Set From All Records Not In Pseudomonas Set"
   ]
  },
  {
   "cell_type": "code",
   "execution_count": 83,
   "id": "39c9a77a-2cca-4bf4-9d2b-abc28ccc276f",
   "metadata": {},
   "outputs": [
    {
     "name": "stdout",
     "output_type": "stream",
     "text": [
      "6081346\n",
      "5993268\n"
     ]
    }
   ],
   "source": [
    "# Remove consults with missing breed from full dataset\n",
    "df_narratives_and_extras_true_breed = df_narratives_and_extras[df_narratives_and_extras['breed'] != 'missing']\n",
    "print(len(df_narratives_and_extras))\n",
    "print(len(df_narratives_and_extras_true_breed))"
   ]
  },
  {
   "cell_type": "code",
   "execution_count": 84,
   "id": "84f6be5d-83c8-4dc2-9695-0d5d4537fddc",
   "metadata": {},
   "outputs": [],
   "source": [
    "# get list of all consult ids and all the first consult ids for each dog \n",
    "scids = df_narratives_and_extras_true_breed.index.to_list()\n",
    "psuedomonas_dogs_unique_scids = psuedomonas_dogs_unique['savsnet_consult_id'].to_list()"
   ]
  },
  {
   "cell_type": "code",
   "execution_count": 85,
   "id": "5dd31850-86bd-44e2-b1a9-6f2085151919",
   "metadata": {},
   "outputs": [],
   "source": [
    "# Remove any ids that are pseudomonas positive\n",
    "def remove_numbers(list1, list2):\n",
    "    return [num for num in list1 if num not in list2]\n",
    "\n",
    "scids_control = remove_numbers(scids, psuedomonas_dogs_unique_scids)"
   ]
  },
  {
   "cell_type": "code",
   "execution_count": 86,
   "id": "5eb95c1b-cf5c-4db9-9c37-2efed948dcb7",
   "metadata": {},
   "outputs": [],
   "source": [
    "# This is all control savsnet_consult_ids\n",
    "control_df_all = df_narratives_and_extras_true_breed[df_narratives_and_extras_true_breed.index.isin(scids_control)]"
   ]
  },
  {
   "cell_type": "code",
   "execution_count": 87,
   "id": "1934d2ab-3c35-4746-9137-0ae195429a3c",
   "metadata": {},
   "outputs": [
    {
     "name": "stdout",
     "output_type": "stream",
     "text": [
      "5990719\n"
     ]
    }
   ],
   "source": [
    "print(len(control_df_all))"
   ]
  },
  {
   "cell_type": "code",
   "execution_count": 88,
   "id": "01d31970-d92d-42f9-9710-b3dc8dea0c27",
   "metadata": {},
   "outputs": [],
   "source": [
    "# Inspect breeds in one list but not the other\n",
    "control_breeds = set(control_df_all['breed'].to_list())\n",
    "test_breeds = set(psuedomonas_dogs_unique['breed'].to_list())"
   ]
  },
  {
   "cell_type": "code",
   "execution_count": 89,
   "id": "66a2525d-5110-4782-9ffe-11d99592329e",
   "metadata": {},
   "outputs": [
    {
     "name": "stdout",
     "output_type": "stream",
     "text": [
      "Breeds in control set but not test: {'Norwich Terrier', 'Japanese Chin', 'Bloodhound', 'English Toy Terrier (Black & Tan)', 'Neapolitan Mastiff', 'Anatolian Shepherd Dog', 'Dachshund (Miniature Wire-Haired)', 'Catalan Sheepdog (Imp)', 'Dachshund (Long-Haired)', 'Transylvanian Hound', 'Portuguese Podengo', 'Pyrenean Sheepdog (Long Haired)', 'Fox Terrier (Smooth)', 'Jackapoo', 'Bull Terrier (Miniature)', 'Havanese', 'Kerry Blue Terrier', 'Spaniel (Sussex)', 'Keeshond', 'Samoyed', 'Basset Fauve De Bretagne', 'Afghan Hound', 'Basset Griffon Vendeen (Petit)', 'Portuguese Pointer', 'Pugalier', 'New Zealand Huntaway', 'Spanish Water Dog', 'Italian Greyhound', 'Berger Picard', 'Japanese Spitz', 'Russian Black Terrier', 'Briard', 'Bolognese', 'Pit Bull Terrier', 'Welsh Corgi (Cardigan)', 'Australian Cattle Dog', 'Cane Corso', 'Hound (Generic)', 'Sealyham Terrier', 'Whippet', 'Bergamasco (Imp)', 'Belgian Shepherd Dog (Tervueren)', 'Irish Wolfhound', 'Maremma Sheepdog', 'Trailhound', 'Lowchen (Little Lion Dog)', 'Canaan Dog', 'Giant Schnauzer', 'Manchester Terrier', 'Norwegian Elkhound', 'Foxhound', 'Collie (Rough)', 'German Spitz (Mittel)', 'Retriever (Chesapeake Bay)', 'Chihuahua (Long Coat)', 'Dogo Argentino', 'Utonagan', 'Spaniel (American Water) (Imp)', 'Chorkie', 'Dandie Dinmont Terrier', 'Australian Kelpie', 'Griffon Bruxellois', 'Dachshund (Smooth-Haired)', 'Estrela Mountain Dog', 'Poodle (Standard)', 'Lancashire Heeler', 'Belgian Shepherd Dog', 'Swedish Vallhund', 'Pyrenean Mountain Dog', 'Patterdoodle', 'Retriever (Curly Coated)', 'Tibetan Spaniel', 'Australian Shepherd', 'Pomeranian', 'Belgian Shepherd Dog (Groenendael)', 'Dachshund (Wire-Haired)', 'Affenpinscher', 'Shetland Sheepdog', 'Basset Griffon Vendeen (Grand)', 'Borzoi', 'Heeler (generic)', 'Retriever (Nova Scotia Duck Tolling)', 'Chihuahua (Smooth Coat)', 'Maltese', 'Victorian Bulldog', 'Spitz (generic)', 'Japanese Shiba Inu', 'Hovawart', 'Polish Lowland Sheepdog', 'Soft-Coated Wheaten Terrier', 'Irish Terrier', 'Northern Inuit', 'Fox Terrier', 'Dachshund (Miniature Long-Haired)', 'Beauceron (Imp)', 'Finnish Spitz', 'Welsh Corgi (Pembroke)', 'Basenji', 'Norwegian Buhund', 'Belgian Shepherd Dog (Malinois)', 'Welsh Corgi', 'Deerhound', 'Miniature Pinscher', 'Lucas Terrier', 'Coton De Tulear', 'German Spitz (Klein)', 'Skye Terrier'}\n",
      "Breeds in test but not control: set()\n"
     ]
    }
   ],
   "source": [
    "print(f'Breeds in control set but not test: {control_breeds - test_breeds}')\n",
    "print(f'Breeds in test but not control: {test_breeds - control_breeds}')"
   ]
  },
  {
   "cell_type": "code",
   "execution_count": 90,
   "id": "d39816a8-6487-4a96-9913-631e7c6f94c9",
   "metadata": {},
   "outputs": [],
   "source": [
    "def match_breeds(test_df, control_df):\n",
    "    \"\"\"\n",
    "    Function to take the breed column of two dataframes and change the entry of any non-matching breeds to 'other'\n",
    "    \"\"\"\n",
    "    unique_breeds_df1 = set(test_df['breed'])\n",
    "    unique_breeds_df2 = set(control_df['breed'])\n",
    "    \n",
    "    # Identify breeds exclusive to one DataFrame\n",
    "    breeds_only_in_df1 = unique_breeds_df1 - unique_breeds_df2\n",
    "    breeds_only_in_df2 = unique_breeds_df2 - unique_breeds_df1\n",
    "    \n",
    "    # Replace exclusive breeds with 'other'\n",
    "    # Replace exclusive breeds with 'other' using loc\n",
    "    test_df.loc[test_df['breed'].isin(breeds_only_in_df1), 'breed'] = 'other'\n",
    "    control_df.loc[control_df['breed'].isin(breeds_only_in_df2), 'breed'] = 'other'\n",
    "    return test_df, control_df"
   ]
  },
  {
   "cell_type": "code",
   "execution_count": 91,
   "id": "94810903-265a-4df1-9605-898538b7a1b6",
   "metadata": {},
   "outputs": [],
   "source": [
    "# match breeds\n",
    "psuedomonas_dogs_unique, control_df_all = match_breeds(psuedomonas_dogs_unique, control_df_all)"
   ]
  },
  {
   "cell_type": "code",
   "execution_count": 92,
   "id": "9a3d4827-eaf7-4be6-9955-bac9a710ec00",
   "metadata": {},
   "outputs": [
    {
     "name": "stderr",
     "output_type": "stream",
     "text": [
      "/tmp/ipykernel_23/3013465303.py:2: SettingWithCopyWarning: \n",
      "A value is trying to be set on a copy of a slice from a DataFrame.\n",
      "Try using .loc[row_indexer,col_indexer] = value instead\n",
      "\n",
      "See the caveats in the documentation: https://pandas.pydata.org/pandas-docs/stable/user_guide/indexing.html#returning-a-view-versus-a-copy\n",
      "  control_df_all['psuedomonas_id'] = 0\n"
     ]
    }
   ],
   "source": [
    "# Apply label to show pseudomonas records and non psudomonas records\n",
    "control_df_all['psuedomonas_id'] = 0\n",
    "psuedomonas_dogs_unique['psuedomonas_id'] = 1"
   ]
  },
  {
   "cell_type": "code",
   "execution_count": 93,
   "id": "1e67955f-ecc7-4c5a-afa1-1fa3abf1a76a",
   "metadata": {},
   "outputs": [],
   "source": [
    "# Create dataset for logisitc regression\n",
    "control_all_and_psoe_df = pd.concat([control_df_all, psuedomonas_dogs_unique], axis=0)"
   ]
  },
  {
   "cell_type": "code",
   "execution_count": 94,
   "id": "fa0a034d-08a0-460a-a8af-8fd74ff9bf73",
   "metadata": {},
   "outputs": [],
   "source": [
    "# Create combined sex/neuter status column\n",
    "control_all_and_psoe_df['Sex_Neuter_Status'] = control_all_and_psoe_df['gender'] + '_' + control_all_and_psoe_df['neutered'].replace({'yes': 'neutered', 'no': 'entire'})"
   ]
  },
  {
   "cell_type": "code",
   "execution_count": 95,
   "id": "0865b9ff-46c7-4a5d-9547-501d2df8f074",
   "metadata": {},
   "outputs": [],
   "source": [
    "\"\"\"\n",
    "Split age at consult into a categorical variable\n",
    "‘Puppies’ (XP) aged 0 to < 6 months, ‘Juveniles’ (XJ) aged 6 to < 12 months,\n",
    "‘Young Adults’ (XY) aged 12 to < 24 months, ‘Mature Adults’ (XM) aged 2 to < 7 years,\n",
    "‘Senior’ (XS) aged 7 to < 12 years and ‘Geriatric’ (XG) aged ≥ 12.\n",
    "\"\"\"\n",
    "# Define age bins and labels\n",
    "bins = [0, 0.5, 1, 2, 7, 12, float('inf')]\n",
    "labels = ['Puppy', 'Juvenile', 'Young Adult', 'Mature Adult', 'Senior', 'Geriatric']\n",
    "\n",
    "# Create a new column 'Age_Category' using pd.cut\n",
    "control_all_and_psoe_df['age_category_at_consult'] = pd.cut(control_all_and_psoe_df['age_at_consult'], bins=bins, labels=labels, right=False)\n"
   ]
  },
  {
   "cell_type": "code",
   "execution_count": 96,
   "id": "97068c86-ac1e-4281-a050-34cad4b767df",
   "metadata": {},
   "outputs": [
    {
     "name": "stderr",
     "output_type": "stream",
     "text": [
      "huggingface/tokenizers: The current process just got forked, after parallelism has already been used. Disabling parallelism to avoid deadlocks...\n",
      "To disable this warning, you can either:\n",
      "\t- Avoid using `tokenizers` before the fork if possible\n",
      "\t- Explicitly set the environment variable TOKENIZERS_PARALLELISM=(true | false)\n"
     ]
    },
    {
     "name": "stdout",
     "output_type": "stream",
     "text": [
      "Warning: Maximum number of iterations has been exceeded.\n",
      "         Current function value: 0.003469\n",
      "         Iterations: 35\n"
     ]
    },
    {
     "name": "stderr",
     "output_type": "stream",
     "text": [
      "/usr/local/lib/python3.9/site-packages/statsmodels/base/model.py:607: ConvergenceWarning: Maximum Likelihood optimization failed to converge. Check mle_retvals\n",
      "  warnings.warn(\"Maximum Likelihood optimization failed to \"\n"
     ]
    },
    {
     "data": {
      "text/html": [
       "<table class=\"simpletable\">\n",
       "<caption>Logit Regression Results</caption>\n",
       "<tr>\n",
       "  <th>Dep. Variable:</th>    <td>psuedomonas_id</td>  <th>  No. Observations:  </th>  <td>5993254</td>\n",
       "</tr>\n",
       "<tr>\n",
       "  <th>Model:</th>                 <td>Logit</td>      <th>  Df Residuals:      </th>  <td>5993134</td>\n",
       "</tr>\n",
       "<tr>\n",
       "  <th>Method:</th>                 <td>MLE</td>       <th>  Df Model:          </th>  <td>   119</td> \n",
       "</tr>\n",
       "<tr>\n",
       "  <th>Date:</th>            <td>Wed, 29 Jan 2025</td> <th>  Pseudo R-squ.:     </th>  <td>0.06920</td>\n",
       "</tr>\n",
       "<tr>\n",
       "  <th>Time:</th>                <td>16:50:14</td>     <th>  Log-Likelihood:    </th> <td> -20790.</td>\n",
       "</tr>\n",
       "<tr>\n",
       "  <th>converged:</th>             <td>False</td>      <th>  LL-Null:           </th> <td> -22336.</td>\n",
       "</tr>\n",
       "<tr>\n",
       "  <th>Covariance Type:</th>     <td>nonrobust</td>    <th>  LLR p-value:       </th>  <td> 0.000</td> \n",
       "</tr>\n",
       "</table>\n",
       "<table class=\"simpletable\">\n",
       "<tr>\n",
       "                                      <td></td>                                        <th>coef</th>     <th>std err</th>      <th>z</th>      <th>P>|z|</th>  <th>[0.025</th>    <th>0.975]</th>  \n",
       "</tr>\n",
       "<tr>\n",
       "  <th>Intercept</th>                                                                <td>  -11.6051</td> <td>    0.286</td> <td>  -40.552</td> <td> 0.000</td> <td>  -12.166</td> <td>  -11.044</td>\n",
       "</tr>\n",
       "<tr>\n",
       "  <th>C(age_category_at_consult, Treatment('Puppy'))[T.Juvenile]</th>               <td>    0.5938</td> <td>    0.392</td> <td>    1.513</td> <td> 0.130</td> <td>   -0.175</td> <td>    1.363</td>\n",
       "</tr>\n",
       "<tr>\n",
       "  <th>C(age_category_at_consult, Treatment('Puppy'))[T.Young Adult]</th>            <td>    1.6413</td> <td>    0.304</td> <td>    5.391</td> <td> 0.000</td> <td>    1.045</td> <td>    2.238</td>\n",
       "</tr>\n",
       "<tr>\n",
       "  <th>C(age_category_at_consult, Treatment('Puppy'))[T.Mature Adult]</th>           <td>    2.9858</td> <td>    0.280</td> <td>   10.660</td> <td> 0.000</td> <td>    2.437</td> <td>    3.535</td>\n",
       "</tr>\n",
       "<tr>\n",
       "  <th>C(age_category_at_consult, Treatment('Puppy'))[T.Senior]</th>                 <td>    3.4771</td> <td>    0.280</td> <td>   12.422</td> <td> 0.000</td> <td>    2.929</td> <td>    4.026</td>\n",
       "</tr>\n",
       "<tr>\n",
       "  <th>C(age_category_at_consult, Treatment('Puppy'))[T.Geriatric]</th>              <td>    3.5140</td> <td>    0.283</td> <td>   12.418</td> <td> 0.000</td> <td>    2.959</td> <td>    4.069</td>\n",
       "</tr>\n",
       "<tr>\n",
       "  <th>C(Sex_Neuter_Status, Treatment('female_neutered'))[T.female_entire]</th>      <td>    0.2870</td> <td>    0.069</td> <td>    4.140</td> <td> 0.000</td> <td>    0.151</td> <td>    0.423</td>\n",
       "</tr>\n",
       "<tr>\n",
       "  <th>C(Sex_Neuter_Status, Treatment('female_neutered'))[T.male_entire]</th>        <td>    0.5044</td> <td>    0.056</td> <td>    8.983</td> <td> 0.000</td> <td>    0.394</td> <td>    0.614</td>\n",
       "</tr>\n",
       "<tr>\n",
       "  <th>C(Sex_Neuter_Status, Treatment('female_neutered'))[T.male_neutered]</th>      <td>    0.2719</td> <td>    0.049</td> <td>    5.565</td> <td> 0.000</td> <td>    0.176</td> <td>    0.368</td>\n",
       "</tr>\n",
       "<tr>\n",
       "  <th>C(breed, Treatment('Crossbreed'))[T.Airedale Terrier]</th>                    <td>    0.0877</td> <td>    0.710</td> <td>    0.124</td> <td> 0.902</td> <td>   -1.303</td> <td>    1.479</td>\n",
       "</tr>\n",
       "<tr>\n",
       "  <th>C(breed, Treatment('Crossbreed'))[T.Akita]</th>                               <td>    0.5670</td> <td>    0.710</td> <td>    0.799</td> <td> 0.424</td> <td>   -0.824</td> <td>    1.958</td>\n",
       "</tr>\n",
       "<tr>\n",
       "  <th>C(breed, Treatment('Crossbreed'))[T.Alaskan Malamute]</th>                    <td>   -0.6861</td> <td>    1.002</td> <td>   -0.685</td> <td> 0.493</td> <td>   -2.650</td> <td>    1.277</td>\n",
       "</tr>\n",
       "<tr>\n",
       "  <th>C(breed, Treatment('Crossbreed'))[T.American Bulldog]</th>                    <td>   -0.8901</td> <td>    1.002</td> <td>   -0.888</td> <td> 0.374</td> <td>   -2.854</td> <td>    1.074</td>\n",
       "</tr>\n",
       "<tr>\n",
       "  <th>C(breed, Treatment('Crossbreed'))[T.Basset Hound]</th>                        <td>    2.6648</td> <td>    0.147</td> <td>   18.076</td> <td> 0.000</td> <td>    2.376</td> <td>    2.954</td>\n",
       "</tr>\n",
       "<tr>\n",
       "  <th>C(breed, Treatment('Crossbreed'))[T.Beagle]</th>                              <td>    0.6197</td> <td>    0.217</td> <td>    2.860</td> <td> 0.004</td> <td>    0.195</td> <td>    1.044</td>\n",
       "</tr>\n",
       "<tr>\n",
       "  <th>C(breed, Treatment('Crossbreed'))[T.Bearded Collie]</th>                      <td>    0.5770</td> <td>    0.451</td> <td>    1.279</td> <td> 0.201</td> <td>   -0.307</td> <td>    1.461</td>\n",
       "</tr>\n",
       "<tr>\n",
       "  <th>C(breed, Treatment('Crossbreed'))[T.Bedlington Terrier]</th>                  <td>    1.4187</td> <td>    0.295</td> <td>    4.812</td> <td> 0.000</td> <td>    0.841</td> <td>    1.996</td>\n",
       "</tr>\n",
       "<tr>\n",
       "  <th>C(breed, Treatment('Crossbreed'))[T.Bernese Mountain Dog]</th>                <td>    0.5559</td> <td>    0.710</td> <td>    0.783</td> <td> 0.434</td> <td>   -0.835</td> <td>    1.947</td>\n",
       "</tr>\n",
       "<tr>\n",
       "  <th>C(breed, Treatment('Crossbreed'))[T.Bichon Frise]</th>                        <td>    0.4352</td> <td>    0.201</td> <td>    2.162</td> <td> 0.031</td> <td>    0.041</td> <td>    0.830</td>\n",
       "</tr>\n",
       "<tr>\n",
       "  <th>C(breed, Treatment('Crossbreed'))[T.Border Collie]</th>                       <td>   -1.6073</td> <td>    0.322</td> <td>   -4.997</td> <td> 0.000</td> <td>   -2.238</td> <td>   -0.977</td>\n",
       "</tr>\n",
       "<tr>\n",
       "  <th>C(breed, Treatment('Crossbreed'))[T.Border Terrier]</th>                      <td>    0.2835</td> <td>    0.177</td> <td>    1.603</td> <td> 0.109</td> <td>   -0.063</td> <td>    0.630</td>\n",
       "</tr>\n",
       "<tr>\n",
       "  <th>C(breed, Treatment('Crossbreed'))[T.Boston Terrier]</th>                      <td>   -0.9507</td> <td>    1.002</td> <td>   -0.949</td> <td> 0.343</td> <td>   -2.914</td> <td>    1.013</td>\n",
       "</tr>\n",
       "<tr>\n",
       "  <th>C(breed, Treatment('Crossbreed'))[T.Bouvier Des Flandres]</th>                <td>    3.2114</td> <td>    1.006</td> <td>    3.193</td> <td> 0.001</td> <td>    1.240</td> <td>    5.183</td>\n",
       "</tr>\n",
       "<tr>\n",
       "  <th>C(breed, Treatment('Crossbreed'))[T.Boxer]</th>                               <td>   -0.8522</td> <td>    0.383</td> <td>   -2.227</td> <td> 0.026</td> <td>   -1.602</td> <td>   -0.102</td>\n",
       "</tr>\n",
       "<tr>\n",
       "  <th>C(breed, Treatment('Crossbreed'))[T.Bracco Italiano]</th>                     <td>    3.0963</td> <td>    1.005</td> <td>    3.080</td> <td> 0.002</td> <td>    1.126</td> <td>    5.067</td>\n",
       "</tr>\n",
       "<tr>\n",
       "  <th>C(breed, Treatment('Crossbreed'))[T.Brittany]</th>                            <td>    0.7679</td> <td>    1.002</td> <td>    0.766</td> <td> 0.443</td> <td>   -1.196</td> <td>    2.732</td>\n",
       "</tr>\n",
       "<tr>\n",
       "  <th>C(breed, Treatment('Crossbreed'))[T.Bull Terrier]</th>                        <td>    0.5789</td> <td>    0.359</td> <td>    1.614</td> <td> 0.106</td> <td>   -0.124</td> <td>    1.282</td>\n",
       "</tr>\n",
       "<tr>\n",
       "  <th>C(breed, Treatment('Crossbreed'))[T.Bulldog]</th>                             <td>    1.2790</td> <td>    0.182</td> <td>    7.022</td> <td> 0.000</td> <td>    0.922</td> <td>    1.636</td>\n",
       "</tr>\n",
       "<tr>\n",
       "  <th>C(breed, Treatment('Crossbreed'))[T.Bullmastiff]</th>                         <td>    1.2306</td> <td>    1.002</td> <td>    1.228</td> <td> 0.220</td> <td>   -0.734</td> <td>    3.195</td>\n",
       "</tr>\n",
       "<tr>\n",
       "  <th>C(breed, Treatment('Crossbreed'))[T.Cairn Terrier]</th>                       <td>   -0.5195</td> <td>    0.504</td> <td>   -1.032</td> <td> 0.302</td> <td>   -1.506</td> <td>    0.467</td>\n",
       "</tr>\n",
       "<tr>\n",
       "  <th>C(breed, Treatment('Crossbreed'))[T.Cavachon]</th>                            <td>    1.1062</td> <td>    1.002</td> <td>    1.104</td> <td> 0.270</td> <td>   -0.858</td> <td>    3.071</td>\n",
       "</tr>\n",
       "<tr>\n",
       "  <th>C(breed, Treatment('Crossbreed'))[T.Cavalier King Charles Spaniel]</th>       <td>    0.4754</td> <td>    0.147</td> <td>    3.230</td> <td> 0.001</td> <td>    0.187</td> <td>    0.764</td>\n",
       "</tr>\n",
       "<tr>\n",
       "  <th>C(breed, Treatment('Crossbreed'))[T.Cesky Terrier]</th>                       <td>    4.2734</td> <td>    1.013</td> <td>    4.221</td> <td> 0.000</td> <td>    2.289</td> <td>    6.258</td>\n",
       "</tr>\n",
       "<tr>\n",
       "  <th>C(breed, Treatment('Crossbreed'))[T.Chihuahua]</th>                           <td>   -1.2996</td> <td>    0.413</td> <td>   -3.150</td> <td> 0.002</td> <td>   -2.108</td> <td>   -0.491</td>\n",
       "</tr>\n",
       "<tr>\n",
       "  <th>C(breed, Treatment('Crossbreed'))[T.Chinese Crested]</th>                     <td>   -0.1636</td> <td>    1.002</td> <td>   -0.163</td> <td> 0.870</td> <td>   -2.127</td> <td>    1.800</td>\n",
       "</tr>\n",
       "<tr>\n",
       "  <th>C(breed, Treatment('Crossbreed'))[T.Chow Chow]</th>                           <td>    1.8898</td> <td>    0.383</td> <td>    4.932</td> <td> 0.000</td> <td>    1.139</td> <td>    2.641</td>\n",
       "</tr>\n",
       "<tr>\n",
       "  <th>C(breed, Treatment('Crossbreed'))[T.Cockapoo]</th>                            <td>    1.0520</td> <td>    0.125</td> <td>    8.416</td> <td> 0.000</td> <td>    0.807</td> <td>    1.297</td>\n",
       "</tr>\n",
       "<tr>\n",
       "  <th>C(breed, Treatment('Crossbreed'))[T.Collie (Generic)]</th>                    <td>    0.1529</td> <td>    0.504</td> <td>    0.304</td> <td> 0.761</td> <td>   -0.834</td> <td>    1.140</td>\n",
       "</tr>\n",
       "<tr>\n",
       "  <th>C(breed, Treatment('Crossbreed'))[T.Collie (Smooth)]</th>                     <td>    0.1224</td> <td>    1.002</td> <td>    0.122</td> <td> 0.903</td> <td>   -1.841</td> <td>    2.086</td>\n",
       "</tr>\n",
       "<tr>\n",
       "  <th>C(breed, Treatment('Crossbreed'))[T.Cross]</th>                               <td>   -0.0960</td> <td>    0.212</td> <td>   -0.452</td> <td> 0.651</td> <td>   -0.512</td> <td>    0.320</td>\n",
       "</tr>\n",
       "<tr>\n",
       "  <th>C(breed, Treatment('Crossbreed'))[T.Dachshund]</th>                           <td>   -0.0701</td> <td>    0.413</td> <td>   -0.170</td> <td> 0.865</td> <td>   -0.879</td> <td>    0.739</td>\n",
       "</tr>\n",
       "<tr>\n",
       "  <th>C(breed, Treatment('Crossbreed'))[T.Dachshund (Miniature Smooth-Haired)]</th> <td>   -0.4034</td> <td>    0.710</td> <td>   -0.568</td> <td> 0.570</td> <td>   -1.794</td> <td>    0.988</td>\n",
       "</tr>\n",
       "<tr>\n",
       "  <th>C(breed, Treatment('Crossbreed'))[T.Dachshund (Miniature)]</th>               <td>   -0.8428</td> <td>    0.710</td> <td>   -1.188</td> <td> 0.235</td> <td>   -2.234</td> <td>    0.548</td>\n",
       "</tr>\n",
       "<tr>\n",
       "  <th>C(breed, Treatment('Crossbreed'))[T.Dachshund (Standard)]</th>                <td>    1.6569</td> <td>    0.710</td> <td>    2.333</td> <td> 0.020</td> <td>    0.265</td> <td>    3.049</td>\n",
       "</tr>\n",
       "<tr>\n",
       "  <th>C(breed, Treatment('Crossbreed'))[T.Dalmatian]</th>                           <td>    0.6975</td> <td>    0.322</td> <td>    2.168</td> <td> 0.030</td> <td>    0.067</td> <td>    1.328</td>\n",
       "</tr>\n",
       "<tr>\n",
       "  <th>C(breed, Treatment('Crossbreed'))[T.Dobermann]</th>                           <td>   -1.2071</td> <td>    1.002</td> <td>   -1.205</td> <td> 0.228</td> <td>   -3.171</td> <td>    0.756</td>\n",
       "</tr>\n",
       "<tr>\n",
       "  <th>C(breed, Treatment('Crossbreed'))[T.Dogue De Bordeaux]</th>                   <td>   -0.3395</td> <td>    1.002</td> <td>   -0.339</td> <td> 0.735</td> <td>   -2.303</td> <td>    1.624</td>\n",
       "</tr>\n",
       "<tr>\n",
       "  <th>C(breed, Treatment('Crossbreed'))[T.English Setter]</th>                      <td>    1.8000</td> <td>    0.322</td> <td>    5.589</td> <td> 0.000</td> <td>    1.169</td> <td>    2.431</td>\n",
       "</tr>\n",
       "<tr>\n",
       "  <th>C(breed, Treatment('Crossbreed'))[T.Fox Terrier (Wire)]</th>                  <td>    1.0120</td> <td>    0.581</td> <td>    1.743</td> <td> 0.081</td> <td>   -0.126</td> <td>    2.150</td>\n",
       "</tr>\n",
       "<tr>\n",
       "  <th>C(breed, Treatment('Crossbreed'))[T.French Bulldog]</th>                      <td>    0.4855</td> <td>    0.193</td> <td>    2.516</td> <td> 0.012</td> <td>    0.107</td> <td>    0.864</td>\n",
       "</tr>\n",
       "<tr>\n",
       "  <th>C(breed, Treatment('Crossbreed'))[T.German Pointer]</th>                      <td>    2.0897</td> <td>    1.003</td> <td>    2.083</td> <td> 0.037</td> <td>    0.124</td> <td>    4.056</td>\n",
       "</tr>\n",
       "<tr>\n",
       "  <th>C(breed, Treatment('Crossbreed'))[T.German Shepherd Dog (Alsatian)]</th>      <td>    0.9867</td> <td>    0.134</td> <td>    7.351</td> <td> 0.000</td> <td>    0.724</td> <td>    1.250</td>\n",
       "</tr>\n",
       "<tr>\n",
       "  <th>C(breed, Treatment('Crossbreed'))[T.German Shorthaired Pointer]</th>          <td>    0.2822</td> <td>    0.504</td> <td>    0.560</td> <td> 0.575</td> <td>   -0.705</td> <td>    1.269</td>\n",
       "</tr>\n",
       "<tr>\n",
       "  <th>C(breed, Treatment('Crossbreed'))[T.German Wirehaired Pointer]</th>           <td>    2.5618</td> <td>    0.339</td> <td>    7.552</td> <td> 0.000</td> <td>    1.897</td> <td>    3.227</td>\n",
       "</tr>\n",
       "<tr>\n",
       "  <th>C(breed, Treatment('Crossbreed'))[T.Glen Of Imaal Terrier]</th>               <td>    5.5467</td> <td>    1.051</td> <td>    5.278</td> <td> 0.000</td> <td>    3.487</td> <td>    7.606</td>\n",
       "</tr>\n",
       "<tr>\n",
       "  <th>C(breed, Treatment('Crossbreed'))[T.Gordon Setter]</th>                       <td>    2.1012</td> <td>    0.413</td> <td>    5.087</td> <td> 0.000</td> <td>    1.292</td> <td>    2.911</td>\n",
       "</tr>\n",
       "<tr>\n",
       "  <th>C(breed, Treatment('Crossbreed'))[T.Great Dane]</th>                          <td>    0.1411</td> <td>    0.710</td> <td>    0.199</td> <td> 0.842</td> <td>   -1.250</td> <td>    1.532</td>\n",
       "</tr>\n",
       "<tr>\n",
       "  <th>C(breed, Treatment('Crossbreed'))[T.Greyhound]</th>                           <td>   -2.5873</td> <td>    1.002</td> <td>   -2.583</td> <td> 0.010</td> <td>   -4.551</td> <td>   -0.624</td>\n",
       "</tr>\n",
       "<tr>\n",
       "  <th>C(breed, Treatment('Crossbreed'))[T.Hungarian Puli]</th>                      <td>    3.8054</td> <td>    0.715</td> <td>    5.321</td> <td> 0.000</td> <td>    2.404</td> <td>    5.207</td>\n",
       "</tr>\n",
       "<tr>\n",
       "  <th>C(breed, Treatment('Crossbreed'))[T.Hungarian Vizsla]</th>                    <td>    0.6472</td> <td>    0.339</td> <td>    1.911</td> <td> 0.056</td> <td>   -0.016</td> <td>    1.311</td>\n",
       "</tr>\n",
       "<tr>\n",
       "  <th>C(breed, Treatment('Crossbreed'))[T.Hungarian Wire Haired Vizsla]</th>        <td>    2.6510</td> <td>    0.323</td> <td>    8.218</td> <td> 0.000</td> <td>    2.019</td> <td>    3.283</td>\n",
       "</tr>\n",
       "<tr>\n",
       "  <th>C(breed, Treatment('Crossbreed'))[T.Husky (generic)]</th>                     <td>    0.3686</td> <td>    0.580</td> <td>    0.635</td> <td> 0.525</td> <td>   -0.769</td> <td>    1.506</td>\n",
       "</tr>\n",
       "<tr>\n",
       "  <th>C(breed, Treatment('Crossbreed'))[T.Irish Setter]</th>                        <td>    0.0733</td> <td>    0.581</td> <td>    0.126</td> <td> 0.900</td> <td>   -1.065</td> <td>    1.211</td>\n",
       "</tr>\n",
       "<tr>\n",
       "  <th>C(breed, Treatment('Crossbreed'))[T.Italian Spinone]</th>                     <td>    2.9612</td> <td>    0.209</td> <td>   14.158</td> <td> 0.000</td> <td>    2.551</td> <td>    3.371</td>\n",
       "</tr>\n",
       "<tr>\n",
       "  <th>C(breed, Treatment('Crossbreed'))[T.Jack Russell Terrier]</th>                <td>   -1.1396</td> <td>    0.201</td> <td>   -5.659</td> <td> 0.000</td> <td>   -1.534</td> <td>   -0.745</td>\n",
       "</tr>\n",
       "<tr>\n",
       "  <th>C(breed, Treatment('Crossbreed'))[T.Japanese Akita Inu]</th>                  <td>    0.6092</td> <td>    0.710</td> <td>    0.858</td> <td> 0.391</td> <td>   -0.782</td> <td>    2.000</td>\n",
       "</tr>\n",
       "<tr>\n",
       "  <th>C(breed, Treatment('Crossbreed'))[T.King Charles Spaniel]</th>                <td>   -0.1160</td> <td>    0.710</td> <td>   -0.163</td> <td> 0.870</td> <td>   -1.507</td> <td>    1.275</td>\n",
       "</tr>\n",
       "<tr>\n",
       "  <th>C(breed, Treatment('Crossbreed'))[T.Labradoodle]</th>                         <td>    1.3247</td> <td>    0.147</td> <td>    8.997</td> <td> 0.000</td> <td>    1.036</td> <td>    1.613</td>\n",
       "</tr>\n",
       "<tr>\n",
       "  <th>C(breed, Treatment('Crossbreed'))[T.Lakeland Terrier]</th>                    <td>    0.0074</td> <td>    0.580</td> <td>    0.013</td> <td> 0.990</td> <td>   -1.130</td> <td>    1.145</td>\n",
       "</tr>\n",
       "<tr>\n",
       "  <th>C(breed, Treatment('Crossbreed'))[T.Large Munsterlander]</th>                 <td>    2.2265</td> <td>    1.003</td> <td>    2.219</td> <td> 0.026</td> <td>    0.260</td> <td>    4.193</td>\n",
       "</tr>\n",
       "<tr>\n",
       "  <th>C(breed, Treatment('Crossbreed'))[T.Leonberger]</th>                          <td>    1.0551</td> <td>    0.710</td> <td>    1.486</td> <td> 0.137</td> <td>   -0.336</td> <td>    2.447</td>\n",
       "</tr>\n",
       "<tr>\n",
       "  <th>C(breed, Treatment('Crossbreed'))[T.Lhasa Apso]</th>                          <td>    0.1917</td> <td>    0.221</td> <td>    0.867</td> <td> 0.386</td> <td>   -0.242</td> <td>    0.625</td>\n",
       "</tr>\n",
       "<tr>\n",
       "  <th>C(breed, Treatment('Crossbreed'))[T.Lurcher]</th>                             <td>   -1.2495</td> <td>    0.503</td> <td>   -2.482</td> <td> 0.013</td> <td>   -2.236</td> <td>   -0.263</td>\n",
       "</tr>\n",
       "<tr>\n",
       "  <th>C(breed, Treatment('Crossbreed'))[T.Mastiff]</th>                             <td>    0.3942</td> <td>    0.710</td> <td>    0.555</td> <td> 0.579</td> <td>   -0.997</td> <td>    1.785</td>\n",
       "</tr>\n",
       "<tr>\n",
       "  <th>C(breed, Treatment('Crossbreed'))[T.Miniature Schnauzer]</th>                 <td>   -0.2830</td> <td>    0.307</td> <td>   -0.921</td> <td> 0.357</td> <td>   -0.885</td> <td>    0.319</td>\n",
       "</tr>\n",
       "<tr>\n",
       "  <th>C(breed, Treatment('Crossbreed'))[T.Newfoundland]</th>                        <td>    2.9573</td> <td>    0.175</td> <td>   16.863</td> <td> 0.000</td> <td>    2.614</td> <td>    3.301</td>\n",
       "</tr>\n",
       "<tr>\n",
       "  <th>C(breed, Treatment('Crossbreed'))[T.Norfolk Terrier]</th>                     <td>   -0.5549</td> <td>    1.002</td> <td>   -0.554</td> <td> 0.580</td> <td>   -2.518</td> <td>    1.409</td>\n",
       "</tr>\n",
       "<tr>\n",
       "  <th>C(breed, Treatment('Crossbreed'))[T.Old English Sheepdog]</th>                <td>   -0.3089</td> <td>    1.002</td> <td>   -0.308</td> <td> 0.758</td> <td>   -2.272</td> <td>    1.655</td>\n",
       "</tr>\n",
       "<tr>\n",
       "  <th>C(breed, Treatment('Crossbreed'))[T.Otterhound]</th>                          <td>    4.4564</td> <td>    0.719</td> <td>    6.195</td> <td> 0.000</td> <td>    3.047</td> <td>    5.866</td>\n",
       "</tr>\n",
       "<tr>\n",
       "  <th>C(breed, Treatment('Crossbreed'))[T.Papillon]</th>                            <td>   -0.3825</td> <td>    1.002</td> <td>   -0.382</td> <td> 0.703</td> <td>   -2.346</td> <td>    1.581</td>\n",
       "</tr>\n",
       "<tr>\n",
       "  <th>C(breed, Treatment('Crossbreed'))[T.Parson Russell Terrier]</th>              <td>   -0.3636</td> <td>    0.710</td> <td>   -0.512</td> <td> 0.608</td> <td>   -1.754</td> <td>    1.027</td>\n",
       "</tr>\n",
       "<tr>\n",
       "  <th>C(breed, Treatment('Crossbreed'))[T.Patterdale Terrier]</th>                  <td>   -0.6812</td> <td>    0.503</td> <td>   -1.353</td> <td> 0.176</td> <td>   -1.668</td> <td>    0.306</td>\n",
       "</tr>\n",
       "<tr>\n",
       "  <th>C(breed, Treatment('Crossbreed'))[T.Pekingese]</th>                           <td>   -0.0838</td> <td>    1.002</td> <td>   -0.084</td> <td> 0.933</td> <td>   -2.048</td> <td>    1.880</td>\n",
       "</tr>\n",
       "<tr>\n",
       "  <th>C(breed, Treatment('Crossbreed'))[T.Pointer]</th>                             <td>    0.1193</td> <td>    0.580</td> <td>    0.205</td> <td> 0.837</td> <td>   -1.018</td> <td>    1.257</td>\n",
       "</tr>\n",
       "<tr>\n",
       "  <th>C(breed, Treatment('Crossbreed'))[T.Poodle (Miniature)]</th>                  <td>    0.6158</td> <td>    0.322</td> <td>    1.914</td> <td> 0.056</td> <td>   -0.015</td> <td>    1.246</td>\n",
       "</tr>\n",
       "<tr>\n",
       "  <th>C(breed, Treatment('Crossbreed'))[T.Poodle (Toy)]</th>                        <td>   -0.1608</td> <td>    0.504</td> <td>   -0.319</td> <td> 0.749</td> <td>   -1.148</td> <td>    0.826</td>\n",
       "</tr>\n",
       "<tr>\n",
       "  <th>C(breed, Treatment('Crossbreed'))[T.Poodle (generic)]</th>                    <td>    1.4328</td> <td>    0.231</td> <td>    6.194</td> <td> 0.000</td> <td>    0.979</td> <td>    1.886</td>\n",
       "</tr>\n",
       "<tr>\n",
       "  <th>C(breed, Treatment('Crossbreed'))[T.Portuguese Water Dog]</th>                <td>    1.0432</td> <td>    1.002</td> <td>    1.041</td> <td> 0.298</td> <td>   -0.921</td> <td>    3.007</td>\n",
       "</tr>\n",
       "<tr>\n",
       "  <th>C(breed, Treatment('Crossbreed'))[T.Pug]</th>                                 <td>    0.7550</td> <td>    0.184</td> <td>    4.101</td> <td> 0.000</td> <td>    0.394</td> <td>    1.116</td>\n",
       "</tr>\n",
       "<tr>\n",
       "  <th>C(breed, Treatment('Crossbreed'))[T.Retriever (Flat Coated)]</th>             <td>   -0.0845</td> <td>    0.580</td> <td>   -0.146</td> <td> 0.884</td> <td>   -1.222</td> <td>    1.053</td>\n",
       "</tr>\n",
       "<tr>\n",
       "  <th>C(breed, Treatment('Crossbreed'))[T.Retriever (Generic)]</th>                 <td>    1.0704</td> <td>    0.307</td> <td>    3.483</td> <td> 0.000</td> <td>    0.468</td> <td>    1.673</td>\n",
       "</tr>\n",
       "<tr>\n",
       "  <th>C(breed, Treatment('Crossbreed'))[T.Retriever (Golden)]</th>                  <td>    0.6639</td> <td>    0.148</td> <td>    4.477</td> <td> 0.000</td> <td>    0.373</td> <td>    0.954</td>\n",
       "</tr>\n",
       "<tr>\n",
       "  <th>C(breed, Treatment('Crossbreed'))[T.Retriever (Labrador)]</th>                <td>    0.6792</td> <td>    0.084</td> <td>    8.095</td> <td> 0.000</td> <td>    0.515</td> <td>    0.844</td>\n",
       "</tr>\n",
       "<tr>\n",
       "  <th>C(breed, Treatment('Crossbreed'))[T.Rhodesian Ridgeback]</th>                 <td>    1.0347</td> <td>    0.383</td> <td>    2.703</td> <td> 0.007</td> <td>    0.285</td> <td>    1.785</td>\n",
       "</tr>\n",
       "<tr>\n",
       "  <th>C(breed, Treatment('Crossbreed'))[T.Rottweiler]</th>                          <td>    1.0799</td> <td>    0.237</td> <td>    4.554</td> <td> 0.000</td> <td>    0.615</td> <td>    1.545</td>\n",
       "</tr>\n",
       "<tr>\n",
       "  <th>C(breed, Treatment('Crossbreed'))[T.Saluki]</th>                              <td>    0.9228</td> <td>    0.710</td> <td>    1.300</td> <td> 0.194</td> <td>   -0.468</td> <td>    2.314</td>\n",
       "</tr>\n",
       "<tr>\n",
       "  <th>C(breed, Treatment('Crossbreed'))[T.Schnauzer]</th>                           <td>   -0.8922</td> <td>    1.002</td> <td>   -0.891</td> <td> 0.373</td> <td>   -2.856</td> <td>    1.071</td>\n",
       "</tr>\n",
       "<tr>\n",
       "  <th>C(breed, Treatment('Crossbreed'))[T.Scottish Terrier]</th>                    <td>    0.0929</td> <td>    0.580</td> <td>    0.160</td> <td> 0.873</td> <td>   -1.045</td> <td>    1.231</td>\n",
       "</tr>\n",
       "<tr>\n",
       "  <th>C(breed, Treatment('Crossbreed'))[T.Shar-Pei]</th>                            <td>    2.1887</td> <td>    0.222</td> <td>    9.871</td> <td> 0.000</td> <td>    1.754</td> <td>    2.623</td>\n",
       "</tr>\n",
       "<tr>\n",
       "  <th>C(breed, Treatment('Crossbreed'))[T.Shih Tzu]</th>                            <td>    0.3164</td> <td>    0.148</td> <td>    2.135</td> <td> 0.033</td> <td>    0.026</td> <td>    0.607</td>\n",
       "</tr>\n",
       "<tr>\n",
       "  <th>C(breed, Treatment('Crossbreed'))[T.Siberian Husky]</th>                      <td>   -0.8544</td> <td>    0.710</td> <td>   -1.204</td> <td> 0.229</td> <td>   -2.245</td> <td>    0.536</td>\n",
       "</tr>\n",
       "<tr>\n",
       "  <th>C(breed, Treatment('Crossbreed'))[T.Spaniel (American Cocker)]</th>           <td>    2.7137</td> <td>    0.227</td> <td>   11.979</td> <td> 0.000</td> <td>    2.270</td> <td>    3.158</td>\n",
       "</tr>\n",
       "<tr>\n",
       "  <th>C(breed, Treatment('Crossbreed'))[T.Spaniel (Clumber)]</th>                   <td>    2.3476</td> <td>    0.413</td> <td>    5.680</td> <td> 0.000</td> <td>    1.538</td> <td>    3.158</td>\n",
       "</tr>\n",
       "<tr>\n",
       "  <th>C(breed, Treatment('Crossbreed'))[T.Spaniel (Cocker)]</th>                    <td>    1.7308</td> <td>    0.074</td> <td>   23.398</td> <td> 0.000</td> <td>    1.586</td> <td>    1.876</td>\n",
       "</tr>\n",
       "<tr>\n",
       "  <th>C(breed, Treatment('Crossbreed'))[T.Spaniel (English Springer)]</th>          <td>    0.8731</td> <td>    0.231</td> <td>    3.774</td> <td> 0.000</td> <td>    0.420</td> <td>    1.326</td>\n",
       "</tr>\n",
       "<tr>\n",
       "  <th>C(breed, Treatment('Crossbreed'))[T.Spaniel (Field)]</th>                     <td>    2.1838</td> <td>    0.452</td> <td>    4.833</td> <td> 0.000</td> <td>    1.298</td> <td>    3.069</td>\n",
       "</tr>\n",
       "<tr>\n",
       "  <th>C(breed, Treatment('Crossbreed'))[T.Spaniel (Generic)]</th>                   <td>    1.3130</td> <td>    0.322</td> <td>    4.079</td> <td> 0.000</td> <td>    0.682</td> <td>    1.944</td>\n",
       "</tr>\n",
       "<tr>\n",
       "  <th>C(breed, Treatment('Crossbreed'))[T.Spaniel (Irish Water)]</th>               <td>    2.6428</td> <td>    1.004</td> <td>    2.632</td> <td> 0.008</td> <td>    0.675</td> <td>    4.611</td>\n",
       "</tr>\n",
       "<tr>\n",
       "  <th>C(breed, Treatment('Crossbreed'))[T.Spaniel (Springer)]</th>                  <td>    0.9003</td> <td>    0.112</td> <td>    8.034</td> <td> 0.000</td> <td>    0.681</td> <td>    1.120</td>\n",
       "</tr>\n",
       "<tr>\n",
       "  <th>C(breed, Treatment('Crossbreed'))[T.Spaniel (Welsh Springer)]</th>            <td>    1.5790</td> <td>    0.359</td> <td>    4.402</td> <td> 0.000</td> <td>    0.876</td> <td>    2.282</td>\n",
       "</tr>\n",
       "<tr>\n",
       "  <th>C(breed, Treatment('Crossbreed'))[T.Sprocker]</th>                            <td>    0.7183</td> <td>    0.710</td> <td>    1.012</td> <td> 0.312</td> <td>   -0.673</td> <td>    2.109</td>\n",
       "</tr>\n",
       "<tr>\n",
       "  <th>C(breed, Treatment('Crossbreed'))[T.St. Bernard]</th>                         <td>    2.0649</td> <td>    0.452</td> <td>    4.570</td> <td> 0.000</td> <td>    1.179</td> <td>    2.951</td>\n",
       "</tr>\n",
       "<tr>\n",
       "  <th>C(breed, Treatment('Crossbreed'))[T.Staffordshire Bull Terrier]</th>          <td>   -0.3779</td> <td>    0.175</td> <td>   -2.164</td> <td> 0.030</td> <td>   -0.720</td> <td>   -0.036</td>\n",
       "</tr>\n",
       "<tr>\n",
       "  <th>C(breed, Treatment('Crossbreed'))[T.Terrier (Generic)]</th>                   <td>    0.5361</td> <td>    0.307</td> <td>    1.745</td> <td> 0.081</td> <td>   -0.066</td> <td>    1.138</td>\n",
       "</tr>\n",
       "<tr>\n",
       "  <th>C(breed, Treatment('Crossbreed'))[T.Tibetan Terrier]</th>                     <td>    1.6654</td> <td>    0.205</td> <td>    8.128</td> <td> 0.000</td> <td>    1.264</td> <td>    2.067</td>\n",
       "</tr>\n",
       "<tr>\n",
       "  <th>C(breed, Treatment('Crossbreed'))[T.Weimaraner]</th>                          <td>   -0.8261</td> <td>    0.710</td> <td>   -1.164</td> <td> 0.244</td> <td>   -2.217</td> <td>    0.565</td>\n",
       "</tr>\n",
       "<tr>\n",
       "  <th>C(breed, Treatment('Crossbreed'))[T.Welsh Terrier]</th>                       <td>    1.3793</td> <td>    0.451</td> <td>    3.056</td> <td> 0.002</td> <td>    0.495</td> <td>    2.264</td>\n",
       "</tr>\n",
       "<tr>\n",
       "  <th>C(breed, Treatment('Crossbreed'))[T.West Highland White Terrier]</th>         <td>    1.1427</td> <td>    0.103</td> <td>   11.058</td> <td> 0.000</td> <td>    0.940</td> <td>    1.345</td>\n",
       "</tr>\n",
       "<tr>\n",
       "  <th>C(breed, Treatment('Crossbreed'))[T.Yorkshire Terrier]</th>                   <td>   -0.7469</td> <td>    0.257</td> <td>   -2.908</td> <td> 0.004</td> <td>   -1.250</td> <td>   -0.243</td>\n",
       "</tr>\n",
       "<tr>\n",
       "  <th>C(breed, Treatment('Crossbreed'))[T.other]</th>                               <td>  -10.0352</td> <td>   23.338</td> <td>   -0.430</td> <td> 0.667</td> <td>  -55.777</td> <td>   35.707</td>\n",
       "</tr>\n",
       "</table><br/><br/>Possibly complete quasi-separation: A fraction 0.29 of observations can be<br/>perfectly predicted. This might indicate that there is complete<br/>quasi-separation. In this case some parameters will not be identified."
      ],
      "text/latex": [
       "\\begin{center}\n",
       "\\begin{tabular}{lclc}\n",
       "\\toprule\n",
       "\\textbf{Dep. Variable:}                                                           & psuedomonas\\_id  & \\textbf{  No. Observations:  } &  5993254    \\\\\n",
       "\\textbf{Model:}                                                                   &      Logit       & \\textbf{  Df Residuals:      } &  5993134    \\\\\n",
       "\\textbf{Method:}                                                                  &       MLE        & \\textbf{  Df Model:          } &      119    \\\\\n",
       "\\textbf{Date:}                                                                    & Wed, 29 Jan 2025 & \\textbf{  Pseudo R-squ.:     } &  0.06920    \\\\\n",
       "\\textbf{Time:}                                                                    &     16:50:14     & \\textbf{  Log-Likelihood:    } &   -20790.   \\\\\n",
       "\\textbf{converged:}                                                               &      False       & \\textbf{  LL-Null:           } &   -22336.   \\\\\n",
       "\\textbf{Covariance Type:}                                                         &    nonrobust     & \\textbf{  LLR p-value:       } &    0.000    \\\\\n",
       "\\bottomrule\n",
       "\\end{tabular}\n",
       "\\begin{tabular}{lcccccc}\n",
       "                                                                                  & \\textbf{coef} & \\textbf{std err} & \\textbf{z} & \\textbf{P$> |$z$|$} & \\textbf{[0.025} & \\textbf{0.975]}  \\\\\n",
       "\\midrule\n",
       "\\textbf{Intercept}                                                                &     -11.6051  &        0.286     &   -40.552  &         0.000        &      -12.166    &      -11.044     \\\\\n",
       "\\textbf{C(age\\_category\\_at\\_consult, Treatment('Puppy'))[T.Juvenile]}            &       0.5938  &        0.392     &     1.513  &         0.130        &       -0.175    &        1.363     \\\\\n",
       "\\textbf{C(age\\_category\\_at\\_consult, Treatment('Puppy'))[T.Young Adult]}         &       1.6413  &        0.304     &     5.391  &         0.000        &        1.045    &        2.238     \\\\\n",
       "\\textbf{C(age\\_category\\_at\\_consult, Treatment('Puppy'))[T.Mature Adult]}        &       2.9858  &        0.280     &    10.660  &         0.000        &        2.437    &        3.535     \\\\\n",
       "\\textbf{C(age\\_category\\_at\\_consult, Treatment('Puppy'))[T.Senior]}              &       3.4771  &        0.280     &    12.422  &         0.000        &        2.929    &        4.026     \\\\\n",
       "\\textbf{C(age\\_category\\_at\\_consult, Treatment('Puppy'))[T.Geriatric]}           &       3.5140  &        0.283     &    12.418  &         0.000        &        2.959    &        4.069     \\\\\n",
       "\\textbf{C(Sex\\_Neuter\\_Status, Treatment('female\\_neutered'))[T.female\\_entire]}  &       0.2870  &        0.069     &     4.140  &         0.000        &        0.151    &        0.423     \\\\\n",
       "\\textbf{C(Sex\\_Neuter\\_Status, Treatment('female\\_neutered'))[T.male\\_entire]}    &       0.5044  &        0.056     &     8.983  &         0.000        &        0.394    &        0.614     \\\\\n",
       "\\textbf{C(Sex\\_Neuter\\_Status, Treatment('female\\_neutered'))[T.male\\_neutered]}  &       0.2719  &        0.049     &     5.565  &         0.000        &        0.176    &        0.368     \\\\\n",
       "\\textbf{C(breed, Treatment('Crossbreed'))[T.Airedale Terrier]}                    &       0.0877  &        0.710     &     0.124  &         0.902        &       -1.303    &        1.479     \\\\\n",
       "\\textbf{C(breed, Treatment('Crossbreed'))[T.Akita]}                               &       0.5670  &        0.710     &     0.799  &         0.424        &       -0.824    &        1.958     \\\\\n",
       "\\textbf{C(breed, Treatment('Crossbreed'))[T.Alaskan Malamute]}                    &      -0.6861  &        1.002     &    -0.685  &         0.493        &       -2.650    &        1.277     \\\\\n",
       "\\textbf{C(breed, Treatment('Crossbreed'))[T.American Bulldog]}                    &      -0.8901  &        1.002     &    -0.888  &         0.374        &       -2.854    &        1.074     \\\\\n",
       "\\textbf{C(breed, Treatment('Crossbreed'))[T.Basset Hound]}                        &       2.6648  &        0.147     &    18.076  &         0.000        &        2.376    &        2.954     \\\\\n",
       "\\textbf{C(breed, Treatment('Crossbreed'))[T.Beagle]}                              &       0.6197  &        0.217     &     2.860  &         0.004        &        0.195    &        1.044     \\\\\n",
       "\\textbf{C(breed, Treatment('Crossbreed'))[T.Bearded Collie]}                      &       0.5770  &        0.451     &     1.279  &         0.201        &       -0.307    &        1.461     \\\\\n",
       "\\textbf{C(breed, Treatment('Crossbreed'))[T.Bedlington Terrier]}                  &       1.4187  &        0.295     &     4.812  &         0.000        &        0.841    &        1.996     \\\\\n",
       "\\textbf{C(breed, Treatment('Crossbreed'))[T.Bernese Mountain Dog]}                &       0.5559  &        0.710     &     0.783  &         0.434        &       -0.835    &        1.947     \\\\\n",
       "\\textbf{C(breed, Treatment('Crossbreed'))[T.Bichon Frise]}                        &       0.4352  &        0.201     &     2.162  &         0.031        &        0.041    &        0.830     \\\\\n",
       "\\textbf{C(breed, Treatment('Crossbreed'))[T.Border Collie]}                       &      -1.6073  &        0.322     &    -4.997  &         0.000        &       -2.238    &       -0.977     \\\\\n",
       "\\textbf{C(breed, Treatment('Crossbreed'))[T.Border Terrier]}                      &       0.2835  &        0.177     &     1.603  &         0.109        &       -0.063    &        0.630     \\\\\n",
       "\\textbf{C(breed, Treatment('Crossbreed'))[T.Boston Terrier]}                      &      -0.9507  &        1.002     &    -0.949  &         0.343        &       -2.914    &        1.013     \\\\\n",
       "\\textbf{C(breed, Treatment('Crossbreed'))[T.Bouvier Des Flandres]}                &       3.2114  &        1.006     &     3.193  &         0.001        &        1.240    &        5.183     \\\\\n",
       "\\textbf{C(breed, Treatment('Crossbreed'))[T.Boxer]}                               &      -0.8522  &        0.383     &    -2.227  &         0.026        &       -1.602    &       -0.102     \\\\\n",
       "\\textbf{C(breed, Treatment('Crossbreed'))[T.Bracco Italiano]}                     &       3.0963  &        1.005     &     3.080  &         0.002        &        1.126    &        5.067     \\\\\n",
       "\\textbf{C(breed, Treatment('Crossbreed'))[T.Brittany]}                            &       0.7679  &        1.002     &     0.766  &         0.443        &       -1.196    &        2.732     \\\\\n",
       "\\textbf{C(breed, Treatment('Crossbreed'))[T.Bull Terrier]}                        &       0.5789  &        0.359     &     1.614  &         0.106        &       -0.124    &        1.282     \\\\\n",
       "\\textbf{C(breed, Treatment('Crossbreed'))[T.Bulldog]}                             &       1.2790  &        0.182     &     7.022  &         0.000        &        0.922    &        1.636     \\\\\n",
       "\\textbf{C(breed, Treatment('Crossbreed'))[T.Bullmastiff]}                         &       1.2306  &        1.002     &     1.228  &         0.220        &       -0.734    &        3.195     \\\\\n",
       "\\textbf{C(breed, Treatment('Crossbreed'))[T.Cairn Terrier]}                       &      -0.5195  &        0.504     &    -1.032  &         0.302        &       -1.506    &        0.467     \\\\\n",
       "\\textbf{C(breed, Treatment('Crossbreed'))[T.Cavachon]}                            &       1.1062  &        1.002     &     1.104  &         0.270        &       -0.858    &        3.071     \\\\\n",
       "\\textbf{C(breed, Treatment('Crossbreed'))[T.Cavalier King Charles Spaniel]}       &       0.4754  &        0.147     &     3.230  &         0.001        &        0.187    &        0.764     \\\\\n",
       "\\textbf{C(breed, Treatment('Crossbreed'))[T.Cesky Terrier]}                       &       4.2734  &        1.013     &     4.221  &         0.000        &        2.289    &        6.258     \\\\\n",
       "\\textbf{C(breed, Treatment('Crossbreed'))[T.Chihuahua]}                           &      -1.2996  &        0.413     &    -3.150  &         0.002        &       -2.108    &       -0.491     \\\\\n",
       "\\textbf{C(breed, Treatment('Crossbreed'))[T.Chinese Crested]}                     &      -0.1636  &        1.002     &    -0.163  &         0.870        &       -2.127    &        1.800     \\\\\n",
       "\\textbf{C(breed, Treatment('Crossbreed'))[T.Chow Chow]}                           &       1.8898  &        0.383     &     4.932  &         0.000        &        1.139    &        2.641     \\\\\n",
       "\\textbf{C(breed, Treatment('Crossbreed'))[T.Cockapoo]}                            &       1.0520  &        0.125     &     8.416  &         0.000        &        0.807    &        1.297     \\\\\n",
       "\\textbf{C(breed, Treatment('Crossbreed'))[T.Collie (Generic)]}                    &       0.1529  &        0.504     &     0.304  &         0.761        &       -0.834    &        1.140     \\\\\n",
       "\\textbf{C(breed, Treatment('Crossbreed'))[T.Collie (Smooth)]}                     &       0.1224  &        1.002     &     0.122  &         0.903        &       -1.841    &        2.086     \\\\\n",
       "\\textbf{C(breed, Treatment('Crossbreed'))[T.Cross]}                               &      -0.0960  &        0.212     &    -0.452  &         0.651        &       -0.512    &        0.320     \\\\\n",
       "\\textbf{C(breed, Treatment('Crossbreed'))[T.Dachshund]}                           &      -0.0701  &        0.413     &    -0.170  &         0.865        &       -0.879    &        0.739     \\\\\n",
       "\\textbf{C(breed, Treatment('Crossbreed'))[T.Dachshund (Miniature Smooth-Haired)]} &      -0.4034  &        0.710     &    -0.568  &         0.570        &       -1.794    &        0.988     \\\\\n",
       "\\textbf{C(breed, Treatment('Crossbreed'))[T.Dachshund (Miniature)]}               &      -0.8428  &        0.710     &    -1.188  &         0.235        &       -2.234    &        0.548     \\\\\n",
       "\\textbf{C(breed, Treatment('Crossbreed'))[T.Dachshund (Standard)]}                &       1.6569  &        0.710     &     2.333  &         0.020        &        0.265    &        3.049     \\\\\n",
       "\\textbf{C(breed, Treatment('Crossbreed'))[T.Dalmatian]}                           &       0.6975  &        0.322     &     2.168  &         0.030        &        0.067    &        1.328     \\\\\n",
       "\\textbf{C(breed, Treatment('Crossbreed'))[T.Dobermann]}                           &      -1.2071  &        1.002     &    -1.205  &         0.228        &       -3.171    &        0.756     \\\\\n",
       "\\textbf{C(breed, Treatment('Crossbreed'))[T.Dogue De Bordeaux]}                   &      -0.3395  &        1.002     &    -0.339  &         0.735        &       -2.303    &        1.624     \\\\\n",
       "\\textbf{C(breed, Treatment('Crossbreed'))[T.English Setter]}                      &       1.8000  &        0.322     &     5.589  &         0.000        &        1.169    &        2.431     \\\\\n",
       "\\textbf{C(breed, Treatment('Crossbreed'))[T.Fox Terrier (Wire)]}                  &       1.0120  &        0.581     &     1.743  &         0.081        &       -0.126    &        2.150     \\\\\n",
       "\\textbf{C(breed, Treatment('Crossbreed'))[T.French Bulldog]}                      &       0.4855  &        0.193     &     2.516  &         0.012        &        0.107    &        0.864     \\\\\n",
       "\\textbf{C(breed, Treatment('Crossbreed'))[T.German Pointer]}                      &       2.0897  &        1.003     &     2.083  &         0.037        &        0.124    &        4.056     \\\\\n",
       "\\textbf{C(breed, Treatment('Crossbreed'))[T.German Shepherd Dog (Alsatian)]}      &       0.9867  &        0.134     &     7.351  &         0.000        &        0.724    &        1.250     \\\\\n",
       "\\textbf{C(breed, Treatment('Crossbreed'))[T.German Shorthaired Pointer]}          &       0.2822  &        0.504     &     0.560  &         0.575        &       -0.705    &        1.269     \\\\\n",
       "\\textbf{C(breed, Treatment('Crossbreed'))[T.German Wirehaired Pointer]}           &       2.5618  &        0.339     &     7.552  &         0.000        &        1.897    &        3.227     \\\\\n",
       "\\textbf{C(breed, Treatment('Crossbreed'))[T.Glen Of Imaal Terrier]}               &       5.5467  &        1.051     &     5.278  &         0.000        &        3.487    &        7.606     \\\\\n",
       "\\textbf{C(breed, Treatment('Crossbreed'))[T.Gordon Setter]}                       &       2.1012  &        0.413     &     5.087  &         0.000        &        1.292    &        2.911     \\\\\n",
       "\\textbf{C(breed, Treatment('Crossbreed'))[T.Great Dane]}                          &       0.1411  &        0.710     &     0.199  &         0.842        &       -1.250    &        1.532     \\\\\n",
       "\\textbf{C(breed, Treatment('Crossbreed'))[T.Greyhound]}                           &      -2.5873  &        1.002     &    -2.583  &         0.010        &       -4.551    &       -0.624     \\\\\n",
       "\\textbf{C(breed, Treatment('Crossbreed'))[T.Hungarian Puli]}                      &       3.8054  &        0.715     &     5.321  &         0.000        &        2.404    &        5.207     \\\\\n",
       "\\textbf{C(breed, Treatment('Crossbreed'))[T.Hungarian Vizsla]}                    &       0.6472  &        0.339     &     1.911  &         0.056        &       -0.016    &        1.311     \\\\\n",
       "\\textbf{C(breed, Treatment('Crossbreed'))[T.Hungarian Wire Haired Vizsla]}        &       2.6510  &        0.323     &     8.218  &         0.000        &        2.019    &        3.283     \\\\\n",
       "\\textbf{C(breed, Treatment('Crossbreed'))[T.Husky (generic)]}                     &       0.3686  &        0.580     &     0.635  &         0.525        &       -0.769    &        1.506     \\\\\n",
       "\\textbf{C(breed, Treatment('Crossbreed'))[T.Irish Setter]}                        &       0.0733  &        0.581     &     0.126  &         0.900        &       -1.065    &        1.211     \\\\\n",
       "\\textbf{C(breed, Treatment('Crossbreed'))[T.Italian Spinone]}                     &       2.9612  &        0.209     &    14.158  &         0.000        &        2.551    &        3.371     \\\\\n",
       "\\textbf{C(breed, Treatment('Crossbreed'))[T.Jack Russell Terrier]}                &      -1.1396  &        0.201     &    -5.659  &         0.000        &       -1.534    &       -0.745     \\\\\n",
       "\\textbf{C(breed, Treatment('Crossbreed'))[T.Japanese Akita Inu]}                  &       0.6092  &        0.710     &     0.858  &         0.391        &       -0.782    &        2.000     \\\\\n",
       "\\textbf{C(breed, Treatment('Crossbreed'))[T.King Charles Spaniel]}                &      -0.1160  &        0.710     &    -0.163  &         0.870        &       -1.507    &        1.275     \\\\\n",
       "\\textbf{C(breed, Treatment('Crossbreed'))[T.Labradoodle]}                         &       1.3247  &        0.147     &     8.997  &         0.000        &        1.036    &        1.613     \\\\\n",
       "\\textbf{C(breed, Treatment('Crossbreed'))[T.Lakeland Terrier]}                    &       0.0074  &        0.580     &     0.013  &         0.990        &       -1.130    &        1.145     \\\\\n",
       "\\textbf{C(breed, Treatment('Crossbreed'))[T.Large Munsterlander]}                 &       2.2265  &        1.003     &     2.219  &         0.026        &        0.260    &        4.193     \\\\\n",
       "\\textbf{C(breed, Treatment('Crossbreed'))[T.Leonberger]}                          &       1.0551  &        0.710     &     1.486  &         0.137        &       -0.336    &        2.447     \\\\\n",
       "\\textbf{C(breed, Treatment('Crossbreed'))[T.Lhasa Apso]}                          &       0.1917  &        0.221     &     0.867  &         0.386        &       -0.242    &        0.625     \\\\\n",
       "\\textbf{C(breed, Treatment('Crossbreed'))[T.Lurcher]}                             &      -1.2495  &        0.503     &    -2.482  &         0.013        &       -2.236    &       -0.263     \\\\\n",
       "\\textbf{C(breed, Treatment('Crossbreed'))[T.Mastiff]}                             &       0.3942  &        0.710     &     0.555  &         0.579        &       -0.997    &        1.785     \\\\\n",
       "\\textbf{C(breed, Treatment('Crossbreed'))[T.Miniature Schnauzer]}                 &      -0.2830  &        0.307     &    -0.921  &         0.357        &       -0.885    &        0.319     \\\\\n",
       "\\textbf{C(breed, Treatment('Crossbreed'))[T.Newfoundland]}                        &       2.9573  &        0.175     &    16.863  &         0.000        &        2.614    &        3.301     \\\\\n",
       "\\textbf{C(breed, Treatment('Crossbreed'))[T.Norfolk Terrier]}                     &      -0.5549  &        1.002     &    -0.554  &         0.580        &       -2.518    &        1.409     \\\\\n",
       "\\textbf{C(breed, Treatment('Crossbreed'))[T.Old English Sheepdog]}                &      -0.3089  &        1.002     &    -0.308  &         0.758        &       -2.272    &        1.655     \\\\\n",
       "\\textbf{C(breed, Treatment('Crossbreed'))[T.Otterhound]}                          &       4.4564  &        0.719     &     6.195  &         0.000        &        3.047    &        5.866     \\\\\n",
       "\\textbf{C(breed, Treatment('Crossbreed'))[T.Papillon]}                            &      -0.3825  &        1.002     &    -0.382  &         0.703        &       -2.346    &        1.581     \\\\\n",
       "\\textbf{C(breed, Treatment('Crossbreed'))[T.Parson Russell Terrier]}              &      -0.3636  &        0.710     &    -0.512  &         0.608        &       -1.754    &        1.027     \\\\\n",
       "\\textbf{C(breed, Treatment('Crossbreed'))[T.Patterdale Terrier]}                  &      -0.6812  &        0.503     &    -1.353  &         0.176        &       -1.668    &        0.306     \\\\\n",
       "\\textbf{C(breed, Treatment('Crossbreed'))[T.Pekingese]}                           &      -0.0838  &        1.002     &    -0.084  &         0.933        &       -2.048    &        1.880     \\\\\n",
       "\\textbf{C(breed, Treatment('Crossbreed'))[T.Pointer]}                             &       0.1193  &        0.580     &     0.205  &         0.837        &       -1.018    &        1.257     \\\\\n",
       "\\textbf{C(breed, Treatment('Crossbreed'))[T.Poodle (Miniature)]}                  &       0.6158  &        0.322     &     1.914  &         0.056        &       -0.015    &        1.246     \\\\\n",
       "\\textbf{C(breed, Treatment('Crossbreed'))[T.Poodle (Toy)]}                        &      -0.1608  &        0.504     &    -0.319  &         0.749        &       -1.148    &        0.826     \\\\\n",
       "\\textbf{C(breed, Treatment('Crossbreed'))[T.Poodle (generic)]}                    &       1.4328  &        0.231     &     6.194  &         0.000        &        0.979    &        1.886     \\\\\n",
       "\\textbf{C(breed, Treatment('Crossbreed'))[T.Portuguese Water Dog]}                &       1.0432  &        1.002     &     1.041  &         0.298        &       -0.921    &        3.007     \\\\\n",
       "\\textbf{C(breed, Treatment('Crossbreed'))[T.Pug]}                                 &       0.7550  &        0.184     &     4.101  &         0.000        &        0.394    &        1.116     \\\\\n",
       "\\textbf{C(breed, Treatment('Crossbreed'))[T.Retriever (Flat Coated)]}             &      -0.0845  &        0.580     &    -0.146  &         0.884        &       -1.222    &        1.053     \\\\\n",
       "\\textbf{C(breed, Treatment('Crossbreed'))[T.Retriever (Generic)]}                 &       1.0704  &        0.307     &     3.483  &         0.000        &        0.468    &        1.673     \\\\\n",
       "\\textbf{C(breed, Treatment('Crossbreed'))[T.Retriever (Golden)]}                  &       0.6639  &        0.148     &     4.477  &         0.000        &        0.373    &        0.954     \\\\\n",
       "\\textbf{C(breed, Treatment('Crossbreed'))[T.Retriever (Labrador)]}                &       0.6792  &        0.084     &     8.095  &         0.000        &        0.515    &        0.844     \\\\\n",
       "\\textbf{C(breed, Treatment('Crossbreed'))[T.Rhodesian Ridgeback]}                 &       1.0347  &        0.383     &     2.703  &         0.007        &        0.285    &        1.785     \\\\\n",
       "\\textbf{C(breed, Treatment('Crossbreed'))[T.Rottweiler]}                          &       1.0799  &        0.237     &     4.554  &         0.000        &        0.615    &        1.545     \\\\\n",
       "\\textbf{C(breed, Treatment('Crossbreed'))[T.Saluki]}                              &       0.9228  &        0.710     &     1.300  &         0.194        &       -0.468    &        2.314     \\\\\n",
       "\\textbf{C(breed, Treatment('Crossbreed'))[T.Schnauzer]}                           &      -0.8922  &        1.002     &    -0.891  &         0.373        &       -2.856    &        1.071     \\\\\n",
       "\\textbf{C(breed, Treatment('Crossbreed'))[T.Scottish Terrier]}                    &       0.0929  &        0.580     &     0.160  &         0.873        &       -1.045    &        1.231     \\\\\n",
       "\\textbf{C(breed, Treatment('Crossbreed'))[T.Shar-Pei]}                            &       2.1887  &        0.222     &     9.871  &         0.000        &        1.754    &        2.623     \\\\\n",
       "\\textbf{C(breed, Treatment('Crossbreed'))[T.Shih Tzu]}                            &       0.3164  &        0.148     &     2.135  &         0.033        &        0.026    &        0.607     \\\\\n",
       "\\textbf{C(breed, Treatment('Crossbreed'))[T.Siberian Husky]}                      &      -0.8544  &        0.710     &    -1.204  &         0.229        &       -2.245    &        0.536     \\\\\n",
       "\\textbf{C(breed, Treatment('Crossbreed'))[T.Spaniel (American Cocker)]}           &       2.7137  &        0.227     &    11.979  &         0.000        &        2.270    &        3.158     \\\\\n",
       "\\textbf{C(breed, Treatment('Crossbreed'))[T.Spaniel (Clumber)]}                   &       2.3476  &        0.413     &     5.680  &         0.000        &        1.538    &        3.158     \\\\\n",
       "\\textbf{C(breed, Treatment('Crossbreed'))[T.Spaniel (Cocker)]}                    &       1.7308  &        0.074     &    23.398  &         0.000        &        1.586    &        1.876     \\\\\n",
       "\\textbf{C(breed, Treatment('Crossbreed'))[T.Spaniel (English Springer)]}          &       0.8731  &        0.231     &     3.774  &         0.000        &        0.420    &        1.326     \\\\\n",
       "\\textbf{C(breed, Treatment('Crossbreed'))[T.Spaniel (Field)]}                     &       2.1838  &        0.452     &     4.833  &         0.000        &        1.298    &        3.069     \\\\\n",
       "\\textbf{C(breed, Treatment('Crossbreed'))[T.Spaniel (Generic)]}                   &       1.3130  &        0.322     &     4.079  &         0.000        &        0.682    &        1.944     \\\\\n",
       "\\textbf{C(breed, Treatment('Crossbreed'))[T.Spaniel (Irish Water)]}               &       2.6428  &        1.004     &     2.632  &         0.008        &        0.675    &        4.611     \\\\\n",
       "\\textbf{C(breed, Treatment('Crossbreed'))[T.Spaniel (Springer)]}                  &       0.9003  &        0.112     &     8.034  &         0.000        &        0.681    &        1.120     \\\\\n",
       "\\textbf{C(breed, Treatment('Crossbreed'))[T.Spaniel (Welsh Springer)]}            &       1.5790  &        0.359     &     4.402  &         0.000        &        0.876    &        2.282     \\\\\n",
       "\\textbf{C(breed, Treatment('Crossbreed'))[T.Sprocker]}                            &       0.7183  &        0.710     &     1.012  &         0.312        &       -0.673    &        2.109     \\\\\n",
       "\\textbf{C(breed, Treatment('Crossbreed'))[T.St. Bernard]}                         &       2.0649  &        0.452     &     4.570  &         0.000        &        1.179    &        2.951     \\\\\n",
       "\\textbf{C(breed, Treatment('Crossbreed'))[T.Staffordshire Bull Terrier]}          &      -0.3779  &        0.175     &    -2.164  &         0.030        &       -0.720    &       -0.036     \\\\\n",
       "\\textbf{C(breed, Treatment('Crossbreed'))[T.Terrier (Generic)]}                   &       0.5361  &        0.307     &     1.745  &         0.081        &       -0.066    &        1.138     \\\\\n",
       "\\textbf{C(breed, Treatment('Crossbreed'))[T.Tibetan Terrier]}                     &       1.6654  &        0.205     &     8.128  &         0.000        &        1.264    &        2.067     \\\\\n",
       "\\textbf{C(breed, Treatment('Crossbreed'))[T.Weimaraner]}                          &      -0.8261  &        0.710     &    -1.164  &         0.244        &       -2.217    &        0.565     \\\\\n",
       "\\textbf{C(breed, Treatment('Crossbreed'))[T.Welsh Terrier]}                       &       1.3793  &        0.451     &     3.056  &         0.002        &        0.495    &        2.264     \\\\\n",
       "\\textbf{C(breed, Treatment('Crossbreed'))[T.West Highland White Terrier]}         &       1.1427  &        0.103     &    11.058  &         0.000        &        0.940    &        1.345     \\\\\n",
       "\\textbf{C(breed, Treatment('Crossbreed'))[T.Yorkshire Terrier]}                   &      -0.7469  &        0.257     &    -2.908  &         0.004        &       -1.250    &       -0.243     \\\\\n",
       "\\textbf{C(breed, Treatment('Crossbreed'))[T.other]}                               &     -10.0352  &       23.338     &    -0.430  &         0.667        &      -55.777    &       35.707     \\\\\n",
       "\\bottomrule\n",
       "\\end{tabular}\n",
       "%\\caption{Logit Regression Results}\n",
       "\\end{center}\n",
       "\n",
       "Possibly complete quasi-separation: A fraction 0.29 of observations can be \\newline\n",
       " perfectly predicted. This might indicate that there is complete \\newline\n",
       " quasi-separation. In this case some parameters will not be identified."
      ],
      "text/plain": [
       "<class 'statsmodels.iolib.summary.Summary'>\n",
       "\"\"\"\n",
       "                           Logit Regression Results                           \n",
       "==============================================================================\n",
       "Dep. Variable:         psuedomonas_id   No. Observations:              5993254\n",
       "Model:                          Logit   Df Residuals:                  5993134\n",
       "Method:                           MLE   Df Model:                          119\n",
       "Date:                Wed, 29 Jan 2025   Pseudo R-squ.:                 0.06920\n",
       "Time:                        16:50:14   Log-Likelihood:                -20790.\n",
       "converged:                      False   LL-Null:                       -22336.\n",
       "Covariance Type:            nonrobust   LLR p-value:                     0.000\n",
       "============================================================================================================================================\n",
       "                                                                               coef    std err          z      P>|z|      [0.025      0.975]\n",
       "--------------------------------------------------------------------------------------------------------------------------------------------\n",
       "Intercept                                                                  -11.6051      0.286    -40.552      0.000     -12.166     -11.044\n",
       "C(age_category_at_consult, Treatment('Puppy'))[T.Juvenile]                   0.5938      0.392      1.513      0.130      -0.175       1.363\n",
       "C(age_category_at_consult, Treatment('Puppy'))[T.Young Adult]                1.6413      0.304      5.391      0.000       1.045       2.238\n",
       "C(age_category_at_consult, Treatment('Puppy'))[T.Mature Adult]               2.9858      0.280     10.660      0.000       2.437       3.535\n",
       "C(age_category_at_consult, Treatment('Puppy'))[T.Senior]                     3.4771      0.280     12.422      0.000       2.929       4.026\n",
       "C(age_category_at_consult, Treatment('Puppy'))[T.Geriatric]                  3.5140      0.283     12.418      0.000       2.959       4.069\n",
       "C(Sex_Neuter_Status, Treatment('female_neutered'))[T.female_entire]          0.2870      0.069      4.140      0.000       0.151       0.423\n",
       "C(Sex_Neuter_Status, Treatment('female_neutered'))[T.male_entire]            0.5044      0.056      8.983      0.000       0.394       0.614\n",
       "C(Sex_Neuter_Status, Treatment('female_neutered'))[T.male_neutered]          0.2719      0.049      5.565      0.000       0.176       0.368\n",
       "C(breed, Treatment('Crossbreed'))[T.Airedale Terrier]                        0.0877      0.710      0.124      0.902      -1.303       1.479\n",
       "C(breed, Treatment('Crossbreed'))[T.Akita]                                   0.5670      0.710      0.799      0.424      -0.824       1.958\n",
       "C(breed, Treatment('Crossbreed'))[T.Alaskan Malamute]                       -0.6861      1.002     -0.685      0.493      -2.650       1.277\n",
       "C(breed, Treatment('Crossbreed'))[T.American Bulldog]                       -0.8901      1.002     -0.888      0.374      -2.854       1.074\n",
       "C(breed, Treatment('Crossbreed'))[T.Basset Hound]                            2.6648      0.147     18.076      0.000       2.376       2.954\n",
       "C(breed, Treatment('Crossbreed'))[T.Beagle]                                  0.6197      0.217      2.860      0.004       0.195       1.044\n",
       "C(breed, Treatment('Crossbreed'))[T.Bearded Collie]                          0.5770      0.451      1.279      0.201      -0.307       1.461\n",
       "C(breed, Treatment('Crossbreed'))[T.Bedlington Terrier]                      1.4187      0.295      4.812      0.000       0.841       1.996\n",
       "C(breed, Treatment('Crossbreed'))[T.Bernese Mountain Dog]                    0.5559      0.710      0.783      0.434      -0.835       1.947\n",
       "C(breed, Treatment('Crossbreed'))[T.Bichon Frise]                            0.4352      0.201      2.162      0.031       0.041       0.830\n",
       "C(breed, Treatment('Crossbreed'))[T.Border Collie]                          -1.6073      0.322     -4.997      0.000      -2.238      -0.977\n",
       "C(breed, Treatment('Crossbreed'))[T.Border Terrier]                          0.2835      0.177      1.603      0.109      -0.063       0.630\n",
       "C(breed, Treatment('Crossbreed'))[T.Boston Terrier]                         -0.9507      1.002     -0.949      0.343      -2.914       1.013\n",
       "C(breed, Treatment('Crossbreed'))[T.Bouvier Des Flandres]                    3.2114      1.006      3.193      0.001       1.240       5.183\n",
       "C(breed, Treatment('Crossbreed'))[T.Boxer]                                  -0.8522      0.383     -2.227      0.026      -1.602      -0.102\n",
       "C(breed, Treatment('Crossbreed'))[T.Bracco Italiano]                         3.0963      1.005      3.080      0.002       1.126       5.067\n",
       "C(breed, Treatment('Crossbreed'))[T.Brittany]                                0.7679      1.002      0.766      0.443      -1.196       2.732\n",
       "C(breed, Treatment('Crossbreed'))[T.Bull Terrier]                            0.5789      0.359      1.614      0.106      -0.124       1.282\n",
       "C(breed, Treatment('Crossbreed'))[T.Bulldog]                                 1.2790      0.182      7.022      0.000       0.922       1.636\n",
       "C(breed, Treatment('Crossbreed'))[T.Bullmastiff]                             1.2306      1.002      1.228      0.220      -0.734       3.195\n",
       "C(breed, Treatment('Crossbreed'))[T.Cairn Terrier]                          -0.5195      0.504     -1.032      0.302      -1.506       0.467\n",
       "C(breed, Treatment('Crossbreed'))[T.Cavachon]                                1.1062      1.002      1.104      0.270      -0.858       3.071\n",
       "C(breed, Treatment('Crossbreed'))[T.Cavalier King Charles Spaniel]           0.4754      0.147      3.230      0.001       0.187       0.764\n",
       "C(breed, Treatment('Crossbreed'))[T.Cesky Terrier]                           4.2734      1.013      4.221      0.000       2.289       6.258\n",
       "C(breed, Treatment('Crossbreed'))[T.Chihuahua]                              -1.2996      0.413     -3.150      0.002      -2.108      -0.491\n",
       "C(breed, Treatment('Crossbreed'))[T.Chinese Crested]                        -0.1636      1.002     -0.163      0.870      -2.127       1.800\n",
       "C(breed, Treatment('Crossbreed'))[T.Chow Chow]                               1.8898      0.383      4.932      0.000       1.139       2.641\n",
       "C(breed, Treatment('Crossbreed'))[T.Cockapoo]                                1.0520      0.125      8.416      0.000       0.807       1.297\n",
       "C(breed, Treatment('Crossbreed'))[T.Collie (Generic)]                        0.1529      0.504      0.304      0.761      -0.834       1.140\n",
       "C(breed, Treatment('Crossbreed'))[T.Collie (Smooth)]                         0.1224      1.002      0.122      0.903      -1.841       2.086\n",
       "C(breed, Treatment('Crossbreed'))[T.Cross]                                  -0.0960      0.212     -0.452      0.651      -0.512       0.320\n",
       "C(breed, Treatment('Crossbreed'))[T.Dachshund]                              -0.0701      0.413     -0.170      0.865      -0.879       0.739\n",
       "C(breed, Treatment('Crossbreed'))[T.Dachshund (Miniature Smooth-Haired)]    -0.4034      0.710     -0.568      0.570      -1.794       0.988\n",
       "C(breed, Treatment('Crossbreed'))[T.Dachshund (Miniature)]                  -0.8428      0.710     -1.188      0.235      -2.234       0.548\n",
       "C(breed, Treatment('Crossbreed'))[T.Dachshund (Standard)]                    1.6569      0.710      2.333      0.020       0.265       3.049\n",
       "C(breed, Treatment('Crossbreed'))[T.Dalmatian]                               0.6975      0.322      2.168      0.030       0.067       1.328\n",
       "C(breed, Treatment('Crossbreed'))[T.Dobermann]                              -1.2071      1.002     -1.205      0.228      -3.171       0.756\n",
       "C(breed, Treatment('Crossbreed'))[T.Dogue De Bordeaux]                      -0.3395      1.002     -0.339      0.735      -2.303       1.624\n",
       "C(breed, Treatment('Crossbreed'))[T.English Setter]                          1.8000      0.322      5.589      0.000       1.169       2.431\n",
       "C(breed, Treatment('Crossbreed'))[T.Fox Terrier (Wire)]                      1.0120      0.581      1.743      0.081      -0.126       2.150\n",
       "C(breed, Treatment('Crossbreed'))[T.French Bulldog]                          0.4855      0.193      2.516      0.012       0.107       0.864\n",
       "C(breed, Treatment('Crossbreed'))[T.German Pointer]                          2.0897      1.003      2.083      0.037       0.124       4.056\n",
       "C(breed, Treatment('Crossbreed'))[T.German Shepherd Dog (Alsatian)]          0.9867      0.134      7.351      0.000       0.724       1.250\n",
       "C(breed, Treatment('Crossbreed'))[T.German Shorthaired Pointer]              0.2822      0.504      0.560      0.575      -0.705       1.269\n",
       "C(breed, Treatment('Crossbreed'))[T.German Wirehaired Pointer]               2.5618      0.339      7.552      0.000       1.897       3.227\n",
       "C(breed, Treatment('Crossbreed'))[T.Glen Of Imaal Terrier]                   5.5467      1.051      5.278      0.000       3.487       7.606\n",
       "C(breed, Treatment('Crossbreed'))[T.Gordon Setter]                           2.1012      0.413      5.087      0.000       1.292       2.911\n",
       "C(breed, Treatment('Crossbreed'))[T.Great Dane]                              0.1411      0.710      0.199      0.842      -1.250       1.532\n",
       "C(breed, Treatment('Crossbreed'))[T.Greyhound]                              -2.5873      1.002     -2.583      0.010      -4.551      -0.624\n",
       "C(breed, Treatment('Crossbreed'))[T.Hungarian Puli]                          3.8054      0.715      5.321      0.000       2.404       5.207\n",
       "C(breed, Treatment('Crossbreed'))[T.Hungarian Vizsla]                        0.6472      0.339      1.911      0.056      -0.016       1.311\n",
       "C(breed, Treatment('Crossbreed'))[T.Hungarian Wire Haired Vizsla]            2.6510      0.323      8.218      0.000       2.019       3.283\n",
       "C(breed, Treatment('Crossbreed'))[T.Husky (generic)]                         0.3686      0.580      0.635      0.525      -0.769       1.506\n",
       "C(breed, Treatment('Crossbreed'))[T.Irish Setter]                            0.0733      0.581      0.126      0.900      -1.065       1.211\n",
       "C(breed, Treatment('Crossbreed'))[T.Italian Spinone]                         2.9612      0.209     14.158      0.000       2.551       3.371\n",
       "C(breed, Treatment('Crossbreed'))[T.Jack Russell Terrier]                   -1.1396      0.201     -5.659      0.000      -1.534      -0.745\n",
       "C(breed, Treatment('Crossbreed'))[T.Japanese Akita Inu]                      0.6092      0.710      0.858      0.391      -0.782       2.000\n",
       "C(breed, Treatment('Crossbreed'))[T.King Charles Spaniel]                   -0.1160      0.710     -0.163      0.870      -1.507       1.275\n",
       "C(breed, Treatment('Crossbreed'))[T.Labradoodle]                             1.3247      0.147      8.997      0.000       1.036       1.613\n",
       "C(breed, Treatment('Crossbreed'))[T.Lakeland Terrier]                        0.0074      0.580      0.013      0.990      -1.130       1.145\n",
       "C(breed, Treatment('Crossbreed'))[T.Large Munsterlander]                     2.2265      1.003      2.219      0.026       0.260       4.193\n",
       "C(breed, Treatment('Crossbreed'))[T.Leonberger]                              1.0551      0.710      1.486      0.137      -0.336       2.447\n",
       "C(breed, Treatment('Crossbreed'))[T.Lhasa Apso]                              0.1917      0.221      0.867      0.386      -0.242       0.625\n",
       "C(breed, Treatment('Crossbreed'))[T.Lurcher]                                -1.2495      0.503     -2.482      0.013      -2.236      -0.263\n",
       "C(breed, Treatment('Crossbreed'))[T.Mastiff]                                 0.3942      0.710      0.555      0.579      -0.997       1.785\n",
       "C(breed, Treatment('Crossbreed'))[T.Miniature Schnauzer]                    -0.2830      0.307     -0.921      0.357      -0.885       0.319\n",
       "C(breed, Treatment('Crossbreed'))[T.Newfoundland]                            2.9573      0.175     16.863      0.000       2.614       3.301\n",
       "C(breed, Treatment('Crossbreed'))[T.Norfolk Terrier]                        -0.5549      1.002     -0.554      0.580      -2.518       1.409\n",
       "C(breed, Treatment('Crossbreed'))[T.Old English Sheepdog]                   -0.3089      1.002     -0.308      0.758      -2.272       1.655\n",
       "C(breed, Treatment('Crossbreed'))[T.Otterhound]                              4.4564      0.719      6.195      0.000       3.047       5.866\n",
       "C(breed, Treatment('Crossbreed'))[T.Papillon]                               -0.3825      1.002     -0.382      0.703      -2.346       1.581\n",
       "C(breed, Treatment('Crossbreed'))[T.Parson Russell Terrier]                 -0.3636      0.710     -0.512      0.608      -1.754       1.027\n",
       "C(breed, Treatment('Crossbreed'))[T.Patterdale Terrier]                     -0.6812      0.503     -1.353      0.176      -1.668       0.306\n",
       "C(breed, Treatment('Crossbreed'))[T.Pekingese]                              -0.0838      1.002     -0.084      0.933      -2.048       1.880\n",
       "C(breed, Treatment('Crossbreed'))[T.Pointer]                                 0.1193      0.580      0.205      0.837      -1.018       1.257\n",
       "C(breed, Treatment('Crossbreed'))[T.Poodle (Miniature)]                      0.6158      0.322      1.914      0.056      -0.015       1.246\n",
       "C(breed, Treatment('Crossbreed'))[T.Poodle (Toy)]                           -0.1608      0.504     -0.319      0.749      -1.148       0.826\n",
       "C(breed, Treatment('Crossbreed'))[T.Poodle (generic)]                        1.4328      0.231      6.194      0.000       0.979       1.886\n",
       "C(breed, Treatment('Crossbreed'))[T.Portuguese Water Dog]                    1.0432      1.002      1.041      0.298      -0.921       3.007\n",
       "C(breed, Treatment('Crossbreed'))[T.Pug]                                     0.7550      0.184      4.101      0.000       0.394       1.116\n",
       "C(breed, Treatment('Crossbreed'))[T.Retriever (Flat Coated)]                -0.0845      0.580     -0.146      0.884      -1.222       1.053\n",
       "C(breed, Treatment('Crossbreed'))[T.Retriever (Generic)]                     1.0704      0.307      3.483      0.000       0.468       1.673\n",
       "C(breed, Treatment('Crossbreed'))[T.Retriever (Golden)]                      0.6639      0.148      4.477      0.000       0.373       0.954\n",
       "C(breed, Treatment('Crossbreed'))[T.Retriever (Labrador)]                    0.6792      0.084      8.095      0.000       0.515       0.844\n",
       "C(breed, Treatment('Crossbreed'))[T.Rhodesian Ridgeback]                     1.0347      0.383      2.703      0.007       0.285       1.785\n",
       "C(breed, Treatment('Crossbreed'))[T.Rottweiler]                              1.0799      0.237      4.554      0.000       0.615       1.545\n",
       "C(breed, Treatment('Crossbreed'))[T.Saluki]                                  0.9228      0.710      1.300      0.194      -0.468       2.314\n",
       "C(breed, Treatment('Crossbreed'))[T.Schnauzer]                              -0.8922      1.002     -0.891      0.373      -2.856       1.071\n",
       "C(breed, Treatment('Crossbreed'))[T.Scottish Terrier]                        0.0929      0.580      0.160      0.873      -1.045       1.231\n",
       "C(breed, Treatment('Crossbreed'))[T.Shar-Pei]                                2.1887      0.222      9.871      0.000       1.754       2.623\n",
       "C(breed, Treatment('Crossbreed'))[T.Shih Tzu]                                0.3164      0.148      2.135      0.033       0.026       0.607\n",
       "C(breed, Treatment('Crossbreed'))[T.Siberian Husky]                         -0.8544      0.710     -1.204      0.229      -2.245       0.536\n",
       "C(breed, Treatment('Crossbreed'))[T.Spaniel (American Cocker)]               2.7137      0.227     11.979      0.000       2.270       3.158\n",
       "C(breed, Treatment('Crossbreed'))[T.Spaniel (Clumber)]                       2.3476      0.413      5.680      0.000       1.538       3.158\n",
       "C(breed, Treatment('Crossbreed'))[T.Spaniel (Cocker)]                        1.7308      0.074     23.398      0.000       1.586       1.876\n",
       "C(breed, Treatment('Crossbreed'))[T.Spaniel (English Springer)]              0.8731      0.231      3.774      0.000       0.420       1.326\n",
       "C(breed, Treatment('Crossbreed'))[T.Spaniel (Field)]                         2.1838      0.452      4.833      0.000       1.298       3.069\n",
       "C(breed, Treatment('Crossbreed'))[T.Spaniel (Generic)]                       1.3130      0.322      4.079      0.000       0.682       1.944\n",
       "C(breed, Treatment('Crossbreed'))[T.Spaniel (Irish Water)]                   2.6428      1.004      2.632      0.008       0.675       4.611\n",
       "C(breed, Treatment('Crossbreed'))[T.Spaniel (Springer)]                      0.9003      0.112      8.034      0.000       0.681       1.120\n",
       "C(breed, Treatment('Crossbreed'))[T.Spaniel (Welsh Springer)]                1.5790      0.359      4.402      0.000       0.876       2.282\n",
       "C(breed, Treatment('Crossbreed'))[T.Sprocker]                                0.7183      0.710      1.012      0.312      -0.673       2.109\n",
       "C(breed, Treatment('Crossbreed'))[T.St. Bernard]                             2.0649      0.452      4.570      0.000       1.179       2.951\n",
       "C(breed, Treatment('Crossbreed'))[T.Staffordshire Bull Terrier]             -0.3779      0.175     -2.164      0.030      -0.720      -0.036\n",
       "C(breed, Treatment('Crossbreed'))[T.Terrier (Generic)]                       0.5361      0.307      1.745      0.081      -0.066       1.138\n",
       "C(breed, Treatment('Crossbreed'))[T.Tibetan Terrier]                         1.6654      0.205      8.128      0.000       1.264       2.067\n",
       "C(breed, Treatment('Crossbreed'))[T.Weimaraner]                             -0.8261      0.710     -1.164      0.244      -2.217       0.565\n",
       "C(breed, Treatment('Crossbreed'))[T.Welsh Terrier]                           1.3793      0.451      3.056      0.002       0.495       2.264\n",
       "C(breed, Treatment('Crossbreed'))[T.West Highland White Terrier]             1.1427      0.103     11.058      0.000       0.940       1.345\n",
       "C(breed, Treatment('Crossbreed'))[T.Yorkshire Terrier]                      -0.7469      0.257     -2.908      0.004      -1.250      -0.243\n",
       "C(breed, Treatment('Crossbreed'))[T.other]                                 -10.0352     23.338     -0.430      0.667     -55.777      35.707\n",
       "============================================================================================================================================\n",
       "\n",
       "Possibly complete quasi-separation: A fraction 0.29 of observations can be\n",
       "perfectly predicted. This might indicate that there is complete\n",
       "quasi-separation. In this case some parameters will not be identified.\n",
       "\"\"\""
      ]
     },
     "execution_count": 96,
     "metadata": {},
     "output_type": "execute_result"
    }
   ],
   "source": [
    "import statsmodels.formula.api as smf\n",
    "import numpy as np\n",
    "\n",
    "model = smf.logit(\"psuedomonas_id ~ C(age_category_at_consult, Treatment('Puppy')) + C(Sex_Neuter_Status, Treatment('female_neutered')) + C(breed, Treatment('Crossbreed'))\", data=control_all_and_psoe_df)\n",
    "results = model.fit()\n",
    "results.summary()"
   ]
  },
  {
   "cell_type": "code",
   "execution_count": 97,
   "id": "14740f8d-7391-4477-9c05-d50ad1619296",
   "metadata": {},
   "outputs": [],
   "source": [
    "# Get the summary table\n",
    "summary_table = results.summary2().tables[1]"
   ]
  },
  {
   "cell_type": "code",
   "execution_count": 98,
   "id": "edab498c-5a99-4b06-a424-1053cdfa7195",
   "metadata": {},
   "outputs": [
    {
     "name": "stdout",
     "output_type": "stream",
     "text": [
      "                                                        Coef.  Std.Err.  \\\n",
      "Intercept                                          -11.605114  0.286175   \n",
      "C(age_category_at_consult, Treatment('Puppy'))[...   0.593793  0.392366   \n",
      "C(age_category_at_consult, Treatment('Puppy'))[...   1.641342  0.304479   \n",
      "C(age_category_at_consult, Treatment('Puppy'))[...   2.985837  0.280104   \n",
      "C(age_category_at_consult, Treatment('Puppy'))[...   3.477138  0.279910   \n",
      "\n",
      "                                                            z         P>|z|  \\\n",
      "Intercept                                          -40.552445  0.000000e+00   \n",
      "C(age_category_at_consult, Treatment('Puppy'))[...   1.513363  1.301874e-01   \n",
      "C(age_category_at_consult, Treatment('Puppy'))[...   5.390666  7.019698e-08   \n",
      "C(age_category_at_consult, Treatment('Puppy'))[...  10.659752  1.570157e-26   \n",
      "C(age_category_at_consult, Treatment('Puppy'))[...  12.422347  1.976762e-35   \n",
      "\n",
      "                                                       [0.025     0.975]  \n",
      "Intercept                                          -12.166008 -11.044220  \n",
      "C(age_category_at_consult, Treatment('Puppy'))[...  -0.175231   1.362817  \n",
      "C(age_category_at_consult, Treatment('Puppy'))[...   1.044575   2.238109  \n",
      "C(age_category_at_consult, Treatment('Puppy'))[...   2.436844   3.534830  \n",
      "C(age_category_at_consult, Treatment('Puppy'))[...   2.928524   4.025751  \n"
     ]
    }
   ],
   "source": [
    "# Create a DataFrame from the summary table\n",
    "results_df = pd.DataFrame(summary_table)\n",
    "\n",
    "print(results_df.head())"
   ]
  },
  {
   "cell_type": "code",
   "execution_count": 99,
   "id": "e744c17a-7cd5-4bde-bc30-4fdef56212dc",
   "metadata": {},
   "outputs": [
    {
     "name": "stdout",
     "output_type": "stream",
     "text": [
      "['Coef.', 'Std.Err.', 'z', 'P>|z|', '[0.025', '0.975]']\n"
     ]
    }
   ],
   "source": [
    "print(results_df.columns.to_list())"
   ]
  },
  {
   "cell_type": "code",
   "execution_count": 100,
   "id": "5a6ee2bf-f3ee-4651-adb8-7af1bc9dd0b1",
   "metadata": {},
   "outputs": [
    {
     "name": "stdout",
     "output_type": "stream",
     "text": [
      "                                                    Coefficient  Std. Error  \\\n",
      "Intercept                                            -11.605114    0.286175   \n",
      "C(age_category_at_consult, Treatment('Puppy'))[...     0.593793    0.392366   \n",
      "C(age_category_at_consult, Treatment('Puppy'))[...     1.641342    0.304479   \n",
      "C(age_category_at_consult, Treatment('Puppy'))[...     2.985837    0.280104   \n",
      "C(age_category_at_consult, Treatment('Puppy'))[...     3.477138    0.279910   \n",
      "...                                                         ...         ...   \n",
      "C(breed, Treatment('Crossbreed'))[T.Weimaraner]       -0.826137    0.709604   \n",
      "C(breed, Treatment('Crossbreed'))[T.Welsh Terrier]     1.379301    0.451342   \n",
      "C(breed, Treatment('Crossbreed'))[T.West Highla...     1.142720    0.103340   \n",
      "C(breed, Treatment('Crossbreed'))[T.Yorkshire T...    -0.746895    0.256876   \n",
      "C(breed, Treatment('Crossbreed'))[T.other]           -10.035165   23.338082   \n",
      "\n",
      "                                                      z-score       p-value  \\\n",
      "Intercept                                          -40.552445  0.000000e+00   \n",
      "C(age_category_at_consult, Treatment('Puppy'))[...   1.513363  1.301874e-01   \n",
      "C(age_category_at_consult, Treatment('Puppy'))[...   5.390666  7.019698e-08   \n",
      "C(age_category_at_consult, Treatment('Puppy'))[...  10.659752  1.570157e-26   \n",
      "C(age_category_at_consult, Treatment('Puppy'))[...  12.422347  1.976762e-35   \n",
      "...                                                       ...           ...   \n",
      "C(breed, Treatment('Crossbreed'))[T.Weimaraner]     -1.164224  2.443334e-01   \n",
      "C(breed, Treatment('Crossbreed'))[T.Welsh Terrier]   3.056003  2.243093e-03   \n",
      "C(breed, Treatment('Crossbreed'))[T.West Highla...  11.057911  2.007174e-28   \n",
      "C(breed, Treatment('Crossbreed'))[T.Yorkshire T...  -2.907616  3.641951e-03   \n",
      "C(breed, Treatment('Crossbreed'))[T.other]          -0.429991  6.672022e-01   \n",
      "\n",
      "                                                        Lower CI  \\\n",
      "Intercept                                           5.204392e-06   \n",
      "C(age_category_at_consult, Treatment('Puppy'))[...  8.392630e-01   \n",
      "C(age_category_at_consult, Treatment('Puppy'))[...  2.842191e+00   \n",
      "C(age_category_at_consult, Treatment('Puppy'))[...  1.143689e+01   \n",
      "C(age_category_at_consult, Treatment('Puppy'))[...  1.870002e+01   \n",
      "...                                                          ...   \n",
      "C(breed, Treatment('Crossbreed'))[T.Weimaraner]     1.089425e-01   \n",
      "C(breed, Treatment('Crossbreed'))[T.Welsh Terrier]  1.639986e+00   \n",
      "C(breed, Treatment('Crossbreed'))[T.West Highla...  2.560438e+00   \n",
      "C(breed, Treatment('Crossbreed'))[T.Yorkshire T...  2.864010e-01   \n",
      "C(breed, Treatment('Crossbreed'))[T.other]          5.975465e-25   \n",
      "\n",
      "                                                        Upper CI  Odds Ratio  \n",
      "Intercept                                           1.597923e-05    0.000009  \n",
      "C(age_category_at_consult, Treatment('Puppy'))[...  3.907185e+00    1.810844  \n",
      "C(age_category_at_consult, Treatment('Puppy'))[...  9.375584e+00    5.162092  \n",
      "C(age_category_at_consult, Treatment('Puppy'))[...  3.428920e+01   19.803071  \n",
      "C(age_category_at_consult, Treatment('Puppy'))[...  5.602236e+01   32.366944  \n",
      "...                                                          ...         ...  \n",
      "C(breed, Treatment('Crossbreed'))[T.Weimaraner]     1.758850e+00    0.437737  \n",
      "C(breed, Treatment('Crossbreed'))[T.Welsh Terrier]  9.620674e+00    3.972124  \n",
      "C(breed, Treatment('Crossbreed'))[T.West Highla...  3.839194e+00    3.135286  \n",
      "C(breed, Treatment('Crossbreed'))[T.Yorkshire T...  7.839354e-01    0.473835  \n",
      "C(breed, Treatment('Crossbreed'))[T.other]          3.215100e+15    0.000044  \n",
      "\n",
      "[120 rows x 7 columns]\n"
     ]
    }
   ],
   "source": [
    "# Extract specific columns\n",
    "results_df = results_df[['Coef.', 'Std.Err.', 'z', 'P>|z|', '[0.025', '0.975]']]\n",
    "\n",
    "# Rename columns\n",
    "results_df.columns = ['Coefficient', 'Std. Error', 'z-score', 'p-value', 'Lower CI', 'Upper CI']\n",
    "\n",
    "# Calculate odds ratios and confidence intervals\n",
    "results_df['Odds Ratio'] = np.exp(results_df['Coefficient'])\n",
    "results_df['Lower CI'] = np.exp(results_df['Lower CI'])\n",
    "results_df['Upper CI'] = np.exp(results_df['Upper CI'])\n",
    "\n",
    "print(results_df)"
   ]
  },
  {
   "cell_type": "code",
   "execution_count": 102,
   "id": "43ce8ab5-1712-4617-a531-78bf7c9910e4",
   "metadata": {},
   "outputs": [],
   "source": [
    "results_df = results_df.sort_values(by='Odds Ratio', ascending=False)"
   ]
  },
  {
   "cell_type": "markdown",
   "id": "d4d7c21a-ee3d-400d-bea4-790bcf08cdfb",
   "metadata": {},
   "source": [
    "## Format Odds Ratios DataFrame"
   ]
  },
  {
   "cell_type": "code",
   "execution_count": 103,
   "id": "b78c05bb-637e-4189-8ed0-1fad80b1ea27",
   "metadata": {},
   "outputs": [],
   "source": [
    "# Set the index as a column\n",
    "results_df['Parameter'] = results_df.index\n",
    "results_df['Parameter'] = results_df['Parameter'].astype(str)\n",
    "# Reset the index\n",
    "results_df = results_df.reset_index(drop=True)"
   ]
  },
  {
   "cell_type": "code",
   "execution_count": 104,
   "id": "0681752d-67f4-4729-803f-476154cf2edc",
   "metadata": {},
   "outputs": [],
   "source": [
    "results_df['Parameter'] = results_df['Parameter'].replace(\"C(breed, Treatment('Crossbreed'))\", \"\", regex=True)"
   ]
  },
  {
   "cell_type": "code",
   "execution_count": 105,
   "id": "962b7196-cc16-429a-af06-43aa2134aebb",
   "metadata": {},
   "outputs": [],
   "source": [
    "parameter_list = results_df['Parameter'].to_list()"
   ]
  },
  {
   "cell_type": "code",
   "execution_count": 106,
   "id": "d43e30ce-ec97-4893-a429-05afc14dc592",
   "metadata": {},
   "outputs": [],
   "source": [
    "def extract_text_between_brackets(text):\n",
    "  match = re.search(r'\\[(.*?)\\]', text)\n",
    "  if match:\n",
    "    return match.group(1)\n",
    "  else:\n",
    "    return None\n",
    "\n",
    "def extract_parameter(parameter_list):\n",
    "    output_list = []\n",
    "    for parameter in parameter_list:\n",
    "        if extract_text_between_brackets(parameter) != None:\n",
    "            output_list.append(extract_text_between_brackets(parameter))\n",
    "        else:\n",
    "            output_list.append(parameter)\n",
    "    return output_list\n",
    "\n",
    "parameter_reformat = extract_parameter(parameter_list)"
   ]
  },
  {
   "cell_type": "code",
   "execution_count": 107,
   "id": "835321ed-cefb-443f-b24f-fba293c71497",
   "metadata": {},
   "outputs": [],
   "source": [
    "results_df[\"Parameter_refrom\"] = parameter_reformat"
   ]
  },
  {
   "cell_type": "code",
   "execution_count": 108,
   "id": "0b58cbef-51ad-4ca0-8087-d740309cc667",
   "metadata": {},
   "outputs": [],
   "source": [
    "results_df[\"Parameter_refrom\"] = results_df[\"Parameter_refrom\"].replace(\"T.\", \"\", regex=True)"
   ]
  },
  {
   "cell_type": "code",
   "execution_count": 109,
   "id": "be80d364-f473-46c8-baf5-49e1bab3a589",
   "metadata": {},
   "outputs": [],
   "source": [
    "results_df = results_df.drop('Parameter', axis=1)"
   ]
  },
  {
   "cell_type": "code",
   "execution_count": 110,
   "id": "6bf3b56a-63ea-4908-b261-a3841418b4aa",
   "metadata": {},
   "outputs": [],
   "source": [
    "results_df[\"Parameter_refrom\"] = results_df[\"Parameter_refrom\"].replace(\"rrier\", \"Terrier\", regex=True)\n",
    "results_df[\"Parameter_refrom\"] = results_df[\"Parameter_refrom\"].replace(\"betan\", \"Tibetan\", regex=True)\n",
    "results_df[\"Parameter_refrom\"] = results_df[\"Parameter_refrom\"].replace(\"Shih u\", \"Shih Tzu\", regex=True)\n",
    "results_df[\"Parameter_refrom\"] = results_df[\"Parameter_refrom\"].replace(\"other\", \"Other\", regex=True)\n",
    "results_df[\"Parameter_refrom\"] = results_df[\"Parameter_refrom\"].replace(\"male_neutered\", \"Male Neutered\")\n",
    "results_df[\"Parameter_refrom\"] = results_df[\"Parameter_refrom\"].replace(\"male_entire\", \"Male Entire\")\n",
    "results_df[\"Parameter_refrom\"] = results_df[\"Parameter_refrom\"].replace(\"female_entire\", \"Female Entire\")"
   ]
  },
  {
   "cell_type": "code",
   "execution_count": 111,
   "id": "7d9b65a1-a566-48b3-819e-d0fedd540ad7",
   "metadata": {},
   "outputs": [
    {
     "name": "stdout",
     "output_type": "stream",
     "text": [
      "   Coefficient  Std. Error    z-score       p-value   Lower CI     Upper CI  \\\n",
      "0     5.546736    1.050871   5.278225  1.304411e-07  32.689883  2011.036716   \n",
      "1     4.456449    0.719333   6.195248  5.819319e-10  21.043280   352.946385   \n",
      "2     4.273418    1.012520   4.220577  2.436777e-05   9.864233   522.131759   \n",
      "3     3.805372    0.715123   5.321284  1.030376e-07  11.064667   182.543307   \n",
      "4     3.514043    0.282986  12.417745  2.093790e-35  19.286427    58.479996   \n",
      "\n",
      "   Odds Ratio       Parameter_refrom  \n",
      "0  256.399208  Glen Of Imaal Terrier  \n",
      "1   86.180912             Otterhound  \n",
      "2   71.766493          Cesky Terrier  \n",
      "3   44.941973         Hungarian Puli  \n",
      "4   33.583778              Geriatric  \n"
     ]
    }
   ],
   "source": [
    "print(results_df.head())"
   ]
  },
  {
   "cell_type": "code",
   "execution_count": 112,
   "id": "0d95c97c-f8c0-4d2e-9f60-b9fd47f820fe",
   "metadata": {},
   "outputs": [],
   "source": [
    "results_df = results_df.iloc[:,[7, 6, 4, 5, 0, 1, 2, 3]]"
   ]
  },
  {
   "cell_type": "code",
   "execution_count": 113,
   "id": "6cbbbbc9-2873-4ff5-8553-4e7bf10a31c1",
   "metadata": {},
   "outputs": [
    {
     "name": "stdout",
     "output_type": "stream",
     "text": [
      "        Parameter_refrom  Odds Ratio   Lower CI     Upper CI  Coefficient  \\\n",
      "0  Glen Of Imaal Terrier  256.399208  32.689883  2011.036716     5.546736   \n",
      "1             Otterhound   86.180912  21.043280   352.946385     4.456449   \n",
      "2          Cesky Terrier   71.766493   9.864233   522.131759     4.273418   \n",
      "3         Hungarian Puli   44.941973  11.064667   182.543307     3.805372   \n",
      "4              Geriatric   33.583778  19.286427    58.479996     3.514043   \n",
      "\n",
      "   Std. Error    z-score       p-value  \n",
      "0    1.050871   5.278225  1.304411e-07  \n",
      "1    0.719333   6.195248  5.819319e-10  \n",
      "2    1.012520   4.220577  2.436777e-05  \n",
      "3    0.715123   5.321284  1.030376e-07  \n",
      "4    0.282986  12.417745  2.093790e-35  \n"
     ]
    }
   ],
   "source": [
    "print(results_df.head())"
   ]
  },
  {
   "cell_type": "code",
   "execution_count": 114,
   "id": "aeb876c7-2292-4e33-a495-f010fbc6ee96",
   "metadata": {},
   "outputs": [
    {
     "name": "stdout",
     "output_type": "stream",
     "text": [
      "                        Parameter_refrom  Odds Ratio      Lower CI  \\\n",
      "0                  Glen Of Imaal Terrier  256.399208  3.268988e+01   \n",
      "1                             Otterhound   86.180912  2.104328e+01   \n",
      "2                          Cesky Terrier   71.766493  9.864233e+00   \n",
      "3                         Hungarian Puli   44.941973  1.106467e+01   \n",
      "4                              Geriatric   33.583778  1.928643e+01   \n",
      "5                                 Senior   32.366944  1.870002e+01   \n",
      "6                   Bouvier Des Flandres   24.812591  3.455204e+00   \n",
      "7                        Bracco Italiano   22.116471  3.083248e+00   \n",
      "8                           Mature Adult   19.803071  1.143689e+01   \n",
      "9                        Italian Spinone   19.321131  1.282331e+01   \n",
      "10                          Newfoundland   19.246766  1.364819e+01   \n",
      "11             Spaniel (American Cocker)   15.085005  9.676370e+00   \n",
      "12                          Basset Hound   14.365713  1.076060e+01   \n",
      "13          Hungarian Wire Haired Vizsla   14.168230  7.528646e+00   \n",
      "14                 Spaniel (Irish Water)   14.052046  1.963705e+00   \n",
      "15             German Wirehaired Pointer   12.959623  6.665627e+00   \n",
      "16                     Spaniel (Clumber)   10.460411  4.653022e+00   \n",
      "17                   Large Munsterlander    9.267553  1.297016e+00   \n",
      "18                              Shar-Pei    8.923704  5.778330e+00   \n",
      "19                       Spaniel (Field)    8.879593  3.662493e+00   \n",
      "20                         Gordon Setter    8.176028  3.638486e+00   \n",
      "21                        German Pointer    8.082540  1.131551e+00   \n",
      "22                           St. Bernard    7.884450  3.251865e+00   \n",
      "23                             Chow Chow    6.618224  3.123206e+00   \n",
      "24                        English Setter    6.049494  3.217876e+00   \n",
      "25                      Spaniel (Cocker)    5.645025  4.883170e+00   \n",
      "26                       Tibetan Terrier    5.287539  3.538807e+00   \n",
      "27                  Dachshund (Standard)    5.242897  1.303467e+00   \n",
      "28                           Young Adult    5.162092  2.842191e+00   \n",
      "29              Spaniel (Welsh Springer)    4.850235  2.401143e+00   \n",
      "30                      Poodle (generic)    4.190334  2.662854e+00   \n",
      "31                    Bedlington Terrier    4.131609  2.318404e+00   \n",
      "32                         Welsh Terrier    3.972124  1.639986e+00   \n",
      "33                           Labradoodle    3.761036  2.818268e+00   \n",
      "34                     Spaniel (Generic)    3.717383  1.978077e+00   \n",
      "35                               Bulldog    3.592884  2.514255e+00   \n",
      "36                           Bullmastiff    3.423176  4.800065e-01   \n",
      "37           West Highland White Terrier    3.135286  2.560438e+00   \n",
      "38                              Cavachon    3.022872  4.239262e-01   \n",
      "39                            Rottweiler    2.944482  1.849852e+00   \n",
      "40                   Retriever (Generic)    2.916568  1.596905e+00   \n",
      "41                            Leonberger    2.872397  7.143913e-01   \n",
      "42                              Cockapoo    2.863449  2.241214e+00   \n",
      "43                  Portuguese Water Dog    2.838350  3.981228e-01   \n",
      "44                   Rhodesian Ridgeback    2.814223  1.329179e+00   \n",
      "45                    Fox Terrier (Wire)    2.751226  8.817026e-01   \n",
      "46        German Shepherd Dog (Alsatian)    2.682476  2.061961e+00   \n",
      "47                                Saluki    2.516359  6.259924e-01   \n",
      "48                    Spaniel (Springer)    2.460241  1.975121e+00   \n",
      "49            Spaniel (English Springer)    2.394251  1.521423e+00   \n",
      "50                              Brittany    2.155282  3.023642e-01   \n",
      "51                                   Pug    2.127560  1.483079e+00   \n",
      "52                              Sprocker    2.050880  5.102045e-01   \n",
      "53                             Dalmatian    2.008699  1.069201e+00   \n",
      "54                  Retriever (Labrador)    1.972337  1.673262e+00   \n",
      "55                    Retriever (Golden)    1.942285  1.452467e+00   \n",
      "56                      Hungarian Vizsla    1.910252  9.836764e-01   \n",
      "57                                Beagle    1.858432  1.215328e+00   \n",
      "58                    Poodle (Miniature)    1.851146  9.853027e-01   \n",
      "59                    Japanese Akita Inu    1.838924  4.574683e-01   \n",
      "60                              Juvenile    1.810844  8.392630e-01   \n",
      "61                          Bull Terrier    1.783997  8.834906e-01   \n",
      "62                        Bearded Collie    1.780607  7.352929e-01   \n",
      "63                                 Akita    1.762975  4.385902e-01   \n",
      "64                  Bernese Mountain Dog    1.743482  4.337088e-01   \n",
      "65                     Terrier (Generic)    1.709407  9.359494e-01   \n",
      "66                           Male Entire    1.655971  1.483404e+00   \n",
      "67                        French Bulldog    1.624974  1.113343e+00   \n",
      "68         Cavalier King Charles Spaniel    1.608629  1.205488e+00   \n",
      "69                          Bichon Frise    1.545347  1.041572e+00   \n",
      "70                               Mastiff    1.483147  3.689759e-01   \n",
      "71                       Husky (generic)    1.445776  4.634327e-01   \n",
      "72                              Shih Tzu    1.372147  1.026210e+00   \n",
      "73                         Female Entire    1.332487  1.163170e+00   \n",
      "74                        Border Terrier    1.327712  9.388610e-01   \n",
      "75            German Shorthaired Pointer    1.326053  4.942470e-01   \n",
      "76                         Male Neutered    1.312406  1.192566e+00   \n",
      "77                            Lhasa Apso    1.211276  7.851698e-01   \n",
      "78                      Collie (Generic)    1.165205  4.342908e-01   \n",
      "79                            Great Dane    1.151584  2.865081e-01   \n",
      "80                       Collie (Smooth)    1.130248  1.586054e-01   \n",
      "81                               Pointer    1.126656  3.611794e-01   \n",
      "82                      Scottish Terrier    1.097400  3.517845e-01   \n",
      "83                      Airedale Terrier    1.091662  2.716465e-01   \n",
      "84                          Irish Setter    1.076017  3.448352e-01   \n",
      "85                      Lakeland Terrier    1.007434  3.229367e-01   \n",
      "86                             Dachshund    0.932337  4.153336e-01   \n",
      "87                             Pekingese    0.919630  1.290524e-01   \n",
      "88               Retriever (Flat Coated)    0.918981  2.945833e-01   \n",
      "89                                 Cross    0.908472  5.991124e-01   \n",
      "90                  King Charles Spaniel    0.890510  2.215996e-01   \n",
      "91                            Poodle (y)    0.851472  3.173769e-01   \n",
      "92                       Chinese Crested    0.849063  1.191637e-01   \n",
      "93                   Miniature Schnauzer    0.753506  4.126459e-01   \n",
      "94                  Old English Sheepdog    0.734275  1.030592e-01   \n",
      "95                     Dogue De Bordeaux    0.712132  9.991855e-02   \n",
      "96                Parson Russell Terrier    0.695203  1.730048e-01   \n",
      "97            Staffordshire Bull Terrier    0.685316  4.866612e-01   \n",
      "98                              Papillon    0.682136  9.573753e-02   \n",
      "99   Dachshund (Miniature Smooth-Haired)    0.668064  1.662204e-01   \n",
      "100                        Cairn Terrier    0.594823  2.217054e-01   \n",
      "101                      Norfolk Terrier    0.574132  8.058559e-02   \n",
      "102                   Patterdale Terrier    0.505990  1.886160e-01   \n",
      "103                     Alaskan Malamute    0.503534  7.067612e-02   \n",
      "104                    Yorkshire Terrier    0.473835  2.864010e-01   \n",
      "105                           Weimaraner    0.437737  1.089425e-01   \n",
      "106                Dachshund (Miniature)    0.430503  1.071397e-01   \n",
      "107                                Boxer    0.426478  2.014704e-01   \n",
      "108                       Siberian Husky    0.425522  1.059015e-01   \n",
      "109                     American Bulldog    0.410600  5.762407e-02   \n",
      "110                            Schnauzer    0.409773  5.751862e-02   \n",
      "111                       Boston Terrier    0.386461  5.424294e-02   \n",
      "112                 Jack Russell Terrier    0.319954  2.156150e-01   \n",
      "113                            Dobermann    0.299055  4.197722e-02   \n",
      "114                              Lurcher    0.286648  1.068587e-01   \n",
      "115                            Chihuahua    0.272643  1.214599e-01   \n",
      "116                        Border Collie    0.200434  1.067015e-01   \n",
      "117                            Greyhound    0.075220  1.055949e-02   \n",
      "118                                Other    0.000044  5.975465e-25   \n",
      "119                            Intercept    0.000009  5.204392e-06   \n",
      "\n",
      "         Upper CI  Coefficient  Std. Error    z-score        p-value  \n",
      "0    2.011037e+03     5.546736    1.050871   5.278225   1.304411e-07  \n",
      "1    3.529464e+02     4.456449    0.719333   6.195248   5.819319e-10  \n",
      "2    5.221318e+02     4.273418    1.012520   4.220577   2.436777e-05  \n",
      "3    1.825433e+02     3.805372    0.715123   5.321284   1.030376e-07  \n",
      "4    5.848000e+01     3.514043    0.282986  12.417745   2.093790e-35  \n",
      "5    5.602236e+01     3.477138    0.279910  12.422347   1.976762e-35  \n",
      "6    1.781847e+02     3.211351    1.005870   3.192609   1.409935e-03  \n",
      "7    1.586438e+02     3.096323    1.005293   3.080019   2.069876e-03  \n",
      "8    3.428920e+01     2.985837    0.280104  10.659752   1.570157e-26  \n",
      "9    2.911154e+01     2.961199    0.209154  14.157957   1.667721e-45  \n",
      "10   2.714192e+01     2.957343    0.175379  16.862599   8.477824e-64  \n",
      "11   2.351681e+01     2.713701    0.226542  11.978794   4.589507e-33  \n",
      "12   1.917864e+01     2.664844    0.147427  18.075626   4.958924e-73  \n",
      "13   2.666333e+01     2.651002    0.322601   8.217580   2.076506e-16  \n",
      "14   1.005548e+02     2.642768    1.004067   2.632064   8.486796e-03  \n",
      "15   2.519670e+01     2.561839    0.339228   7.551969   4.287282e-14  \n",
      "16   2.351594e+01     2.347598    0.413314   5.679935   1.347457e-08  \n",
      "17   6.621935e+01     2.226519    1.003311   2.219172   2.647504e-02  \n",
      "18   1.378123e+01     2.188711    0.221737   9.870753   5.574441e-23  \n",
      "19   2.152828e+01     2.183756    0.451851   4.832911   1.345507e-06  \n",
      "20   1.837232e+01     2.101206    0.413089   5.086575   3.645872e-07  \n",
      "21   5.773266e+01     2.089706    1.003139   2.083166   3.723607e-02  \n",
      "22   1.911658e+01     2.064892    0.451878   4.569584   4.886938e-06  \n",
      "23   1.402433e+01     1.889827    0.383153   4.932298   8.126769e-07  \n",
      "24   1.137284e+01     1.799975    0.322074   5.588701   2.287749e-08  \n",
      "25   6.525742e+00     1.730775    0.073971  23.398098  4.468478e-121  \n",
      "26   7.900420e+00     1.665353    0.204883   8.128315   4.352994e-16  \n",
      "27   2.108835e+01     1.656874    0.710139   2.333169   1.963926e-02  \n",
      "28   9.375584e+00     1.641342    0.304479   5.390666   7.019698e-08  \n",
      "29   9.797323e+00     1.579027    0.358722   4.401814   1.073497e-05  \n",
      "30   6.594014e+00     1.432780    0.231322   6.193892   5.869636e-10  \n",
      "31   7.362907e+00     1.418667    0.294795   4.812381   1.491429e-06  \n",
      "32   9.620674e+00     1.379301    0.451342   3.056003   2.243093e-03  \n",
      "33   5.019180e+00     1.324694    0.147233   8.997245   2.314527e-19  \n",
      "34   6.986046e+00     1.313020    0.321891   4.079081   4.521402e-05  \n",
      "35   5.134252e+00     1.278955    0.182135   7.022002   2.187110e-12  \n",
      "36   2.441244e+01     1.230569    1.002327   1.227712   2.195550e-01  \n",
      "37   3.839194e+00     1.142720    0.103340  11.057911   2.007174e-28  \n",
      "38   2.155506e+01     1.106207    1.002265   1.103707   2.697200e-01  \n",
      "39   4.686847e+00     1.079933    0.237161   4.553583   5.273992e-06  \n",
      "40   5.326784e+00     1.070407    0.307322   3.483015   4.958005e-04  \n",
      "41   1.154922e+01     1.055147    0.709947   1.486233   1.372176e-01  \n",
      "42   3.658435e+00     1.052027    0.125007   8.415756   3.903705e-17  \n",
      "43   2.023554e+01     1.043223    1.002170   1.040964   2.978924e-01  \n",
      "44   5.958451e+00     1.034686    0.382724   2.703482   6.861719e-03  \n",
      "45   8.584805e+00     1.012047    0.580596   1.743117   8.131319e-02  \n",
      "46   3.489725e+00     0.986740    0.134228   7.351208   1.964241e-13  \n",
      "47   1.011524e+01     0.922813    0.709824   1.300058   1.935809e-01  \n",
      "48   3.064515e+00     0.900259    0.112058   8.033862   9.445122e-16  \n",
      "49   3.767813e+00     0.873070    0.231343   3.773918   1.607036e-04  \n",
      "50   1.536307e+01     0.767922    1.002082   0.766326   4.434823e-01  \n",
      "51   3.052104e+00     0.754976    0.184113   4.100604   4.120725e-05  \n",
      "52   8.243964e+00     0.718269    0.709815   1.011909   3.115813e-01  \n",
      "53   3.773728e+00     0.697487    0.321728   2.167939   3.016331e-02  \n",
      "54   2.324869e+00     0.679219    0.083902   8.095420   5.706717e-16  \n",
      "55   2.597285e+00     0.663865    0.148269   4.477443   7.554224e-06  \n",
      "56   3.709618e+00     0.647235    0.338625   1.911361   5.595825e-02  \n",
      "57   2.841844e+00     0.619733    0.216698   2.859898   4.237767e-03  \n",
      "58   3.477856e+00     0.615805    0.321746   1.913945   5.562716e-02  \n",
      "59   7.392080e+00     0.609181    0.709823   0.858214   3.907741e-01  \n",
      "60   3.907185e+00     0.593793    0.392366   1.513363   1.301874e-01  \n",
      "61   3.602352e+00     0.578856    0.358543   1.614469   1.064257e-01  \n",
      "62   4.311972e+00     0.576955    0.451254   1.278559   2.010523e-01  \n",
      "63   7.086524e+00     0.567003    0.709805   0.798815   4.243980e-01  \n",
      "64   7.008691e+00     0.555884    0.709843   0.783109   4.335630e-01  \n",
      "65   3.122041e+00     0.536147    0.307322   1.744575   8.105891e-02  \n",
      "66   1.848612e+00     0.504387    0.056148   8.983181   2.630494e-19  \n",
      "67   2.371722e+00     0.485492    0.192924   2.516492   1.185297e-02  \n",
      "68   2.146588e+00     0.475382    0.147195   3.229601   1.239631e-03  \n",
      "69   2.292784e+00     0.435249    0.201288   2.162314   3.059396e-02  \n",
      "70   5.961707e+00     0.394166    0.709804   0.555317   5.786777e-01  \n",
      "71   4.510405e+00     0.368646    0.580491   0.635060   5.253893e-01  \n",
      "72   1.834700e+00     0.316377    0.148219   2.134517   3.280047e-02  \n",
      "73   1.526450e+00     0.287047    0.069337   4.139885   3.474800e-05  \n",
      "74   1.877614e+00     0.283457    0.176812   1.603156   1.089002e-01  \n",
      "75   3.557768e+00     0.282207    0.503543   0.560442   5.751781e-01  \n",
      "76   1.444289e+00     0.271862    0.048856   5.564612   2.627361e-08  \n",
      "77   1.868627e+00     0.191674    0.221193   0.866550   3.861889e-01  \n",
      "78   3.126251e+00     0.152897    0.503549   0.303639   7.614033e-01  \n",
      "79   4.628651e+00     0.141138    0.709772   0.198850   8.423797e-01  \n",
      "80   8.054333e+00     0.122437    1.001943   0.122200   9.027410e-01  \n",
      "81   3.514471e+00     0.119254    0.580437   0.205456   8.372158e-01  \n",
      "82   3.423365e+00     0.092944    0.580460   0.160121   8.727858e-01  \n",
      "83   4.387043e+00     0.087701    0.709684   0.123577   9.016499e-01  \n",
      "84   3.357581e+00     0.073266    0.580600   0.126190   8.995814e-01  \n",
      "85   3.142792e+00     0.007406    0.580473   0.012759   9.898201e-01  \n",
      "86   2.092902e+00    -0.070061    0.412565  -0.169818   8.651535e-01  \n",
      "87   6.553306e+00    -0.083783    1.001933  -0.083622   9.333572e-01  \n",
      "88   2.866852e+00    -0.084490    0.580472  -0.145553   8.842742e-01  \n",
      "89   1.377572e+00    -0.095992    0.212409  -0.451919   6.513276e-01  \n",
      "90   3.578559e+00    -0.115961    0.709667  -0.163402   8.702016e-01  \n",
      "91   2.284366e+00    -0.160788    0.503518  -0.319330   7.494764e-01  \n",
      "92   6.049726e+00    -0.163622    1.001873  -0.163316   8.702694e-01  \n",
      "93   1.375930e+00    -0.283018    0.307224  -0.921210   3.569407e-01  \n",
      "94   5.231562e+00    -0.308871    1.001845  -0.308302   7.578524e-01  \n",
      "95   5.075450e+00    -0.339492    1.002012  -0.338811   7.347523e-01  \n",
      "96   2.793603e+00    -0.363552    0.709648  -0.512299   6.084418e-01  \n",
      "97   9.650601e-01    -0.377876    0.174652  -2.163597   3.049529e-02  \n",
      "98   4.860260e+00    -0.382526    1.001865  -0.381815   7.025989e-01  \n",
      "99   2.685044e+00    -0.403372    0.709742  -0.568336   5.698071e-01  \n",
      "100  1.595876e+00    -0.519492    0.503537  -1.031685   3.022196e-01  \n",
      "101  4.090408e+00    -0.554895    1.001825  -0.553885   5.796577e-01  \n",
      "102  1.357391e+00    -0.681239    0.503480  -1.353060   1.760365e-01  \n",
      "103  3.587446e+00    -0.686103    1.001827  -0.684852   4.934370e-01  \n",
      "104  7.839354e-01    -0.746895    0.256876  -2.907616   3.641951e-03  \n",
      "105  1.758850e+00    -0.826137    0.709604  -1.164224   2.443334e-01  \n",
      "106  1.729821e+00    -0.842802    0.709615  -1.187689   2.349561e-01  \n",
      "107  9.027803e-01    -0.852194    0.382618  -2.227270   2.592926e-02  \n",
      "108  1.709786e+00    -0.854439    0.709609  -1.204099   2.285513e-01  \n",
      "109  2.925722e+00    -0.890137    1.001895  -0.888453   3.742971e-01  \n",
      "110  2.919304e+00    -0.892151    1.001802  -0.890546   3.731728e-01  \n",
      "111  2.753395e+00    -0.950724    1.001834  -0.948983   3.426291e-01  \n",
      "112  4.747825e-01    -1.139580    0.201372  -5.659087   1.521807e-08  \n",
      "113  2.130540e+00    -1.207126    1.001805  -1.204951   2.282221e-01  \n",
      "114  7.689303e-01    -1.249501    0.503451  -2.481871   1.306945e-02  \n",
      "115  6.120053e-01    -1.299593    0.412548  -3.150164   1.631788e-03  \n",
      "116  3.765079e-01    -1.607268    0.321665  -4.996713   5.831587e-07  \n",
      "117  5.358308e-01    -2.587334    1.001751  -2.582810   9.799927e-03  \n",
      "118  3.215100e+15   -10.035165   23.338082  -0.429991   6.672022e-01  \n",
      "119  1.597923e-05   -11.605114    0.286175 -40.552445   0.000000e+00  \n"
     ]
    }
   ],
   "source": [
    "with pd.option_context('display.max_rows', None, 'display.max_columns', None):  # more options can be specified also\n",
    "    print(results_df)"
   ]
  },
  {
   "cell_type": "code",
   "execution_count": 115,
   "id": "a8dd91ac-de98-4911-9b6f-1893ed807353",
   "metadata": {},
   "outputs": [],
   "source": [
    " results_df = results_df.rename(columns={\"Parameter_refrom\": \"Parameter\"})"
   ]
  },
  {
   "cell_type": "code",
   "execution_count": 116,
   "id": "f73eeaba-c152-4dfe-837c-608f9a8ff580",
   "metadata": {},
   "outputs": [],
   "source": [
    "results_df = results_df.set_index('Parameter')"
   ]
  },
  {
   "cell_type": "code",
   "execution_count": 117,
   "id": "5a3c0652-8ed5-4186-8be3-92dccbb0e03f",
   "metadata": {},
   "outputs": [],
   "source": [
    "# Reorder the DataFrame\n",
    "desired_order = ['Juvenile', 'Young Adult', 'Mature Adult', 'Senior', 'Geriatric', 'Female Entire', 'Male Entire', 'Male Neutered']"
   ]
  },
  {
   "cell_type": "code",
   "execution_count": 118,
   "id": "815352a9-5ab1-4af3-a59f-dcdec4217a7f",
   "metadata": {},
   "outputs": [],
   "source": [
    "non_breeds_df = results_df.loc[desired_order] \n",
    "sorted_breeds_df = results_df[~results_df.index.isin(desired_order)] # .sort_values('Odds Ratio', ascending=False).index"
   ]
  },
  {
   "cell_type": "code",
   "execution_count": 119,
   "id": "8db99f19-c431-4689-9ceb-5836be9c7b2b",
   "metadata": {},
   "outputs": [],
   "source": [
    "full_sorted_df = pd.concat([non_breeds_df, sorted_breeds_df], axis=0)"
   ]
  },
  {
   "cell_type": "code",
   "execution_count": 120,
   "id": "d6c3719f-264b-4145-8b27-aaf28c540a87",
   "metadata": {},
   "outputs": [],
   "source": [
    "full_sorted_df = full_sorted_df.drop(columns=['Coefficient', 'Std. Error', 'z-score'], axis=1)"
   ]
  },
  {
   "cell_type": "code",
   "execution_count": 175,
   "id": "e169cafb-b02d-4610-bdd6-7f4f751fc96b",
   "metadata": {},
   "outputs": [],
   "source": [
    "df_age_at_consult = full_sorted_df.loc[['Juvenile', 'Young Adult', 'Mature Adult', 'Senior', 'Geriatric']]\n",
    "df_sex_neuter = full_sorted_df.loc[[\"Female Entire\", \"Male Entire\", \"Male Neutered\"]]\n",
    "df_breed = full_sorted_df.iloc[8:]"
   ]
  },
  {
   "cell_type": "code",
   "execution_count": 122,
   "id": "faf3a60a-056a-42fd-aa09-205c1bc055c4",
   "metadata": {},
   "outputs": [
    {
     "name": "stdout",
     "output_type": "stream",
     "text": [
      "                       Odds Ratio      Lower CI      Upper CI       p-value\n",
      "Parameter                                                                  \n",
      "Glen Of Imaal Terrier  256.399208  3.268988e+01  2.011037e+03  1.304411e-07\n",
      "Otterhound              86.180912  2.104328e+01  3.529464e+02  5.819319e-10\n",
      "Cesky Terrier           71.766493  9.864233e+00  5.221318e+02  2.436777e-05\n",
      "Hungarian Puli          44.941973  1.106467e+01  1.825433e+02  1.030376e-07\n",
      "Bouvier Des Flandres    24.812591  3.455204e+00  1.781847e+02  1.409935e-03\n",
      "...                           ...           ...           ...           ...\n",
      "Chihuahua                0.272643  1.214599e-01  6.120053e-01  1.631788e-03\n",
      "Border Collie            0.200434  1.067015e-01  3.765079e-01  5.831587e-07\n",
      "Greyhound                0.075220  1.055949e-02  5.358308e-01  9.799927e-03\n",
      "Other                    0.000044  5.975465e-25  3.215100e+15  6.672022e-01\n",
      "Intercept                0.000009  5.204392e-06  1.597923e-05  0.000000e+00\n",
      "\n",
      "[112 rows x 4 columns]\n"
     ]
    }
   ],
   "source": [
    "print(df_breed)"
   ]
  },
  {
   "cell_type": "markdown",
   "id": "d6b7bdf1-5103-48ac-9916-c9670c8541fd",
   "metadata": {},
   "source": [
    "## Join Case and Control Sizes Into Age"
   ]
  },
  {
   "cell_type": "code",
   "execution_count": 219,
   "id": "fcf02899-26a8-47e3-983d-51a3b1352e5c",
   "metadata": {},
   "outputs": [
    {
     "name": "stderr",
     "output_type": "stream",
     "text": [
      "/tmp/ipykernel_23/2455843452.py:7: SettingWithCopyWarning:\n",
      "\n",
      "\n",
      "A value is trying to be set on a copy of a slice from a DataFrame.\n",
      "Try using .loc[row_indexer,col_indexer] = value instead\n",
      "\n",
      "See the caveats in the documentation: https://pandas.pydata.org/pandas-docs/stable/user_guide/indexing.html#returning-a-view-versus-a-copy\n",
      "\n"
     ]
    }
   ],
   "source": [
    "# Define age bins and labels\n",
    "bins = [0, 0.5, 1, 2, 7, 12, float('inf')]\n",
    "labels = ['Puppy', 'Juvenile', 'Young Adult', 'Mature Adult', 'Senior', 'Geriatric']\n",
    "\n",
    "# Create a new column 'Age_Category' using pd.cut\n",
    "psuedomonas_dogs_unique['age_category_at_consult'] = pd.cut(psuedomonas_dogs_unique['age_at_consult'], bins=bins, labels=labels, right=False)\n",
    "control_df_all['age_category_at_consult'] = pd.cut(control_df_all['age_at_consult'], bins=bins, labels=labels, right=False)"
   ]
  },
  {
   "cell_type": "code",
   "execution_count": 220,
   "id": "bbdcb8cf-9024-46c2-bda7-cf7ec2b8ca9f",
   "metadata": {},
   "outputs": [],
   "source": [
    "case_counts_age = psuedomonas_dogs_unique['age_category_at_consult'].value_counts().reset_index()\n",
    "control_counts_age = control_df_all['age_category_at_consult'].value_counts().reset_index()"
   ]
  },
  {
   "cell_type": "code",
   "execution_count": 221,
   "id": "afd8c9f6-a854-45b1-9069-9da3bfd515ac",
   "metadata": {},
   "outputs": [
    {
     "name": "stdout",
     "output_type": "stream",
     "text": [
      "  age_category_at_consult    count\n",
      "0            Mature Adult  2016484\n",
      "1                  Senior  1865177\n",
      "2               Geriatric   712807\n",
      "3             Young Adult   545583\n",
      "4                   Puppy   542248\n",
      "5                Juvenile   308406\n"
     ]
    }
   ],
   "source": [
    "print(control_counts_age)"
   ]
  },
  {
   "cell_type": "code",
   "execution_count": 239,
   "id": "60ba3b45-795c-4ec6-b143-38284278b666",
   "metadata": {},
   "outputs": [
    {
     "name": "stdout",
     "output_type": "stream",
     "text": [
      "  age_category_at_consult  count\n",
      "0                  Senior   1201\n",
      "1            Mature Adult    839\n",
      "2               Geriatric    419\n",
      "3             Young Adult     64\n",
      "4                   Puppy     13\n",
      "5                Juvenile     13\n"
     ]
    }
   ],
   "source": [
    "print(case_counts_age)"
   ]
  },
  {
   "cell_type": "code",
   "execution_count": 222,
   "id": "2cf13de4-2ff6-483a-a6e5-cc3815e12063",
   "metadata": {},
   "outputs": [
    {
     "name": "stdout",
     "output_type": "stream",
     "text": [
      "      Parameter  Odds Ratio   Lower CI   Upper CI       p-value\n",
      "0      Juvenile    1.810844   0.839263   3.907185  1.301874e-01\n",
      "1   Young Adult    5.162092   2.842191   9.375584  7.019698e-08\n",
      "2  Mature Adult   19.803071  11.436885  34.289198  1.570157e-26\n",
      "3        Senior   32.366944  18.700016  56.022363  1.976762e-35\n",
      "4     Geriatric   33.583778  19.286427  58.479996  2.093790e-35\n"
     ]
    }
   ],
   "source": [
    "df_age_at_consult = df_age_at_consult.reset_index()\n",
    "print(df_age_at_consult.head())"
   ]
  },
  {
   "cell_type": "code",
   "execution_count": 223,
   "id": "c2bac9e5-051a-47c0-adf4-d74e0eb8edff",
   "metadata": {},
   "outputs": [],
   "source": [
    "df_age_at_consult = df_age_at_consult.rename(columns={\"Parameter\": \"age_category_at_consult\"})"
   ]
  },
  {
   "cell_type": "code",
   "execution_count": 224,
   "id": "d342e4b2-7925-439e-88be-b5b73b8bb126",
   "metadata": {},
   "outputs": [],
   "source": [
    "df_age_at_consult = df_age_at_consult.merge(case_counts_age, on='age_category_at_consult')\n",
    "df_age_at_consult = df_age_at_consult.merge(control_counts_age, on='age_category_at_consult')"
   ]
  },
  {
   "cell_type": "code",
   "execution_count": 225,
   "id": "95334f53-4c24-49fe-8de3-108ce8ac1622",
   "metadata": {},
   "outputs": [
    {
     "name": "stdout",
     "output_type": "stream",
     "text": [
      "  age_category_at_consult  Odds Ratio   Lower CI   Upper CI       p-value  \\\n",
      "0                Juvenile    1.810844   0.839263   3.907185  1.301874e-01   \n",
      "1             Young Adult    5.162092   2.842191   9.375584  7.019698e-08   \n",
      "2            Mature Adult   19.803071  11.436885  34.289198  1.570157e-26   \n",
      "3                  Senior   32.366944  18.700016  56.022363  1.976762e-35   \n",
      "4               Geriatric   33.583778  19.286427  58.479996  2.093790e-35   \n",
      "\n",
      "   count_x  count_y  \n",
      "0       13   308406  \n",
      "1       64   545583  \n",
      "2      839  2016484  \n",
      "3     1201  1865177  \n",
      "4      419   712807  \n"
     ]
    }
   ],
   "source": [
    "print(df_age_at_consult.head())"
   ]
  },
  {
   "cell_type": "code",
   "execution_count": 226,
   "id": "0cee5426-0989-413c-a096-0039156dc5bc",
   "metadata": {},
   "outputs": [],
   "source": [
    "df_age_at_consult = df_age_at_consult.rename(columns={\"count_x\": \"case\", \"count_y\": \"control\"})"
   ]
  },
  {
   "cell_type": "code",
   "execution_count": 227,
   "id": "940ae12b-c92a-4530-9de9-1001275338d8",
   "metadata": {},
   "outputs": [
    {
     "name": "stdout",
     "output_type": "stream",
     "text": [
      "  age_category_at_consult  Odds Ratio   Lower CI   Upper CI       p-value  \\\n",
      "0                Juvenile    1.810844   0.839263   3.907185  1.301874e-01   \n",
      "1             Young Adult    5.162092   2.842191   9.375584  7.019698e-08   \n",
      "2            Mature Adult   19.803071  11.436885  34.289198  1.570157e-26   \n",
      "3                  Senior   32.366944  18.700016  56.022363  1.976762e-35   \n",
      "4               Geriatric   33.583778  19.286427  58.479996  2.093790e-35   \n",
      "\n",
      "   case  control  \n",
      "0    13   308406  \n",
      "1    64   545583  \n",
      "2   839  2016484  \n",
      "3  1201  1865177  \n",
      "4   419   712807  \n"
     ]
    }
   ],
   "source": [
    "print(df_age_at_consult)"
   ]
  },
  {
   "cell_type": "code",
   "execution_count": 237,
   "id": "61da1fe1-55be-4e78-97b0-db60f1cd9d6c",
   "metadata": {},
   "outputs": [],
   "source": [
    "df_age_at_consult = df_age_at_consult.iloc[:,[0, 5, 6, 1, 2, 3, 4]]"
   ]
  },
  {
   "cell_type": "code",
   "execution_count": 133,
   "id": "b4864ea6-0e65-42ec-b0f8-50c63b22a930",
   "metadata": {},
   "outputs": [],
   "source": [
    "def format_power(x):\n",
    "    return f'{x:.2e}'"
   ]
  },
  {
   "cell_type": "code",
   "execution_count": 238,
   "id": "0fce2db1-2a9f-44aa-bbe3-751e05703026",
   "metadata": {},
   "outputs": [
    {
     "data": {
      "text/plain": [
       "'\\\\begin{tabular}{llrrrrrr}\\n\\\\toprule\\n & age_category_at_consult & case & control & Odds Ratio & Lower CI & Upper CI & p-value \\\\\\\\\\n\\\\midrule\\n0 & Juvenile & 13 & 308406 & 1.81 & 0.84 & 3.91 & 1.30e-01 \\\\\\\\\\n1 & Young Adult & 64 & 545583 & 5.16 & 2.84 & 9.38 & 7.02e-08 \\\\\\\\\\n2 & Mature Adult & 839 & 2016484 & 19.80 & 11.44 & 34.29 & 1.57e-26 \\\\\\\\\\n3 & Senior & 1201 & 1865177 & 32.37 & 18.70 & 56.02 & 1.98e-35 \\\\\\\\\\n4 & Geriatric & 419 & 712807 & 33.58 & 19.29 & 58.48 & 2.09e-35 \\\\\\\\\\n\\\\bottomrule\\n\\\\end{tabular}\\n'"
      ]
     },
     "execution_count": 238,
     "metadata": {},
     "output_type": "execute_result"
    }
   ],
   "source": [
    "# Create age at consult latex table\n",
    "df_age_at_consult.to_latex(index=True,\n",
    "                  float_format=\"{:.2f}\".format,\n",
    "                  formatters={'p-value':format_power})"
   ]
  },
  {
   "cell_type": "markdown",
   "id": "83f3e7cb-86a1-4a9e-b4f1-b105ae184c51",
   "metadata": {},
   "source": [
    "## Join Case and Control Sizes Into Sex/Neuter Status"
   ]
  },
  {
   "cell_type": "code",
   "execution_count": 203,
   "id": "84209c3c-fdd3-4e17-9138-e09867eaf691",
   "metadata": {},
   "outputs": [],
   "source": [
    "# Create combined sex/neuter status column\n",
    "control_all_and_psoe_df['Sex_Neuter_Status'] = control_all_and_psoe_df['gender'] + '_' + control_all_and_psoe_df['neutered'].replace({'yes': 'neutered', 'no': 'entire'})"
   ]
  },
  {
   "cell_type": "code",
   "execution_count": 204,
   "id": "d255cb70-d121-4444-baf8-7b9fad7a5147",
   "metadata": {},
   "outputs": [
    {
     "name": "stderr",
     "output_type": "stream",
     "text": [
      "/tmp/ipykernel_23/3714584784.py:2: SettingWithCopyWarning:\n",
      "\n",
      "\n",
      "A value is trying to be set on a copy of a slice from a DataFrame.\n",
      "Try using .loc[row_indexer,col_indexer] = value instead\n",
      "\n",
      "See the caveats in the documentation: https://pandas.pydata.org/pandas-docs/stable/user_guide/indexing.html#returning-a-view-versus-a-copy\n",
      "\n"
     ]
    }
   ],
   "source": [
    "psuedomonas_dogs_unique['Sex_Neuter_Status'] = psuedomonas_dogs_unique['gender'].str.title() + ' ' + psuedomonas_dogs_unique['neutered'].replace({'yes': 'Neutered', 'no': 'Entire'})\n",
    "control_df_all['Sex_Neuter_Status'] = control_df_all['gender'].str.title() + ' ' + control_df_all['neutered'].replace({'yes': 'Neutered', 'no': 'Entire'})"
   ]
  },
  {
   "cell_type": "code",
   "execution_count": 205,
   "id": "0db60898-9d10-4520-a1eb-bd771eb434eb",
   "metadata": {},
   "outputs": [],
   "source": [
    "df_sex_neuter = df_sex_neuter.reset_index()"
   ]
  },
  {
   "cell_type": "code",
   "execution_count": 206,
   "id": "450b1158-d214-448f-a00b-48f3021c1352",
   "metadata": {},
   "outputs": [
    {
     "name": "stdout",
     "output_type": "stream",
     "text": [
      "       Parameter  Odds Ratio  Lower CI  Upper CI       p-value\n",
      "0  Female Entire    1.332487  1.163170  1.526450  3.474800e-05\n",
      "1    Male Entire    1.655971  1.483404  1.848612  2.630494e-19\n",
      "2  Male Neutered    1.312406  1.192566  1.444289  2.627361e-08\n"
     ]
    }
   ],
   "source": [
    "print(df_sex_neuter.head())"
   ]
  },
  {
   "cell_type": "code",
   "execution_count": 207,
   "id": "9a41ff8f-0de3-480b-b997-ee0f6a8b3918",
   "metadata": {},
   "outputs": [],
   "source": [
    "case_counts_sexn = psuedomonas_dogs_unique['Sex_Neuter_Status'].value_counts().reset_index()\n",
    "control_counts_sexn = control_df_all['Sex_Neuter_Status'].value_counts().reset_index()"
   ]
  },
  {
   "cell_type": "code",
   "execution_count": 243,
   "id": "500baf47-6b3c-43f0-9230-347353aa8c02",
   "metadata": {},
   "outputs": [
    {
     "name": "stdout",
     "output_type": "stream",
     "text": [
      "  Sex_Neuter_Status  count\n",
      "0     Male Neutered    935\n",
      "1   Female Neutered    765\n",
      "2       Male Entire    556\n",
      "3     Female Entire    293\n",
      "  Sex_Neuter_Status    count\n",
      "0   Female Neutered  2036750\n",
      "1     Male Neutered  1967101\n",
      "2       Male Entire  1113444\n",
      "3     Female Entire   873424\n"
     ]
    }
   ],
   "source": [
    "print(case_counts_sexn)\n",
    "print(control_counts_sexn)"
   ]
  },
  {
   "cell_type": "code",
   "execution_count": 208,
   "id": "37483982-387f-4229-bb8d-d74d3bc04ae5",
   "metadata": {},
   "outputs": [],
   "source": [
    "df_sex_neuter = df_sex_neuter.rename(columns={\"Parameter\": \"Sex_Neuter_Status\"})"
   ]
  },
  {
   "cell_type": "code",
   "execution_count": 209,
   "id": "4a1801d3-d0ff-46b3-b6fa-351c452a5b5c",
   "metadata": {},
   "outputs": [
    {
     "name": "stdout",
     "output_type": "stream",
     "text": [
      "  Sex_Neuter_Status  Odds Ratio  Lower CI  Upper CI       p-value\n",
      "0     Female Entire    1.332487  1.163170  1.526450  3.474800e-05\n",
      "1       Male Entire    1.655971  1.483404  1.848612  2.630494e-19\n",
      "2     Male Neutered    1.312406  1.192566  1.444289  2.627361e-08\n"
     ]
    }
   ],
   "source": [
    "print(df_sex_neuter)"
   ]
  },
  {
   "cell_type": "code",
   "execution_count": 210,
   "id": "6fb8e54c-9130-4120-b2df-40e11163f15b",
   "metadata": {},
   "outputs": [],
   "source": [
    "df_sex_neuter = df_sex_neuter.merge(case_counts_sexn, on='Sex_Neuter_Status')\n",
    "df_sex_neuter = df_sex_neuter.merge(control_counts_sexn, on='Sex_Neuter_Status')"
   ]
  },
  {
   "cell_type": "code",
   "execution_count": 211,
   "id": "490d46a6-855b-4bee-b68a-c231908afc35",
   "metadata": {},
   "outputs": [],
   "source": [
    "df_sex_neuter = df_sex_neuter.rename(columns={\"count_x\": \"case\", \"count_y\": \"control\"})"
   ]
  },
  {
   "cell_type": "code",
   "execution_count": 240,
   "id": "66dbbc40-a0eb-408c-9113-c266041b1477",
   "metadata": {},
   "outputs": [],
   "source": [
    "df_sex_neuter = df_sex_neuter.iloc[:,[0, 5, 6, 1, 2, 3, 4]]"
   ]
  },
  {
   "cell_type": "code",
   "execution_count": 241,
   "id": "d4af1e50-ff34-491a-9486-7ec2140e6b52",
   "metadata": {},
   "outputs": [
    {
     "name": "stdout",
     "output_type": "stream",
     "text": [
      "  Sex_Neuter_Status  case  control  Odds Ratio  Lower CI  Upper CI  \\\n",
      "0     Female Entire   293   873424    1.332487  1.163170  1.526450   \n",
      "1       Male Entire   556  1113444    1.655971  1.483404  1.848612   \n",
      "2     Male Neutered   935  1967101    1.312406  1.192566  1.444289   \n",
      "\n",
      "        p-value  \n",
      "0  3.474800e-05  \n",
      "1  2.630494e-19  \n",
      "2  2.627361e-08  \n"
     ]
    }
   ],
   "source": [
    "print(df_sex_neuter)"
   ]
  },
  {
   "cell_type": "code",
   "execution_count": 242,
   "id": "2d9ef421-302f-40e4-8299-a8d0013c5846",
   "metadata": {},
   "outputs": [
    {
     "data": {
      "text/plain": [
       "'\\\\begin{tabular}{llrrrrrr}\\n\\\\toprule\\n & Sex_Neuter_Status & case & control & Odds Ratio & Lower CI & Upper CI & p-value \\\\\\\\\\n\\\\midrule\\n0 & Female Entire & 293 & 873424 & 1.33 & 1.16 & 1.53 & 3.47e-05 \\\\\\\\\\n1 & Male Entire & 556 & 1113444 & 1.66 & 1.48 & 1.85 & 2.63e-19 \\\\\\\\\\n2 & Male Neutered & 935 & 1967101 & 1.31 & 1.19 & 1.44 & 2.63e-08 \\\\\\\\\\n\\\\bottomrule\\n\\\\end{tabular}\\n'"
      ]
     },
     "execution_count": 242,
     "metadata": {},
     "output_type": "execute_result"
    }
   ],
   "source": [
    "# Create sex/neuter latex table\n",
    "df_sex_neuter.to_latex(index=True,\n",
    "                  float_format=\"{:.2f}\".format,\n",
    "                  formatters={'p-value':format_power})"
   ]
  },
  {
   "cell_type": "markdown",
   "id": "1fad493f-424b-49ec-8f32-6daf888d7771",
   "metadata": {},
   "source": [
    "## Join Case and Control Sizes Into Breed"
   ]
  },
  {
   "cell_type": "code",
   "execution_count": 176,
   "id": "e400395f-ac26-4703-b70b-66cd0b6f3025",
   "metadata": {},
   "outputs": [],
   "source": [
    "case_counts = psuedomonas_dogs_unique['breed'].value_counts().reset_index()"
   ]
  },
  {
   "cell_type": "code",
   "execution_count": 177,
   "id": "3b8300a7-390f-4a59-b733-2e44b6d4f702",
   "metadata": {},
   "outputs": [
    {
     "name": "stdout",
     "output_type": "stream",
     "text": [
      "   breed   count\n",
      "7  other  178926\n"
     ]
    }
   ],
   "source": [
    "control_counts = control_df_all['breed'].value_counts().reset_index()\n",
    "print(control_counts[control_counts['breed'] == 'other'])"
   ]
  },
  {
   "cell_type": "code",
   "execution_count": 178,
   "id": "bea4a372-0a00-4145-bff1-7d73d367c995",
   "metadata": {},
   "outputs": [],
   "source": [
    "df_breed = df_breed.reset_index()"
   ]
  },
  {
   "cell_type": "code",
   "execution_count": 179,
   "id": "09a5a387-dd2a-4aeb-bd72-372ddda864df",
   "metadata": {},
   "outputs": [],
   "source": [
    "df_breed = df_breed.rename(columns={\"Parameter\": \"breed\"})"
   ]
  },
  {
   "cell_type": "code",
   "execution_count": 180,
   "id": "e6e89503-dd6b-411c-9c02-1a5a736647b0",
   "metadata": {},
   "outputs": [],
   "source": [
    "df_breed = df_breed.merge(case_counts, on='breed')"
   ]
  },
  {
   "cell_type": "code",
   "execution_count": 181,
   "id": "3a6c5ae8-0bca-470a-afd6-5b04545fe669",
   "metadata": {},
   "outputs": [],
   "source": [
    "df_breed = df_breed.merge(control_counts, on='breed')"
   ]
  },
  {
   "cell_type": "code",
   "execution_count": 182,
   "id": "6e9b99a6-d8bb-40be-a795-0054480536c4",
   "metadata": {},
   "outputs": [],
   "source": [
    "df_breed = df_breed.rename(columns={\"count_x\": \"case\", \"count_y\": \"control\"})"
   ]
  },
  {
   "cell_type": "code",
   "execution_count": 161,
   "id": "e2e0e91b-8cf1-4a7c-9e14-7b7919e0768c",
   "metadata": {
    "scrolled": true
   },
   "outputs": [
    {
     "name": "stdout",
     "output_type": "stream",
     "text": [
      "                                   breed  Odds Ratio   Lower CI     Upper CI  \\\n",
      "0                  Glen Of Imaal Terrier  256.399208  32.689883  2011.036716   \n",
      "1                             Otterhound   86.180912  21.043280   352.946385   \n",
      "2                          Cesky Terrier   71.766493   9.864233   522.131759   \n",
      "3                         Hungarian Puli   44.941973  11.064667   182.543307   \n",
      "4                   Bouvier Des Flandres   24.812591   3.455204   178.184750   \n",
      "5                        Bracco Italiano   22.116471   3.083248   158.643827   \n",
      "6                        Italian Spinone   19.321131  12.823305    29.111536   \n",
      "7                           Newfoundland   19.246766  13.648189    27.141917   \n",
      "8              Spaniel (American Cocker)   15.085005   9.676370    23.516812   \n",
      "9                           Basset Hound   14.365713  10.760604    19.178635   \n",
      "10          Hungarian Wire Haired Vizsla   14.168230   7.528646    26.663328   \n",
      "11                 Spaniel (Irish Water)   14.052046   1.963705   100.554817   \n",
      "12             German Wirehaired Pointer   12.959623   6.665627    25.196701   \n",
      "13                     Spaniel (Clumber)   10.460411   4.653022    23.515944   \n",
      "14                   Large Munsterlander    9.267553   1.297016    66.219352   \n",
      "15                              Shar-Pei    8.923704   5.778330    13.781232   \n",
      "16                       Spaniel (Field)    8.879593   3.662493    21.528279   \n",
      "17                         Gordon Setter    8.176028   3.638486    18.372324   \n",
      "18                        German Pointer    8.082540   1.131551    57.732665   \n",
      "19                           St. Bernard    7.884450   3.251865    19.116584   \n",
      "20                             Chow Chow    6.618224   3.123206    14.024334   \n",
      "21                        English Setter    6.049494   3.217876    11.372839   \n",
      "22                      Spaniel (Cocker)    5.645025   4.883170     6.525742   \n",
      "23                       Tibetan Terrier    5.287539   3.538807     7.900420   \n",
      "24                  Dachshund (Standard)    5.242897   1.303467    21.088349   \n",
      "25              Spaniel (Welsh Springer)    4.850235   2.401143     9.797323   \n",
      "26                      Poodle (generic)    4.190334   2.662854     6.594014   \n",
      "27                    Bedlington Terrier    4.131609   2.318404     7.362907   \n",
      "28                         Welsh Terrier    3.972124   1.639986     9.620674   \n",
      "29                           Labradoodle    3.761036   2.818268     5.019180   \n",
      "30                     Spaniel (Generic)    3.717383   1.978077     6.986046   \n",
      "31                               Bulldog    3.592884   2.514255     5.134252   \n",
      "32                           Bullmastiff    3.423176   0.480007    24.412442   \n",
      "33           West Highland White Terrier    3.135286   2.560438     3.839194   \n",
      "34                              Cavachon    3.022872   0.423926    21.555057   \n",
      "35                            Rottweiler    2.944482   1.849852     4.686847   \n",
      "36                   Retriever (Generic)    2.916568   1.596905     5.326784   \n",
      "37                            Leonberger    2.872397   0.714391    11.549223   \n",
      "38                              Cockapoo    2.863449   2.241214     3.658435   \n",
      "39                  Portuguese Water Dog    2.838350   0.398123    20.235542   \n",
      "40                   Rhodesian Ridgeback    2.814223   1.329179     5.958451   \n",
      "41                    Fox Terrier (Wire)    2.751226   0.881703     8.584805   \n",
      "42        German Shepherd Dog (Alsatian)    2.682476   2.061961     3.489725   \n",
      "43                                Saluki    2.516359   0.625992    10.115241   \n",
      "44                    Spaniel (Springer)    2.460241   1.975121     3.064515   \n",
      "45            Spaniel (English Springer)    2.394251   1.521423     3.767813   \n",
      "46                              Brittany    2.155282   0.302364    15.363067   \n",
      "47                                   Pug    2.127560   1.483079     3.052104   \n",
      "48                              Sprocker    2.050880   0.510205     8.243964   \n",
      "49                             Dalmatian    2.008699   1.069201     3.773728   \n",
      "50                  Retriever (Labrador)    1.972337   1.673262     2.324869   \n",
      "51                    Retriever (Golden)    1.942285   1.452467     2.597285   \n",
      "52                      Hungarian Vizsla    1.910252   0.983676     3.709618   \n",
      "53                                Beagle    1.858432   1.215328     2.841844   \n",
      "54                    Poodle (Miniature)    1.851146   0.985303     3.477856   \n",
      "55                    Japanese Akita Inu    1.838924   0.457468     7.392080   \n",
      "56                          Bull Terrier    1.783997   0.883491     3.602352   \n",
      "57                        Bearded Collie    1.780607   0.735293     4.311972   \n",
      "58                                 Akita    1.762975   0.438590     7.086524   \n",
      "59                  Bernese Mountain Dog    1.743482   0.433709     7.008691   \n",
      "60                     Terrier (Generic)    1.709407   0.935949     3.122041   \n",
      "61                        French Bulldog    1.624974   1.113343     2.371722   \n",
      "62         Cavalier King Charles Spaniel    1.608629   1.205488     2.146588   \n",
      "63                          Bichon Frise    1.545347   1.041572     2.292784   \n",
      "64                               Mastiff    1.483147   0.368976     5.961707   \n",
      "65                       Husky (generic)    1.445776   0.463433     4.510405   \n",
      "66                              Shih Tzu    1.372147   1.026210     1.834700   \n",
      "67                        Border Terrier    1.327712   0.938861     1.877614   \n",
      "68            German Shorthaired Pointer    1.326053   0.494247     3.557768   \n",
      "69                            Lhasa Apso    1.211276   0.785170     1.868627   \n",
      "70                      Collie (Generic)    1.165205   0.434291     3.126251   \n",
      "71                            Great Dane    1.151584   0.286508     4.628651   \n",
      "72                       Collie (Smooth)    1.130248   0.158605     8.054333   \n",
      "73                               Pointer    1.126656   0.361179     3.514471   \n",
      "74                      Scottish Terrier    1.097400   0.351784     3.423365   \n",
      "75                      Airedale Terrier    1.091662   0.271647     4.387043   \n",
      "76                          Irish Setter    1.076017   0.344835     3.357581   \n",
      "77                      Lakeland Terrier    1.007434   0.322937     3.142792   \n",
      "78                             Dachshund    0.932337   0.415334     2.092902   \n",
      "79                             Pekingese    0.919630   0.129052     6.553306   \n",
      "80               Retriever (Flat Coated)    0.918981   0.294583     2.866852   \n",
      "81                                 Cross    0.908472   0.599112     1.377572   \n",
      "82                  King Charles Spaniel    0.890510   0.221600     3.578559   \n",
      "83                       Chinese Crested    0.849063   0.119164     6.049726   \n",
      "84                   Miniature Schnauzer    0.753506   0.412646     1.375930   \n",
      "85                  Old English Sheepdog    0.734275   0.103059     5.231562   \n",
      "86                     Dogue De Bordeaux    0.712132   0.099919     5.075450   \n",
      "87                Parson Russell Terrier    0.695203   0.173005     2.793603   \n",
      "88            Staffordshire Bull Terrier    0.685316   0.486661     0.965060   \n",
      "89                              Papillon    0.682136   0.095738     4.860260   \n",
      "90   Dachshund (Miniature Smooth-Haired)    0.668064   0.166220     2.685044   \n",
      "91                         Cairn Terrier    0.594823   0.221705     1.595876   \n",
      "92                       Norfolk Terrier    0.574132   0.080586     4.090408   \n",
      "93                    Patterdale Terrier    0.505990   0.188616     1.357391   \n",
      "94                      Alaskan Malamute    0.503534   0.070676     3.587446   \n",
      "95                     Yorkshire Terrier    0.473835   0.286401     0.783935   \n",
      "96                            Weimaraner    0.437737   0.108943     1.758850   \n",
      "97                 Dachshund (Miniature)    0.430503   0.107140     1.729821   \n",
      "98                                 Boxer    0.426478   0.201470     0.902780   \n",
      "99                        Siberian Husky    0.425522   0.105901     1.709786   \n",
      "100                     American Bulldog    0.410600   0.057624     2.925722   \n",
      "101                            Schnauzer    0.409773   0.057519     2.919304   \n",
      "102                       Boston Terrier    0.386461   0.054243     2.753395   \n",
      "103                 Jack Russell Terrier    0.319954   0.215615     0.474783   \n",
      "104                            Dobermann    0.299055   0.041977     2.130540   \n",
      "105                              Lurcher    0.286648   0.106859     0.768930   \n",
      "106                            Chihuahua    0.272643   0.121460     0.612005   \n",
      "107                        Border Collie    0.200434   0.106701     0.376508   \n",
      "108                            Greyhound    0.075220   0.010559     0.535831   \n",
      "\n",
      "           p-value  case  control  \n",
      "0     1.304411e-07     1       10  \n",
      "1     5.819319e-10     2       89  \n",
      "2     2.436777e-05     1       63  \n",
      "3     1.030376e-07     2      155  \n",
      "4     1.409935e-03     1      152  \n",
      "5     2.069876e-03     1      228  \n",
      "6     1.667721e-45    25     5486  \n",
      "7     8.477824e-64    37     8307  \n",
      "8     4.589507e-33    21     4848  \n",
      "9     4.958924e-73    55    14740  \n",
      "10    2.076506e-16    10     4435  \n",
      "11    8.486796e-03     1      250  \n",
      "12    4.287282e-14     9     3346  \n",
      "13    1.347457e-08     6     2283  \n",
      "14    2.647504e-02     1      380  \n",
      "15    5.574441e-23    22    11699  \n",
      "16    1.345507e-06     5     1947  \n",
      "17    3.645872e-07     6     2769  \n",
      "18    3.723607e-02     1      488  \n",
      "19    4.886938e-06     5     3145  \n",
      "20    8.126769e-07     7     5954  \n",
      "21    2.287749e-08    10     5917  \n",
      "22   4.468478e-121   495   370104  \n",
      "23    4.352994e-16    26    18985  \n",
      "24    1.963926e-02     2     1770  \n",
      "25    1.073497e-05     8     5961  \n",
      "26    5.869636e-10    20    19138  \n",
      "27    1.491429e-06    12    11254  \n",
      "28    2.243093e-03     5     5089  \n",
      "29    2.314527e-19    55    67784  \n",
      "30    4.521402e-05    10    13913  \n",
      "31    2.187110e-12    34    53388  \n",
      "32    2.195550e-01     1     1357  \n",
      "33    2.007174e-28   140   143615  \n",
      "34    2.697200e-01     1     2250  \n",
      "35    5.273992e-06    19    30629  \n",
      "36    4.958005e-04    11    16952  \n",
      "37    1.372176e-01     2     2986  \n",
      "38    3.903705e-17    84   195936  \n",
      "39    2.978924e-01     1     1886  \n",
      "40    6.861719e-03     7    11148  \n",
      "41    8.131319e-02     3     4586  \n",
      "42    1.964241e-13    69   110712  \n",
      "43    1.935809e-01     2     3309  \n",
      "44    9.445122e-16   110   166376  \n",
      "45    1.607036e-04    20    30227  \n",
      "46    4.434823e-01     1     1696  \n",
      "47    4.120725e-05    33    76721  \n",
      "48    3.115813e-01     2     5791  \n",
      "49    3.016331e-02    10    20043  \n",
      "50    5.706717e-16   279   565616  \n",
      "51    7.554224e-06    54   113916  \n",
      "52    5.595825e-02     9    23897  \n",
      "53    4.237767e-03    23    53086  \n",
      "54    5.562716e-02    10    20441  \n",
      "55    3.907741e-01     2     4160  \n",
      "56    1.064257e-01     8    18198  \n",
      "57    2.010523e-01     5     9549  \n",
      "58    4.243980e-01     2     5918  \n",
      "59    4.335630e-01     2     5903  \n",
      "60    8.105891e-02    11    23408  \n",
      "61    1.185297e-02    30   120476  \n",
      "62    1.239631e-03    55   122847  \n",
      "63    3.059396e-02    27    62279  \n",
      "64    5.786777e-01     2     5829  \n",
      "65    5.253893e-01     3     8659  \n",
      "66    3.280047e-02    54   156970  \n",
      "67    1.089002e-01    36    98218  \n",
      "68    5.751781e-01     4    13318  \n",
      "69    3.861889e-01    22    65784  \n",
      "70    7.614033e-01     4    15024  \n",
      "71    8.423797e-01     2     8623  \n",
      "72    9.027410e-01     1     3114  \n",
      "73    8.372158e-01     3    10543  \n",
      "74    8.727858e-01     3     9840  \n",
      "75    9.016499e-01     2     7380  \n",
      "76    8.995814e-01     3    10149  \n",
      "77    9.898201e-01     3    10544  \n",
      "78    8.651535e-01     6    32707  \n",
      "79    9.333572e-01     1     3681  \n",
      "80    8.842742e-01     3    14220  \n",
      "81    6.513276e-01    24   109021  \n",
      "82    8.702016e-01     2    10135  \n",
      "83    8.702694e-01     1     4230  \n",
      "84    3.569407e-01    11    60570  \n",
      "85    7.578524e-01     1     5430  \n",
      "86    7.347523e-01     1     8177  \n",
      "87    6.084418e-01     2    10195  \n",
      "88    3.049529e-02    37   203489  \n",
      "89    7.025989e-01     1     5046  \n",
      "90    5.698071e-01     2    19637  \n",
      "91    3.022196e-01     4    22409  \n",
      "92    5.796577e-01     1     6405  \n",
      "93    1.760365e-01     4    30959  \n",
      "94    4.934370e-01     1     7859  \n",
      "95    3.641951e-03    16   119756  \n",
      "96    2.443334e-01     2    17951  \n",
      "97    2.349561e-01     2    24198  \n",
      "98    2.592926e-02     7    64085  \n",
      "99    2.285513e-01     2    20028  \n",
      "100   3.742971e-01     1    15166  \n",
      "101   3.731728e-01     1     8905  \n",
      "102   3.426291e-01     1    13271  \n",
      "103   1.521807e-08    27   291982  \n",
      "104   2.282221e-01     1    15913  \n",
      "105   1.306945e-02     4    54964  \n",
      "106   1.631788e-03     6   100206  \n",
      "107   5.831587e-07    10   191317  \n",
      "108   9.799927e-03     1    45060  \n"
     ]
    }
   ],
   "source": [
    "with pd.option_context('display.max_rows', None, 'display.max_columns', None):  # more options can be specified also\n",
    "    print(df_breed)"
   ]
  },
  {
   "cell_type": "code",
   "execution_count": 190,
   "id": "a5668618-14c5-4486-9778-2b9189a4255e",
   "metadata": {},
   "outputs": [],
   "source": [
    "def remove_inisgnigicant_results(df):\n",
    "    # Remove values where p-value >= 0.05\n",
    "    df = df[df['p-value'] < 0.05]\n",
    "    #Remove values where Lower CI <= 1 & Upper CI >= 1\n",
    "    mask = ~( (df['Lower CI'] <= 1) & (df['Upper CI'] >= 1) ) \n",
    "    df = df[mask]\n",
    "    return df"
   ]
  },
  {
   "cell_type": "code",
   "execution_count": 246,
   "id": "0b681ea0-e856-411a-ba1a-b5f5479c803b",
   "metadata": {},
   "outputs": [],
   "source": [
    "df_breed_signifiant = remove_inisgnigicant_results(df_breed)"
   ]
  },
  {
   "cell_type": "code",
   "execution_count": 247,
   "id": "46398979-bba2-4fed-85e3-baa816a0b2d5",
   "metadata": {},
   "outputs": [],
   "source": [
    "df_breed_signifiant = df_breed_signifiant.iloc[:,[0, 5, 6, 1, 2, 3, 4]]"
   ]
  },
  {
   "cell_type": "code",
   "execution_count": 248,
   "id": "4e7b414f-4a03-494a-a151-4a8faba047ec",
   "metadata": {},
   "outputs": [
    {
     "name": "stdout",
     "output_type": "stream",
     "text": [
      "                              breed  case  control  Odds Ratio   Lower CI  \\\n",
      "0             Glen Of Imaal Terrier     1       10  256.399208  32.689883   \n",
      "1                        Otterhound     2       89   86.180912  21.043280   \n",
      "2                     Cesky Terrier     1       63   71.766493   9.864233   \n",
      "3                    Hungarian Puli     2      155   44.941973  11.064667   \n",
      "4              Bouvier Des Flandres     1      152   24.812591   3.455204   \n",
      "5                   Bracco Italiano     1      228   22.116471   3.083248   \n",
      "6                   Italian Spinone    25     5486   19.321131  12.823305   \n",
      "7                      Newfoundland    37     8307   19.246766  13.648189   \n",
      "8         Spaniel (American Cocker)    21     4848   15.085005   9.676370   \n",
      "9                      Basset Hound    55    14740   14.365713  10.760604   \n",
      "10     Hungarian Wire Haired Vizsla    10     4435   14.168230   7.528646   \n",
      "11            Spaniel (Irish Water)     1      250   14.052046   1.963705   \n",
      "12        German Wirehaired Pointer     9     3346   12.959623   6.665627   \n",
      "13                Spaniel (Clumber)     6     2283   10.460411   4.653022   \n",
      "14              Large Munsterlander     1      380    9.267553   1.297016   \n",
      "15                         Shar-Pei    22    11699    8.923704   5.778330   \n",
      "16                  Spaniel (Field)     5     1947    8.879593   3.662493   \n",
      "17                    Gordon Setter     6     2769    8.176028   3.638486   \n",
      "18                   German Pointer     1      488    8.082540   1.131551   \n",
      "19                      St. Bernard     5     3145    7.884450   3.251865   \n",
      "20                        Chow Chow     7     5954    6.618224   3.123206   \n",
      "21                   English Setter    10     5917    6.049494   3.217876   \n",
      "22                 Spaniel (Cocker)   495   370104    5.645025   4.883170   \n",
      "23                  Tibetan Terrier    26    18985    5.287539   3.538807   \n",
      "24             Dachshund (Standard)     2     1770    5.242897   1.303467   \n",
      "25         Spaniel (Welsh Springer)     8     5961    4.850235   2.401143   \n",
      "26                 Poodle (generic)    20    19138    4.190334   2.662854   \n",
      "27               Bedlington Terrier    12    11254    4.131609   2.318404   \n",
      "28                    Welsh Terrier     5     5089    3.972124   1.639986   \n",
      "29                      Labradoodle    55    67784    3.761036   2.818268   \n",
      "30                Spaniel (Generic)    10    13913    3.717383   1.978077   \n",
      "31                          Bulldog    34    53388    3.592884   2.514255   \n",
      "33      West Highland White Terrier   140   143615    3.135286   2.560438   \n",
      "35                       Rottweiler    19    30629    2.944482   1.849852   \n",
      "36              Retriever (Generic)    11    16952    2.916568   1.596905   \n",
      "38                         Cockapoo    84   195936    2.863449   2.241214   \n",
      "40              Rhodesian Ridgeback     7    11148    2.814223   1.329179   \n",
      "42   German Shepherd Dog (Alsatian)    69   110712    2.682476   2.061961   \n",
      "44               Spaniel (Springer)   110   166376    2.460241   1.975121   \n",
      "45       Spaniel (English Springer)    20    30227    2.394251   1.521423   \n",
      "47                              Pug    33    76721    2.127560   1.483079   \n",
      "49                        Dalmatian    10    20043    2.008699   1.069201   \n",
      "50             Retriever (Labrador)   279   565616    1.972337   1.673262   \n",
      "51               Retriever (Golden)    54   113916    1.942285   1.452467   \n",
      "53                           Beagle    23    53086    1.858432   1.215328   \n",
      "61                   French Bulldog    30   120476    1.624974   1.113343   \n",
      "62    Cavalier King Charles Spaniel    55   122847    1.608629   1.205488   \n",
      "63                     Bichon Frise    27    62279    1.545347   1.041572   \n",
      "66                         Shih Tzu    54   156970    1.372147   1.026210   \n",
      "88       Staffordshire Bull Terrier    37   203489    0.685316   0.486661   \n",
      "95                Yorkshire Terrier    16   119756    0.473835   0.286401   \n",
      "98                            Boxer     7    64085    0.426478   0.201470   \n",
      "103            Jack Russell Terrier    27   291982    0.319954   0.215615   \n",
      "105                         Lurcher     4    54964    0.286648   0.106859   \n",
      "106                       Chihuahua     6   100206    0.272643   0.121460   \n",
      "107                   Border Collie    10   191317    0.200434   0.106701   \n",
      "108                       Greyhound     1    45060    0.075220   0.010559   \n",
      "\n",
      "        Upper CI        p-value  \n",
      "0    2011.036716   1.304411e-07  \n",
      "1     352.946385   5.819319e-10  \n",
      "2     522.131759   2.436777e-05  \n",
      "3     182.543307   1.030376e-07  \n",
      "4     178.184750   1.409935e-03  \n",
      "5     158.643827   2.069876e-03  \n",
      "6      29.111536   1.667721e-45  \n",
      "7      27.141917   8.477824e-64  \n",
      "8      23.516812   4.589507e-33  \n",
      "9      19.178635   4.958924e-73  \n",
      "10     26.663328   2.076506e-16  \n",
      "11    100.554817   8.486796e-03  \n",
      "12     25.196701   4.287282e-14  \n",
      "13     23.515944   1.347457e-08  \n",
      "14     66.219352   2.647504e-02  \n",
      "15     13.781232   5.574441e-23  \n",
      "16     21.528279   1.345507e-06  \n",
      "17     18.372324   3.645872e-07  \n",
      "18     57.732665   3.723607e-02  \n",
      "19     19.116584   4.886938e-06  \n",
      "20     14.024334   8.126769e-07  \n",
      "21     11.372839   2.287749e-08  \n",
      "22      6.525742  4.468478e-121  \n",
      "23      7.900420   4.352994e-16  \n",
      "24     21.088349   1.963926e-02  \n",
      "25      9.797323   1.073497e-05  \n",
      "26      6.594014   5.869636e-10  \n",
      "27      7.362907   1.491429e-06  \n",
      "28      9.620674   2.243093e-03  \n",
      "29      5.019180   2.314527e-19  \n",
      "30      6.986046   4.521402e-05  \n",
      "31      5.134252   2.187110e-12  \n",
      "33      3.839194   2.007174e-28  \n",
      "35      4.686847   5.273992e-06  \n",
      "36      5.326784   4.958005e-04  \n",
      "38      3.658435   3.903705e-17  \n",
      "40      5.958451   6.861719e-03  \n",
      "42      3.489725   1.964241e-13  \n",
      "44      3.064515   9.445122e-16  \n",
      "45      3.767813   1.607036e-04  \n",
      "47      3.052104   4.120725e-05  \n",
      "49      3.773728   3.016331e-02  \n",
      "50      2.324869   5.706717e-16  \n",
      "51      2.597285   7.554224e-06  \n",
      "53      2.841844   4.237767e-03  \n",
      "61      2.371722   1.185297e-02  \n",
      "62      2.146588   1.239631e-03  \n",
      "63      2.292784   3.059396e-02  \n",
      "66      1.834700   3.280047e-02  \n",
      "88      0.965060   3.049529e-02  \n",
      "95      0.783935   3.641951e-03  \n",
      "98      0.902780   2.592926e-02  \n",
      "103     0.474783   1.521807e-08  \n",
      "105     0.768930   1.306945e-02  \n",
      "106     0.612005   1.631788e-03  \n",
      "107     0.376508   5.831587e-07  \n",
      "108     0.535831   9.799927e-03  \n"
     ]
    }
   ],
   "source": [
    "print(df_breed_signifiant)"
   ]
  },
  {
   "cell_type": "code",
   "execution_count": 250,
   "id": "d23dfa1e-158a-4ec9-a84e-dc6b2f55c098",
   "metadata": {},
   "outputs": [
    {
     "name": "stdout",
     "output_type": "stream",
     "text": [
      "57\n"
     ]
    }
   ],
   "source": [
    "print(len(df_breed_signifiant))"
   ]
  },
  {
   "cell_type": "code",
   "execution_count": 251,
   "id": "25028667-1c56-4707-8430-6c0c71e9208d",
   "metadata": {},
   "outputs": [
    {
     "data": {
      "text/plain": [
       "'\\\\begin{tabular}{llrrrrrr}\\n\\\\toprule\\n & breed & case & control & Odds Ratio & Lower CI & Upper CI & p-value \\\\\\\\\\n\\\\midrule\\n0 & Glen Of Imaal Terrier & 1 & 10 & 256.40 & 32.69 & 2011.04 & 1.30e-07 \\\\\\\\\\n1 & Otterhound & 2 & 89 & 86.18 & 21.04 & 352.95 & 5.82e-10 \\\\\\\\\\n2 & Cesky Terrier & 1 & 63 & 71.77 & 9.86 & 522.13 & 2.44e-05 \\\\\\\\\\n3 & Hungarian Puli & 2 & 155 & 44.94 & 11.06 & 182.54 & 1.03e-07 \\\\\\\\\\n4 & Bouvier Des Flandres & 1 & 152 & 24.81 & 3.46 & 178.18 & 1.41e-03 \\\\\\\\\\n5 & Bracco Italiano & 1 & 228 & 22.12 & 3.08 & 158.64 & 2.07e-03 \\\\\\\\\\n6 & Italian Spinone & 25 & 5486 & 19.32 & 12.82 & 29.11 & 1.67e-45 \\\\\\\\\\n7 & Newfoundland & 37 & 8307 & 19.25 & 13.65 & 27.14 & 8.48e-64 \\\\\\\\\\n8 & Spaniel (American Cocker) & 21 & 4848 & 15.09 & 9.68 & 23.52 & 4.59e-33 \\\\\\\\\\n9 & Basset Hound & 55 & 14740 & 14.37 & 10.76 & 19.18 & 4.96e-73 \\\\\\\\\\n10 & Hungarian Wire Haired Vizsla & 10 & 4435 & 14.17 & 7.53 & 26.66 & 2.08e-16 \\\\\\\\\\n11 & Spaniel (Irish Water) & 1 & 250 & 14.05 & 1.96 & 100.55 & 8.49e-03 \\\\\\\\\\n12 & German Wirehaired Pointer & 9 & 3346 & 12.96 & 6.67 & 25.20 & 4.29e-14 \\\\\\\\\\n13 & Spaniel (Clumber) & 6 & 2283 & 10.46 & 4.65 & 23.52 & 1.35e-08 \\\\\\\\\\n14 & Large Munsterlander & 1 & 380 & 9.27 & 1.30 & 66.22 & 2.65e-02 \\\\\\\\\\n15 & Shar-Pei & 22 & 11699 & 8.92 & 5.78 & 13.78 & 5.57e-23 \\\\\\\\\\n16 & Spaniel (Field) & 5 & 1947 & 8.88 & 3.66 & 21.53 & 1.35e-06 \\\\\\\\\\n17 & Gordon Setter & 6 & 2769 & 8.18 & 3.64 & 18.37 & 3.65e-07 \\\\\\\\\\n18 & German Pointer & 1 & 488 & 8.08 & 1.13 & 57.73 & 3.72e-02 \\\\\\\\\\n19 & St. Bernard & 5 & 3145 & 7.88 & 3.25 & 19.12 & 4.89e-06 \\\\\\\\\\n20 & Chow Chow & 7 & 5954 & 6.62 & 3.12 & 14.02 & 8.13e-07 \\\\\\\\\\n21 & English Setter & 10 & 5917 & 6.05 & 3.22 & 11.37 & 2.29e-08 \\\\\\\\\\n22 & Spaniel (Cocker) & 495 & 370104 & 5.65 & 4.88 & 6.53 & 4.47e-121 \\\\\\\\\\n23 & Tibetan Terrier & 26 & 18985 & 5.29 & 3.54 & 7.90 & 4.35e-16 \\\\\\\\\\n24 & Dachshund (Standard) & 2 & 1770 & 5.24 & 1.30 & 21.09 & 1.96e-02 \\\\\\\\\\n25 & Spaniel (Welsh Springer) & 8 & 5961 & 4.85 & 2.40 & 9.80 & 1.07e-05 \\\\\\\\\\n26 & Poodle (generic) & 20 & 19138 & 4.19 & 2.66 & 6.59 & 5.87e-10 \\\\\\\\\\n27 & Bedlington Terrier & 12 & 11254 & 4.13 & 2.32 & 7.36 & 1.49e-06 \\\\\\\\\\n28 & Welsh Terrier & 5 & 5089 & 3.97 & 1.64 & 9.62 & 2.24e-03 \\\\\\\\\\n29 & Labradoodle & 55 & 67784 & 3.76 & 2.82 & 5.02 & 2.31e-19 \\\\\\\\\\n30 & Spaniel (Generic) & 10 & 13913 & 3.72 & 1.98 & 6.99 & 4.52e-05 \\\\\\\\\\n31 & Bulldog & 34 & 53388 & 3.59 & 2.51 & 5.13 & 2.19e-12 \\\\\\\\\\n33 & West Highland White Terrier & 140 & 143615 & 3.14 & 2.56 & 3.84 & 2.01e-28 \\\\\\\\\\n35 & Rottweiler & 19 & 30629 & 2.94 & 1.85 & 4.69 & 5.27e-06 \\\\\\\\\\n36 & Retriever (Generic) & 11 & 16952 & 2.92 & 1.60 & 5.33 & 4.96e-04 \\\\\\\\\\n38 & Cockapoo & 84 & 195936 & 2.86 & 2.24 & 3.66 & 3.90e-17 \\\\\\\\\\n40 & Rhodesian Ridgeback & 7 & 11148 & 2.81 & 1.33 & 5.96 & 6.86e-03 \\\\\\\\\\n42 & German Shepherd Dog (Alsatian) & 69 & 110712 & 2.68 & 2.06 & 3.49 & 1.96e-13 \\\\\\\\\\n44 & Spaniel (Springer) & 110 & 166376 & 2.46 & 1.98 & 3.06 & 9.45e-16 \\\\\\\\\\n45 & Spaniel (English Springer) & 20 & 30227 & 2.39 & 1.52 & 3.77 & 1.61e-04 \\\\\\\\\\n47 & Pug & 33 & 76721 & 2.13 & 1.48 & 3.05 & 4.12e-05 \\\\\\\\\\n49 & Dalmatian & 10 & 20043 & 2.01 & 1.07 & 3.77 & 3.02e-02 \\\\\\\\\\n50 & Retriever (Labrador) & 279 & 565616 & 1.97 & 1.67 & 2.32 & 5.71e-16 \\\\\\\\\\n51 & Retriever (Golden) & 54 & 113916 & 1.94 & 1.45 & 2.60 & 7.55e-06 \\\\\\\\\\n53 & Beagle & 23 & 53086 & 1.86 & 1.22 & 2.84 & 4.24e-03 \\\\\\\\\\n61 & French Bulldog & 30 & 120476 & 1.62 & 1.11 & 2.37 & 1.19e-02 \\\\\\\\\\n62 & Cavalier King Charles Spaniel & 55 & 122847 & 1.61 & 1.21 & 2.15 & 1.24e-03 \\\\\\\\\\n63 & Bichon Frise & 27 & 62279 & 1.55 & 1.04 & 2.29 & 3.06e-02 \\\\\\\\\\n66 & Shih Tzu & 54 & 156970 & 1.37 & 1.03 & 1.83 & 3.28e-02 \\\\\\\\\\n88 & Staffordshire Bull Terrier & 37 & 203489 & 0.69 & 0.49 & 0.97 & 3.05e-02 \\\\\\\\\\n95 & Yorkshire Terrier & 16 & 119756 & 0.47 & 0.29 & 0.78 & 3.64e-03 \\\\\\\\\\n98 & Boxer & 7 & 64085 & 0.43 & 0.20 & 0.90 & 2.59e-02 \\\\\\\\\\n103 & Jack Russell Terrier & 27 & 291982 & 0.32 & 0.22 & 0.47 & 1.52e-08 \\\\\\\\\\n105 & Lurcher & 4 & 54964 & 0.29 & 0.11 & 0.77 & 1.31e-02 \\\\\\\\\\n106 & Chihuahua & 6 & 100206 & 0.27 & 0.12 & 0.61 & 1.63e-03 \\\\\\\\\\n107 & Border Collie & 10 & 191317 & 0.20 & 0.11 & 0.38 & 5.83e-07 \\\\\\\\\\n108 & Greyhound & 1 & 45060 & 0.08 & 0.01 & 0.54 & 9.80e-03 \\\\\\\\\\n\\\\bottomrule\\n\\\\end{tabular}\\n'"
      ]
     },
     "execution_count": 251,
     "metadata": {},
     "output_type": "execute_result"
    }
   ],
   "source": [
    "# Create breed latex table\n",
    "df_breed_signifiant.to_latex(index=True,\n",
    "                  float_format=\"{:.2f}\".format,\n",
    "                  formatters={'p-value':format_power})"
   ]
  },
  {
   "cell_type": "code",
   "execution_count": 194,
   "id": "9248c008-ce1e-47d9-8c18-91900bcf4cef",
   "metadata": {},
   "outputs": [],
   "source": [
    "df_breed.to_csv('mc_classifier_otitis_breeds.csv', index=False)"
   ]
  },
  {
   "cell_type": "code",
   "execution_count": 3,
   "id": "fa63fb22-f0e1-4693-8081-b61388d4e53a",
   "metadata": {},
   "outputs": [],
   "source": [
    "df_breed = pd.read_csv('mc_classifier_otitis_breeds.csv', index_col=False)"
   ]
  },
  {
   "cell_type": "markdown",
   "id": "2721b58d-c4f1-4ef0-8c79-a288d80db7ea",
   "metadata": {},
   "source": [
    "## Create Forest Plot"
   ]
  },
  {
   "cell_type": "markdown",
   "id": "cd965e8e-d96d-44fb-bfd5-cd01ad5f57f5",
   "metadata": {},
   "source": [
    "## Try Using Plotly"
   ]
  },
  {
   "cell_type": "code",
   "execution_count": 4,
   "id": "d960a5b0-0731-4434-bd30-3fef06635685",
   "metadata": {},
   "outputs": [],
   "source": [
    "def create_forestplot(df, variable, y_label, x_label=\"Odds Ratio\", title=\"Forest Plot\", pixels=20):\n",
    "    \"\"\"\n",
    "    Function to create a forest plot from the output of a statsmodels linear regression\n",
    "    Args:\n",
    "        df: dataframe containing output of statsmodels linear regression\n",
    "        variable: variable you wish to plot\n",
    "        y_label: y axis label\n",
    "        x_label: x axis label (default: \"Odds Ratio\")\n",
    "        title: Title of plot (default: \"Forest Plot\")\n",
    "        pixels: Set height assigned to each varaiable (default: 20)\n",
    "    \"\"\"\n",
    "    # Create the figure\n",
    "    fig = go.Figure()\n",
    "\n",
    "    # Add markers for point estimates\n",
    "    fig.add_trace(go.Scatter(\n",
    "        x=df[\"Odds Ratio\"],\n",
    "        y=df[variable],\n",
    "        mode=\"markers\",\n",
    "        marker=dict(color=\"blue\", size=10),\n",
    "        name=\"Odds Ratio\"\n",
    "    ))\n",
    "    \n",
    "    # Add upper error bars for confidence intervals\n",
    "    fig.add_trace(go.Scatter(\n",
    "        x=df[\"Odds Ratio\"],\n",
    "        y=df[variable],\n",
    "        mode=\"markers\",\n",
    "        line=dict(color=\"blue\", width=0),\n",
    "        error_x=dict(\n",
    "        type=\"data\",\n",
    "        symmetric=False,\n",
    "        array=df[\"Upper CI\"] - df[\"Odds Ratio\"],\n",
    "        arrayminus=df[\"Odds Ratio\"] - df[\"Lower CI\"]\n",
    "        ),\n",
    "        showlegend=False\n",
    "    ))\n",
    "\n",
    "    # Add a vertical line at x=1\n",
    "    fig.add_shape(\n",
    "        type=\"line\",\n",
    "        x0=1, x1=1,  # Start and end points on the x-axis\n",
    "        y0=0, y1=1,  # Covers the full y-axis range (use relative coordinates if y-axis is categorical)\n",
    "        line=dict(color=\"red\", width=2, dash=\"solid\"),  # Customize color, width, and style\n",
    "        xref=\"x\",  # Reference the x-axis\n",
    "        yref=\"paper\"  # Reference the paper coordinates (0 to 1 for full height)\n",
    "    )\n",
    "    \n",
    "    # Update layout for aesthetics\n",
    "    fig.update_layout(\n",
    "        height=pixels * len(df_breed),  # 30 pixels per variable (adjust as needed)\n",
    "        title=str(title),\n",
    "        xaxis_title=str(x_label),\n",
    "        yaxis_title=str(y_label),\n",
    "        # xaxis_type=\"log\",\n",
    "        yaxis=dict(autorange=\"reversed\"),  # Reverse order of variables for readability\n",
    "        template=\"plotly_white\"\n",
    "    )\n",
    "    \n",
    "    return fig"
   ]
  },
  {
   "cell_type": "code",
   "execution_count": 5,
   "id": "81300b2b-da60-4e72-b438-50be901be32d",
   "metadata": {},
   "outputs": [],
   "source": [
    "import plotly.io as pio"
   ]
  },
  {
   "cell_type": "code",
   "execution_count": 197,
   "id": "756747c4-039c-430e-8605-fa30a395a0de",
   "metadata": {},
   "outputs": [
    {
     "name": "stderr",
     "output_type": "stream",
     "text": [
      "huggingface/tokenizers: The current process just got forked, after parallelism has already been used. Disabling parallelism to avoid deadlocks...\n",
      "To disable this warning, you can either:\n",
      "\t- Avoid using `tokenizers` before the fork if possible\n",
      "\t- Explicitly set the environment variable TOKENIZERS_PARALLELISM=(true | false)\n"
     ]
    }
   ],
   "source": [
    "fig1 = create_forestplot(df_breed, \"breed\", \"Breed\", \"Odds Ratio\", \"Pseudomonas Otitis Risk by Breed (Reference=Crossbreed)\")\n",
    "pio.write_image(fig1, \"all_breed_forest_plot_log_scale.png\")"
   ]
  },
  {
   "cell_type": "code",
   "execution_count": 198,
   "id": "f5a89d69-9822-4785-9c08-24bffd310e9b",
   "metadata": {},
   "outputs": [
    {
     "name": "stdout",
     "output_type": "stream",
     "text": [
      "/opt/jupyterlab/notebooks/DogBERT/Classifiers/Pseudomonas_Otitis/Logisitic Regression\n"
     ]
    }
   ],
   "source": [
    "print(os.getcwd())"
   ]
  },
  {
   "cell_type": "code",
   "execution_count": 9,
   "id": "84cb610b-ae68-404b-b057-d0eb70734dfc",
   "metadata": {},
   "outputs": [],
   "source": [
    "df_breed_no_outliers = df_breed.iloc[6:]"
   ]
  },
  {
   "cell_type": "code",
   "execution_count": 200,
   "id": "f200c0be-1104-48bb-84eb-4384b9343de6",
   "metadata": {},
   "outputs": [],
   "source": [
    "fig2 = create_forestplot(df_breed_no_outliers, \"breed\", \"Breed\", \"Odds Ratio\", \"Pseudomonas Otitis Risk by Breed (Reference=Crossbreed)\", 20)\n",
    "pio.write_image(fig2, \"breed_outliers_removed_forest_plot_log_scale.png\")"
   ]
  },
  {
   "cell_type": "code",
   "execution_count": 202,
   "id": "da8c8d4c-b592-4fee-a529-ba3ebd8bbe83",
   "metadata": {},
   "outputs": [
    {
     "name": "stdout",
     "output_type": "stream",
     "text": [
      "               Odds Ratio  Lower CI  Upper CI       p-value\n",
      "Parameter                                                  \n",
      "Female Entire    1.332487  1.163170  1.526450  3.474800e-05\n",
      "Male Entire      1.655971  1.483404  1.848612  2.630494e-19\n",
      "Male Neutered    1.312406  1.192566  1.444289  2.627361e-08\n"
     ]
    }
   ],
   "source": [
    "print(df_sex_neuter)"
   ]
  },
  {
   "cell_type": "code",
   "execution_count": 217,
   "id": "c3205287-2a9d-4e23-928c-3506db8b3fff",
   "metadata": {},
   "outputs": [],
   "source": [
    "fig3 = create_forestplot(df_sex_neuter, \"Sex_Neuter_Status\", \"Sex/Neuter Status\", \"Odds Ratio\", \"Pseudomonas Otitis Risk by Sex/Neuter Status (Reference=Female Neutered)\", 2)\n",
    "pio.write_image(fig3, \"sex_neuter_status_forest_plot_log_scale.png\")"
   ]
  },
  {
   "cell_type": "code",
   "execution_count": 229,
   "id": "28cd975d-c7c2-4888-95c1-44c632820991",
   "metadata": {},
   "outputs": [],
   "source": [
    "fig4 = create_forestplot(df_age_at_consult, \"age_category_at_consult\", \"Age at First Consult\", \"Odds Ratio\", \"Pseudomonas Otitis Risk by Age at First Consult (Reference=Puppy)\", 3)\n",
    "pio.write_image(fig4, \"age_at_first_consult_forest_plot_log_scale.png\")"
   ]
  },
  {
   "cell_type": "markdown",
   "id": "5bcc146f-0a68-4232-88f2-6b34a96ea809",
   "metadata": {},
   "source": [
    "# Create Plots Excluding p >= 0.05, Lower CI <= 1, Upper CI >= 1"
   ]
  },
  {
   "cell_type": "code",
   "execution_count": 6,
   "id": "5618bb88-4b8e-4ae4-8bbd-1094f0d3882f",
   "metadata": {},
   "outputs": [],
   "source": [
    "def remove_inisgnigicant_results(df):\n",
    "    # Remove values where p-value >= 0.05\n",
    "    df = df[df['p-value'] < 0.05]\n",
    "    #Remove values where Lower CI <= 1 & Upper CI >= 1\n",
    "    mask = ~( (df['Lower CI'] <= 1) & (df['Upper CI'] >= 1) ) \n",
    "    df = df[mask]\n",
    "    return df"
   ]
  },
  {
   "cell_type": "markdown",
   "id": "1427ae1c-e221-4679-a22b-122a69f1eef1",
   "metadata": {},
   "source": [
    "## Breed"
   ]
  },
  {
   "cell_type": "code",
   "execution_count": 230,
   "id": "74bd5d73-03be-48e2-a363-e636fabe9e77",
   "metadata": {},
   "outputs": [
    {
     "name": "stdout",
     "output_type": "stream",
     "text": [
      "                   breed  Odds Ratio   Lower CI     Upper CI       p-value  \\\n",
      "0  Glen Of Imaal Terrier  256.399208  32.689883  2011.036716  1.304411e-07   \n",
      "1             Otterhound   86.180912  21.043280   352.946385  5.819319e-10   \n",
      "2          Cesky Terrier   71.766493   9.864233   522.131759  2.436777e-05   \n",
      "3         Hungarian Puli   44.941973  11.064667   182.543307  1.030376e-07   \n",
      "4   Bouvier Des Flandres   24.812591   3.455204   178.184750  1.409935e-03   \n",
      "\n",
      "   case  control  \n",
      "0     1       10  \n",
      "1     2       89  \n",
      "2     1       63  \n",
      "3     2      155  \n",
      "4     1      152  \n"
     ]
    }
   ],
   "source": [
    "print(df_breed.head())"
   ]
  },
  {
   "cell_type": "code",
   "execution_count": 231,
   "id": "a4630631-4624-4821-b121-334b18ba14e7",
   "metadata": {},
   "outputs": [
    {
     "name": "stdout",
     "output_type": "stream",
     "text": [
      "109\n"
     ]
    }
   ],
   "source": [
    "print(len(df_breed))"
   ]
  },
  {
   "cell_type": "code",
   "execution_count": 7,
   "id": "1beb293c-ff43-41e8-bb59-f3705aee9512",
   "metadata": {},
   "outputs": [],
   "source": [
    "df_breed_sig = remove_inisgnigicant_results(df_breed)"
   ]
  },
  {
   "cell_type": "code",
   "execution_count": 233,
   "id": "3b621c7a-ff5b-41fe-ac71-d019029e622e",
   "metadata": {},
   "outputs": [
    {
     "name": "stdout",
     "output_type": "stream",
     "text": [
      "57\n"
     ]
    }
   ],
   "source": [
    "print(len(df_breed_sig))"
   ]
  },
  {
   "cell_type": "code",
   "execution_count": 234,
   "id": "85e98d0e-f9c8-425d-a088-432f47ee5d08",
   "metadata": {},
   "outputs": [],
   "source": [
    "fig5 = create_forestplot(df_breed_sig, \"breed\", \"Breed\", \"Odds Ratio\", \"Pseudomonas Otitis Risk by Breed (reference=Crossbreed)\")\n",
    "pio.write_image(fig5, \"all_breed_sig_results_forest_linear_scale.png\")"
   ]
  },
  {
   "cell_type": "code",
   "execution_count": 10,
   "id": "7022160b-69ed-49ab-a4fb-3135e3843ef5",
   "metadata": {},
   "outputs": [],
   "source": [
    "df_breed_no_outliers_sig = remove_inisgnigicant_results(df_breed_no_outliers)"
   ]
  },
  {
   "cell_type": "code",
   "execution_count": 13,
   "id": "9f52677b-bacc-4a86-aba0-dec7793a8312",
   "metadata": {},
   "outputs": [],
   "source": [
    "fig6 = create_forestplot(df_breed_no_outliers_sig, \"breed\", \"Breed\", \"Odds Ratio\", \"Pseudomonas Otitis Risk by Breed (reference=Crossbreed)\", pixels=12)\n",
    "pio.write_image(fig6, \"breed_outliers_removed_sig_results_forest_linear_scale.png\")"
   ]
  }
 ],
 "metadata": {
  "kernelspec": {
   "display_name": "Python 3 (ipykernel)",
   "language": "python",
   "name": "python3"
  },
  "language_info": {
   "codemirror_mode": {
    "name": "ipython",
    "version": 3
   },
   "file_extension": ".py",
   "mimetype": "text/x-python",
   "name": "python",
   "nbconvert_exporter": "python",
   "pygments_lexer": "ipython3",
   "version": "3.9.17"
  }
 },
 "nbformat": 4,
 "nbformat_minor": 5
}
